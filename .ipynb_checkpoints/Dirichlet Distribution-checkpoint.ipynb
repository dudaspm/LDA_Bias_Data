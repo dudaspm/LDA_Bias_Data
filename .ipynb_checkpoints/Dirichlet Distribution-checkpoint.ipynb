{
 "cells": [
  {
   "cell_type": "markdown",
   "id": "1e468c88-42c6-4ef9-9189-3d04cdef8495",
   "metadata": {},
   "source": [
    "# Dirichlet Distribution"
   ]
  },
  {
   "cell_type": "code",
   "execution_count": 5,
   "id": "93b8fc54-af16-4493-ae6c-c323f35e63e1",
   "metadata": {},
   "outputs": [],
   "source": [
    "from scipy.stats import dirichlet\n",
    "import numpy as np"
   ]
  },
  {
   "cell_type": "code",
   "execution_count": 20,
   "id": "944dbe68-11b3-4b26-9d7a-a714a3e0908e",
   "metadata": {},
   "outputs": [
    {
     "data": {
      "text/plain": [
       "array([[5.16981450e-36, 5.42322176e-83, 5.67950679e-49, 1.00000000e+00],\n",
       "       [9.60909986e-25, 7.52830280e-05, 9.99924717e-01, 2.95793018e-15],\n",
       "       [9.99999996e-01, 1.28618715e-15, 1.72003236e-24, 4.01621820e-09],\n",
       "       [1.82395115e-22, 1.00000000e+00, 7.67093246e-12, 9.67762740e-27]])"
      ]
     },
     "execution_count": 20,
     "metadata": {},
     "output_type": "execute_result"
    }
   ],
   "source": [
    "alpha = np.array([0.01, 0.01, 0.01, 0.01])\n",
    "dirichlet.rvs(alpha, size=4)"
   ]
  },
  {
   "cell_type": "code",
   "execution_count": null,
   "id": "eb52f9a2-a15c-44c4-a3a0-6b52b95a3eff",
   "metadata": {},
   "outputs": [],
   "source": []
  }
 ],
 "metadata": {
  "kernelspec": {
   "display_name": "Python 3",
   "language": "python",
   "name": "python3"
  },
  "language_info": {
   "codemirror_mode": {
    "name": "ipython",
    "version": 3
   },
   "file_extension": ".py",
   "mimetype": "text/x-python",
   "name": "python",
   "nbconvert_exporter": "python",
   "pygments_lexer": "ipython3",
   "version": "3.8.5"
  }
 },
 "nbformat": 4,
 "nbformat_minor": 5
}
