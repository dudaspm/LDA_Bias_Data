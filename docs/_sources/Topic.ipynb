{
 "cells": [
  {
   "cell_type": "markdown",
   "metadata": {},
   "source": [
    "# Section 3: Application of LDA - A Biased Percpective"
   ]
  },
  {
   "cell_type": "code",
   "execution_count": 5,
   "metadata": {},
   "outputs": [],
   "source": [
    "import pandas as pd\n",
    "import re\n",
    "import numpy as np"
   ]
  },
  {
   "cell_type": "code",
   "execution_count": null,
   "metadata": {},
   "outputs": [],
   "source": []
  },
  {
   "cell_type": "markdown",
   "metadata": {},
   "source": [
    "In the previous section, we explored how to generate topics from a textual dataset using LDA. But how can this be used as an application? <br> Therefore, in this section, we will look into the possible ways to read the topics as well as understand how it can be used."
   ]
  },
  {
   "cell_type": "code",
   "execution_count": null,
   "metadata": {},
   "outputs": [],
   "source": []
  },
  {
   "cell_type": "markdown",
   "metadata": {},
   "source": [
    "We will now import the preloaded data of the LDA result that was achieved in the previous section. "
   ]
  },
  {
   "cell_type": "code",
   "execution_count": 31,
   "metadata": {},
   "outputs": [],
   "source": [
    "df = pd.read_csv(\"topics.csv\")"
   ]
  },
  {
   "cell_type": "code",
   "execution_count": 32,
   "metadata": {},
   "outputs": [
    {
     "data": {
      "text/html": [
       "<div>\n",
       "<style scoped>\n",
       "    .dataframe tbody tr th:only-of-type {\n",
       "        vertical-align: middle;\n",
       "    }\n",
       "\n",
       "    .dataframe tbody tr th {\n",
       "        vertical-align: top;\n",
       "    }\n",
       "\n",
       "    .dataframe thead th {\n",
       "        text-align: right;\n",
       "    }\n",
       "</style>\n",
       "<table border=\"1\" class=\"dataframe\">\n",
       "  <thead>\n",
       "    <tr style=\"text-align: right;\">\n",
       "      <th></th>\n",
       "      <th>Unnamed: 0</th>\n",
       "      <th>Topic 0 words</th>\n",
       "      <th>Topic 0 weights</th>\n",
       "      <th>Topic 1 words</th>\n",
       "      <th>Topic 1 weights</th>\n",
       "      <th>Topic 2 words</th>\n",
       "      <th>Topic 2 weights</th>\n",
       "      <th>Topic 3 words</th>\n",
       "      <th>Topic 3 weights</th>\n",
       "      <th>Topic 4 words</th>\n",
       "      <th>...</th>\n",
       "      <th>Topic 5 words</th>\n",
       "      <th>Topic 5 weights</th>\n",
       "      <th>Topic 6 words</th>\n",
       "      <th>Topic 6 weights</th>\n",
       "      <th>Topic 7 words</th>\n",
       "      <th>Topic 7 weights</th>\n",
       "      <th>Topic 8 words</th>\n",
       "      <th>Topic 8 weights</th>\n",
       "      <th>Topic 9 words</th>\n",
       "      <th>Topic 9 weights</th>\n",
       "    </tr>\n",
       "  </thead>\n",
       "  <tbody>\n",
       "    <tr>\n",
       "      <th>0</th>\n",
       "      <td>0</td>\n",
       "      <td>trump</td>\n",
       "      <td>3452.3</td>\n",
       "      <td>mental</td>\n",
       "      <td>3351.9</td>\n",
       "      <td>canada</td>\n",
       "      <td>591.5</td>\n",
       "      <td>mental</td>\n",
       "      <td>1186.5</td>\n",
       "      <td>gun</td>\n",
       "      <td>...</td>\n",
       "      <td>school</td>\n",
       "      <td>840.5</td>\n",
       "      <td>mental</td>\n",
       "      <td>1058.1</td>\n",
       "      <td>white</td>\n",
       "      <td>1220.1</td>\n",
       "      <td>mental</td>\n",
       "      <td>1836.1</td>\n",
       "      <td>god</td>\n",
       "      <td>954.9</td>\n",
       "    </tr>\n",
       "    <tr>\n",
       "      <th>1</th>\n",
       "      <td>1</td>\n",
       "      <td>presid</td>\n",
       "      <td>1031.5</td>\n",
       "      <td>ill</td>\n",
       "      <td>1993.1</td>\n",
       "      <td>muslim</td>\n",
       "      <td>582.0</td>\n",
       "      <td>peopl</td>\n",
       "      <td>708.3</td>\n",
       "      <td>mental</td>\n",
       "      <td>...</td>\n",
       "      <td>kid</td>\n",
       "      <td>723.0</td>\n",
       "      <td>comment</td>\n",
       "      <td>848.3</td>\n",
       "      <td>peopl</td>\n",
       "      <td>1076.2</td>\n",
       "      <td>peopl</td>\n",
       "      <td>1793.0</td>\n",
       "      <td>one</td>\n",
       "      <td>934.0</td>\n",
       "    </tr>\n",
       "    <tr>\n",
       "      <th>2</th>\n",
       "      <td>2</td>\n",
       "      <td>vote</td>\n",
       "      <td>813.8</td>\n",
       "      <td>health</td>\n",
       "      <td>1213.7</td>\n",
       "      <td>countri</td>\n",
       "      <td>539.3</td>\n",
       "      <td>drug</td>\n",
       "      <td>555.8</td>\n",
       "      <td>peopl</td>\n",
       "      <td>...</td>\n",
       "      <td>year</td>\n",
       "      <td>590.5</td>\n",
       "      <td>like</td>\n",
       "      <td>678.6</td>\n",
       "      <td>black</td>\n",
       "      <td>651.0</td>\n",
       "      <td>health</td>\n",
       "      <td>1464.6</td>\n",
       "      <td>women</td>\n",
       "      <td>905.2</td>\n",
       "    </tr>\n",
       "    <tr>\n",
       "      <th>3</th>\n",
       "      <td>3</td>\n",
       "      <td>like</td>\n",
       "      <td>780.9</td>\n",
       "      <td>medic</td>\n",
       "      <td>706.8</td>\n",
       "      <td>us</td>\n",
       "      <td>519.8</td>\n",
       "      <td>ill</td>\n",
       "      <td>538.9</td>\n",
       "      <td>law</td>\n",
       "      <td>...</td>\n",
       "      <td>go</td>\n",
       "      <td>514.7</td>\n",
       "      <td>would</td>\n",
       "      <td>668.2</td>\n",
       "      <td>disord</td>\n",
       "      <td>537.1</td>\n",
       "      <td>homeless</td>\n",
       "      <td>1367.5</td>\n",
       "      <td>life</td>\n",
       "      <td>830.1</td>\n",
       "    </tr>\n",
       "    <tr>\n",
       "      <th>4</th>\n",
       "      <td>4</td>\n",
       "      <td>elect</td>\n",
       "      <td>579.5</td>\n",
       "      <td>http</td>\n",
       "      <td>630.5</td>\n",
       "      <td>world</td>\n",
       "      <td>490.3</td>\n",
       "      <td>health</td>\n",
       "      <td>497.7</td>\n",
       "      <td>kill</td>\n",
       "      <td>...</td>\n",
       "      <td>time</td>\n",
       "      <td>507.9</td>\n",
       "      <td>think</td>\n",
       "      <td>650.4</td>\n",
       "      <td>person</td>\n",
       "      <td>529.5</td>\n",
       "      <td>care</td>\n",
       "      <td>1296.8</td>\n",
       "      <td>peopl</td>\n",
       "      <td>798.2</td>\n",
       "    </tr>\n",
       "    <tr>\n",
       "      <th>5</th>\n",
       "      <td>5</td>\n",
       "      <td>republican</td>\n",
       "      <td>550.2</td>\n",
       "      <td>help</td>\n",
       "      <td>527.0</td>\n",
       "      <td>canadian</td>\n",
       "      <td>462.9</td>\n",
       "      <td>problem</td>\n",
       "      <td>491.9</td>\n",
       "      <td>polic</td>\n",
       "      <td>...</td>\n",
       "      <td>one</td>\n",
       "      <td>500.8</td>\n",
       "      <td>person</td>\n",
       "      <td>629.7</td>\n",
       "      <td>”</td>\n",
       "      <td>486.9</td>\n",
       "      <td>need</td>\n",
       "      <td>1169.6</td>\n",
       "      <td>would</td>\n",
       "      <td>740.9</td>\n",
       "    </tr>\n",
       "    <tr>\n",
       "      <th>6</th>\n",
       "      <td>6</td>\n",
       "      <td>obama</td>\n",
       "      <td>542.2</td>\n",
       "      <td>need</td>\n",
       "      <td>504.5</td>\n",
       "      <td>islam</td>\n",
       "      <td>448.3</td>\n",
       "      <td>use</td>\n",
       "      <td>476.3</td>\n",
       "      <td>ill</td>\n",
       "      <td>...</td>\n",
       "      <td>get</td>\n",
       "      <td>458.6</td>\n",
       "      <td>say</td>\n",
       "      <td>608.7</td>\n",
       "      <td>right</td>\n",
       "      <td>484.1</td>\n",
       "      <td>work</td>\n",
       "      <td>956.9</td>\n",
       "      <td>church</td>\n",
       "      <td>686.1</td>\n",
       "    </tr>\n",
       "    <tr>\n",
       "      <th>7</th>\n",
       "      <td>7</td>\n",
       "      <td>peopl</td>\n",
       "      <td>540.2</td>\n",
       "      <td>www</td>\n",
       "      <td>467.5</td>\n",
       "      <td>right</td>\n",
       "      <td>409.8</td>\n",
       "      <td>issu</td>\n",
       "      <td>456.4</td>\n",
       "      <td>one</td>\n",
       "      <td>...</td>\n",
       "      <td>student</td>\n",
       "      <td>385.0</td>\n",
       "      <td>know</td>\n",
       "      <td>607.6</td>\n",
       "      <td>gender</td>\n",
       "      <td>454.1</td>\n",
       "      <td>ill</td>\n",
       "      <td>903.6</td>\n",
       "      <td>like</td>\n",
       "      <td>656.3</td>\n",
       "    </tr>\n",
       "    <tr>\n",
       "      <th>8</th>\n",
       "      <td>8</td>\n",
       "      <td>man</td>\n",
       "      <td>499.8</td>\n",
       "      <td>treatment</td>\n",
       "      <td>453.5</td>\n",
       "      <td>like</td>\n",
       "      <td>400.1</td>\n",
       "      <td>caus</td>\n",
       "      <td>444.5</td>\n",
       "      <td>would</td>\n",
       "      <td>...</td>\n",
       "      <td>work</td>\n",
       "      <td>373.3</td>\n",
       "      <td>issu</td>\n",
       "      <td>572.7</td>\n",
       "      <td>women</td>\n",
       "      <td>446.7</td>\n",
       "      <td>get</td>\n",
       "      <td>825.9</td>\n",
       "      <td>men</td>\n",
       "      <td>634.9</td>\n",
       "    </tr>\n",
       "    <tr>\n",
       "      <th>9</th>\n",
       "      <td>9</td>\n",
       "      <td>democrat</td>\n",
       "      <td>488.0</td>\n",
       "      <td>com</td>\n",
       "      <td>415.4</td>\n",
       "      <td>govern</td>\n",
       "      <td>385.2</td>\n",
       "      <td>suicid</td>\n",
       "      <td>405.2</td>\n",
       "      <td>get</td>\n",
       "      <td>...</td>\n",
       "      <td>need</td>\n",
       "      <td>370.2</td>\n",
       "      <td>ill</td>\n",
       "      <td>569.4</td>\n",
       "      <td>’</td>\n",
       "      <td>443.7</td>\n",
       "      <td>help</td>\n",
       "      <td>795.8</td>\n",
       "      <td>children</td>\n",
       "      <td>619.3</td>\n",
       "    </tr>\n",
       "    <tr>\n",
       "      <th>10</th>\n",
       "      <td>10</td>\n",
       "      <td>get</td>\n",
       "      <td>475.6</td>\n",
       "      <td>get</td>\n",
       "      <td>362.2</td>\n",
       "      <td>peopl</td>\n",
       "      <td>378.4</td>\n",
       "      <td>depress</td>\n",
       "      <td>381.5</td>\n",
       "      <td>person</td>\n",
       "      <td>...</td>\n",
       "      <td>would</td>\n",
       "      <td>369.8</td>\n",
       "      <td>make</td>\n",
       "      <td>567.4</td>\n",
       "      <td>mental</td>\n",
       "      <td>441.8</td>\n",
       "      <td>money</td>\n",
       "      <td>740.8</td>\n",
       "      <td>know</td>\n",
       "      <td>613.1</td>\n",
       "    </tr>\n",
       "    <tr>\n",
       "      <th>11</th>\n",
       "      <td>11</td>\n",
       "      <td>white</td>\n",
       "      <td>453.6</td>\n",
       "      <td>doctor</td>\n",
       "      <td>342.3</td>\n",
       "      <td>christian</td>\n",
       "      <td>373.7</td>\n",
       "      <td>gun</td>\n",
       "      <td>369.9</td>\n",
       "      <td>right</td>\n",
       "      <td>...</td>\n",
       "      <td>like</td>\n",
       "      <td>340.8</td>\n",
       "      <td>one</td>\n",
       "      <td>553.2</td>\n",
       "      <td>group</td>\n",
       "      <td>415.7</td>\n",
       "      <td>pay</td>\n",
       "      <td>702.1</td>\n",
       "      <td>live</td>\n",
       "      <td>592.2</td>\n",
       "    </tr>\n",
       "    <tr>\n",
       "      <th>12</th>\n",
       "      <td>12</td>\n",
       "      <td>think</td>\n",
       "      <td>435.9</td>\n",
       "      <td>patient</td>\n",
       "      <td>320.2</td>\n",
       "      <td>liber</td>\n",
       "      <td>358.4</td>\n",
       "      <td>violenc</td>\n",
       "      <td>320.6</td>\n",
       "      <td>go</td>\n",
       "      <td>...</td>\n",
       "      <td>cathol</td>\n",
       "      <td>337.7</td>\n",
       "      <td>peopl</td>\n",
       "      <td>513.0</td>\n",
       "      <td>hate</td>\n",
       "      <td>392.3</td>\n",
       "      <td>problem</td>\n",
       "      <td>662.4</td>\n",
       "      <td>child</td>\n",
       "      <td>582.4</td>\n",
       "    </tr>\n",
       "    <tr>\n",
       "      <th>13</th>\n",
       "      <td>13</td>\n",
       "      <td>support</td>\n",
       "      <td>432.4</td>\n",
       "      <td>year</td>\n",
       "      <td>302.0</td>\n",
       "      <td>one</td>\n",
       "      <td>333.1</td>\n",
       "      <td>alcohol</td>\n",
       "      <td>310.5</td>\n",
       "      <td>could</td>\n",
       "      <td>...</td>\n",
       "      <td>educ</td>\n",
       "      <td>329.4</td>\n",
       "      <td>use</td>\n",
       "      <td>494.8</td>\n",
       "      <td>male</td>\n",
       "      <td>363.5</td>\n",
       "      <td>mani</td>\n",
       "      <td>660.3</td>\n",
       "      <td>woman</td>\n",
       "      <td>581.8</td>\n",
       "    </tr>\n",
       "    <tr>\n",
       "      <th>14</th>\n",
       "      <td>14</td>\n",
       "      <td>donald</td>\n",
       "      <td>410.1</td>\n",
       "      <td>disord</td>\n",
       "      <td>297.7</td>\n",
       "      <td>blind</td>\n",
       "      <td>329.4</td>\n",
       "      <td>addict</td>\n",
       "      <td>278.2</td>\n",
       "      <td>guy</td>\n",
       "      <td>...</td>\n",
       "      <td>church</td>\n",
       "      <td>309.2</td>\n",
       "      <td>someon</td>\n",
       "      <td>482.5</td>\n",
       "      <td>one</td>\n",
       "      <td>360.8</td>\n",
       "      <td>would</td>\n",
       "      <td>660.1</td>\n",
       "      <td>love</td>\n",
       "      <td>553.7</td>\n",
       "    </tr>\n",
       "  </tbody>\n",
       "</table>\n",
       "<p>15 rows × 21 columns</p>\n",
       "</div>"
      ],
      "text/plain": [
       "    Unnamed: 0 Topic 0 words  Topic 0 weights Topic 1 words  Topic 1 weights  \\\n",
       "0            0         trump           3452.3        mental           3351.9   \n",
       "1            1        presid           1031.5           ill           1993.1   \n",
       "2            2          vote            813.8        health           1213.7   \n",
       "3            3          like            780.9         medic            706.8   \n",
       "4            4         elect            579.5          http            630.5   \n",
       "5            5    republican            550.2          help            527.0   \n",
       "6            6         obama            542.2          need            504.5   \n",
       "7            7         peopl            540.2           www            467.5   \n",
       "8            8           man            499.8     treatment            453.5   \n",
       "9            9      democrat            488.0           com            415.4   \n",
       "10          10           get            475.6           get            362.2   \n",
       "11          11         white            453.6        doctor            342.3   \n",
       "12          12         think            435.9       patient            320.2   \n",
       "13          13       support            432.4          year            302.0   \n",
       "14          14        donald            410.1        disord            297.7   \n",
       "\n",
       "   Topic 2 words  Topic 2 weights Topic 3 words  Topic 3 weights  \\\n",
       "0         canada            591.5        mental           1186.5   \n",
       "1         muslim            582.0         peopl            708.3   \n",
       "2        countri            539.3          drug            555.8   \n",
       "3             us            519.8           ill            538.9   \n",
       "4          world            490.3        health            497.7   \n",
       "5       canadian            462.9       problem            491.9   \n",
       "6          islam            448.3           use            476.3   \n",
       "7          right            409.8          issu            456.4   \n",
       "8           like            400.1          caus            444.5   \n",
       "9         govern            385.2        suicid            405.2   \n",
       "10         peopl            378.4       depress            381.5   \n",
       "11     christian            373.7           gun            369.9   \n",
       "12         liber            358.4       violenc            320.6   \n",
       "13           one            333.1       alcohol            310.5   \n",
       "14         blind            329.4        addict            278.2   \n",
       "\n",
       "   Topic 4 words  ...  Topic 5 words Topic 5 weights  Topic 6 words  \\\n",
       "0            gun  ...         school           840.5         mental   \n",
       "1         mental  ...            kid           723.0        comment   \n",
       "2          peopl  ...           year           590.5           like   \n",
       "3            law  ...             go           514.7          would   \n",
       "4           kill  ...           time           507.9          think   \n",
       "5          polic  ...            one           500.8         person   \n",
       "6            ill  ...            get           458.6            say   \n",
       "7            one  ...        student           385.0           know   \n",
       "8          would  ...           work           373.3           issu   \n",
       "9            get  ...           need           370.2            ill   \n",
       "10        person  ...          would           369.8           make   \n",
       "11         right  ...           like           340.8            one   \n",
       "12            go  ...         cathol           337.7          peopl   \n",
       "13         could  ...           educ           329.4            use   \n",
       "14           guy  ...         church           309.2         someon   \n",
       "\n",
       "   Topic 6 weights  Topic 7 words Topic 7 weights  Topic 8 words  \\\n",
       "0           1058.1          white          1220.1         mental   \n",
       "1            848.3          peopl          1076.2          peopl   \n",
       "2            678.6          black           651.0         health   \n",
       "3            668.2         disord           537.1       homeless   \n",
       "4            650.4         person           529.5           care   \n",
       "5            629.7              ”           486.9           need   \n",
       "6            608.7          right           484.1           work   \n",
       "7            607.6         gender           454.1            ill   \n",
       "8            572.7          women           446.7            get   \n",
       "9            569.4              ’           443.7           help   \n",
       "10           567.4         mental           441.8          money   \n",
       "11           553.2          group           415.7            pay   \n",
       "12           513.0           hate           392.3        problem   \n",
       "13           494.8           male           363.5           mani   \n",
       "14           482.5            one           360.8          would   \n",
       "\n",
       "   Topic 8 weights  Topic 9 words Topic 9 weights  \n",
       "0           1836.1            god           954.9  \n",
       "1           1793.0            one           934.0  \n",
       "2           1464.6          women           905.2  \n",
       "3           1367.5           life           830.1  \n",
       "4           1296.8          peopl           798.2  \n",
       "5           1169.6          would           740.9  \n",
       "6            956.9         church           686.1  \n",
       "7            903.6           like           656.3  \n",
       "8            825.9            men           634.9  \n",
       "9            795.8       children           619.3  \n",
       "10           740.8           know           613.1  \n",
       "11           702.1           live           592.2  \n",
       "12           662.4          child           582.4  \n",
       "13           660.3          woman           581.8  \n",
       "14           660.1           love           553.7  \n",
       "\n",
       "[15 rows x 21 columns]"
      ]
     },
     "execution_count": 32,
     "metadata": {},
     "output_type": "execute_result"
    }
   ],
   "source": [
    "df"
   ]
  },
  {
   "cell_type": "code",
   "execution_count": null,
   "metadata": {},
   "outputs": [],
   "source": []
  },
  {
   "cell_type": "markdown",
   "metadata": {},
   "source": [
    "We shall try visualizing these results to understand what they talk about and what major themes are present in them. With the help of Jupyter Books, we can now embedd not just python code but HTML based projects as well. "
   ]
  },
  {
   "cell_type": "code",
   "execution_count": 35,
   "metadata": {
    "jupyter": {
     "source_hidden": true
    }
   },
   "outputs": [
    {
     "data": {
      "text/html": [
       "\n",
       "<iframe src='https://flo.uri.sh/story/941631/embed' title='Interactive or visual content' class='flourish-embed-iframe' frameborder='0' scrolling='no' style='width:100%;height:600px;' sandbox='allow-same-origin allow-forms allow-scripts allow-downloads allow-popups allow-popups-to-escape-sandbox allow-top-navigation-by-user-activation'></iframe><div style='width:100%!;margin-top:4px!important;text-align:right!important;'><a class='flourish-credit' href='https://public.flourish.studio/story/941631/?utm_source=embed&utm_campaign=story/941631' target='_top' style='text-decoration:none!important'><img alt='Made with Flourish' src='https://public.flourish.studio/resources/made_with_flourish.svg' style='width:105px!important;height:16px!important;border:none!important;margin:0!important;'> </a></div>\n"
      ],
      "text/plain": [
       "<IPython.core.display.HTML object>"
      ]
     },
     "metadata": {},
     "output_type": "display_data"
    }
   ],
   "source": [
    "%%html\n",
    "\n",
    "<iframe src='https://flo.uri.sh/story/941631/embed' title='Interactive or visual content' class='flourish-embed-iframe' frameborder='0' scrolling='no' style='width:100%;height:600px;' sandbox='allow-same-origin allow-forms allow-scripts allow-downloads allow-popups allow-popups-to-escape-sandbox allow-top-navigation-by-user-activation'></iframe><div style='width:100%!;margin-top:4px!important;text-align:right!important;'><a class='flourish-credit' href='https://public.flourish.studio/story/941631/?utm_source=embed&utm_campaign=story/941631' target='_top' style='text-decoration:none!important'><img alt='Made with Flourish' src='https://public.flourish.studio/resources/made_with_flourish.svg' style='width:105px!important;height:16px!important;border:none!important;margin:0!important;'> </a></div>"
   ]
  },
  {
   "cell_type": "markdown",
   "metadata": {},
   "source": [
    "### An Overview of the analysis \n",
    "From the above visualization, an anomaly that we come across is that the database we are examining is supposed to be related to people with physical, mental and learning disability. But unfortunately based on the topics that were extracted, we notice just a small subset of words that are related to this topic. \n",
    "Topic 2 have words that addresses themes related to what we were expecting the dataset to have. But the major theme that was noticed in the Top 5 topics are mainly terms that are political. \n",
    "(The Top 10 topics show themes related to Religion as well, which is quite interesting.)\n",
    "LDA hence helped in understanding what the conversations the dataset consisted. "
   ]
  },
  {
   "cell_type": "markdown",
   "metadata": {},
   "source": [
    "From the word collection, we also notice that there were certain words such as \\'kill' that can be categorized as \\'Toxic'\\. To analyse this more, we cn classify each word based on the fact that it can be categorized as toxic by an NLP classifier. "
   ]
  },
  {
   "cell_type": "code",
   "execution_count": null,
   "metadata": {},
   "outputs": [],
   "source": []
  },
  {
   "cell_type": "markdown",
   "metadata": {},
   "source": [
    "##### To demonstrate an example of a toxic analysis framework, the below code shows the working of the Unitary library in python. <br> \n",
    "This library provides a toxicity score (from a scale of 0 to 1) for the sentece that is passed through it."
   ]
  },
  {
   "cell_type": "code",
   "execution_count": 13,
   "metadata": {},
   "outputs": [],
   "source": [
    "{\n",
    "    \"tags\": [\n",
    "        \"hide-cell\"\n",
    "    ]\n",
    "}\n",
    "\n",
    "import requests\n",
    "\n",
    "API_URL = \"https://api-inference.huggingface.co/models/unitary/toxic-bert\"\n",
    "headers = {\"Authorization\": f\"Bearer api_ZtUEFtMRVhSLdyTNrRAmpxXgMAxZJpKLQb\"}\n",
    "\n",
    "def query(payload):\n",
    "    response = requests.post(API_URL, headers=headers, json=payload)\n",
    "    return response.json()"
   ]
  },
  {
   "cell_type": "code",
   "execution_count": 16,
   "metadata": {},
   "outputs": [
    {
     "data": {
      "text/plain": [
       "[[{'label': 'toxic', 'score': 0.9272779822349548},\n",
       "  {'label': 'severe_toxic', 'score': 0.00169223896227777},\n",
       "  {'label': 'obscene', 'score': 0.03694247826933861},\n",
       "  {'label': 'threat', 'score': 0.0017220545560121536},\n",
       "  {'label': 'insult', 'score': 0.02829463966190815},\n",
       "  {'label': 'identity_hate', 'score': 0.004070617724210024}]]"
      ]
     },
     "execution_count": 16,
     "metadata": {},
     "output_type": "execute_result"
    }
   ],
   "source": [
    "query({\"inputs\": \"addict\"})"
   ]
  },
  {
   "cell_type": "code",
   "execution_count": null,
   "metadata": {},
   "outputs": [],
   "source": []
  },
  {
   "cell_type": "markdown",
   "metadata": {},
   "source": [
    "You can input words or sentences in \\<insert word here>, in the code, to look at the results that are generated through this. <br> This example can provide an idea as to how ML can be used for toxicity analysis."
   ]
  },
  {
   "cell_type": "code",
   "execution_count": 9,
   "metadata": {},
   "outputs": [
    {
     "data": {
      "text/plain": [
       "[[{'label': 'toxic', 'score': 0.5101907849311829},\n",
       "  {'label': 'severe_toxic', 'score': 0.07646821439266205},\n",
       "  {'label': 'obscene', 'score': 0.12113521993160248},\n",
       "  {'label': 'threat', 'score': 0.07763686031103134},\n",
       "  {'label': 'insult', 'score': 0.11923719942569733},\n",
       "  {'label': 'identity_hate', 'score': 0.09533172845840454}]]"
      ]
     },
     "execution_count": 9,
     "metadata": {},
     "output_type": "execute_result"
    }
   ],
   "source": [
    "query({\"inputs\": \"<insert word here>\"})"
   ]
  },
  {
   "cell_type": "code",
   "execution_count": 36,
   "metadata": {
    "jupyter": {
     "source_hidden": true
    }
   },
   "outputs": [
    {
     "data": {
      "text/html": [
       "\n",
       "<iframe src='https://flo.uri.sh/story/941681/embed' title='Interactive or visual content' class='flourish-embed-iframe' frameborder='0' scrolling='no' style='width:100%;height:600px;' sandbox='allow-same-origin allow-forms allow-scripts allow-downloads allow-popups allow-popups-to-escape-sandbox allow-top-navigation-by-user-activation'></iframe><div style='width:100%!;margin-top:4px!important;text-align:right!important;'><a class='flourish-credit' href='https://public.flourish.studio/story/941681/?utm_source=embed&utm_campaign=story/941681' target='_top' style='text-decoration:none!important'><img alt='Made with Flourish' src='https://public.flourish.studio/resources/made_with_flourish.svg' style='width:105px!important;height:16px!important;border:none!important;margin:0!important;'> </a></div>\n"
      ],
      "text/plain": [
       "<IPython.core.display.HTML object>"
      ]
     },
     "metadata": {},
     "output_type": "display_data"
    }
   ],
   "source": [
    "%%html\n",
    "\n",
    "<iframe src='https://flo.uri.sh/story/941681/embed' title='Interactive or visual content' class='flourish-embed-iframe' frameborder='0' scrolling='no' style='width:100%;height:600px;' sandbox='allow-same-origin allow-forms allow-scripts allow-downloads allow-popups allow-popups-to-escape-sandbox allow-top-navigation-by-user-activation'></iframe><div style='width:100%!;margin-top:4px!important;text-align:right!important;'><a class='flourish-credit' href='https://public.flourish.studio/story/941681/?utm_source=embed&utm_campaign=story/941681' target='_top' style='text-decoration:none!important'><img alt='Made with Flourish' src='https://public.flourish.studio/resources/made_with_flourish.svg' style='width:105px!important;height:16px!important;border:none!important;margin:0!important;'> </a></div>"
   ]
  },
  {
   "cell_type": "markdown",
   "metadata": {},
   "source": [
    "#### The Bias\n",
    "The visualization shows how contextually toxic words are derived as important words within various topics related to this dataset. This can lead to any Natural Language Processing kernel to learning this dataset to provide skewed analysis for the population in consideration, i.e. people with mental, physical and learning disability. This can lead to very discriminatory classifications. "
   ]
  },
  {
   "cell_type": "markdown",
   "metadata": {},
   "source": [
    "##### An Example\n",
    "To illustrate the impact better, we will be taking the most associated words to the word 'mental' from the results. Below is a network graph that shows the commonly associated words. It is seen that words such as 'Kill' and 'Gun' appear with the closest association. This can lead to the machine contextualizing the word 'mental' to be associated with such words. "
   ]
  },
  {
   "cell_type": "code",
   "execution_count": 17,
   "metadata": {
    "jupyter": {
     "source_hidden": true
    }
   },
   "outputs": [
    {
     "data": {
      "text/html": [
       "<iframe src='https://flo.uri.sh/visualisation/6867000/embed' title='Interactive or visual content' class='flourish-embed-iframe' frameborder='0' scrolling='no' style='width:100%;height:600px;' sandbox='allow-same-origin allow-forms allow-scripts allow-downloads allow-popups allow-popups-to-escape-sandbox allow-top-navigation-by-user-activation'></iframe><div style='width:100%!;margin-top:4px!important;text-align:right!important;'><a class='flourish-credit' href='https://public.flourish.studio/visualisation/6867000/?utm_source=embed&utm_campaign=visualisation/6867000' target='_top' style='text-decoration:none!important'><img alt='Made with Flourish' src='https://public.flourish.studio/resources/made_with_flourish.svg' style='width:105px!important;height:16px!important;border:none!important;margin:0!important;'> </a></div>\n"
      ],
      "text/plain": [
       "<IPython.core.display.HTML object>"
      ]
     },
     "metadata": {},
     "output_type": "display_data"
    }
   ],
   "source": [
    "%%html\n",
    "<iframe src='https://flo.uri.sh/visualisation/6867000/embed' title='Interactive or visual content' class='flourish-embed-iframe' frameborder='0' scrolling='no' style='width:100%;height:600px;' sandbox='allow-same-origin allow-forms allow-scripts allow-downloads allow-popups allow-popups-to-escape-sandbox allow-top-navigation-by-user-activation'></iframe><div style='width:100%!;margin-top:4px!important;text-align:right!important;'><a class='flourish-credit' href='https://public.flourish.studio/visualisation/6867000/?utm_source=embed&utm_campaign=visualisation/6867000' target='_top' style='text-decoration:none!important'><img alt='Made with Flourish' src='https://public.flourish.studio/resources/made_with_flourish.svg' style='width:105px!important;height:16px!important;border:none!important;margin:0!important;'> </a></div>"
   ]
  },
  {
   "cell_type": "markdown",
   "metadata": {},
   "source": [
    "It is hence important to be aware of the dataset that is being used to analyse a specific population. With LDA, we were able to understand that this dataset cannot be used as a good representation of the disabled community. To bring about a movement of unbiased AI, we need to perform such preliminary analysis and more, to not cause unintended descrimination. "
   ]
  },
  {
   "cell_type": "code",
   "execution_count": null,
   "metadata": {},
   "outputs": [],
   "source": []
  },
  {
   "cell_type": "markdown",
   "metadata": {},
   "source": [
    "##### The dashboard\n",
    "\n",
    "Below is the complete data visaulization dashboard of the topic analysis. Feel feel to experiment and compare various labels to your liking. "
   ]
  },
  {
   "cell_type": "code",
   "execution_count": 18,
   "metadata": {},
   "outputs": [
    {
     "data": {
      "text/html": [
       "\n",
       "<iframe src='https://flo.uri.sh/visualisation/6856937/embed' title='Interactive or visual content' class='flourish-embed-iframe' frameborder='0' scrolling='no' style='width:100%;height:600px;' sandbox='allow-same-origin allow-forms allow-scripts allow-downloads allow-popups allow-popups-to-escape-sandbox allow-top-navigation-by-user-activation'></iframe><div style='width:100%!;margin-top:4px!important;text-align:right!important;'><a class='flourish-credit' href='https://public.flourish.studio/visualisation/6856937/?utm_source=embed&utm_campaign=visualisation/6856937' target='_top' style='text-decoration:none!important'><img alt='Made with Flourish' src='https://public.flourish.studio/resources/made_with_flourish.svg' style='width:105px!important;height:16px!important;border:none!important;margin:0!important;'> </a></div>\n"
      ],
      "text/plain": [
       "<IPython.core.display.HTML object>"
      ]
     },
     "metadata": {},
     "output_type": "display_data"
    }
   ],
   "source": [
    "%%html\n",
    "\n",
    "<iframe src='https://flo.uri.sh/visualisation/6856937/embed' title='Interactive or visual content' class='flourish-embed-iframe' frameborder='0' scrolling='no' style='width:100%;height:600px;' sandbox='allow-same-origin allow-forms allow-scripts allow-downloads allow-popups allow-popups-to-escape-sandbox allow-top-navigation-by-user-activation'></iframe><div style='width:100%!;margin-top:4px!important;text-align:right!important;'><a class='flourish-credit' href='https://public.flourish.studio/visualisation/6856937/?utm_source=embed&utm_campaign=visualisation/6856937' target='_top' style='text-decoration:none!important'><img alt='Made with Flourish' src='https://public.flourish.studio/resources/made_with_flourish.svg' style='width:105px!important;height:16px!important;border:none!important;margin:0!important;'> </a></div>"
   ]
  },
  {
   "cell_type": "code",
   "execution_count": null,
   "metadata": {},
   "outputs": [],
   "source": []
  }
 ],
 "metadata": {
  "kernelspec": {
   "display_name": "Python 3",
   "language": "python",
   "name": "python3"
  },
  "language_info": {
   "codemirror_mode": {
    "name": "ipython",
    "version": 3
   },
   "file_extension": ".py",
   "mimetype": "text/x-python",
   "name": "python",
   "nbconvert_exporter": "python",
   "pygments_lexer": "ipython3",
   "version": "3.8.5"
  }
 },
 "nbformat": 4,
 "nbformat_minor": 4
}
