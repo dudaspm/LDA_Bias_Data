{
 "cells": [
  {
   "cell_type": "markdown",
   "metadata": {
    "id": "W00cXZatCdYc"
   },
   "source": [
    "# Introduction"
   ]
  },
  {
   "cell_type": "markdown",
   "metadata": {
    "id": "h_iBWWX6CiuL"
   },
   "source": [
    "## Where am I? (JupyterLab Notebook)"
   ]
  },
  {
   "cell_type": "markdown",
   "metadata": {
    "id": "ChfQO9ZZCp6j"
   },
   "source": [
    "Jupyter is a powerful suite of tools that allows us to do many things.\n",
    "\n",
    "Jupyter is capable of running **Ju**lia, **Pyt**hon and **R**, as well as some other things. \n",
    "\n",
    "**__IMPORTANT__**\n",
    "\n",
    "1. This is not a Python course.\n",
    "2. Any Python used will be given to you and explained. \n",
    "3. You will not be tested on any Python concepts or code.\n",
    "4. I may teach you some very basic concepts in Python, but you are NOT expected to develop any code on your own.  \n"
   ]
  },
  {
   "cell_type": "markdown",
   "metadata": {
    "id": "1rZy0K3VDCbk"
   },
   "source": [
    "## Cells"
   ]
  },
  {
   "cell_type": "markdown",
   "metadata": {
    "id": "zqYC9KjjH8oF"
   },
   "source": [
    "Each box is called a cell. "
   ]
  },
  {
   "cell_type": "markdown",
   "metadata": {
    "id": "N2TbIgEgH073"
   },
   "source": [
    "### Two types of Cells"
   ]
  },
  {
   "cell_type": "markdown",
   "metadata": {
    "id": "Yj2f48xPH3wW"
   },
   "source": [
    "#### Text"
   ]
  },
  {
   "cell_type": "markdown",
   "metadata": {
    "id": "cXmtpnLuIy4u"
   },
   "source": [
    "Text Cells allow you to add text (via Markdown), which includes tables, images, links, bullet lists, numbered list, LaTeX, blockquote, among other things. "
   ]
  },
  {
   "cell_type": "markdown",
   "metadata": {
    "id": "ItueGCP3JcTy"
   },
   "source": [
    "##### Table \n",
    "\n",
    "| This | is   |\n",
    "|------|------|\n",
    "|   a  | table| "
   ]
  },
  {
   "cell_type": "markdown",
   "metadata": {
    "id": "-Qsp7CsAJoBY"
   },
   "source": [
    "##### Image\n",
    "\n",
    "![Van Ghogh](https://upload.wikimedia.org/wikipedia/commons/thumb/e/ea/Van_Gogh_-_Starry_Night_-_Google_Art_Project.jpg/303px-Van_Gogh_-_Starry_Night_-_Google_Art_Project.jpg)\n",
    "\n"
   ]
  },
  {
   "cell_type": "markdown",
   "metadata": {
    "id": "nypi_6ZjNaop"
   },
   "source": [
    "##### Link\n",
    "\n",
    "Vincent van Gogh / Public domain\n",
    "[Attribution](https://commons.wikimedia.org/wiki/File:Van_Gogh_-_Starry_Night_-_Google_Art_Project.jpg)"
   ]
  },
  {
   "cell_type": "markdown",
   "metadata": {
    "id": "qLltad4lLb7h"
   },
   "source": [
    "##### Bullet List\n",
    "\n",
    "*   I am a\n",
    "  * bullet\n",
    "      * list\n",
    "\n"
   ]
  },
  {
   "cell_type": "markdown",
   "metadata": {
    "id": "ST3426lBLq_O"
   },
   "source": [
    "##### Numbered List\n",
    "\n",
    "1.   I am a\n",
    "  1. numbered\n",
    "      1. list"
   ]
  },
  {
   "cell_type": "markdown",
   "metadata": {
    "id": "gwo97_93MREA"
   },
   "source": [
    "##### LaTeX\n",
    "\n",
    "$$e=mc^2$$"
   ]
  },
  {
   "cell_type": "markdown",
   "metadata": {
    "id": "rWlY94TkNAYT"
   },
   "source": [
    "##### Blockquotes\n",
    "\n",
    "> This is a blockquote."
   ]
  },
  {
   "cell_type": "markdown",
   "metadata": {
    "id": "6Qa2PVH9CgqE"
   },
   "source": [
    "#### Code"
   ]
  },
  {
   "cell_type": "markdown",
   "metadata": {
    "id": "407akZkvDGgb"
   },
   "source": [
    "Cells can be run using the Run button ← or selecting one of the run options under the Cell menu. Try this out! You can change what is in the cell and rerun the same cell, which is useful for debugging."
   ]
  },
  {
   "cell_type": "code",
   "execution_count": null,
   "metadata": {
    "colab": {
     "base_uri": "https://localhost:8080/",
     "height": 34
    },
    "id": "6yTJ2HBDCiAw",
    "outputId": "c635ab07-1ffe-4244-ac4d-2ac66323cd98"
   },
   "outputs": [
    {
     "data": {
      "text/plain": [
       "4"
      ]
     },
     "execution_count": 1,
     "metadata": {
      "tags": []
     },
     "output_type": "execute_result"
    }
   ],
   "source": [
    "2 + 2 "
   ]
  },
  {
   "cell_type": "markdown",
   "metadata": {
    "id": "q6rtDY4qCnzZ"
   },
   "source": [
    "**Your turn**: In a new cell, figure out what 172 / 23.5 is. "
   ]
  }
 ],
 "metadata": {
  "colab": {
   "collapsed_sections": [],
   "name": "Introduction.ipynb",
   "provenance": []
  },
  "kernelspec": {
   "display_name": "Python 3",
   "name": "python3"
  }
 },
 "nbformat": 4,
 "nbformat_minor": 0
}