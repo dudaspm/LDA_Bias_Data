{
 "cells": [
  {
   "cell_type": "markdown",
   "id": "887dac44-820c-4217-adde-0b04665b3c7a",
   "metadata": {},
   "source": [
    "# Introduction to Python"
   ]
  },
  {
   "cell_type": "markdown",
   "id": "84f7953e-29e0-4468-9011-f030341582ed",
   "metadata": {},
   "source": [
    "In this section, I wanted to introduce a few basic concepts and give an outline of this section. "
   ]
  },
  {
   "cell_type": "markdown",
   "id": "86f335a7-8616-43a7-9460-a632d0ce385a",
   "metadata": {},
   "source": [
    "## Comments in Python"
   ]
  },
  {
   "cell_type": "markdown",
   "id": "69307a3b-d12a-41c6-94b7-17bdea3bf75f",
   "metadata": {},
   "source": [
    "In Python, we can create comments in the code itself. Considering we can use markdown language (as you see here 😁), we won't use this too much in this notebook. Though, here is an example. \n",
    "\n",
    "Basically, you use the... umm... hashtag? Number sign? Pound sign? \n",
    "\n",
    "This thing -> #"
   ]
  },
  {
   "cell_type": "code",
   "execution_count": 4,
   "id": "3a212d35-03ba-4667-b3e9-64aa9ea83d8f",
   "metadata": {},
   "outputs": [
    {
     "data": {
      "text/plain": [
       "4"
      ]
     },
     "execution_count": 4,
     "metadata": {},
     "output_type": "execute_result"
    }
   ],
   "source": [
    "# I am a comment in Python\n",
    "# Here is 2 + 2\n",
    "2 + 2\n",
    "# As you can see, these are not \"computed\" using Python. \n",
    "# We are just comments for the person looking at this.\n",
    "# Or... you!"
   ]
  },
  {
   "cell_type": "markdown",
   "id": "db96c2e7-221c-4183-a37f-970a13a849a5",
   "metadata": {},
   "source": [
    "## Print Function"
   ]
  },
  {
   "cell_type": "markdown",
   "id": "906300b4-1cc9-40fb-975e-764049bdef6b",
   "metadata": {},
   "source": [
    "We will being using...\n",
    "\n",
    "```python\n",
    "print()\n",
    "```\n",
    "\n",
    "...several times in this notebook. \n",
    "\n",
    "*print()* is a function to print out strings, variables, numbers, functions, etc. \n",
    "\n",
    "Let's use the classic example."
   ]
  },
  {
   "cell_type": "code",
   "execution_count": 7,
   "id": "770079ce-4cd7-4d68-a5f2-9ae9191e9b58",
   "metadata": {},
   "outputs": [
    {
     "name": "stdout",
     "output_type": "stream",
     "text": [
      "hello, world!\n"
     ]
    }
   ],
   "source": [
    "print( \"hello, world!\" )"
   ]
  },
  {
   "cell_type": "markdown",
   "id": "01410033-2b47-4d6e-9d2e-f8826eeb974c",
   "metadata": {},
   "source": [
    "OR"
   ]
  },
  {
   "cell_type": "code",
   "execution_count": 8,
   "id": "3d53ce45-ae5e-4979-aeb8-02c1cc5f6878",
   "metadata": {},
   "outputs": [
    {
     "name": "stdout",
     "output_type": "stream",
     "text": [
      "hello, world!\n"
     ]
    }
   ],
   "source": [
    "print(\"hello, world!\")"
   ]
  },
  {
   "cell_type": "markdown",
   "id": "c419f1a6-a236-4759-a014-fa937a9e0c19",
   "metadata": {},
   "source": [
    "*print()* can do some fun things as well. As in, giving it more than one thing to print with commas between them. This will print both things with spaces."
   ]
  },
  {
   "cell_type": "code",
   "execution_count": 6,
   "id": "05078fdb-fbe3-4126-98f7-4967084a5ca0",
   "metadata": {},
   "outputs": [
    {
     "name": "stdout",
     "output_type": "stream",
     "text": [
      "hello, world!\n"
     ]
    }
   ],
   "source": [
    "print( \"hello,\", \"world!\" )"
   ]
  },
  {
   "cell_type": "markdown",
   "id": "8294f007-9218-4161-9661-eb1d7b512d41",
   "metadata": {},
   "source": [
    "## Help Function"
   ]
  },
  {
   "cell_type": "markdown",
   "id": "16eb4dcd-d2e4-4c08-a112-9d158606ba98",
   "metadata": {},
   "source": [
    "The...\n",
    "\n",
    "```python\n",
    "help()\n",
    "```\n",
    "\n",
    "... function is exactly what it is. It is a function to 🌟 help 🌟 you understand the basic usage of another function. "
   ]
  },
  {
   "cell_type": "code",
   "execution_count": 9,
   "id": "62bde749-eb56-4f92-a555-ceca9bad8b05",
   "metadata": {},
   "outputs": [
    {
     "name": "stdout",
     "output_type": "stream",
     "text": [
      "Help on built-in function print in module builtins:\n",
      "\n",
      "print(...)\n",
      "    print(value, ..., sep=' ', end='\\n', file=sys.stdout, flush=False)\n",
      "    \n",
      "    Prints the values to a stream, or to sys.stdout by default.\n",
      "    Optional keyword arguments:\n",
      "    file:  a file-like object (stream); defaults to the current sys.stdout.\n",
      "    sep:   string inserted between values, default a space.\n",
      "    end:   string appended after the last value, default a newline.\n",
      "    flush: whether to forcibly flush the stream.\n",
      "\n"
     ]
    }
   ],
   "source": [
    "help(print)"
   ]
  },
  {
   "cell_type": "markdown",
   "id": "0ae98380-100d-42a1-bd24-80544a45e461",
   "metadata": {},
   "source": [
    "## Resources"
   ]
  },
  {
   "cell_type": "markdown",
   "id": "3ba2887b-5d70-48aa-9334-7229334f0a2a",
   "metadata": {},
   "source": [
    "Highly suggest looking for answers using [StackOverflow](https://stackoverflow.com/help/searching)"
   ]
  },
  {
   "cell_type": "markdown",
   "id": "289ad0d3-7897-47e7-951d-66166913280f",
   "metadata": {},
   "source": [
    "## Common Errors"
   ]
  },
  {
   "cell_type": "markdown",
   "id": "6524cf56-1a46-4a92-8e93-6aa65163accb",
   "metadata": {},
   "source": [
    "One of the most common errors in Python is the dreaded \n",
    "\n",
    "```python\n",
    "2 + 2\n",
    " 3 + 3\n",
    "\n",
    "  File \"<ipython-input-1-0dcc020fd5cb>\", line 2\n",
    "    3 + 3\n",
    "    ^\n",
    "IndentationError: unexpected indent\n",
    "```\n",
    "\n",
    "Why does this occur? Well, because Python uses spacing or tabs to distinguish where things like loops, functions, and if/else statements start and end. So, if you add an extra space or tab at the beginning of the statement, you will see this message. If you do, check your spacing. "
   ]
  },
  {
   "cell_type": "markdown",
   "id": "eea6ed9d-da0b-4544-bf80-e2bda36b82a8",
   "metadata": {},
   "source": [
    "```{note}\n",
    "Python can get weird with this issue. As you can, technically, start code wherever as long as you are consistent. The next cell shows an example of this... oddity.\n",
    "\n",
    "```"
   ]
  },
  {
   "cell_type": "code",
   "execution_count": 5,
   "id": "adf86ee6-d9ca-4665-b0bf-30aaee018a36",
   "metadata": {},
   "outputs": [
    {
     "data": {
      "text/plain": [
       "6"
      ]
     },
     "execution_count": 5,
     "metadata": {},
     "output_type": "execute_result"
    }
   ],
   "source": [
    "                2+2\n",
    "                3+3"
   ]
  },
  {
   "cell_type": "markdown",
   "id": "5dc87ee0-9fad-4f39-ade9-f761bb568612",
   "metadata": {},
   "source": [
    "still works! "
   ]
  }
 ],
 "metadata": {
  "kernelspec": {
   "display_name": "Python 3",
   "language": "python",
   "name": "python3"
  },
  "language_info": {
   "codemirror_mode": {
    "name": "ipython",
    "version": 3
   },
   "file_extension": ".py",
   "mimetype": "text/x-python",
   "name": "python",
   "nbconvert_exporter": "python",
   "pygments_lexer": "ipython3",
   "version": "3.8.5"
  }
 },
 "nbformat": 4,
 "nbformat_minor": 5
}