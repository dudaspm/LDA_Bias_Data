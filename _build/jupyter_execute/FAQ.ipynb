{
 "cells": [
  {
   "cell_type": "markdown",
   "id": "1842bc7a-67f4-4361-8e16-f3f18168b5d8",
   "metadata": {},
   "source": [
    "# FAQ"
   ]
  },
  {
   "cell_type": "markdown",
   "id": "51614715-da25-44bf-8335-42d32f128a16",
   "metadata": {},
   "source": [
    "This is my attempt at capturing and anonymizing some of the great questions I have received at workshops. If you have any more clarification or other questions, please email at pmd19@psu.edu. "
   ]
  },
  {
   "cell_type": "markdown",
   "id": "78b461fd-4895-460f-83da-fd263e5b2270",
   "metadata": {},
   "source": [
    "***\n",
    "> Q: If I use Google Colab, am I using Jupyter?\n",
    "\n",
    "> A: Yes, well, technically, you are using JupyterLab, but Google Colab is Google's version of JupyterLab. \n",
    "***"
   ]
  },
  {
   "cell_type": "markdown",
   "id": "113602c4-a0dc-4418-8817-1f224e4d35d2",
   "metadata": {},
   "source": [
    ">Q: If we use the Microsoft version instead of the Google version, would that be equivalent?\n",
    "\n",
    ">A: Yes, Jupyter and JupyterLab, of all types (Google Colab, MS Azure Notebook, Binder, etc.), all use the same file format (.ipynb). They might have a slightly different look, but I can take my notebook from Google to Microsoft to Github to my computer. All would work the same.\n",
    "***"
   ]
  },
  {
   "cell_type": "markdown",
   "id": "0982063a-74f2-47ef-b4bc-5cc254bf4591",
   "metadata": {},
   "source": [
    ">Q: Are there any keyboard shortcuts for Google Colab?\n",
    "\n",
    ">A: Here is how to get to the keyboard shortcuts and this will let you set you own as well.\n",
    "\n",
    "<img alt=\"Keyboard Shortcuts in Google Colab\" src=\"https://raw.githubusercontent.com/dudaspm/JupyterLab-Python/main/images/keyboardshortcuts.png\" style=\"width:450px;margin-left:auto;margin-right:auto;display:block;\">\n",
    "\n",
    "***"
   ]
  },
  {
   "cell_type": "markdown",
   "id": "d71d6393-13be-47cd-b702-38087dbf9324",
   "metadata": {},
   "source": [
    "> Q: After pressing play, I see the \"[1]\" term; what does that mean?\n",
    "\n",
    ">A: [1] specifies the order in which you are running your cells. This marker is to help you know in what sequence you are running your code cell. \n",
    "\n",
    "***"
   ]
  },
  {
   "cell_type": "markdown",
   "id": "10c2044c-692f-4601-b77f-8e7330d3c618",
   "metadata": {},
   "source": [
    "> Q: How many resources do I get when using Google Colab?\n",
    "\n",
    "> A: This is an evolving question and can change over time. For example, I have a notebook with ~13 Gb of RAM and ~70 Gb of free hard drive space. You can also request (with the free version) GPU and TPU hardware acceleration. \n",
    "\n",
    "***\n"
   ]
  },
  {
   "cell_type": "markdown",
   "id": "9393ce59-716f-4ccf-a1bf-3d5b2581e21d",
   "metadata": {},
   "source": [
    "> Q: Is there a Java kernel available?\n",
    "\n",
    "> A: After some investigation. It does seem possible (See: https://stackoverflow.com/questions/40917409/using-jupyter-notebook-for-java), but I do not see anything natively. \n",
    "\n",
    "***"
   ]
  },
  {
   "cell_type": "markdown",
   "id": "48cc4634-3c24-4ebc-b7b0-a320bf9fcd1e",
   "metadata": {},
   "source": [
    "> Q: Is there a way to merge Jupyter code in multiple cells into one cell or output into one .py code file?\n",
    "\n",
    "> A: Yep, select File > Download > Download .py. \n",
    "\n",
    "<img alt=\"How to Download as .py\" src=\"https://raw.githubusercontent.com/dudaspm/JupyterLab-Python/main/images/downloadAspy.png\" style=\"width:450px;margin-left:auto;margin-right:auto;display:block;\">\n",
    "\n",
    "***"
   ]
  },
  {
   "cell_type": "markdown",
   "id": "88cdd431-7173-44b0-8b5f-f58879e5b013",
   "metadata": {},
   "source": [
    "> Q: Does the definition of a variable have to be placed above where it will be used? Or can it be placed anywhere? \n",
    "\n",
    ">A: You want to think about your notebook as a document, and it will be \"read\" from top to bottom. Technically, you can place code out of order, but then you will need to run the code manually in that order. Every… single… time, you load up the notebook. \n",
    "\n",
    "***"
   ]
  },
  {
   "cell_type": "markdown",
   "id": "22527f6a-34dc-4f80-bd9d-4409d6d4f27c",
   "metadata": {},
   "source": [
    "> Q: Is there a way to list variables, as in RStudio?\n",
    "\n",
    ">A: Not as quickly and as easily as in RStudio, but there is a command that you can use: \n",
    "\n",
    "```python\n",
    "whos or %whos\n",
    "```\n",
    "\n",
    "<img alt=\"Using the whos command\" src=\"https://raw.githubusercontent.com/dudaspm/JupyterLab-Python/main/images/whosCommand.PNG\" style=\"width:450px;margin-left:auto;margin-right:auto;display:block;\">\n",
    "\n",
    "***"
   ]
  },
  {
   "cell_type": "code",
   "execution_count": null,
   "id": "44e21e0f-1384-4241-a5b5-847f60cce155",
   "metadata": {},
   "outputs": [],
   "source": []
  }
 ],
 "metadata": {
  "kernelspec": {
   "display_name": "Python 3",
   "language": "python",
   "name": "python3"
  },
  "language_info": {
   "codemirror_mode": {
    "name": "ipython",
    "version": 3
   },
   "file_extension": ".py",
   "mimetype": "text/x-python",
   "name": "python",
   "nbconvert_exporter": "python",
   "pygments_lexer": "ipython3",
   "version": "3.7.10"
  }
 },
 "nbformat": 4,
 "nbformat_minor": 5
}