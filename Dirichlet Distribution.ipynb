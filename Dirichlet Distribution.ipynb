{
 "cells": [
  {
   "cell_type": "markdown",
   "id": "1e468c88-42c6-4ef9-9189-3d04cdef8495",
   "metadata": {},
   "source": [
    "# Dirichlet Distribution"
   ]
  },
  {
   "cell_type": "code",
   "execution_count": 1,
   "id": "93b8fc54-af16-4493-ae6c-c323f35e63e1",
   "metadata": {},
   "outputs": [],
   "source": [
    "from scipy.stats import dirichlet\n",
    "import numpy as np"
   ]
  },
  {
   "cell_type": "code",
   "execution_count": 2,
   "id": "944dbe68-11b3-4b26-9d7a-a714a3e0908e",
   "metadata": {},
   "outputs": [
    {
     "data": {
      "text/plain": [
       "array([[3.01308644e-021, 5.84934980e-106, 1.00000000e+000,\n",
       "        1.50669852e-054],\n",
       "       [4.80182957e-140, 4.90790365e-032, 9.99999444e-001,\n",
       "        5.55677723e-007],\n",
       "       [1.00000000e+000, 2.24052107e-052, 5.86156401e-088,\n",
       "        2.01957173e-037],\n",
       "       [6.25480667e-040, 9.99999827e-001, 1.73277035e-007,\n",
       "        6.48360085e-051]])"
      ]
     },
     "execution_count": 2,
     "metadata": {},
     "output_type": "execute_result"
    }
   ],
   "source": [
    "alpha = np.array([0.01, 0.01, 0.01, 0.01])\n",
    "dirichlet.rvs(alpha, size=4)"
   ]
  },
  {
   "cell_type": "code",
   "execution_count": 7,
   "id": "eb52f9a2-a15c-44c4-a3a0-6b52b95a3eff",
   "metadata": {},
   "outputs": [
    {
     "data": {
      "text/plain": [
       "array([[0. , 1. , 0. , 0. , 0. , 0. , 0. , 0. , 0. , 0. ],\n",
       "       [0. , 0. , 0. , 0. , 0. , 0. , 0. , 0. , 0. , 1. ],\n",
       "       [0.9, 0. , 0. , 0.1, 0. , 0. , 0. , 0. , 0. , 0. ],\n",
       "       [0. , 1. , 0. , 0. , 0. , 0. , 0. , 0. , 0. , 0. ],\n",
       "       [0. , 0. , 0. , 1. , 0. , 0. , 0. , 0. , 0. , 0. ],\n",
       "       [0. , 0. , 0. , 0. , 0. , 0. , 0. , 0. , 1. , 0. ],\n",
       "       [0. , 0. , 1. , 0. , 0. , 0. , 0. , 0. , 0. , 0. ],\n",
       "       [1. , 0. , 0. , 0. , 0. , 0. , 0. , 0. , 0. , 0. ],\n",
       "       [0. , 0. , 0. , 0. , 0. , 0. , 1. , 0. , 0. , 0. ],\n",
       "       [0. , 0. , 0. , 0. , 1. , 0. , 0. , 0. , 0. , 0. ]])"
      ]
     },
     "execution_count": 7,
     "metadata": {},
     "output_type": "execute_result"
    }
   ],
   "source": [
    "alpha = np.array([0.01, 0.01, 0.01, 0.01, 0.01, 0.01, 0.01, 0.01, 0.01, 0.01])\n",
    "np.around(dirichlet.rvs(alpha, size=10), decimals=1)"
   ]
  },
  {
   "cell_type": "code",
   "execution_count": 31,
   "id": "ad450696-5f96-4bd9-a1f7-c1a44b5bfe20",
   "metadata": {},
   "outputs": [
    {
     "data": {
      "text/html": [
       "<script src='https://d3js.org/d3.v6.min.js'></script>"
      ],
      "text/plain": [
       "<IPython.core.display.HTML object>"
      ]
     },
     "metadata": {},
     "output_type": "display_data"
    },
    {
     "data": {
      "text/html": [
       "<script src='https://d3js.org/d3.v6.min.js'></script>"
      ],
      "text/plain": [
       "<IPython.core.display.HTML object>"
      ]
     },
     "metadata": {},
     "output_type": "display_data"
    }
   ],
   "source": [
    "from IPython.display import  HTML\n",
    "\n",
    "def load_d3_in_cell_output():\n",
    "  display(HTML(\"<script src='https://d3js.org/d3.v6.min.js'></script>\"))\n",
    "get_ipython().events.register('pre_run_cell', load_d3_in_cell_output)"
   ]
  },
  {
   "cell_type": "markdown",
   "id": "129bb8b0-4830-4dbc-9873-e2509fb66ae7",
   "metadata": {},
   "source": [
    "## The Chinese Restaurant Process"
   ]
  },
  {
   "cell_type": "markdown",
   "id": "c39b1569-bfc7-41ec-89f7-3c87a4103365",
   "metadata": {},
   "source": [
    "In the thought problem, we will be examing a situation where a hungery person (😔) enters a restrauant and needs to choose a table (⚪).\n",
    "\n",
    "This original was developed by xxx and a great resource to consider is Pasupat's (xxx).\n",
    "\n",
    "Here are the ground rules for this thought problem. \n",
    "\n",
    "1. We are depicting five tables (⚪⚪⚪⚪⚪) but we need to consider a situation where the number of tables are infinite. \n",
    "\n",
    "    * ⚪ = ∞\n",
    "    \n",
    "2. When a hungry person (😔) walks into the the restraunt they have two options: \n",
    "    * Either they sit a table (⚪) with someone else (😃) \n",
    "    * or pick a new table  (⚪) \n",
    "\n",
    "3. This goes with #2, but in our scenario there will number of tables (⚪) with people (😃), but when considering an empty table (⚪). We will only consider *one* of the infinite number of tables (⚪) open. Another way to consider this is either a hungry person (😔):\n",
    "    * sits at the *one of possible many* tables (⚪) with someone else (😃) \n",
    "     * *OR* they sit at the *one* new table  (⚪)"
   ]
  },
  {
   "cell_type": "code",
   "execution_count": 36,
   "id": "05be4377-481c-4f6a-8885-54e82f716645",
   "metadata": {
    "tags": [
     "remove-input"
    ]
   },
   "outputs": [
    {
     "data": {
      "text/html": [
       "<script src='https://d3js.org/d3.v6.min.js'></script>"
      ],
      "text/plain": [
       "<IPython.core.display.HTML object>"
      ]
     },
     "metadata": {},
     "output_type": "display_data"
    },
    {
     "data": {
      "text/html": [
       "<script src='https://d3js.org/d3.v6.min.js'></script>"
      ],
      "text/plain": [
       "<IPython.core.display.HTML object>"
      ]
     },
     "metadata": {},
     "output_type": "display_data"
    },
    {
     "data": {
      "text/html": [
       "<script src='https://d3js.org/d3.v6.min.js'></script>"
      ],
      "text/plain": [
       "<IPython.core.display.HTML object>"
      ]
     },
     "metadata": {},
     "output_type": "display_data"
    },
    {
     "data": {
      "image/svg+xml": [
       "<svg xmlns=\"http://www.w3.org/2000/svg\" xmlns:xlink=\"http://www.w3.org/1999/xlink\" viewBox=\"0,0,400,60\" style=\"overflow: visible;\"><g font-family=\"sans-serif\" font-size=\"10\" transform=\"translate(180,30)\"><g fill=\"none\" stroke=\"#555\" stroke-opacity=\"0.4\" stroke-width=\"1.5\"><path d=\"M0,0C29.5,0,29.5,-10,59,-10\"/><path d=\"M0,0C29.5,0,29.5,10,59,10\"/></g><g stroke-linejoin=\"round\" stroke-width=\"3\"><g transform=\"translate(0,0)\"><text dy=\"0.31em\" x=\"-6\" text-anchor=\"end\" stroke=\"white\">A hungry 😔 walks into the restaurant</text><circle fill=\"#555\" r=\"2.5\"/><text dy=\"0.31em\" x=\"-6\" text-anchor=\"end\">A hungry 😔 walks into the restaurant</text></g><g transform=\"translate(59,-10)\"><text dy=\"0.31em\" x=\"6\" text-anchor=\"start\" stroke=\"white\">Sit at a table with other 😃</text><circle fill=\"#999\" r=\"2.5\"/><text dy=\"0.31em\" x=\"6\" text-anchor=\"start\">Sit at a table with other 😃</text></g><g transform=\"translate(59,10)\"><text dy=\"0.31em\" x=\"6\" text-anchor=\"start\" stroke=\"white\">Sit at a new table</text><circle fill=\"#999\" r=\"2.5\"/><text dy=\"0.31em\" x=\"6\" text-anchor=\"start\">Sit at a new table</text></g></g></g></svg>"
      ],
      "text/plain": [
       "<IPython.core.display.SVG object>"
      ]
     },
     "metadata": {},
     "output_type": "display_data"
    }
   ],
   "source": [
    "from IPython.display import SVG, display\n",
    "display(SVG(url='https://raw.githubusercontent.com/dudaspm/LDA_Bias_Data/main/images/startCondition.svg'))"
   ]
  },
  {
   "cell_type": "markdown",
   "id": "782ab924-62be-4ad3-a67d-0df68a631478",
   "metadata": {},
   "source": [
    "Key:\n",
    "\n",
    "> 😔 - hungry person\n",
    "\n",
    "> 😃 - person eating\n",
    "\n",
    "> ⚪ - a table"
   ]
  },
  {
   "cell_type": "markdown",
   "id": "212ad3ae-a053-447d-8dd7-2b0796980cda",
   "metadata": {},
   "source": []
  },
  {
   "cell_type": "code",
   "execution_count": 46,
   "id": "ac1b59d4-c268-464a-b087-8964b9c2547a",
   "metadata": {},
   "outputs": [
    {
     "data": {
      "text/html": [
       "<script src='https://d3js.org/d3.v6.min.js'></script>"
      ],
      "text/plain": [
       "<IPython.core.display.HTML object>"
      ]
     },
     "metadata": {},
     "output_type": "display_data"
    },
    {
     "data": {
      "text/html": [
       "<script src='https://d3js.org/d3.v6.min.js'></script>"
      ],
      "text/plain": [
       "<IPython.core.display.HTML object>"
      ]
     },
     "metadata": {},
     "output_type": "display_data"
    },
    {
     "data": {
      "text/html": [
       "<script src='https://d3js.org/d3.v6.min.js'></script>"
      ],
      "text/plain": [
       "<IPython.core.display.HTML object>"
      ]
     },
     "metadata": {},
     "output_type": "display_data"
    },
    {
     "data": {
      "text/html": [
       "<div id=\"extreme11\"></div>\n",
       "\n",
       "<script type=\"text/javascript\">   \n",
       "    var width = 500\n",
       "    var height = 270\n",
       "    var margin = 35\n",
       "    var radius = 200\n",
       "    \n",
       "    var svg1 = d3.select(\"div#extreme11\").append(\"svg\")\n",
       "        .attr(\"width\", width)\n",
       "        .attr(\"height\", height)\n",
       "        \n",
       "    var x = d3.scaleLinear().domain([0,d3.range(5).length-1]).range([Math.PI, 2*Math.PI])\n",
       "\n",
       "    svg1.selectAll(\"circle\")\n",
       "        // Collect\n",
       "        .data(d3.range(5))\n",
       "        // Update\n",
       "        .join(\"circle\")\n",
       "        .attr(\"cx\", (d,i)=> ((0) * Math.cos(x(i))) + (width/2))\n",
       "        .attr(\"cy\", (d,i)=> ((0) * Math.sin(x(i))) + (height-margin))  \n",
       "        .attr(\"r\", (d,i)=> 30)\n",
       "        .style(\"fill\", \"white\")\n",
       "        .style(\"stroke\", \"black\")\n",
       "        .style(\"stroke-width\", \"1px\")\n",
       "        .transition(\"circle\")\n",
       "        .duration(1000)\n",
       "        .delay((d,i)=> i * 100)\n",
       "        .attr(\"cx\", (d,i)=> ((radius) * Math.cos(x(i))) + (width/2))\n",
       "        .attr(\"cy\", (d,i)=> ((radius) * Math.sin(x(i))) + (height-margin))\n",
       "\n",
       "        \n",
       "    svg1.append(\"text\")\n",
       "        .attr(\"x\", width/2)\n",
       "        .attr(\"y\", (height-margin))\n",
       "        .style(\"font-size\",\"50px\")\n",
       "        .style(\"text-anchor\", \"middle\")\n",
       "        .style(\"alignment-baseline\",\"middle\")\n",
       "        .text(\"😔\")\n",
       "\n",
       "</script>\n"
      ],
      "text/plain": [
       "<IPython.core.display.HTML object>"
      ]
     },
     "metadata": {},
     "output_type": "display_data"
    }
   ],
   "source": [
    "%%html\n",
    "<div id=\"extreme11\"></div>\n",
    "\n",
    "<script type=\"text/javascript\">   \n",
    "    var width = 500\n",
    "    var height = 270\n",
    "    var margin = 35\n",
    "    var radius = 200\n",
    "    \n",
    "    var svg1 = d3.select(\"div#extreme11\").append(\"svg\")\n",
    "        .attr(\"width\", width)\n",
    "        .attr(\"height\", height)\n",
    "        \n",
    "    var x = d3.scaleLinear().domain([0,d3.range(5).length-1]).range([Math.PI, 2*Math.PI])\n",
    "\n",
    "    svg1.selectAll(\"circle\")\n",
    "        // Collect\n",
    "        .data(d3.range(5))\n",
    "        // Update\n",
    "        .join(\"circle\")\n",
    "        .attr(\"cx\", (d,i)=> ((0) * Math.cos(x(i))) + (width/2))\n",
    "        .attr(\"cy\", (d,i)=> ((0) * Math.sin(x(i))) + (height-margin))  \n",
    "        .attr(\"r\", (d,i)=> 30)\n",
    "        .style(\"fill\", \"white\")\n",
    "        .style(\"stroke\", \"black\")\n",
    "        .style(\"stroke-width\", \"1px\")\n",
    "        .transition(\"circle\")\n",
    "        .duration(1000)\n",
    "        .delay((d,i)=> i * 100)\n",
    "        .attr(\"cx\", (d,i)=> ((radius) * Math.cos(x(i))) + (width/2))\n",
    "        .attr(\"cy\", (d,i)=> ((radius) * Math.sin(x(i))) + (height-margin))\n",
    "\n",
    "        \n",
    "    svg1.append(\"text\")\n",
    "        .attr(\"x\", width/2)\n",
    "        .attr(\"y\", (height-margin))\n",
    "        .style(\"font-size\",\"50px\")\n",
    "        .style(\"text-anchor\", \"middle\")\n",
    "        .style(\"alignment-baseline\",\"middle\")\n",
    "        .text(\"😔\")\n",
    "\n",
    "</script>"
   ]
  },
  {
   "cell_type": "code",
   "execution_count": null,
   "id": "346903f2-db92-4444-8efa-a4e4a0b8333d",
   "metadata": {},
   "outputs": [],
   "source": []
  }
 ],
 "metadata": {
  "kernelspec": {
   "display_name": "Python 3",
   "language": "python",
   "name": "python3"
  },
  "language_info": {
   "codemirror_mode": {
    "name": "ipython",
    "version": 3
   },
   "file_extension": ".py",
   "mimetype": "text/x-python",
   "name": "python",
   "nbconvert_exporter": "python",
   "pygments_lexer": "ipython3",
   "version": "3.8.5"
  }
 },
 "nbformat": 4,
 "nbformat_minor": 5
}
