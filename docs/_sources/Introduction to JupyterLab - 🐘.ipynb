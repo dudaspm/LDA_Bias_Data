{
 "cells": [
  {
   "cell_type": "markdown",
   "metadata": {
    "id": "W00cXZatCdYc"
   },
   "source": [
    "# Introduction to JupyterLab - 🐘"
   ]
  },
  {
   "cell_type": "markdown",
   "metadata": {
    "id": "h_iBWWX6CiuL"
   },
   "source": [
    "## Where am I? (JupyterLab Notebook)"
   ]
  },
  {
   "cell_type": "markdown",
   "metadata": {
    "id": "ChfQO9ZZCp6j"
   },
   "source": [
    "Jupyter is a powerful suite of tools that allows us to do many things.\n",
    "\n",
    "Jupyter is capable of running **Ju**lia, **Pyt**hon and **R**, as well as some other things. \n"
   ]
  },
  {
   "cell_type": "markdown",
   "metadata": {
    "id": "1rZy0K3VDCbk"
   },
   "source": [
    "## Cells"
   ]
  },
  {
   "cell_type": "markdown",
   "metadata": {
    "id": "zqYC9KjjH8oF"
   },
   "source": [
    "Each box is called a cell. "
   ]
  },
  {
   "cell_type": "markdown",
   "metadata": {
    "id": "N2TbIgEgH073"
   },
   "source": [
    "### Two types of Cells"
   ]
  },
  {
   "cell_type": "markdown",
   "metadata": {
    "id": "Yj2f48xPH3wW"
   },
   "source": [
    "#### Text "
   ]
  },
  {
   "cell_type": "markdown",
   "metadata": {
    "id": "cXmtpnLuIy4u"
   },
   "source": [
    "Text Cells allow you to add text (via Markdown), which includes tables, images, links, bullet lists, numbered lists, LaTeX, blockquote, among other things. "
   ]
  },
  {
   "cell_type": "markdown",
   "metadata": {
    "id": "ItueGCP3JcTy"
   },
   "source": [
    "##### Table \n",
    "\n",
    "```markdown\n",
    "| This | is   |\n",
    "|------|------|\n",
    "|   a  | table| \n",
    "```\n",
    "\n",
    "| This | is   |\n",
    "|------|------|\n",
    "|   a  | table| "
   ]
  },
  {
   "cell_type": "markdown",
   "metadata": {
    "id": "-Qsp7CsAJoBY"
   },
   "source": [
    "##### Image\n",
    "```markdown\n",
    "![Wheat Field with Cypresses](images/vangogh.jpg)\n",
    "```\n",
    "\n",
    "![Wheat Field with Cypresses](images/vangogh.jpg)\n",
    "\n",
    "\n",
    "\n"
   ]
  },
  {
   "cell_type": "markdown",
   "metadata": {
    "id": "nypi_6ZjNaop"
   },
   "source": [
    "##### Link\n",
    "```markdown\n",
    "[Attribution](https://www.metmuseum.org/art/collection/search/436535)\n",
    "```\n",
    "Vincent van Gogh / Public domain\n",
    "The Metropolitan Museum of Art, New York - Purchase, The Annenberg Foundation Gift, 1993 - \n",
    "[Attribution](https://www.metmuseum.org/art/collection/search/436535)"
   ]
  },
  {
   "cell_type": "markdown",
   "metadata": {
    "id": "qLltad4lLb7h"
   },
   "source": [
    "##### Bullet List\n",
    "```markdown\n",
    "* I am a\n",
    "    * bullet\n",
    "* list\n",
    "```\n",
    "* I am a\n",
    "    * bullet\n",
    "* list\n",
    "\n"
   ]
  },
  {
   "cell_type": "markdown",
   "metadata": {
    "id": "ST3426lBLq_O"
   },
   "source": [
    "##### Numbered List\n",
    "```markdown\n",
    "1. I am a\n",
    "  1. numbered\n",
    "1. list\n",
    "```\n",
    "1. I am a\n",
    "  1. numbered\n",
    "1. list"
   ]
  },
  {
   "cell_type": "markdown",
   "metadata": {
    "id": "gwo97_93MREA"
   },
   "source": [
    "##### LaTeX\n",
    "```markdown\n",
    "$$e=mc^2$$\n",
    "```\n",
    "\n",
    "\n",
    "$$e=mc^2$$"
   ]
  },
  {
   "cell_type": "markdown",
   "metadata": {
    "id": "rWlY94TkNAYT"
   },
   "source": [
    "##### Blockquotes\n",
    "```markdown\n",
    "> This is a blockquote.\n",
    "```\n",
    "> This is a blockquote."
   ]
  },
  {
   "cell_type": "markdown",
   "metadata": {
    "id": "6Qa2PVH9CgqE"
   },
   "source": [
    "#### Code"
   ]
  },
  {
   "cell_type": "markdown",
   "metadata": {
    "id": "407akZkvDGgb"
   },
   "source": [
    "Cells can be run using the Run button &#9658; or selecting one of the run options under the Run menu. \n",
    "\n",
    "Try this out! You can change what is in the cell and rerun the same cell, which is useful for debugging."
   ]
  },
  {
   "cell_type": "code",
   "execution_count": 4,
   "metadata": {
    "colab": {
     "base_uri": "https://localhost:8080/",
     "height": 34
    },
    "id": "6yTJ2HBDCiAw",
    "outputId": "c635ab07-1ffe-4244-ac4d-2ac66323cd98"
   },
   "outputs": [
    {
     "data": {
      "text/plain": [
       "4"
      ]
     },
     "execution_count": 4,
     "metadata": {},
     "output_type": "execute_result"
    }
   ],
   "source": [
    "2 + 2 "
   ]
  },
  {
   "cell_type": "markdown",
   "metadata": {
    "id": "q6rtDY4qCnzZ"
   },
   "source": [
    "**Your turn**: In a new cell, figure out what **5315 + 5618** is. "
   ]
  },
  {
   "cell_type": "code",
   "execution_count": 5,
   "metadata": {},
   "outputs": [],
   "source": [
    "## remove and type out 5315 + 5618\n",
    "## then hit the play button"
   ]
  }
 ],
 "metadata": {
  "colab": {
   "collapsed_sections": [],
   "name": "Introduction.ipynb",
   "provenance": []
  },
  "kernelspec": {
   "display_name": "Python 3",
   "language": "python",
   "name": "python3"
  },
  "language_info": {
   "codemirror_mode": {
    "name": "ipython",
    "version": 3
   },
   "file_extension": ".py",
   "mimetype": "text/x-python",
   "name": "python",
   "nbconvert_exporter": "python",
   "pygments_lexer": "ipython3",
   "version": "3.8.5"
  }
 },
 "nbformat": 4,
 "nbformat_minor": 4
}
