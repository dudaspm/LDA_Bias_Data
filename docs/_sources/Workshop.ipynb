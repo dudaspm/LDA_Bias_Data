{
 "cells": [
  {
   "cell_type": "markdown",
   "id": "0efd9f2d-1963-4068-b440-00cbb4960203",
   "metadata": {},
   "source": [
    "# Workshop Notebook"
   ]
  },
  {
   "cell_type": "markdown",
   "id": "235fad18-2be2-47f2-86fd-029308d68751",
   "metadata": {},
   "source": [
    "## Notebook Introduction"
   ]
  },
  {
   "cell_type": "markdown",
   "id": "5922b5a5-c36b-44d2-b549-721e2657389d",
   "metadata": {},
   "source": [
    "### How to Use this Notebook "
   ]
  },
  {
   "cell_type": "markdown",
   "id": "261bd6d7-1bbe-48d0-a32d-064f84ebf38e",
   "metadata": {},
   "source": [
    "This notebook allows you to both follow the text and interact with the code directly. \n",
    "\n",
    "At the top page, you will see:\n",
    "\n",
    "<img src=\"https://raw.githubusercontent.com/dudaspm/JupyterLab-Python/main/images/topscreen1.png\" alt=\"icons at the top right corner of the screen\" style=\"width:200px;margin-left:auto;margin-right:auto;display:block;\">\n",
    "\n",
    "Select the icon on the left, the rocket ship:\n",
    "\n",
    "<img src=\"https://raw.githubusercontent.com/dudaspm/JupyterLab-Python/main/images/topscreen2.png\" alt=\"rocket ship icon for running the notebook\" style=\"width:200px;margin-left:auto;margin-right:auto;display:block;\">\n",
    "\n",
    "Then go down to \"Live Code\":\n",
    "\n",
    "<img src=\"https://raw.githubusercontent.com/dudaspm/JupyterLab-Python/main/images/topscreen4.png\" alt=\"selecting Live Code\" style=\"width:240px;margin-left:auto;margin-right:auto;display:block;\">\n",
    "\n",
    "You should see at the top of the page a loading bar that cycles through mulitple states. \n",
    "<img src=\"https://raw.githubusercontent.com/dudaspm/JupyterLab-Python/main/images/topscreen6.png\" alt=\"loading bar, first cycle\" style=\"width:240px;margin-left:auto;margin-right:auto;display:block;\">\n",
    "\n",
    "<img src=\"https://raw.githubusercontent.com/dudaspm/JupyterLab-Python/main/images/topscreen7.png\" alt=\"loading bar, second cycle\" style=\"width:240px;margin-left:auto;margin-right:auto;display:block;\">\n",
    "\n",
    "<img alt=\"loading bar, thrid cycle\" src=\"https://raw.githubusercontent.com/dudaspm/JupyterLab-Python/main/images/topscreen8.png\" style=\"width:240px;margin-left:auto;margin-right:auto;display:block;\">\n",
    "\n",
    "Then, finally:\n",
    "<img src=\"https://raw.githubusercontent.com/dudaspm/JupyterLab-Python/main/images/topscreen9.png\" alt=\"loading bar, final cycle\" style=\"width:240px;margin-left:auto;margin-right:auto;display:block;\">\n",
    "\n",
    "Try this for yourself! \n",
    "\n",
    "Here is a basic line in Python, after setting to Live Code. You can edit the Python code **directly in the notebook** 😀 😀 😀"
   ]
  },
  {
   "cell_type": "code",
   "execution_count": 2,
   "id": "6b75e6f5-7dd7-4b2f-a99f-a10aa1458602",
   "metadata": {},
   "outputs": [
    {
     "data": {
      "text/plain": [
       "4"
      ]
     },
     "execution_count": 2,
     "metadata": {},
     "output_type": "execute_result"
    }
   ],
   "source": [
    "2 + 2"
   ]
  },
  {
   "cell_type": "markdown",
   "id": "32fb1895-4660-46af-bb93-a56af7098649",
   "metadata": {},
   "source": [
    "### Export to Binder or Google Colab "
   ]
  },
  {
   "cell_type": "markdown",
   "id": "2e4b0e26-0c2c-4970-b334-4fc59ee3f93b",
   "metadata": {},
   "source": [
    "As you can see you can also export these notebooks to Binder or Google Colab. \n",
    "\n",
    "<img alt=\"Binder or Google Colab options\" src=\"https://raw.githubusercontent.com/dudaspm/JupyterLab-Python/main/images/topscreen3.png\" style=\"width:240px;margin-left:auto;margin-right:auto;display:block;\">\n",
    "\n",
    "This will take you to their respective websites but you can work with them there, if you would like!"
   ]
  },
  {
   "cell_type": "markdown",
   "id": "5be661e3-41eb-4835-9448-79997c1628b2",
   "metadata": {},
   "source": [
    "### References"
   ]
  },
  {
   "cell_type": "markdown",
   "id": "1bb6bbb2-53a7-41d3-accd-bb1610756108",
   "metadata": {},
   "source": [
    "I know it tradition to have the refences at the end of books, but when you are standing on the shoulders of giants. You thank them first. "
   ]
  },
  {
   "cell_type": "markdown",
   "id": "c934f71d-206f-4fd9-9553-1f0177cb83be",
   "metadata": {},
   "source": [
    "```{bibliography}\n",
    "```"
   ]
  },
  {
   "cell_type": "markdown",
   "id": "03ae7d9e-9cca-478b-894d-c949953c3b5f",
   "metadata": {},
   "source": [
    "### Thank you!\n",
    "\n",
    "Also, a huge *thank you* to Adam Lavely (https://github.com/adamlavely) for developing some of the intial notebooks! "
   ]
  },
  {
   "cell_type": "markdown",
   "id": "fd11a2c4",
   "metadata": {
    "id": "W00cXZatCdYc"
   },
   "source": [
    "## Introduction to JupyterLab"
   ]
  },
  {
   "cell_type": "markdown",
   "id": "a04efba5",
   "metadata": {
    "id": "h_iBWWX6CiuL"
   },
   "source": [
    "### Where am I? (JupyterLab Notebook)"
   ]
  },
  {
   "cell_type": "markdown",
   "id": "6a9c7c4e",
   "metadata": {
    "id": "ChfQO9ZZCp6j"
   },
   "source": [
    "Jupyter is a powerful suite of tools that allows us to do many things.\n",
    "\n",
    "Jupyter is capable of running **Ju**lia, **Pyt**hon and **R**, as well as some other things. \n"
   ]
  },
  {
   "cell_type": "markdown",
   "id": "fe63e0b4",
   "metadata": {
    "id": "1rZy0K3VDCbk"
   },
   "source": [
    "### Cells"
   ]
  },
  {
   "cell_type": "markdown",
   "id": "0473e592",
   "metadata": {
    "id": "zqYC9KjjH8oF"
   },
   "source": [
    "Each box is called a cell. "
   ]
  },
  {
   "cell_type": "markdown",
   "id": "91eede1b",
   "metadata": {
    "id": "N2TbIgEgH073"
   },
   "source": [
    "#### Two types of Cells"
   ]
  },
  {
   "cell_type": "markdown",
   "id": "534ac6d5",
   "metadata": {
    "id": "Yj2f48xPH3wW"
   },
   "source": [
    "##### Text "
   ]
  },
  {
   "cell_type": "markdown",
   "id": "8a427beb",
   "metadata": {
    "id": "cXmtpnLuIy4u"
   },
   "source": [
    "Text Cells allow you to add text (via Markdown), which includes tables, images, links, bullet lists, numbered lists, LaTeX, blockquote, among other things. "
   ]
  },
  {
   "cell_type": "markdown",
   "id": "ee78a12e",
   "metadata": {
    "id": "ItueGCP3JcTy"
   },
   "source": [
    "###### Table \n",
    "\n",
    "```markdown\n",
    "| This | is   |\n",
    "|------|------|\n",
    "|   a  | table| \n",
    "```\n",
    "\n",
    "| This | is   |\n",
    "|------|------|\n",
    "|   a  | table| "
   ]
  },
  {
   "cell_type": "markdown",
   "id": "a9983895",
   "metadata": {
    "id": "-Qsp7CsAJoBY"
   },
   "source": [
    "###### Image\n",
    "```markdown\n",
    "![Wheat Field with Cypresses](images/vangogh.jpg)\n",
    "```\n",
    "\n",
    "![Wheat Field with Cypresses](images/vangogh.jpg)\n",
    "\n",
    "\n",
    "\n"
   ]
  },
  {
   "cell_type": "markdown",
   "id": "00612859",
   "metadata": {
    "id": "nypi_6ZjNaop"
   },
   "source": [
    "###### Link\n",
    "```markdown\n",
    "[Attribution](https://www.metmuseum.org/art/collection/search/436535)\n",
    "```\n",
    "Vincent van Gogh / Public domain\n",
    "The Metropolitan Museum of Art, New York - Purchase, The Annenberg Foundation Gift, 1993 - \n",
    "[Attribution](https://www.metmuseum.org/art/collection/search/436535)"
   ]
  },
  {
   "cell_type": "markdown",
   "id": "18e71f5f",
   "metadata": {
    "id": "qLltad4lLb7h"
   },
   "source": [
    "###### Bullet List\n",
    "```markdown\n",
    "* I am a\n",
    "    * bullet\n",
    "* list\n",
    "```\n",
    "* I am a\n",
    "    * bullet\n",
    "* list\n",
    "\n"
   ]
  },
  {
   "cell_type": "markdown",
   "id": "9a0b8a48",
   "metadata": {
    "id": "ST3426lBLq_O"
   },
   "source": [
    "###### Numbered List\n",
    "```markdown\n",
    "1. I am a\n",
    "  1. numbered\n",
    "1. list\n",
    "```\n",
    "1. I am a\n",
    "  1. numbered\n",
    "1. list"
   ]
  },
  {
   "cell_type": "markdown",
   "id": "e5485941",
   "metadata": {
    "id": "gwo97_93MREA"
   },
   "source": [
    "###### LaTeX\n",
    "```markdown\n",
    "$$e=mc^2$$\n",
    "```\n",
    "\n",
    "\n",
    "$$e=mc^2$$"
   ]
  },
  {
   "cell_type": "markdown",
   "id": "0c268738",
   "metadata": {
    "id": "rWlY94TkNAYT"
   },
   "source": [
    "###### Blockquotes\n",
    "```markdown\n",
    "> This is a blockquote.\n",
    "```\n",
    "> This is a blockquote."
   ]
  },
  {
   "cell_type": "markdown",
   "id": "24f6a15b",
   "metadata": {
    "id": "6Qa2PVH9CgqE"
   },
   "source": [
    "##### Code"
   ]
  },
  {
   "cell_type": "markdown",
   "id": "7fa337cc",
   "metadata": {
    "id": "407akZkvDGgb"
   },
   "source": [
    "Cells can be run using the Run button &#9658; or selecting one of the run options under the Run menu. \n",
    "\n",
    "Try this out! You can change what is in the cell and rerun the same cell, which is useful for debugging."
   ]
  },
  {
   "cell_type": "code",
   "execution_count": 3,
   "id": "95e67df3",
   "metadata": {
    "colab": {
     "base_uri": "https://localhost:8080/",
     "height": 34
    },
    "id": "6yTJ2HBDCiAw",
    "outputId": "c635ab07-1ffe-4244-ac4d-2ac66323cd98"
   },
   "outputs": [
    {
     "data": {
      "text/plain": [
       "4"
      ]
     },
     "execution_count": 3,
     "metadata": {},
     "output_type": "execute_result"
    }
   ],
   "source": [
    "2 + 2 "
   ]
  },
  {
   "cell_type": "markdown",
   "id": "71503075-4552-4723-a5f1-c58d6a2dc725",
   "metadata": {},
   "source": [
    "### Your turn!"
   ]
  },
  {
   "cell_type": "markdown",
   "id": "0606ee40",
   "metadata": {
    "id": "q6rtDY4qCnzZ"
   },
   "source": [
    "In a new cell, figure out what **5315 + 5618** is. "
   ]
  },
  {
   "cell_type": "code",
   "execution_count": 4,
   "id": "7f5e64a3",
   "metadata": {},
   "outputs": [],
   "source": [
    "## remove and type out 5315 + 5618\n",
    "## then hit the play button"
   ]
  },
  {
   "cell_type": "markdown",
   "id": "887dac44-820c-4217-adde-0b04665b3c7a",
   "metadata": {},
   "source": [
    "## Introduction to Python"
   ]
  },
  {
   "cell_type": "markdown",
   "id": "84f7953e-29e0-4468-9011-f030341582ed",
   "metadata": {},
   "source": [
    "In this section, I wanted to introduce a few basic concepts and give an outline of this section. "
   ]
  },
  {
   "cell_type": "markdown",
   "id": "86f335a7-8616-43a7-9460-a632d0ce385a",
   "metadata": {},
   "source": [
    "### Comments in Python"
   ]
  },
  {
   "cell_type": "markdown",
   "id": "69307a3b-d12a-41c6-94b7-17bdea3bf75f",
   "metadata": {},
   "source": [
    "In Python, we can create comments in the code itself. Considering we can use markdown language (as you see here 😁), we won't use this too much in this notebook. Though, here is an example. \n",
    "\n",
    "Basically, you use the... umm... hashtag? Number sign? Pound sign? \n",
    "\n",
    "This thing -> #"
   ]
  },
  {
   "cell_type": "code",
   "execution_count": 5,
   "id": "3a212d35-03ba-4667-b3e9-64aa9ea83d8f",
   "metadata": {},
   "outputs": [
    {
     "data": {
      "text/plain": [
       "4"
      ]
     },
     "execution_count": 5,
     "metadata": {},
     "output_type": "execute_result"
    }
   ],
   "source": [
    "# I am a comment in Python\n",
    "# Here is 2 + 2\n",
    "2 + 2\n",
    "# As you can see, these are not \"computed\" using Python. \n",
    "# We are just comments for the person looking at this.\n",
    "# Or... you!"
   ]
  },
  {
   "cell_type": "markdown",
   "id": "db96c2e7-221c-4183-a37f-970a13a849a5",
   "metadata": {},
   "source": [
    "### Print Function"
   ]
  },
  {
   "cell_type": "markdown",
   "id": "906300b4-1cc9-40fb-975e-764049bdef6b",
   "metadata": {},
   "source": [
    "We will being using...\n",
    "\n",
    "```python\n",
    "print()\n",
    "```\n",
    "\n",
    "...several times in this notebook. \n",
    "\n",
    "*print()* is a function to print out strings, variables, numbers, functions, etc. \n",
    "\n",
    "Let's use the classic example."
   ]
  },
  {
   "cell_type": "code",
   "execution_count": 6,
   "id": "770079ce-4cd7-4d68-a5f2-9ae9191e9b58",
   "metadata": {},
   "outputs": [
    {
     "name": "stdout",
     "output_type": "stream",
     "text": [
      "hello, world!\n"
     ]
    }
   ],
   "source": [
    "print( \"hello, world!\" )"
   ]
  },
  {
   "cell_type": "markdown",
   "id": "01410033-2b47-4d6e-9d2e-f8826eeb974c",
   "metadata": {},
   "source": [
    "OR"
   ]
  },
  {
   "cell_type": "code",
   "execution_count": 7,
   "id": "3d53ce45-ae5e-4979-aeb8-02c1cc5f6878",
   "metadata": {},
   "outputs": [
    {
     "name": "stdout",
     "output_type": "stream",
     "text": [
      "hello, world!\n"
     ]
    }
   ],
   "source": [
    "print(\"hello, world!\")"
   ]
  },
  {
   "cell_type": "markdown",
   "id": "c419f1a6-a236-4759-a014-fa937a9e0c19",
   "metadata": {},
   "source": [
    "*print()* can do some fun things as well. As in, giving it more than one thing to print with commas between them. This will print both things with spaces."
   ]
  },
  {
   "cell_type": "code",
   "execution_count": 8,
   "id": "05078fdb-fbe3-4126-98f7-4967084a5ca0",
   "metadata": {},
   "outputs": [
    {
     "name": "stdout",
     "output_type": "stream",
     "text": [
      "hello, world!\n"
     ]
    }
   ],
   "source": [
    "print( \"hello,\", \"world!\" )"
   ]
  },
  {
   "cell_type": "markdown",
   "id": "8294f007-9218-4161-9661-eb1d7b512d41",
   "metadata": {},
   "source": [
    "### Help Function"
   ]
  },
  {
   "cell_type": "markdown",
   "id": "16eb4dcd-d2e4-4c08-a112-9d158606ba98",
   "metadata": {},
   "source": [
    "The...\n",
    "\n",
    "```python\n",
    "help()\n",
    "```\n",
    "\n",
    "... function is exactly what it is. It is a function to 🌟 help 🌟 you understand the basic usage of another function. "
   ]
  },
  {
   "cell_type": "code",
   "execution_count": 9,
   "id": "62bde749-eb56-4f92-a555-ceca9bad8b05",
   "metadata": {},
   "outputs": [
    {
     "name": "stdout",
     "output_type": "stream",
     "text": [
      "Help on built-in function print in module builtins:\n",
      "\n",
      "print(...)\n",
      "    print(value, ..., sep=' ', end='\\n', file=sys.stdout, flush=False)\n",
      "    \n",
      "    Prints the values to a stream, or to sys.stdout by default.\n",
      "    Optional keyword arguments:\n",
      "    file:  a file-like object (stream); defaults to the current sys.stdout.\n",
      "    sep:   string inserted between values, default a space.\n",
      "    end:   string appended after the last value, default a newline.\n",
      "    flush: whether to forcibly flush the stream.\n",
      "\n"
     ]
    }
   ],
   "source": [
    "help(print)"
   ]
  },
  {
   "cell_type": "markdown",
   "id": "0ae98380-100d-42a1-bd24-80544a45e461",
   "metadata": {},
   "source": [
    "### Resources"
   ]
  },
  {
   "cell_type": "markdown",
   "id": "3ba2887b-5d70-48aa-9334-7229334f0a2a",
   "metadata": {},
   "source": [
    "Highly suggest looking for answers using [StackOverflow](https://stackoverflow.com/help/searching)"
   ]
  },
  {
   "cell_type": "markdown",
   "id": "289ad0d3-7897-47e7-951d-66166913280f",
   "metadata": {},
   "source": [
    "### Common Errors"
   ]
  },
  {
   "cell_type": "markdown",
   "id": "6524cf56-1a46-4a92-8e93-6aa65163accb",
   "metadata": {},
   "source": [
    "One of the most common errors in Python is the dreaded \n",
    "\n",
    "```python\n",
    "2 + 2\n",
    " 3 + 3\n",
    "\n",
    "  File \"<ipython-input-1-0dcc020fd5cb>\", line 2\n",
    "    3 + 3\n",
    "    ^\n",
    "IndentationError: unexpected indent\n",
    "```\n",
    "\n",
    "Why does this occur? Well, because Python uses spacing or tabs to distinguish where things like loops, functions, and if/else statements start and end. So, if you add an extra space or tab at the beginning of the statement, you will see this message. If you do, check your spacing. "
   ]
  },
  {
   "cell_type": "markdown",
   "id": "eea6ed9d-da0b-4544-bf80-e2bda36b82a8",
   "metadata": {},
   "source": [
    "```{note}\n",
    "Python can get weird with this issue. As you can, technically, start code wherever as long as you are consistent. The next cell shows an example of this... oddity.\n",
    "\n",
    "```"
   ]
  },
  {
   "cell_type": "code",
   "execution_count": 10,
   "id": "adf86ee6-d9ca-4665-b0bf-30aaee018a36",
   "metadata": {},
   "outputs": [
    {
     "data": {
      "text/plain": [
       "6"
      ]
     },
     "execution_count": 10,
     "metadata": {},
     "output_type": "execute_result"
    }
   ],
   "source": [
    "                2+2\n",
    "                3+3"
   ]
  },
  {
   "cell_type": "markdown",
   "id": "521fa092-f1f0-4715-8765-05e2294e5d5f",
   "metadata": {},
   "source": [
    "### Your turn!"
   ]
  },
  {
   "cell_type": "markdown",
   "id": "5dc0233c",
   "metadata": {
    "slideshow": {
     "slide_type": "slide"
    }
   },
   "source": [
    "## Learning about Variables"
   ]
  },
  {
   "cell_type": "markdown",
   "id": "93efb32a",
   "metadata": {
    "slideshow": {
     "slide_type": "slide"
    }
   },
   "source": [
    "When we are developing our idea, we sometimes need to use values multiple times or change the value based on our code. This concept is where variables become very helpful. Let's look at an example.\n",
    "\n",
    "In this example, we are adding a few numbers together. In this instance, if all we care about is getting the result (similar to a calculator). Then variables are not needed. "
   ]
  },
  {
   "cell_type": "code",
   "execution_count": 11,
   "id": "0a82eccc",
   "metadata": {},
   "outputs": [
    {
     "data": {
      "text/plain": [
       "24"
      ]
     },
     "execution_count": 11,
     "metadata": {},
     "output_type": "execute_result"
    }
   ],
   "source": [
    "5 + 3 + 16"
   ]
  },
  {
   "cell_type": "markdown",
   "id": "f84c13fc",
   "metadata": {},
   "source": [
    "But let's look at an example where we need to get the circumference of a circle using multiple radii. The equation for the circumference of a circle is: $C = 2 \\pi r$"
   ]
  },
  {
   "cell_type": "markdown",
   "id": "55c922db",
   "metadata": {},
   "source": [
    "Let's say the radius is 5"
   ]
  },
  {
   "cell_type": "code",
   "execution_count": 12,
   "id": "2b17eb3e",
   "metadata": {},
   "outputs": [
    {
     "data": {
      "text/plain": [
       "31.4159265359"
      ]
     },
     "execution_count": 12,
     "metadata": {},
     "output_type": "execute_result"
    }
   ],
   "source": [
    "2 * 3.14159265359 * 5"
   ]
  },
  {
   "cell_type": "markdown",
   "id": "fd78fefc",
   "metadata": {},
   "source": [
    "OK, how about radius 10 and 11 and 4 and ... \n",
    "Well, in this example, we might not want to rewrite 3.14159265359 over and over. So, in this case, we want to create a variable for this, and we will call it pi. "
   ]
  },
  {
   "cell_type": "code",
   "execution_count": 13,
   "id": "f72b3e34",
   "metadata": {},
   "outputs": [],
   "source": [
    "pi = 3.14159265359"
   ]
  },
  {
   "cell_type": "markdown",
   "id": "b7cfb082",
   "metadata": {},
   "source": [
    "Now, every time we reference the variable called **pi** it will refer to the number **3.14159265359**\n",
    "\n",
    "Let's try those radii again (10, 11, 4)"
   ]
  },
  {
   "cell_type": "code",
   "execution_count": 14,
   "id": "49f580ee",
   "metadata": {},
   "outputs": [
    {
     "data": {
      "text/plain": [
       "62.8318530718"
      ]
     },
     "execution_count": 14,
     "metadata": {},
     "output_type": "execute_result"
    }
   ],
   "source": [
    "2 * pi * 10"
   ]
  },
  {
   "cell_type": "code",
   "execution_count": 15,
   "id": "7ab0c9b7",
   "metadata": {},
   "outputs": [
    {
     "data": {
      "text/plain": [
       "69.11503837898"
      ]
     },
     "execution_count": 15,
     "metadata": {},
     "output_type": "execute_result"
    }
   ],
   "source": [
    "2 * pi * 11"
   ]
  },
  {
   "cell_type": "code",
   "execution_count": 16,
   "id": "8af54c40",
   "metadata": {},
   "outputs": [
    {
     "data": {
      "text/plain": [
       "25.13274122872"
      ]
     },
     "execution_count": 16,
     "metadata": {},
     "output_type": "execute_result"
    }
   ],
   "source": [
    "2 * pi * 4"
   ]
  },
  {
   "cell_type": "markdown",
   "id": "dd2511a5",
   "metadata": {},
   "source": [
    "By the way, if you happen to get an error:\n",
    "```javascript\n",
    "NameError: name 'pi' is not defined\n",
    "```\n",
    "Make sure you go to the cell that has\n",
    "```python\n",
    "pi = 3.14159265359\n",
    "```\n",
    "and run this cell *first* then try the other calculations. "
   ]
  },
  {
   "cell_type": "markdown",
   "id": "240a50ce",
   "metadata": {},
   "source": [
    "### Type of Variables"
   ]
  },
  {
   "cell_type": "markdown",
   "id": "98793a30",
   "metadata": {},
   "source": [
    "There are multiple types of variables. The most common (and the ones we will talk about) are:\n",
    "\n",
    "* Integers (whole numbers)\n",
    "* Float (Floating points or numbers with a decimal)\n",
    "* Text\n",
    "* Lists\n",
    "* Dictionaries\n",
    "\n",
    "The nice thing about Python is that we do **not** need to specify (or declare) which type we are using. Python will figure this out for us! \n",
    "\n",
    "BUT FIRST, a quick detour...\n",
    "\n",
    "We need to talk about Camel Casing."
   ]
  },
  {
   "cell_type": "markdown",
   "id": "aaa77d1e",
   "metadata": {},
   "source": [
    "#### Camel Case"
   ]
  },
  {
   "cell_type": "markdown",
   "id": "45b249cf",
   "metadata": {},
   "source": [
    "<img src=\"https://upload.wikimedia.org/wikipedia/commons/c/c8/CamelCase_new.svg\" alt=\"camel case\" width=\"100\" style=\"float:right\"/>\n",
    "Variable names must be one continuous string of letters/numbers. So, let's say we wanted to create a variable called \"number of kittens.\" Instead calling this variable <em>number of kittens</em>, I would call it <em>numberOfKittens</em>. Why the capitalization? Because it makes it easier to separate the words in the name. As in, <em>numberofkittens</em> vs. <em>numberOfKittens</em>. We have a fun name for this: camel case. "
   ]
  },
  {
   "cell_type": "markdown",
   "id": "7ea45206",
   "metadata": {},
   "source": [
    "<cite>File:CamelCase new.svg. (2020, April 15). Wikimedia Commons, the free media repository. Retrieved 15:25, June 3, 2020 from https://commons.wikimedia.org/w/index.php?title=File:CamelCase_new.svg&oldid=411544943.</cite>"
   ]
  },
  {
   "cell_type": "markdown",
   "id": "e5f8e9b0",
   "metadata": {
    "slideshow": {
     "slide_type": "slide"
    }
   },
   "source": [
    "#### Integers or int"
   ]
  },
  {
   "cell_type": "markdown",
   "id": "54deec05",
   "metadata": {},
   "source": [
    "As mentioned, integers are whole numbers. Let's create an example. How about we use our numberOfKittens. We will then set this value to 0. As in, we have 0 kittens."
   ]
  },
  {
   "cell_type": "code",
   "execution_count": 17,
   "id": "2c259220",
   "metadata": {
    "slideshow": {
     "slide_type": "fragment"
    }
   },
   "outputs": [],
   "source": [
    "numberOfKittens = 0"
   ]
  },
  {
   "cell_type": "markdown",
   "id": "eea6576c",
   "metadata": {},
   "source": [
    "One thing we might want to do is to have Python tell us what **type** this variable is. Well, Python has a function for this called\n",
    "\n",
    "```python\n",
    "type()\n",
    "```"
   ]
  },
  {
   "cell_type": "code",
   "execution_count": 18,
   "id": "f94ee8d9",
   "metadata": {
    "slideshow": {
     "slide_type": "fragment"
    }
   },
   "outputs": [
    {
     "data": {
      "text/plain": [
       "int"
      ]
     },
     "execution_count": 18,
     "metadata": {},
     "output_type": "execute_result"
    }
   ],
   "source": [
    "type( numberOfKittens )"
   ]
  },
  {
   "cell_type": "markdown",
   "id": "13a4dd85",
   "metadata": {},
   "source": [
    "So this checks out, we made an int, and it is showing us we have an int.\n",
    "\n",
    "Now, once we have a variable, it is not static. We can change the value as much as we need to. Running the next cell will continually add 10 to our original variable. \n",
    "\n",
    "Try running this a few times."
   ]
  },
  {
   "cell_type": "code",
   "execution_count": 19,
   "id": "2b3f3308",
   "metadata": {},
   "outputs": [
    {
     "data": {
      "text/plain": [
       "10"
      ]
     },
     "execution_count": 19,
     "metadata": {},
     "output_type": "execute_result"
    }
   ],
   "source": [
    "numberOfKittens = numberOfKittens + 10\n",
    "numberOfKittens"
   ]
  },
  {
   "cell_type": "markdown",
   "id": "6c63e39e",
   "metadata": {},
   "source": [
    "#### Floating points or floats"
   ]
  },
  {
   "cell_type": "markdown",
   "id": "3fddd70b",
   "metadata": {},
   "source": [
    "Floats are similar to integers, but with more precision.\n",
    "Float comes from a Floating point or a number with a decimal point. \n",
    "\n",
    "This example starts at 0, but note that this is .0 \n",
    "Adding the decimal tells Python that we should have a float value instead of an integer. "
   ]
  },
  {
   "cell_type": "code",
   "execution_count": 20,
   "id": "dbc3ff9e",
   "metadata": {},
   "outputs": [],
   "source": [
    "aFloatVariable = .0"
   ]
  },
  {
   "cell_type": "markdown",
   "id": "984a57b9",
   "metadata": {},
   "source": [
    "Let's again, check the variable type. "
   ]
  },
  {
   "cell_type": "code",
   "execution_count": 21,
   "id": "aca5b7d3",
   "metadata": {},
   "outputs": [
    {
     "data": {
      "text/plain": [
       "float"
      ]
     },
     "execution_count": 21,
     "metadata": {},
     "output_type": "execute_result"
    }
   ],
   "source": [
    "type( aFloatVariable )"
   ]
  },
  {
   "cell_type": "markdown",
   "id": "d38ed1f8",
   "metadata": {},
   "source": [
    "Looks good. \n",
    "\n",
    "And again, we will add 10 to this. There is something specific interesting here; see if you spot it."
   ]
  },
  {
   "cell_type": "markdown",
   "id": "8e4d93f7",
   "metadata": {},
   "source": [
    "aFloatVariable = aFloatVariable + 10\n",
    "aFloatVariable"
   ]
  },
  {
   "cell_type": "markdown",
   "id": "b8ccbfc7",
   "metadata": {},
   "source": [
    "If you guessed \"mixing a float and an integer,\" you got it. Let's see an example. "
   ]
  },
  {
   "cell_type": "markdown",
   "id": "97991902",
   "metadata": {},
   "source": [
    "##### Mixing integers and floats"
   ]
  },
  {
   "cell_type": "markdown",
   "id": "052016f6",
   "metadata": {},
   "source": [
    "In Python (3, more specifically), the variable will always take the form of the most precision. So, by default, a float."
   ]
  },
  {
   "cell_type": "code",
   "execution_count": 22,
   "id": "ee383498",
   "metadata": {},
   "outputs": [
    {
     "data": {
      "text/plain": [
       "10.0"
      ]
     },
     "execution_count": 22,
     "metadata": {},
     "output_type": "execute_result"
    }
   ],
   "source": [
    "letsSeeWhatHappens = numberOfKittens + aFloatVariable\n",
    "letsSeeWhatHappens"
   ]
  },
  {
   "cell_type": "markdown",
   "id": "fbdae9a1",
   "metadata": {},
   "source": [
    "We can force variables to be a certain type. We call this 'type-cast' and can be used to:\n",
    "\n",
    "* make an integer into a float\n",
    "* a float to an integer\n",
    "* an integer to a string (we have not discussed this yet)\n",
    "* a float to a string (we have not discussed this yet)\n",
    "* etc..."
   ]
  },
  {
   "cell_type": "markdown",
   "id": "80bf51da",
   "metadata": {},
   "source": [
    "##### type-cast"
   ]
  },
  {
   "cell_type": "markdown",
   "id": "2f880c91",
   "metadata": {},
   "source": [
    "```{note}\n",
    "type-cast is temporary. If you do not use a type-cast, the variable will revert to its original variable type. \n",
    "```"
   ]
  },
  {
   "cell_type": "markdown",
   "id": "ff64f0d0",
   "metadata": {},
   "source": [
    "Let's switch our numberOfKittens to a float using \n",
    "```python\n",
    "float()\n",
    "```\n",
    "\n",
    "and turn our aFloatVariable to an integer using\n",
    "\n",
    "```python\n",
    "int()\n",
    "```"
   ]
  },
  {
   "cell_type": "code",
   "execution_count": 23,
   "id": "1bb49fe0",
   "metadata": {},
   "outputs": [
    {
     "data": {
      "text/plain": [
       "10.0"
      ]
     },
     "execution_count": 23,
     "metadata": {},
     "output_type": "execute_result"
    }
   ],
   "source": [
    "float(numberOfKittens)"
   ]
  },
  {
   "cell_type": "code",
   "execution_count": 24,
   "id": "75eb528b",
   "metadata": {},
   "outputs": [
    {
     "data": {
      "text/plain": [
       "0"
      ]
     },
     "execution_count": 24,
     "metadata": {},
     "output_type": "execute_result"
    }
   ],
   "source": [
    "int(aFloatVariable)"
   ]
  },
  {
   "cell_type": "markdown",
   "id": "979ba10f",
   "metadata": {},
   "source": [
    "#### String or str"
   ]
  },
  {
   "cell_type": "markdown",
   "id": "400c6173",
   "metadata": {},
   "source": [
    "So, up to this point, we started our conversation working with numbers. Well, what about the other things that are not numbers... like text? Well, for text, we use something called a String or str. \n",
    "\n",
    "Strings allow us to capture a single character up to thousands of characters (actually, much more than this). Let's go through a traditional example of \"Hello, World!\" but with my slight spin to it. "
   ]
  },
  {
   "cell_type": "code",
   "execution_count": 25,
   "id": "ed6c987d",
   "metadata": {},
   "outputs": [],
   "source": [
    "helloStatement = \"Hello, everyone!\""
   ]
  },
  {
   "cell_type": "markdown",
   "id": "b79eb207",
   "metadata": {},
   "source": [
    "As you can see, can capture text and other alphanumeric and special characters. There are several unique functions for strings but first, let's double-check and see what type we from our helloStatement."
   ]
  },
  {
   "cell_type": "code",
   "execution_count": 26,
   "id": "103f7eb7",
   "metadata": {},
   "outputs": [
    {
     "data": {
      "text/plain": [
       "str"
      ]
     },
     "execution_count": 26,
     "metadata": {},
     "output_type": "execute_result"
    }
   ],
   "source": [
    "type( helloStatement )"
   ]
  },
  {
   "cell_type": "markdown",
   "id": "7fcd7574",
   "metadata": {},
   "source": [
    "Not too surprising, we see this is type str or string. "
   ]
  },
  {
   "cell_type": "markdown",
   "id": "9aaa78d5",
   "metadata": {},
   "source": [
    "##### String Indexing/String Slicing"
   ]
  },
  {
   "cell_type": "markdown",
   "id": "8cc072b5",
   "metadata": {},
   "source": [
    "One of the first ways to interact with our string is to take a look at individual characters by using their **index**.\n",
    "\n",
    "The **index** is position (or multiple positions) for each character in the string. So, if we look at our string, we have Hello, everyone! If we wanted to see the first letter *H*, we could reference this using the index or the position where the letter is in the string. "
   ]
  },
  {
   "cell_type": "code",
   "execution_count": 27,
   "id": "ff0799f7",
   "metadata": {},
   "outputs": [
    {
     "data": {
      "text/plain": [
       "'e'"
      ]
     },
     "execution_count": 27,
     "metadata": {},
     "output_type": "execute_result"
    }
   ],
   "source": [
    "helloStatement[1] "
   ]
  },
  {
   "cell_type": "markdown",
   "id": "dc5dbf88",
   "metadata": {},
   "source": [
    "ohh.. wait a minute. We were expecting the letter *H*, but we got *e*. What happened?"
   ]
  },
  {
   "cell_type": "markdown",
   "id": "1ee8a618",
   "metadata": {},
   "source": [
    "```{note}\n",
    "For indexes, we always start at the number 0. So, 0 is the first thing, 1 is the second thing, and so on.\n",
    "```"
   ]
  },
  {
   "cell_type": "markdown",
   "id": "69b9b11f",
   "metadata": {},
   "source": [
    "Let's try this again. "
   ]
  },
  {
   "cell_type": "code",
   "execution_count": 28,
   "id": "9e43a986",
   "metadata": {},
   "outputs": [
    {
     "data": {
      "text/plain": [
       "'H'"
      ]
     },
     "execution_count": 28,
     "metadata": {},
     "output_type": "execute_result"
    }
   ],
   "source": [
    "helloStatement[0]"
   ]
  },
  {
   "cell_type": "markdown",
   "id": "51935ef4",
   "metadata": {},
   "source": [
    "There we go! "
   ]
  },
  {
   "cell_type": "markdown",
   "id": "e89cadb4",
   "metadata": {},
   "source": [
    "Visually, this is how the string looks to Python. \n",
    "\n",
    "![Hello, everyone! text](https://raw.githubusercontent.com/dudaspm/JupyterLab-Python/main/images/helloEveryone.png)"
   ]
  },
  {
   "cell_type": "markdown",
   "id": "f48d843b",
   "metadata": {},
   "source": [
    "###### Indexing Multiple Letters"
   ]
  },
  {
   "cell_type": "code",
   "execution_count": 29,
   "id": "c8f21e8a",
   "metadata": {},
   "outputs": [
    {
     "name": "stdout",
     "output_type": "stream",
     "text": [
      "Hello\n"
     ]
    }
   ],
   "source": [
    "print( helloStatement[0:5] )"
   ]
  },
  {
   "cell_type": "markdown",
   "id": "e5ff0186",
   "metadata": {},
   "source": [
    "Wait a second! \n",
    "\n",
    "![Hello, everyone! text](https://raw.githubusercontent.com/dudaspm/JupyterLab-Python/main/images/helloEveryone.png)"
   ]
  },
  {
   "cell_type": "markdown",
   "id": "65377379",
   "metadata": {},
   "source": [
    "The way you should think of this is: \n",
    "\n",
    "```python\n",
    "helloStatement[0 : 5 - 1]\n",
    "helloStatement[(starting number) to (ending number - 1)]\n",
    "```\n",
    "\n",
    "There is also a shortcut way of writing this, without the 0. "
   ]
  },
  {
   "cell_type": "code",
   "execution_count": 30,
   "id": "767c1dbb",
   "metadata": {},
   "outputs": [
    {
     "name": "stdout",
     "output_type": "stream",
     "text": [
      "Hello\n"
     ]
    }
   ],
   "source": [
    "print( helloStatement[:5] )"
   ]
  },
  {
   "cell_type": "code",
   "execution_count": 31,
   "id": "4a59e8d9",
   "metadata": {},
   "outputs": [
    {
     "name": "stdout",
     "output_type": "stream",
     "text": [
      ", everyone!\n"
     ]
    }
   ],
   "source": [
    "print( helloStatement[5:] )"
   ]
  },
  {
   "cell_type": "markdown",
   "id": "f52b521c",
   "metadata": {
    "slideshow": {
     "slide_type": "slide"
    }
   },
   "source": [
    "##### String functions"
   ]
  },
  {
   "cell_type": "markdown",
   "id": "0a2b65f4",
   "metadata": {},
   "source": [
    "###### Formatting"
   ]
  },
  {
   "cell_type": "code",
   "execution_count": 32,
   "id": "25c4377c",
   "metadata": {},
   "outputs": [
    {
     "name": "stdout",
     "output_type": "stream",
     "text": [
      "Hello, everyone!\n",
      "hello, everyone!\n"
     ]
    }
   ],
   "source": [
    "print( helloStatement.capitalize() )\n",
    "print( helloStatement.lower() )"
   ]
  },
  {
   "cell_type": "markdown",
   "id": "315497bc",
   "metadata": {},
   "source": [
    "###### Split"
   ]
  },
  {
   "cell_type": "code",
   "execution_count": 33,
   "id": "97d475c0",
   "metadata": {},
   "outputs": [
    {
     "name": "stdout",
     "output_type": "stream",
     "text": [
      "['Hello,', 'everyone!']\n"
     ]
    }
   ],
   "source": [
    "print( helloStatement.split(\" \") )"
   ]
  },
  {
   "cell_type": "markdown",
   "id": "287bf39a",
   "metadata": {},
   "source": [
    "```{note}\n",
    "*.split()* will eventually become your best friend. *.split()* is a **great** function to use when using uniquelly spaced data. \n",
    "As in comma separated values or CSV. \n",
    "```"
   ]
  },
  {
   "cell_type": "markdown",
   "id": "491cf3ad",
   "metadata": {
    "slideshow": {
     "slide_type": "slide"
    }
   },
   "source": [
    "##### Concatenating Strings\n",
    "\n",
    "When you want to put two strings together, we say you *concatenate* the strings. There are multiple ways of doing this but presented are what I believe to be the three most common ways. "
   ]
  },
  {
   "cell_type": "markdown",
   "id": "ccb9bbda",
   "metadata": {},
   "source": [
    "###### + Method"
   ]
  },
  {
   "cell_type": "markdown",
   "id": "3e1292d0",
   "metadata": {},
   "source": [
    "This is the most straightforward method of the three, but there can be some issues. You simply add a plus sign *+* between your strings. Let's take a look at this. "
   ]
  },
  {
   "cell_type": "code",
   "execution_count": 34,
   "id": "50005d4e",
   "metadata": {
    "slideshow": {
     "slide_type": "fragment"
    }
   },
   "outputs": [
    {
     "name": "stdout",
     "output_type": "stream",
     "text": [
      "hello, everyone!\n"
     ]
    }
   ],
   "source": [
    "print ( \"hello, \" + \"everyone!\")"
   ]
  },
  {
   "cell_type": "markdown",
   "id": "fdf772d0",
   "metadata": {},
   "source": [
    "This works fine, but when you add a number to this idea. We run into issues. "
   ]
  },
  {
   "cell_type": "markdown",
   "id": "16b92914",
   "metadata": {},
   "source": [
    "```python\n",
    "print ( \"hello, \" + \"every\" + 1 + \"!\")\n",
    "\n",
    "---------------------------------------------------------------------------\n",
    "TypeError                                 Traceback (most recent call last)\n",
    "<ipython-input-41-1f53f06cad5c> in <module>\n",
    "----> 1 print ( \"hello, \" + \"every\" + 1 + \"!\")\n",
    "\n",
    "TypeError: can only concatenate str (not \"int\") to str\n",
    "```"
   ]
  },
  {
   "cell_type": "markdown",
   "id": "f779a6f5",
   "metadata": {},
   "source": [
    "In this case we need to *type-cast* the integer as a string using\n",
    "```python\n",
    "str()\n",
    "```"
   ]
  },
  {
   "cell_type": "code",
   "execution_count": 35,
   "id": "dfed7c85",
   "metadata": {},
   "outputs": [
    {
     "name": "stdout",
     "output_type": "stream",
     "text": [
      "hello, every1!\n"
     ]
    }
   ],
   "source": [
    "print ( \"hello, \" + \"every\" + str(1) + \"!\")"
   ]
  },
  {
   "cell_type": "markdown",
   "id": "d8ad7d3a",
   "metadata": {},
   "source": [
    "###### % Method"
   ]
  },
  {
   "cell_type": "markdown",
   "id": "5a28d2e1",
   "metadata": {},
   "source": [
    "This is my favorite method out of the three. Let's see how this works with the same example. \n",
    "\n",
    "In this case, we use a %s (s = string) for each string we want to embed in our overall string. "
   ]
  },
  {
   "cell_type": "code",
   "execution_count": 36,
   "id": "b620aeb8",
   "metadata": {},
   "outputs": [
    {
     "name": "stdout",
     "output_type": "stream",
     "text": [
      "hello, everyone\n"
     ]
    }
   ],
   "source": [
    "print ( \"%s, %s\" % (\"hello\", \"everyone\") )"
   ]
  },
  {
   "cell_type": "markdown",
   "id": "f55a58f1",
   "metadata": {},
   "source": [
    "There are three parts to this. \n",
    "\n",
    "*The format*\n",
    "* ```python\n",
    "\"%s, %s\"\n",
    "```\n",
    "\n",
    "*The break*\n",
    "* ```python\n",
    "%\n",
    "```\n",
    "\n",
    "*The fill*\n",
    "* ```python\n",
    "(\"hello\", \"everyone\")\n",
    "```\n",
    "\n",
    "We have two %s, meaning we need to feed it with two strings. "
   ]
  },
  {
   "cell_type": "markdown",
   "id": "3ca344dd",
   "metadata": {
    "slideshow": {
     "slide_type": "slide"
    }
   },
   "source": [
    "OK, but what about numbers?"
   ]
  },
  {
   "cell_type": "code",
   "execution_count": 37,
   "id": "61866ba6",
   "metadata": {},
   "outputs": [
    {
     "name": "stdout",
     "output_type": "stream",
     "text": [
      "hello, every1!\n"
     ]
    }
   ],
   "source": [
    "print ( \"%s, %s%s%s\" % (\"hello\",\"every\",1,\"!\") )"
   ]
  },
  {
   "cell_type": "markdown",
   "id": "07f6f802",
   "metadata": {},
   "source": [
    "Still works! This reason is why I like this method. You pick the formating and feed in the strings. "
   ]
  },
  {
   "cell_type": "markdown",
   "id": "fca05f79",
   "metadata": {},
   "source": [
    "###### join() Method"
   ]
  },
  {
   "cell_type": "markdown",
   "id": "dd57d801",
   "metadata": {},
   "source": [
    "The .join() method uses a function called\n",
    "```python\n",
    ".join()\n",
    "```\n",
    "This is a create function to be aware of, as it will allow you the ability to join strings with a specific, static format. What do I mean by static formatting? Well, unlike the % method, that can be formatted exactly how I want it. The .join() method requires a specific pattern. Example time!"
   ]
  },
  {
   "cell_type": "code",
   "execution_count": 38,
   "id": "569ad5e3",
   "metadata": {},
   "outputs": [
    {
     "name": "stdout",
     "output_type": "stream",
     "text": [
      "hello,  everyone!\n"
     ]
    }
   ],
   "source": [
    "print ( \" \".join([\"hello, \", \"everyone!\"]) )"
   ]
  },
  {
   "cell_type": "markdown",
   "id": "1533899b",
   "metadata": {},
   "source": [
    "There are two parts to this. \n",
    "\n",
    "*The splitter*\n",
    "* ```python\n",
    "\" \"\n",
    "```\n",
    "\n",
    "*The fill*\n",
    "* ```python\n",
    ".join([\"hello, \", \"everyone!\"])\n",
    "```\n",
    "\n",
    "Notice that the join has the brackets around it. Technically, you are feeding this an array or list (we have not talked about this yet). This function again, like *.split()*, will be a great asset to you in the future. \n",
    "\n",
    "Let's show this with our number again. "
   ]
  },
  {
   "cell_type": "markdown",
   "id": "d03e7d5b",
   "metadata": {},
   "source": [
    "```python\n",
    "print ( \" \".join([\"hello, \", \"every\", 1, \"!\"]) )\n",
    "\n",
    "---------------------------------------------------------------------------\n",
    "TypeError                                 Traceback (most recent call last)\n",
    "<ipython-input-54-e926f0c4c025> in <module>\n",
    "----> 1 print ( \" \".join([\"hello, \", \"every\", 1, \"!\"]) )\n",
    "\n",
    "TypeError: sequence item 2: expected str instance, int found\n",
    "```"
   ]
  },
  {
   "cell_type": "markdown",
   "id": "339832f0",
   "metadata": {},
   "source": [
    "The same issue as before, we need to type-cast. "
   ]
  },
  {
   "cell_type": "code",
   "execution_count": 39,
   "id": "9b803f88",
   "metadata": {},
   "outputs": [
    {
     "name": "stdout",
     "output_type": "stream",
     "text": [
      "hello,  every 1 !\n"
     ]
    }
   ],
   "source": [
    "print ( \" \".join([\"hello, \", \"every\", str(1), \"!\"]) )"
   ]
  },
  {
   "cell_type": "markdown",
   "id": "4512ab20",
   "metadata": {},
   "source": [
    "Notice the spaces? Again, we are saying with *the splitter* what each string is going to be seperated by, so in this case, everything will be split by spaces. "
   ]
  },
  {
   "cell_type": "markdown",
   "id": "0af2f04a",
   "metadata": {
    "slideshow": {
     "slide_type": "slide"
    }
   },
   "source": [
    "#### Booleans"
   ]
  },
  {
   "cell_type": "markdown",
   "id": "c775f000",
   "metadata": {
    "slideshow": {
     "slide_type": "slide"
    }
   },
   "source": [
    "Booleans are used to do comparisions (true/false), (1/0), (yes/no)"
   ]
  },
  {
   "cell_type": "code",
   "execution_count": 40,
   "id": "fc24a4a4",
   "metadata": {
    "slideshow": {
     "slide_type": "fragment"
    }
   },
   "outputs": [
    {
     "data": {
      "text/plain": [
       "bool"
      ]
     },
     "execution_count": 40,
     "metadata": {},
     "output_type": "execute_result"
    }
   ],
   "source": [
    "someCondition = True\n",
    "type( someCondition )"
   ]
  },
  {
   "cell_type": "markdown",
   "id": "c83f1a0b",
   "metadata": {},
   "source": [
    "##### Boolean Logic"
   ]
  },
  {
   "cell_type": "markdown",
   "id": "875b16ec",
   "metadata": {},
   "source": [
    "We will talk about boolean logic more in the next section (Comparisons)"
   ]
  },
  {
   "cell_type": "code",
   "execution_count": 41,
   "id": "a2dc1d0e",
   "metadata": {
    "slideshow": {
     "slide_type": "fragment"
    }
   },
   "outputs": [
    {
     "data": {
      "text/plain": [
       "False"
      ]
     },
     "execution_count": 41,
     "metadata": {},
     "output_type": "execute_result"
    }
   ],
   "source": [
    "(someCondition == False)"
   ]
  },
  {
   "cell_type": "code",
   "execution_count": 42,
   "id": "d4b2df15",
   "metadata": {
    "slideshow": {
     "slide_type": "fragment"
    }
   },
   "outputs": [
    {
     "name": "stdout",
     "output_type": "stream",
     "text": [
      "yes for True!\n"
     ]
    }
   ],
   "source": [
    "if (False): \n",
    "    print( \"yes for False!\" )\n",
    "if (True): \n",
    "    print( \"yes for True!\" )"
   ]
  },
  {
   "cell_type": "markdown",
   "id": "2eb70f00",
   "metadata": {},
   "source": [
    "```{note}\n",
    "A more \"traditional\" way to do booleans is to use 0 and 1. In Python, any number other than 0 is True. Including negative numbers and decimals. \n",
    "```"
   ]
  },
  {
   "cell_type": "code",
   "execution_count": 43,
   "id": "85b15556",
   "metadata": {
    "slideshow": {
     "slide_type": "fragment"
    }
   },
   "outputs": [
    {
     "name": "stdout",
     "output_type": "stream",
     "text": [
      "yes for 1!\n",
      "yes for 2!\n",
      "yes for -3!\n",
      "yes for .4!\n"
     ]
    }
   ],
   "source": [
    "if (0): \n",
    "    print( \"yes for 0!\" )\n",
    "if (1): \n",
    "    print( \"yes for 1!\" )\n",
    "if (2): \n",
    "    print( \"yes for 2!\" )\n",
    "if (-3): \n",
    "    print( \"yes for -3!\" )\n",
    "if (.4): \n",
    "    print( \"yes for .4!\" )"
   ]
  },
  {
   "cell_type": "markdown",
   "id": "413d0901",
   "metadata": {
    "slideshow": {
     "slide_type": "slide"
    }
   },
   "source": [
    "### Lists"
   ]
  },
  {
   "cell_type": "markdown",
   "id": "add0174f",
   "metadata": {
    "slideshow": {
     "slide_type": "slide"
    }
   },
   "source": [
    "Lists (or also known as Arrays) are exactly that. A list of data. \n",
    "\n",
    "There are two options for creating a *List*. \n",
    "\n",
    "1. Define the list initially"
   ]
  },
  {
   "cell_type": "code",
   "execution_count": 44,
   "id": "5a162b48",
   "metadata": {
    "slideshow": {
     "slide_type": "fragment"
    }
   },
   "outputs": [
    {
     "name": "stdout",
     "output_type": "stream",
     "text": [
      "['apple', 'banana', 'eggs']\n"
     ]
    }
   ],
   "source": [
    "groceryList = [\"apple\", \"banana\", \"eggs\"]\n",
    "print( groceryList )"
   ]
  },
  {
   "cell_type": "markdown",
   "id": "6b5eb139",
   "metadata": {},
   "source": [
    "2. Create a list and add to it using\n",
    "\n",
    "```python \n",
    ".append()\n",
    "```"
   ]
  },
  {
   "cell_type": "code",
   "execution_count": 45,
   "id": "04e1f545",
   "metadata": {
    "slideshow": {
     "slide_type": "fragment"
    }
   },
   "outputs": [
    {
     "name": "stdout",
     "output_type": "stream",
     "text": [
      "['apple', 'banana', 'eggs']\n"
     ]
    }
   ],
   "source": [
    "groceryList = []\n",
    "groceryList.append(\"apple\")\n",
    "groceryList.append(\"banana\")\n",
    "groceryList.append(\"eggs\")\n",
    "print( groceryList )"
   ]
  },
  {
   "cell_type": "markdown",
   "id": "b8e9f329",
   "metadata": {
    "slideshow": {
     "slide_type": "slide"
    }
   },
   "source": [
    "```{note}\n",
    "For indexes, we always start at the number 0. So, 0 is the first thing, 1 is the second thing, and so on.\n",
    "```"
   ]
  },
  {
   "cell_type": "code",
   "execution_count": 46,
   "id": "7d784588",
   "metadata": {
    "slideshow": {
     "slide_type": "fragment"
    }
   },
   "outputs": [
    {
     "name": "stdout",
     "output_type": "stream",
     "text": [
      "eggs\n",
      "apple\n",
      "banana\n"
     ]
    }
   ],
   "source": [
    "print( groceryList[2] )\n",
    "print( groceryList[0] )\n",
    "print( groceryList[1] )"
   ]
  },
  {
   "cell_type": "markdown",
   "id": "a92d97cf",
   "metadata": {},
   "source": [
    "So what happens if we use an *index* outside of our list?"
   ]
  },
  {
   "cell_type": "markdown",
   "id": "f23690e3",
   "metadata": {},
   "source": [
    "```python \n",
    "print( groceryList[3] )\n",
    "\n",
    "---------------------------------------------------------------------------\n",
    "IndexError                                Traceback (most recent call last)\n",
    "<ipython-input-44-0a77fb05d512> in <module>\n",
    "    print( groceryList[3] )\n",
    "\n",
    "IndexError: list index out of range\n",
    "```"
   ]
  },
  {
   "cell_type": "markdown",
   "id": "6a69be79",
   "metadata": {
    "slideshow": {
     "slide_type": "fragment"
    }
   },
   "source": [
    "```{note}\n",
    "Typically, going through an array, one index at a time is not how we want to use lists. \n",
    "We will talk about going through lists using a *loop* in an upcoming notebook. \n",
    "```"
   ]
  },
  {
   "cell_type": "markdown",
   "id": "28f4d620",
   "metadata": {
    "slideshow": {
     "slide_type": "slide"
    }
   },
   "source": [
    "#### Dictionary"
   ]
  },
  {
   "cell_type": "markdown",
   "id": "ec232eb1",
   "metadata": {
    "slideshow": {
     "slide_type": "slide"
    }
   },
   "source": [
    "Dictionaries are used to index based on a specific key. As in:\n",
    "\n",
    "dictionary[\\\"street adddress\\\" (key)] = \"123 Apple St.\" (value)"
   ]
  },
  {
   "cell_type": "code",
   "execution_count": 47,
   "id": "3ee7833f",
   "metadata": {
    "slideshow": {
     "slide_type": "fragment"
    }
   },
   "outputs": [
    {
     "name": "stdout",
     "output_type": "stream",
     "text": [
      "{'streetAddress': '123 Apple St.', 'firstName': 'Patrick', 'lastName': 'Dudas'}\n"
     ]
    }
   ],
   "source": [
    "personalInformation = {}\n",
    "personalInformation[\"streetAddress\"] = \"123 Apple St.\"\n",
    "personalInformation[\"firstName\"] = \"Patrick\"\n",
    "personalInformation[\"lastName\"] = \"Dudas\"\n",
    "print( personalInformation )"
   ]
  },
  {
   "cell_type": "markdown",
   "id": "a7fd6f17",
   "metadata": {
    "slideshow": {
     "slide_type": "fragment"
    }
   },
   "source": [
    "Note the order."
   ]
  },
  {
   "cell_type": "markdown",
   "id": "8eef493a",
   "metadata": {
    "slideshow": {
     "slide_type": "fragment"
    }
   },
   "source": [
    "Again, to do this more efficiently, we will be using loops (we will talk about later)."
   ]
  },
  {
   "cell_type": "markdown",
   "id": "1628f3ce-edd2-4ae5-97d2-312f877b2669",
   "metadata": {},
   "source": [
    "### Your turn!"
   ]
  },
  {
   "cell_type": "markdown",
   "id": "5ddf12c0",
   "metadata": {
    "slideshow": {
     "slide_type": "slide"
    }
   },
   "source": [
    "## Comparison Operators"
   ]
  },
  {
   "cell_type": "markdown",
   "id": "0c43c647",
   "metadata": {
    "slideshow": {
     "slide_type": "slide"
    }
   },
   "source": [
    "We need to be able to compare different variables.  We will be working on:\n",
    "* Are these things the same?\n",
    "* Are these things not the same?\n",
    "* How do these things compare?\n",
    "\n",
    "We can compare any data type, and our output will be a boolean (True or False).  The other things we will cover are:\n",
    "* Comparing different data types\n",
    "* Making multiple comparisons at once\n",
    "\n",
    "Comparison operators are important on their own (how do these things compare?) and are also useful for sorting and switching (see the next notebook)."
   ]
  },
  {
   "cell_type": "markdown",
   "id": "ecf88139",
   "metadata": {
    "slideshow": {
     "slide_type": "slide"
    }
   },
   "source": [
    "### Are these things the same?"
   ]
  },
  {
   "cell_type": "markdown",
   "id": "e9cf5797",
   "metadata": {
    "slideshow": {
     "slide_type": "fragment"
    }
   },
   "source": [
    "#### Numeric Comparisons\n",
    "We have already initiated variables by setting something equal to something else - let's do that here by setting kitten 🐈 equal to 10 and then setting dog 🐕 equal to kitten 🐈. Finally, 🐝 bee will be equal to 11. \n",
    "\n",
    "So...\n",
    "\n",
    "🐈 = 10\n",
    "\n",
    "🐕 = 🐈\n",
    "\n",
    "🐝 = 11"
   ]
  },
  {
   "cell_type": "code",
   "execution_count": 48,
   "id": "0c752800",
   "metadata": {
    "slideshow": {
     "slide_type": "fragment"
    }
   },
   "outputs": [
    {
     "name": "stdout",
     "output_type": "stream",
     "text": [
      "kitten = 10 ; dog = 10 ; bee =  11\n"
     ]
    }
   ],
   "source": [
    "kitten = 10\n",
    "dog = kitten\n",
    "bee = 11 \n",
    "\n",
    "print( \"kitten =\", kitten, \"; dog =\", dog, \"; bee = \", bee )"
   ]
  },
  {
   "cell_type": "markdown",
   "id": "2d42c848",
   "metadata": {
    "slideshow": {
     "slide_type": "slide"
    }
   },
   "source": [
    "The first comparison operator is '==', which tests to see if two variables are equal. "
   ]
  },
  {
   "cell_type": "code",
   "execution_count": 49,
   "id": "64d49fe1",
   "metadata": {
    "slideshow": {
     "slide_type": "fragment"
    }
   },
   "outputs": [
    {
     "name": "stdout",
     "output_type": "stream",
     "text": [
      "kitten = 10 ; dog = 10 ; bee =  11\n",
      "Is kitten equal to dog?\n",
      "True\n",
      "Is kitten equal to bee?\n",
      "False\n"
     ]
    }
   ],
   "source": [
    "print( \"kitten =\", kitten, \"; dog =\", dog, \"; bee = \", bee )\n",
    "\n",
    "print( \"Is kitten equal to dog?\")\n",
    "print( kitten == dog )\n",
    "\n",
    "print( \"Is kitten equal to bee?\")\n",
    "print( kitten == bee )"
   ]
  },
  {
   "cell_type": "markdown",
   "id": "fe8ff387",
   "metadata": {
    "slideshow": {
     "slide_type": "fragment"
    }
   },
   "source": [
    "This tells us that kitten is equal to dog, because it returns *True* and kitten is not equal to bee, as that returns *False*."
   ]
  },
  {
   "cell_type": "markdown",
   "id": "69f0fa04",
   "metadata": {},
   "source": [
    "#### Character Comparisons\n",
    "We can also do comparisons with other variable types.  Here's an example with strings instead of integers.\n",
    "\n",
    "Let's think about some foods, how about:\n",
    "\n",
    "- food1 = 🍎\n",
    "- food2 = 🍪\n",
    "- food3 = 🍎"
   ]
  },
  {
   "cell_type": "code",
   "execution_count": 50,
   "id": "6edda68b",
   "metadata": {},
   "outputs": [
    {
     "name": "stdout",
     "output_type": "stream",
     "text": [
      "food1= apple ; food2 = cookie ; food3 =  apple\n",
      "Is food1 equal to food2?\n",
      "False\n",
      "Is food1 equal to food3?\n",
      "True\n"
     ]
    }
   ],
   "source": [
    "food1 = 'apple'\n",
    "food2 = 'cookie'\n",
    "food3 = 'apple' \n",
    "print( \"food1=\", food1,\"; food2 =\", food2,\"; food3 = \", food3 )\n",
    "\n",
    "print( \"Is food1 equal to food2?\")\n",
    "print( food1 == food2 )\n",
    "\n",
    "print( \"Is food1 equal to food3?\")\n",
    "print( food1 == food3 )"
   ]
  },
  {
   "cell_type": "markdown",
   "id": "426ccfca",
   "metadata": {},
   "source": [
    "### Are these things different?"
   ]
  },
  {
   "cell_type": "markdown",
   "id": "1725dc2d",
   "metadata": {
    "slideshow": {
     "slide_type": "slide"
    }
   },
   "source": [
    "#### This is Logical... NOT!\n",
    "We can also test to see if two values are not equal using the '!=' operator."
   ]
  },
  {
   "cell_type": "code",
   "execution_count": 51,
   "id": "0dd8e58a",
   "metadata": {
    "slideshow": {
     "slide_type": "fragment"
    }
   },
   "outputs": [
    {
     "name": "stdout",
     "output_type": "stream",
     "text": [
      "food1 = apple ; food2 = cookie ; food3 = apple\n",
      "Is food1 not equal to food2?\n",
      "True\n",
      "Is food1 not equal to food3?\n",
      "False\n"
     ]
    }
   ],
   "source": [
    "print( \"food1 =\", food1,\"; food2 =\", food2,\"; food3 =\", food3 )\n",
    "\n",
    "print( \"Is food1 not equal to food2?\")\n",
    "print( food1 != food2 )\n",
    "\n",
    "print( \"Is food1 not equal to food3?\")\n",
    "print( food1 != food3 )"
   ]
  },
  {
   "cell_type": "markdown",
   "id": "8eda58eb",
   "metadata": {
    "slideshow": {
     "slide_type": "fragment"
    }
   },
   "source": [
    "This gives us the opposite of what we had before.  \n",
    "\n",
    "So, what did we learn?\n",
    "\n",
    "🍎 == 🍎 = *True*\n",
    "\n",
    "🍎 != 🍪 = *True*"
   ]
  },
  {
   "cell_type": "markdown",
   "id": "01390406",
   "metadata": {},
   "source": [
    "### How do these things compare?"
   ]
  },
  {
   "cell_type": "markdown",
   "id": "11f8453d",
   "metadata": {
    "slideshow": {
     "slide_type": "slide"
    }
   },
   "source": [
    "#### Math Comparisons 101\n",
    "We can also compare the magnitude of values using '<', '<=', '>'and '>=', which will return 'True' if the condition is being met."
   ]
  },
  {
   "cell_type": "code",
   "execution_count": 52,
   "id": "34fbb873",
   "metadata": {},
   "outputs": [
    {
     "name": "stdout",
     "output_type": "stream",
     "text": [
      "kitten = 10 ; dog = 10 ; bee =  11\n"
     ]
    }
   ],
   "source": [
    "print( \"kitten =\", kitten, \"; dog =\", dog, \"; bee = \", bee )"
   ]
  },
  {
   "cell_type": "code",
   "execution_count": 53,
   "id": "649f097a",
   "metadata": {
    "slideshow": {
     "slide_type": "subslide"
    }
   },
   "outputs": [
    {
     "name": "stdout",
     "output_type": "stream",
     "text": [
      "Is kitten less than dog?\n",
      "False\n",
      "Is kitten less than or equal to dog?\n",
      "True\n",
      "Is kitten greater than or equal to dog?\n",
      "True\n",
      "Is kitten greater than dog?\n",
      "False\n"
     ]
    }
   ],
   "source": [
    "print( \"Is kitten less than dog?\")\n",
    "print( kitten < dog )\n",
    "\n",
    "print( \"Is kitten less than or equal to dog?\")\n",
    "print( kitten <= dog )\n",
    "\n",
    "print( \"Is kitten greater than or equal to dog?\")\n",
    "print( kitten >= dog )\n",
    "\n",
    "print( \"Is kitten greater than dog?\")\n",
    "print( kitten > dog )"
   ]
  },
  {
   "cell_type": "markdown",
   "id": "df7ec481",
   "metadata": {
    "slideshow": {
     "slide_type": "slide"
    }
   },
   "source": [
    "```{note}\n",
    "We do have to watch out for our types. Characters and numerics are **not** the same.\n",
    "```\n"
   ]
  },
  {
   "cell_type": "code",
   "execution_count": 54,
   "id": "94a84679",
   "metadata": {
    "slideshow": {
     "slide_type": "subslide"
    }
   },
   "outputs": [
    {
     "name": "stdout",
     "output_type": "stream",
     "text": [
      "Is TheNumbers equal to TheCharacters?\n",
      "False\n",
      "TheNumbers type is  <class 'int'> ; and TheCharacters type is  <class 'str'>\n"
     ]
    }
   ],
   "source": [
    "TheCharacters = \"10\"\n",
    "TheNumbers = 10\n",
    "\n",
    "print( \"Is TheNumbers equal to TheCharacters?\")\n",
    "print( TheNumbers == TheCharacters )\n",
    "print( \"TheNumbers type is \", type( TheNumbers ), \"; and TheCharacters type is \", type( TheCharacters ) )"
   ]
  },
  {
   "cell_type": "markdown",
   "id": "22a91d3d",
   "metadata": {},
   "source": [
    "We can compare integers and floats (!) but not other disparate data types.\n",
    "\n",
    "If you let python take care of your data-types, be warned that they could be different from what you think they are!"
   ]
  },
  {
   "cell_type": "markdown",
   "id": "457ff16c",
   "metadata": {},
   "source": [
    "```{note}\n",
    "varible = varible is **not** the same thing as variable == variable\n",
    "\n",
    "varible = varible will **always** return true\n",
    "```"
   ]
  },
  {
   "cell_type": "markdown",
   "id": "0247f0f1",
   "metadata": {},
   "source": [
    "### Multiple Comparisons"
   ]
  },
  {
   "cell_type": "markdown",
   "id": "cfc5866f",
   "metadata": {},
   "source": [
    "We can make multiple comparisons at once by stringing the statements\n",
    "* and\n",
    "* not\n",
    "* or\n",
    "\n",
    "together. \n",
    "\n",
    "The individual testable (true/false) components need to be broken apart. For example,\n",
    "* If the *V* CATA bus is coming around the corner, then I need to run towards the bus stop.\n",
    "\n",
    "requires several things for it to be true and to require running.  We can break these things out with:\n",
    "* If there is a vehicle coming around the corner **AND** that vehicle is a CATA bus **AND** that CATA bus is a V \n",
    "    * then I need to run towards the bus stop\n",
    "\n",
    "We will only run towards the bus stop if all of the statements are true."
   ]
  },
  {
   "cell_type": "markdown",
   "id": "bb8a49ba",
   "metadata": {},
   "source": [
    "#### AND"
   ]
  },
  {
   "cell_type": "markdown",
   "id": "a076a5a9",
   "metadata": {
    "slideshow": {
     "slide_type": "slide"
    }
   },
   "source": [
    "```{note}\n",
    "the **and** operator will return True if all of the conditions are met\n",
    "```"
   ]
  },
  {
   "cell_type": "markdown",
   "id": "ea81d702",
   "metadata": {},
   "source": [
    "Let's create another scenario for this around clothes. For this, let's assume:\n",
    "\n",
    "face = 😎 \n",
    "\n",
    "shirt = 👕\n",
    "\n",
    "pants = 👖 \n",
    "\n",
    "\n",
    "\n",
    "\n"
   ]
  },
  {
   "cell_type": "code",
   "execution_count": 55,
   "id": "be72026e",
   "metadata": {
    "slideshow": {
     "slide_type": "fragment"
    }
   },
   "outputs": [
    {
     "name": "stdout",
     "output_type": "stream",
     "text": [
      "Am I wearing sunglasses and jeans?\n",
      "True\n",
      "True\n",
      "True\n",
      "Am I wearing sweater and jeans?\n",
      "False\n",
      "True\n",
      "False\n"
     ]
    }
   ],
   "source": [
    "face = \"sunglasses\"\n",
    "shirt = \"tshirt\"\n",
    "pants = \"jeans\"\n",
    "\n",
    "print ( \"Am I wearing sunglasses and jeans?\" )\n",
    "print (face == \"sunglasses\")\n",
    "print (pants == \"jeans\") \n",
    "print( (face == \"sunglasses\") and (pants == \"jeans\") )\n",
    "\n",
    "print ( \"Am I wearing sweater and jeans?\" )\n",
    "print (shirt == \"sweater\")\n",
    "print (pants == \"jeans\") \n",
    "print( (shirt == \"sweater\") and (pants == \"jeans\") )"
   ]
  },
  {
   "cell_type": "markdown",
   "id": "4c379ba7",
   "metadata": {},
   "source": [
    "We can also string as many comparisons together as we want."
   ]
  },
  {
   "cell_type": "code",
   "execution_count": 56,
   "id": "d3e4d013",
   "metadata": {},
   "outputs": [
    {
     "name": "stdout",
     "output_type": "stream",
     "text": [
      "True\n"
     ]
    }
   ],
   "source": [
    "print( (1 < 2) and (1 < 3) and (1 < 4) and (1 < 5) and (1 < 6) and (1 < 7) and (1 < 8) )"
   ]
  },
  {
   "cell_type": "markdown",
   "id": "b6659316",
   "metadata": {},
   "source": [
    "#### OR"
   ]
  },
  {
   "cell_type": "markdown",
   "id": "95ef37aa",
   "metadata": {
    "slideshow": {
     "slide_type": "slide"
    }
   },
   "source": [
    "```{note}\n",
    "the **or** operator will return True if at least *1* of the conditions is met\n",
    "```"
   ]
  },
  {
   "cell_type": "code",
   "execution_count": 57,
   "id": "6c3270bf",
   "metadata": {
    "slideshow": {
     "slide_type": "fragment"
    }
   },
   "outputs": [
    {
     "name": "stdout",
     "output_type": "stream",
     "text": [
      "face = sunglasses ; shirt = tshirt ; pants =  jeans\n",
      "Am I wearing sunglasses or jeans?\n",
      "True\n",
      "True\n",
      "True\n",
      "Am I wearing sweater or jeans?\n",
      "False\n",
      "True\n",
      "True\n"
     ]
    }
   ],
   "source": [
    "print( \"face =\", face, \"; shirt =\", shirt, \"; pants = \", pants )\n",
    "\n",
    "print ( \"Am I wearing sunglasses or jeans?\" )\n",
    "print (face == \"sunglasses\")\n",
    "print (pants == \"jeans\") \n",
    "print( (face == \"sunglasses\") or (pants == \"jeans\") )\n",
    "\n",
    "print ( \"Am I wearing sweater or jeans?\" )\n",
    "print (shirt == \"sweater\")\n",
    "print (pants == \"jeans\") \n",
    "print( (shirt == \"sweater\") or (pants == \"jeans\") )"
   ]
  },
  {
   "cell_type": "markdown",
   "id": "dc8c934b",
   "metadata": {},
   "source": [
    "#### Not"
   ]
  },
  {
   "cell_type": "markdown",
   "id": "b43f06ae",
   "metadata": {},
   "source": [
    "```{note}\n",
    "the **not** will reverse or switch the  meaning of the and/or operators\n",
    "```"
   ]
  },
  {
   "cell_type": "code",
   "execution_count": 58,
   "id": "ce0788aa",
   "metadata": {
    "slideshow": {
     "slide_type": "fragment"
    }
   },
   "outputs": [
    {
     "name": "stdout",
     "output_type": "stream",
     "text": [
      "face = sunglasses ; shirt = tshirt ; pants =  jeans\n",
      "Am I wearing sunglasses and not jeans?\n",
      "True\n",
      "False\n",
      "False\n",
      "Am I wearing jeans and not a sweater?\n",
      "True\n",
      "True\n",
      "True\n"
     ]
    }
   ],
   "source": [
    "print( \"face =\", face, \"; shirt =\", shirt, \"; pants = \", pants )\n",
    "\n",
    "print ( \"Am I wearing sunglasses and not jeans?\" )\n",
    "print (face == \"sunglasses\")\n",
    "print (not (pants == \"jeans\"))\n",
    "print( (face == \"sunglasses\") and not (pants == \"jeans\") )\n",
    "\n",
    "print ( \"Am I wearing jeans and not a sweater?\" )\n",
    "print (not (shirt == \"sweater\"))\n",
    "print (pants == \"jeans\") \n",
    "print( not (shirt == \"sweater\") and (pants == \"jeans\") )\n",
    "\n"
   ]
  },
  {
   "cell_type": "markdown",
   "id": "0df5f972",
   "metadata": {
    "slideshow": {
     "slide_type": "slide"
    }
   },
   "source": [
    "### Your turn!"
   ]
  },
  {
   "cell_type": "markdown",
   "id": "1322975b",
   "metadata": {},
   "source": [
    "Try to fill in code to fulfill the request!  Here are some variables used in the exercise"
   ]
  },
  {
   "cell_type": "code",
   "execution_count": 59,
   "id": "102d4061",
   "metadata": {},
   "outputs": [],
   "source": [
    "dogA_color = 'brown'\n",
    "dogA_mass = 42\n",
    "dogA_sex = 'male'\n",
    "dogA_age = 5\n",
    "dogA_name = 'chip'\n",
    "\n",
    "dogB_color = 'white'\n",
    "dogB_mass = 19\n",
    "dogB_sex = 'female'\n",
    "dogB_age = 2\n",
    "dogB_name = 'lady'"
   ]
  },
  {
   "cell_type": "markdown",
   "id": "77785fa3",
   "metadata": {},
   "source": [
    "Is dogA the same color as dogB? (False)"
   ]
  },
  {
   "cell_type": "code",
   "execution_count": 60,
   "id": "effcf7f4",
   "metadata": {},
   "outputs": [
    {
     "name": "stdout",
     "output_type": "stream",
     "text": [
      "False\n"
     ]
    }
   ],
   "source": [
    "# Example:\n",
    "print( dogA_color == dogB_color )"
   ]
  },
  {
   "cell_type": "markdown",
   "id": "deaa2779",
   "metadata": {},
   "source": [
    "Does dogA have the same name as dogB? (False)"
   ]
  },
  {
   "cell_type": "code",
   "execution_count": 61,
   "id": "a1dbe0bd",
   "metadata": {},
   "outputs": [],
   "source": [
    "# Try it out here:\n"
   ]
  },
  {
   "cell_type": "markdown",
   "id": "253acb11",
   "metadata": {},
   "source": [
    "Is dogA older than dogB? (True)"
   ]
  },
  {
   "cell_type": "code",
   "execution_count": 62,
   "id": "055ea111",
   "metadata": {},
   "outputs": [],
   "source": [
    "# Try it out here:"
   ]
  },
  {
   "cell_type": "markdown",
   "id": "e1cc2fb8",
   "metadata": {},
   "source": [
    "Is dogA the same sex as dogB? (False)"
   ]
  },
  {
   "cell_type": "code",
   "execution_count": 63,
   "id": "c29a82de",
   "metadata": {},
   "outputs": [],
   "source": [
    "# Try it out here:\n"
   ]
  },
  {
   "cell_type": "markdown",
   "id": "2829d240",
   "metadata": {},
   "source": [
    "Is dogA heavier than dogB and have a different name than dogB? (True)"
   ]
  },
  {
   "cell_type": "code",
   "execution_count": 64,
   "id": "c07848c3",
   "metadata": {},
   "outputs": [],
   "source": [
    "# Try it out here:\n"
   ]
  },
  {
   "cell_type": "markdown",
   "id": "fe07efbb",
   "metadata": {},
   "source": [
    "Does dogA have a different age than dogB and not a different sex than dogB? (False)"
   ]
  },
  {
   "cell_type": "code",
   "execution_count": 65,
   "id": "02662739",
   "metadata": {},
   "outputs": [],
   "source": [
    "# Try it out here:\n"
   ]
  },
  {
   "cell_type": "markdown",
   "id": "2553bf5c-a7b2-4636-8eaf-45885b06c864",
   "metadata": {},
   "source": [
    "## If-Else Conditions"
   ]
  },
  {
   "cell_type": "markdown",
   "id": "6479aa90-b976-4d5e-8f30-238528acdcae",
   "metadata": {},
   "source": [
    "We can condition our data using if-else statements and switch cases.  If-else statements allow us to do different things if a certain criterion is met or not. We can count the odds and evens in our someNumbers list."
   ]
  },
  {
   "cell_type": "markdown",
   "id": "8e09d0e4-695e-41c5-b446-b604c06937d4",
   "metadata": {},
   "source": [
    "### if"
   ]
  },
  {
   "cell_type": "markdown",
   "id": "7efef757-4393-4b1e-8936-e4883c20bcfc",
   "metadata": {},
   "source": [
    "The *if* statement starts with if and then lists a condition that may or may not is met. If the condition is true, we do what is listed. If it is not, we move on. \n",
    "\n",
    "Our example here is straightforward; if answer is greater than 30, print something."
   ]
  },
  {
   "cell_type": "code",
   "execution_count": 66,
   "id": "d9ffc097-e864-43e5-b091-a26355154299",
   "metadata": {},
   "outputs": [
    {
     "name": "stdout",
     "output_type": "stream",
     "text": [
      "This number is greater than 30\n"
     ]
    }
   ],
   "source": [
    "answer = 42\n",
    "\n",
    "if answer > 30:\n",
    "    print( \"This number is greater than 30\")"
   ]
  },
  {
   "cell_type": "markdown",
   "id": "287907cd-acc7-4d5f-997e-e72229722c2b",
   "metadata": {},
   "source": [
    "OK, same concept. "
   ]
  },
  {
   "cell_type": "code",
   "execution_count": 67,
   "id": "56f70a30-92fa-41dd-9056-b3386a0008fe",
   "metadata": {},
   "outputs": [],
   "source": [
    "answer = 42\n",
    "\n",
    "if answer > 50:\n",
    "    print( \"This number is greater than 50\")"
   ]
  },
  {
   "cell_type": "markdown",
   "id": "e4e15d1e-66a7-48a5-a350-d2d4189fb800",
   "metadata": {},
   "source": [
    "```{note}\n",
    "Note the structure of a Python if/else statement where some languages use { } to denote the start and end of the if/else statement. Python uses spaces. \n",
    "\n",
    "if (condition): <-colon\n",
    "\n",
    " <- space or tab\n",
    " \n",
    "Anything that is also spaced or tab is *part* of the if statement. \n",
    "\n",
    "```"
   ]
  },
  {
   "cell_type": "markdown",
   "id": "4dfd5c37-0628-48c4-a9c3-f822ba8f9db5",
   "metadata": {},
   "source": [
    "#### Where the if Starts and Ends"
   ]
  },
  {
   "cell_type": "markdown",
   "id": "bd4e654e-5590-4fc8-8ad4-9c3bde70927b",
   "metadata": {},
   "source": [
    "As mentioned in our note, the if/else statement uses spacing to indicate where it starts and ends. To highlight this, let's look at an example. "
   ]
  },
  {
   "cell_type": "code",
   "execution_count": 68,
   "id": "dd81ff39-16ec-4296-b47a-157f3c30509c",
   "metadata": {},
   "outputs": [
    {
     "name": "stdout",
     "output_type": "stream",
     "text": [
      "Into the If/Else!\n",
      "Out of the If/Else!\n"
     ]
    }
   ],
   "source": [
    "print(\"Into the If/Else!\")\n",
    "\n",
    "if (10 < 2):\n",
    "    print(\"In the If/Else!\")\n",
    "    \n",
    "    print(\"Still in the If/Else!\")\n",
    "    \n",
    "    \n",
    "    \n",
    "    \n",
    "    print(\"How do I get out of here!?\")\n",
    "\n",
    "print(\"Out of the If/Else!\")"
   ]
  },
  {
   "cell_type": "markdown",
   "id": "75aca4d6-2d2e-4918-b383-9087ea5d67a3",
   "metadata": {},
   "source": [
    "### else"
   ]
  },
  {
   "cell_type": "markdown",
   "id": "ead5f407-6e65-47b8-b56c-92a137107642",
   "metadata": {},
   "source": [
    "In these examples, only the numbers that are greater than 30 and 50 will get any response.  We can add a response for values that do not meet the conditional statement found within the if using an *else* statement. "
   ]
  },
  {
   "cell_type": "code",
   "execution_count": 69,
   "id": "7f94c76b-80a2-4a2c-b6eb-a4a232df1ff6",
   "metadata": {},
   "outputs": [
    {
     "name": "stdout",
     "output_type": "stream",
     "text": [
      "42 > 30\n",
      "42 < 50\n"
     ]
    }
   ],
   "source": [
    "answer = 42\n",
    "\n",
    "if answer > 30:\n",
    "    print( answer, \"> 30\")\n",
    "else:\n",
    "    print( answer, \"< 30\")\n",
    "    \n",
    "if answer > 50:\n",
    "    print( answer, \"> 50\")\n",
    "else:\n",
    "    print( answer, \"< 50\")"
   ]
  },
  {
   "cell_type": "markdown",
   "id": "e2e2559d-9be7-4c6b-a8b0-2b3f81eb2d2d",
   "metadata": {},
   "source": [
    "### elif (else if)"
   ]
  },
  {
   "cell_type": "markdown",
   "id": "39996b3d-275b-4e7a-a4f3-15ecf56fe7e9",
   "metadata": {},
   "source": [
    "If-else statements can also be stacked together to allow for additional sorting using multiple conditions.  The way this is done in python is by using \n",
    "```python\n",
    "elif\n",
    "```\n",
    "\n",
    "This will chain conditions, but once one condition is true. It will stop ✋\n",
    "\n",
    "Let's take a look at an example."
   ]
  },
  {
   "cell_type": "code",
   "execution_count": 70,
   "id": "e3b7f5cf-6e43-4d9d-b8b1-988acdfd6178",
   "metadata": {},
   "outputs": [
    {
     "name": "stdout",
     "output_type": "stream",
     "text": [
      "My favorite color is yellow.\n"
     ]
    }
   ],
   "source": [
    "favoriteColor = \"Yellow\"\n",
    "\n",
    "if (favoriteColor == \"Red\"):\n",
    "    print (\"My favorite color is red.\")\n",
    "elif (favoriteColor == \"Orange\"):\n",
    "    print (\"My favorite color is orange.\")\n",
    "elif (favoriteColor == \"Yellow\"):\n",
    "    print (\"My favorite color is yellow.\")\n",
    "elif (favoriteColor == \"Green\"):\n",
    "    print (\"My favorite color is green.\")\n",
    "elif (favoriteColor == \"Blue\"):\n",
    "    print (\"My favorite color is blue.\")\n",
    "elif (favoriteColor == \"Indigo\"):\n",
    "    print (\"My favorite color is indigo.\")\n",
    "elif (favoriteColor == \"Violet\"):\n",
    "    print (\"My favorite color is violet.\")\n",
    "else:\n",
    "    print (\"I don't have a favorite color.\")"
   ]
  },
  {
   "cell_type": "markdown",
   "id": "f696a53d-0276-4272-b0a5-02a3b3892bc5",
   "metadata": {},
   "source": [
    "### Your turn!"
   ]
  },
  {
   "cell_type": "markdown",
   "id": "be32034e",
   "metadata": {
    "slideshow": {
     "slide_type": "slide"
    }
   },
   "source": [
    "## Loops"
   ]
  },
  {
   "cell_type": "markdown",
   "id": "7c758082",
   "metadata": {},
   "source": [
    "One of the programming features is that we have many options to do the same tasking multiple times.  The three methods we will be looking at are:\n",
    "* Functions (later notebook)\n",
    "* For loops\n",
    "* While Loops\n"
   ]
  },
  {
   "cell_type": "markdown",
   "id": "4eef5e95",
   "metadata": {
    "slideshow": {
     "slide_type": "slide"
    }
   },
   "source": [
    "### For Loops"
   ]
  },
  {
   "cell_type": "markdown",
   "id": "9b0cb200",
   "metadata": {
    "slideshow": {
     "slide_type": "subslide"
    }
   },
   "source": [
    "Loops allow us to do the same thing to each item in a list or array. One of the most basic types of loops is a *for loop* - this allows us to iterate over any sequence.\n",
    "\n",
    "We set up a for loop using 2 things:\n",
    "* loop variable - the value of the sequence currently being used\n",
    "* sequence - the data we iterate over\n",
    "\n",
    "The sequence can be any list.  We set up *for loop* using the *for* and *in* keywords, a colon, and all of the code within the *for loop* indented."
   ]
  },
  {
   "cell_type": "code",
   "execution_count": 71,
   "id": "28a1207f",
   "metadata": {
    "slideshow": {
     "slide_type": "fragment"
    }
   },
   "outputs": [
    {
     "name": "stdout",
     "output_type": "stream",
     "text": [
      "['a', 'niner', 6, 6.1, 'V@@@', 500.5, 42]\n"
     ]
    }
   ],
   "source": [
    "exampleList = ['a', 'niner', 6, 6.1, 'V@@@', 1001/2, 42]\n",
    "\n",
    "print( exampleList )"
   ]
  },
  {
   "cell_type": "markdown",
   "id": "e777185b",
   "metadata": {},
   "source": [
    "Now, before we talked about accessing elements in a list or array by their index. Meaning, if we wanted to print this out, we would need to..."
   ]
  },
  {
   "cell_type": "code",
   "execution_count": 72,
   "id": "46ce8bd5",
   "metadata": {},
   "outputs": [
    {
     "name": "stdout",
     "output_type": "stream",
     "text": [
      "a\n",
      "niner\n",
      "6\n",
      "6.1\n",
      "V@@@\n",
      "500.5\n",
      "42\n"
     ]
    }
   ],
   "source": [
    "print( exampleList[0] )\n",
    "print( exampleList[1] )\n",
    "print( exampleList[2] )\n",
    "print( exampleList[3] )\n",
    "print( exampleList[4] )\n",
    "print( exampleList[5] )\n",
    "print( exampleList[6] )"
   ]
  },
  {
   "cell_type": "markdown",
   "id": "0f294910-6b95-4b6f-8432-6a0525b974ab",
   "metadata": {},
   "source": [
    "#### Looping Over Values"
   ]
  },
  {
   "cell_type": "markdown",
   "id": "eaf05136",
   "metadata": {},
   "source": [
    "Very time consuming and frustrating 😤. \n",
    "\n",
    "Loops make this sooooooo much easier. There are three parts to a *for loop*. \n",
    "\n",
    "```python\n",
    "\n",
    "for variable_name_we_make_up in our_list_name:\n",
    "    do_something_with_each_value( variable_name_we_make_up )\n",
    "    \n",
    "```\n",
    "\n",
    "As stated, variable_name_we_make_up is something we makeup and is used to represent the value as we loop through our, well,... loop. \n",
    "\n",
    "```python\n",
    "groceryList = [\"apple\", \"banana\", \"eggs\"]\n",
    "``` \n",
    "\n",
    "Remember me? "
   ]
  },
  {
   "cell_type": "code",
   "execution_count": 73,
   "id": "34d36379",
   "metadata": {},
   "outputs": [
    {
     "name": "stdout",
     "output_type": "stream",
     "text": [
      "apple\n",
      "banana\n",
      "eggs\n"
     ]
    }
   ],
   "source": [
    "groceryList = [\"apple\", \"banana\", \"eggs\"]\n",
    "\n",
    "for itemInOurList in groceryList:\n",
    "    print (itemInOurList)"
   ]
  },
  {
   "cell_type": "markdown",
   "id": "de9faa69",
   "metadata": {},
   "source": [
    "Like mentioned, we name the variable. Here is the same idea again."
   ]
  },
  {
   "cell_type": "code",
   "execution_count": 74,
   "id": "1590dcc0",
   "metadata": {},
   "outputs": [
    {
     "name": "stdout",
     "output_type": "stream",
     "text": [
      "apple\n",
      "banana\n",
      "eggs\n"
     ]
    }
   ],
   "source": [
    "groceryList = [\"apple\", \"banana\", \"eggs\"]\n",
    "\n",
    "for steve in groceryList:\n",
    "    print (steve)"
   ]
  },
  {
   "cell_type": "markdown",
   "id": "ef709531",
   "metadata": {},
   "source": [
    "Going back to our original list. See how much easier it is to print these values? "
   ]
  },
  {
   "cell_type": "code",
   "execution_count": 75,
   "id": "91b378f5",
   "metadata": {},
   "outputs": [
    {
     "name": "stdout",
     "output_type": "stream",
     "text": [
      "a\n",
      "niner\n",
      "6\n",
      "6.1\n",
      "V@@@\n",
      "500.5\n",
      "42\n"
     ]
    }
   ],
   "source": [
    "for item in exampleList:\n",
    "    print (item)"
   ]
  },
  {
   "cell_type": "markdown",
   "id": "af86bf58",
   "metadata": {},
   "source": [
    "#### Looping Over Indices"
   ]
  },
  {
   "cell_type": "markdown",
   "id": "d46651d5",
   "metadata": {
    "slideshow": {
     "slide_type": "fragment"
    }
   },
   "source": [
    "Sometimes, it's helpful to iterate using indices.  For example, linear algebra heavy calculations will almost always use indices to make working with vectors and matrices easier.\n",
    "\n",
    "We can use the \n",
    "```python \n",
    "len()\n",
    "```\n",
    "and\n",
    "```python \n",
    "range()\n",
    "```\n",
    "\n",
    "functions to show the length and create indices.  We can then iterate using the index rather than the values. Let's show off these functions. "
   ]
  },
  {
   "cell_type": "code",
   "execution_count": 76,
   "id": "41f0a4d3",
   "metadata": {},
   "outputs": [
    {
     "name": "stdout",
     "output_type": "stream",
     "text": [
      "3\n"
     ]
    }
   ],
   "source": [
    "groceryList = [\"apple\", \"banana\", \"eggs\"]\n",
    "print ( len(groceryList) )"
   ]
  },
  {
   "cell_type": "code",
   "execution_count": 77,
   "id": "7e96c9f3",
   "metadata": {},
   "outputs": [
    {
     "name": "stdout",
     "output_type": "stream",
     "text": [
      "range(0, 3)\n"
     ]
    }
   ],
   "source": [
    "print ( range(3) )"
   ]
  },
  {
   "cell_type": "markdown",
   "id": "0adf69d6",
   "metadata": {},
   "source": [
    "```{note}\n",
    "*range()* can be a bit misleading. The range is always one less than what you might expect. Meaning, *range(0,3)* goes from 0 to 1 to 2 to... that's it. So when using *range()* think about it as *range(starting number, ending number - 1)*\n",
    "```"
   ]
  },
  {
   "cell_type": "code",
   "execution_count": 78,
   "id": "86741cdd",
   "metadata": {
    "slideshow": {
     "slide_type": "fragment"
    }
   },
   "outputs": [
    {
     "name": "stdout",
     "output_type": "stream",
     "text": [
      "index: 0 value: apple\n",
      "index: 1 value: banana\n",
      "index: 2 value: eggs\n"
     ]
    }
   ],
   "source": [
    "for index in range(len(groceryList)):\n",
    "    print(\"index:\",index,\"value:\",groceryList[index])"
   ]
  },
  {
   "cell_type": "markdown",
   "id": "9c1fe6ea",
   "metadata": {
    "slideshow": {
     "slide_type": "subslide"
    }
   },
   "source": [
    "You may have noticed that the second line is indented.  Like we saw before with If/Else statements. This indent is how we indicate what is in the loop.  Our loop can have many lines (all indented).  The first line that isn't indented indicates we are out of the loop.  This indent is the python syntax for in and out of the loop; other coding languages use other things such as braces {}.  Note that blank lines don't matter, just indentation."
   ]
  },
  {
   "cell_type": "code",
   "execution_count": 79,
   "id": "b3cbbd52",
   "metadata": {
    "slideshow": {
     "slide_type": "fragment"
    }
   },
   "outputs": [
    {
     "name": "stdout",
     "output_type": "stream",
     "text": [
      "Starting the loop\n",
      "\t item: apple\n",
      "\t Inside the loop\n",
      "\t item: banana\n",
      "\t Inside the loop\n",
      "\t item: eggs\n",
      "\t Inside the loop\n",
      "Outside the loop\n"
     ]
    }
   ],
   "source": [
    "print( \"Starting the loop\" )\n",
    "for val in groceryList:\n",
    "    print( \"\\t\", \"item:\", val )\n",
    "    \n",
    "    print( \"\\t\", \"Inside the loop\" )\n",
    "print( \"Outside the loop\" )"
   ]
  },
  {
   "cell_type": "markdown",
   "id": "583dac29",
   "metadata": {
    "slideshow": {
     "slide_type": "slide"
    }
   },
   "source": [
    "### While loops"
   ]
  },
  {
   "cell_type": "markdown",
   "id": "0decf40a",
   "metadata": {
    "slideshow": {
     "slide_type": "fragment"
    }
   },
   "source": [
    "For loops are used when you have something you are iterating over - you know the length.  You can use a while loop if you don't know the number of times something will run. The while loop code requires a conditional statement; the loop will continue to run as long as this is true and will not run again as soon as it is false."
   ]
  },
  {
   "cell_type": "markdown",
   "id": "3752da4e",
   "metadata": {
    "slideshow": {
     "slide_type": "fragment"
    }
   },
   "source": [
    "##### Conceptual Example\n",
    "You can think about taking a test in two different ways. \n",
    "\n",
    "> Scenario: You are looking through your junk drawer for your sunglasses  \n",
    "\n",
    "For loop:\n",
    "```python\n",
    "for item in junk_drawer:\n",
    "    if (item == \"sunglasses\"):\n",
    "        \"put them on\" 😎\n",
    "    else:\n",
    "        \"keep looking\"\n",
    "```\n",
    "\n",
    "While loop:\n",
    "```python \n",
    "while item != \"sunglasses\":\n",
    "    \"keep looking\"\n",
    "    item = \"some item in the junk drawer\"\n",
    "\"put them on\" 😎\n",
    "``` \n",
    "\n",
    "Can you see where each has their unique take on looping? Of course, you don't; you are wearing sunglasses indoors. Take them off first, then check out their uniqueness."
   ]
  },
  {
   "cell_type": "markdown",
   "id": "7d0ef0c4",
   "metadata": {},
   "source": [
    "The condition being set by the while statement will cause this to run as long as the statement is true."
   ]
  },
  {
   "cell_type": "code",
   "execution_count": 80,
   "id": "e516c7cf",
   "metadata": {},
   "outputs": [
    {
     "name": "stdout",
     "output_type": "stream",
     "text": [
      "before: 0\n",
      "\t after: 1\n",
      "before: 1\n",
      "\t after: 2\n",
      "before: 2\n",
      "\t after: 3\n",
      "before: 3\n",
      "\t after: 4\n",
      "before: 4\n",
      "\t after: 5\n",
      "before: 5\n",
      "\t after: 6\n",
      "before: 6\n",
      "\t after: 7\n",
      "before: 7\n",
      "\t after: 8\n",
      "before: 8\n",
      "\t after: 9\n",
      "before: 9\n",
      "\t after: 10\n"
     ]
    }
   ],
   "source": [
    "counting = 0\n",
    "\n",
    "while (counting < 10):\n",
    "    print ( \"before:\", counting )\n",
    "    counting = counting + 1\n",
    "    print (\"\\t\",\"after:\",counting)"
   ]
  },
  {
   "cell_type": "markdown",
   "id": "d3594060",
   "metadata": {},
   "source": [
    "One thing to note is that the while loop won't ever be entered if the condition is false when the statement begins as false."
   ]
  },
  {
   "cell_type": "code",
   "execution_count": 81,
   "id": "8ea20ae6",
   "metadata": {},
   "outputs": [],
   "source": [
    "startAtTen = 10\n",
    "\n",
    "while (startAtTen < 10):\n",
    "    print ( \"before:\", startAtTen )\n",
    "    counting = counting + 1\n",
    "    print (\"\\t\",\"after:\",startAtTen )"
   ]
  },
  {
   "cell_type": "markdown",
   "id": "bc096502",
   "metadata": {},
   "source": [
    "###### 😈 A VERY MEAN Example 😈"
   ]
  },
  {
   "cell_type": "markdown",
   "id": "17f3dca6",
   "metadata": {},
   "source": [
    "Let's see where we can use this type of loop, in this 😈 VERY MEAN Example 😈. We are creating a set of 30 random numbers from 1 to 50. The *while* will run until it hits its first even number and print this out. Can you spot its MEAN intention?"
   ]
  },
  {
   "cell_type": "code",
   "execution_count": 82,
   "id": "3abfab27",
   "metadata": {
    "slideshow": {
     "slide_type": "fragment"
    }
   },
   "outputs": [
    {
     "name": "stdout",
     "output_type": "stream",
     "text": [
      "[37, 12, 35, 27, 11]\n",
      "start loop\n",
      "the first even number is: 12\n"
     ]
    }
   ],
   "source": [
    "import random\n",
    "randomList = [random.randrange(1, 50, 1) for i in range(30)]\n",
    "print ( randomList[0:5] )\n",
    "\n",
    "index = 0\n",
    "print (\"start loop\")\n",
    "while ( randomList[index] % 2 ):\n",
    "    index = index + 1\n",
    "print ( \"the first even number is:\", randomList[index])\n"
   ]
  },
  {
   "cell_type": "markdown",
   "id": "46861991",
   "metadata": {},
   "source": [
    "So why is this very mean?! Look at our warning."
   ]
  },
  {
   "cell_type": "markdown",
   "id": "5fc98478",
   "metadata": {
    "slideshow": {
     "slide_type": "subslide"
    }
   },
   "source": [
    "```{warning}\n",
    "While loops will keep iterating as long as the statement stays true.  Infinite loops are caused by a condition that always stays true.  Use the stop button ( 🔲 but filled in ) to stop this erroneous code. Here is an example of this type of code. \n",
    "```"
   ]
  },
  {
   "cell_type": "markdown",
   "id": "e8b1c6bb",
   "metadata": {
    "slideshow": {
     "slide_type": "fragment"
    }
   },
   "source": [
    "```python\n",
    "counting = 0\n",
    "\n",
    "while (counting < 0):\n",
    "    print ( \"This the loop that never ends. Yes, it goes on and on, my friend!\" ) \n",
    "    print ( \"Some people started looping it not knowing what it was, \" )\n",
    "    print ( \"and they'll continue looping it forever just because...\" ) \n",
    "    counting = counting + 1\n",
    "```"
   ]
  },
  {
   "cell_type": "markdown",
   "id": "f166a5a7",
   "metadata": {},
   "source": [
    "This is 😈 A VERY MEAN Example 😈 because it is possible to have a set without a single even number. The odds of picking an even or an odd is a coin flip (50%). Now do this 30 times. What are the odds of flipping a coin 30 times without a single \"Tails?\" \n",
    "\n",
    "$\\frac{1}{2}$ = 1 coin\n",
    "\n",
    "$\\frac{1}{2} * \\frac{1}{2}$ = 2 coins\n",
    "\n",
    "$\\frac{1}{2} * \\frac{1}{2} * \\frac{1}{2}$ = 3 coins\n",
    "\n",
    "$(\\frac{1}{2})^n$ = n coin\n",
    "\n",
    "$(\\frac{1}{2})^{30}$ = 30 coin = $(\\frac{1}{1073741824})$  OR one in 1 billion, 73 million, 741 thousand, 824. \n",
    "\n",
    "Meaning, a person out of 1073741824 will have an infinite loop! \n",
    "\n",
    "MUAHAHAHA!!!"
   ]
  },
  {
   "cell_type": "markdown",
   "id": "fa4ed328",
   "metadata": {},
   "source": [
    "### Your turn!"
   ]
  },
  {
   "cell_type": "markdown",
   "id": "ddf4608b",
   "metadata": {},
   "source": [
    "Try to fill in code to fulfill the request!  Here is a variable used in the excercises"
   ]
  },
  {
   "cell_type": "code",
   "execution_count": 83,
   "id": "e118d007",
   "metadata": {},
   "outputs": [],
   "source": [
    "aListOfNumbers = [6, 3, 4, 5, 7, 8, 9 ]"
   ]
  },
  {
   "cell_type": "markdown",
   "id": "12661ffd",
   "metadata": {},
   "source": [
    "Write a function that returns the length of aListOfNumbers as well as the maximum value. Hint: max() is a built-in function"
   ]
  },
  {
   "cell_type": "code",
   "execution_count": 84,
   "id": "52090625",
   "metadata": {},
   "outputs": [],
   "source": [
    "# Try it here:\n"
   ]
  },
  {
   "cell_type": "markdown",
   "id": "05c75250",
   "metadata": {},
   "source": [
    "Use a for loop to add up all of the numbers in aListOfNumbers."
   ]
  },
  {
   "cell_type": "code",
   "execution_count": 85,
   "id": "82a51bc8",
   "metadata": {},
   "outputs": [],
   "source": [
    "# Try it here:\n",
    "\n"
   ]
  },
  {
   "cell_type": "markdown",
   "id": "c89b8af6",
   "metadata": {},
   "source": [
    "Use a while loop to find the first number in aListOfNumbers that is both greater than 5 and a multiple of 4."
   ]
  },
  {
   "cell_type": "code",
   "execution_count": 86,
   "id": "6622f45a",
   "metadata": {},
   "outputs": [],
   "source": [
    "# Try it here:\n",
    "\n"
   ]
  },
  {
   "cell_type": "markdown",
   "id": "b248ca18",
   "metadata": {},
   "source": [
    "Count the number of values in aListOfNumbers that are:\n",
    "* even\n",
    "* odd and divisible by three\n",
    "* odd and not divisible by three\n",
    "\n",
    "using if, elif and else."
   ]
  },
  {
   "cell_type": "code",
   "execution_count": 87,
   "id": "9ce8ca95",
   "metadata": {},
   "outputs": [],
   "source": [
    "# Try it here:\n",
    "\n"
   ]
  },
  {
   "cell_type": "markdown",
   "id": "5bc47da4",
   "metadata": {},
   "source": [
    "Create a dictionary with keys 1-8 corresponding to the words one, two, three, etc. Loop through aListofNumbers to print out the word corresponding to the digit and provide a default value of 'Not Found' if the key is not contained within the dictionary.  You should get: six three four five seven eight Not Found"
   ]
  },
  {
   "cell_type": "code",
   "execution_count": 88,
   "id": "a7984053",
   "metadata": {},
   "outputs": [],
   "source": [
    "# Try it here:\n",
    "\n"
   ]
  },
  {
   "cell_type": "markdown",
   "id": "1caed49c",
   "metadata": {},
   "source": [
    "## Loading a Library"
   ]
  },
  {
   "cell_type": "markdown",
   "id": "4afb5ef4",
   "metadata": {},
   "source": [
    "Module or Library?"
   ]
  },
  {
   "cell_type": "markdown",
   "id": "28f0d6de",
   "metadata": {},
   "source": [
    "Modules are python's way of organizing functions, variables and constructors, similar to libraries in other languages.  In this section, we will look at:\n",
    "* Using existing python modules\n",
    "* Building our own modules\n",
    "* Finding the things that are within modules"
   ]
  },
  {
   "cell_type": "markdown",
   "id": "e2a7de81",
   "metadata": {},
   "source": [
    "### Built in Modules"
   ]
  },
  {
   "cell_type": "markdown",
   "id": "490b0a52",
   "metadata": {},
   "source": [
    "Python uses modules to make additional functionality available.  Modules can be thought of as libraries with many functions, data types, and characteristics that can be used once loaded. "
   ]
  },
  {
   "cell_type": "markdown",
   "id": "2e01e6f9",
   "metadata": {},
   "source": [
    "We load modules using the import statement:\n",
    "* Highly recommend import using a name (import module as name)\n",
    "* Use the name to keep multiply defined functions separate\n",
    "* You can import only individual functions from a module\n",
    "* You can also rename functions."
   ]
  },
  {
   "cell_type": "code",
   "execution_count": 89,
   "id": "3126707b",
   "metadata": {},
   "outputs": [
    {
     "name": "stdout",
     "output_type": "stream",
     "text": [
      "1.0\n",
      "-1.0\n"
     ]
    }
   ],
   "source": [
    "# Import all functions using a name\n",
    "import numpy as np\n",
    "# We then use the name to refer to functions from this module\n",
    "print( np.sin( 1./2. * np.pi ) )\n",
    "\n",
    "# We can also import just some of the functions, as well as change their names\n",
    "from math import cos as mathCos\n",
    "print( mathCos( np.pi ) )"
   ]
  },
  {
   "cell_type": "markdown",
   "id": "09d0f508",
   "metadata": {},
   "source": [
    "Some common python modules are:\n",
    "* numpy\n",
    "* matplotlib\n",
    "* math\n",
    "* scipy\n",
    "* pandas\n",
    "\n",
    "Modules based on their topic can be found: https://wiki.python.org/moin/UsefulModules"
   ]
  },
  {
   "cell_type": "markdown",
   "id": "98f32bd3",
   "metadata": {},
   "source": [
    "Some modules are already included on the system.  You may have to add or update some yourself. Python uses pip for module addition, which includes dependencies. Typically users will put modules in their own space using --user, rather than install them globally. For example, to add cython and to update matplolib you would run in a cell:\n",
    "```javascript\n",
    "!pip install cython --user\n",
    "\n",
    "!pip install matplotlib --user --upgrade\n",
    "```"
   ]
  },
  {
   "cell_type": "markdown",
   "id": "51a280f1",
   "metadata": {},
   "source": [
    "We can also use dir to see what is currently available to use:"
   ]
  },
  {
   "cell_type": "markdown",
   "id": "566a989c",
   "metadata": {},
   "source": [
    "### Your Turn!"
   ]
  },
  {
   "cell_type": "markdown",
   "id": "4e0a9dac",
   "metadata": {},
   "source": [
    "Call the math version of tan() mathTan and print out tangent of pi/2.  (Hint, pi can come from math or numpy)."
   ]
  },
  {
   "cell_type": "code",
   "execution_count": 90,
   "id": "a8ccb67b",
   "metadata": {},
   "outputs": [],
   "source": [
    "# Try it here\n"
   ]
  },
  {
   "cell_type": "markdown",
   "id": "989972c1",
   "metadata": {},
   "source": [
    "Does numpy include functions called log10 and banana?"
   ]
  },
  {
   "cell_type": "code",
   "execution_count": 91,
   "id": "8f8a728b",
   "metadata": {},
   "outputs": [],
   "source": [
    "# Try it here\n"
   ]
  },
  {
   "cell_type": "markdown",
   "id": "389ce46e-4094-4497-8f7f-a39d6e884a89",
   "metadata": {},
   "source": [
    "## Creating a Function"
   ]
  },
  {
   "cell_type": "markdown",
   "id": "48a88b92-1b11-4263-99fb-f8a2495e0a56",
   "metadata": {},
   "source": [
    "Functions allow us to do repeated tasks easily by writing the code only once.  Functions will have a name, inputs, and outputs and can be called anywhere the task is repeated.\n",
    "\n",
    "There are functions that are built into python; for example, we have already been using the type() function, which tells us the type of variable we are using.  Note that print is also a function!"
   ]
  },
  {
   "cell_type": "code",
   "execution_count": 92,
   "id": "68493d18-36fd-4773-a7d6-244f1eba291f",
   "metadata": {},
   "outputs": [
    {
     "name": "stdout",
     "output_type": "stream",
     "text": [
      "<class 'float'>\n"
     ]
    }
   ],
   "source": [
    "aVal = 10.0\n",
    "print( type( aVal ) )"
   ]
  },
  {
   "cell_type": "markdown",
   "id": "bfdcf5f6-d5ff-4fef-a86b-fda32e9f6c6a",
   "metadata": {},
   "source": [
    "Functions have four typical parts:\n",
    "* Name - what you call your function\n",
    "* Input arguments - what you provide\n",
    "* Outputs - what the function gives back\n",
    "* Math/Magic - what the function does"
   ]
  },
  {
   "cell_type": "markdown",
   "id": "cb428ca9-4104-46f7-84b2-7fc59b53a3f5",
   "metadata": {},
   "source": [
    "### Creating Our Own Function"
   ]
  },
  {
   "cell_type": "markdown",
   "id": "2a98e173-7f3e-4b5c-934e-6dbfa4835aed",
   "metadata": {},
   "source": [
    "In python, we use def to define a function with the function name and inputs followed by a colon.  The python function is then separated from the rest of the code by a tab. Some languages use braces rather than indentation.\n",
    "````python\n",
    "def functionName( inputs ):\n",
    "    # Operate on the inputs\n",
    "    ouputs = inputs + 5\n",
    "    # Return what we want to back\n",
    "    return outputs;\n",
    "   ````"
   ]
  },
  {
   "cell_type": "markdown",
   "id": "1dead74c-0141-4d75-bfdc-46b13d747cb6",
   "metadata": {},
   "source": [
    "Let's look at an example function, which changes degrees Fahrenheit to Celsius. "
   ]
  },
  {
   "cell_type": "code",
   "execution_count": 93,
   "id": "3eef8e21-8c33-462d-bd8e-0718b70622de",
   "metadata": {},
   "outputs": [],
   "source": [
    "def changeFromFToC( farVal ):\n",
    "    cVal = (farVal - 32.0) * 5.0 / 9.0\n",
    "    return cVal "
   ]
  },
  {
   "cell_type": "markdown",
   "id": "8c880dc6-704f-449b-8a8e-60be409c3375",
   "metadata": {},
   "source": [
    "Here, our function name is *changeFromFToC*, the input is *farVal*, the temperature in Fahrenheit, the output is *cVal*, and the temperature in Celsius. We can print or store the output from the function.  Note that the function has to be defined before we use it - the cell with the function definition has to have run before we can call the function."
   ]
  },
  {
   "cell_type": "code",
   "execution_count": 94,
   "id": "7a19c6b0-0918-4e7c-aa81-45420d580862",
   "metadata": {},
   "outputs": [
    {
     "name": "stdout",
     "output_type": "stream",
     "text": [
      "Change 14 deg F to Celsius\n",
      "-10.0\n",
      "Change from 68 deg F to Celsius\n",
      "20.0\n"
     ]
    }
   ],
   "source": [
    "print( \"Change 14 deg F to Celsius\" )\n",
    "print( changeFromFToC( 14 ) )\n",
    "\n",
    "print( \"Change from 68 deg F to Celsius\" )\n",
    "niceTempC = changeFromFToC( 68 )\n",
    "print( niceTempC )"
   ]
  },
  {
   "cell_type": "markdown",
   "id": "db603275-39e3-4504-b393-c43e5896e3ee",
   "metadata": {},
   "source": [
    "Your turn! What is the temperature today? Convert it to Celsius. \n",
    "\n",
    "For those who have the temperature in Celsius and want to convert it to Fahrenheit. Define a new function to do this."
   ]
  },
  {
   "cell_type": "markdown",
   "id": "4a4dac46-30ee-4102-97c9-630bef8bceef",
   "metadata": {},
   "source": [
    "#### Multiple inputs and outputs"
   ]
  },
  {
   "cell_type": "markdown",
   "id": "949b0def-6688-4d75-af1d-d4ba3dc3ef74",
   "metadata": {},
   "source": [
    "Here is an example of multiple outputs. We can actually work the output in a couple of different ways."
   ]
  },
  {
   "cell_type": "markdown",
   "id": "12e0d254-697e-4561-a96c-8f03350ce780",
   "metadata": {},
   "source": [
    "##### Multiple Output Function"
   ]
  },
  {
   "cell_type": "code",
   "execution_count": 95,
   "id": "e10df620-ef7f-4a0a-abb3-7def11d3ead2",
   "metadata": {},
   "outputs": [],
   "source": [
    "def changeFromFToCAndK( farVal ):\n",
    "    # Change the temperature from Fahrenheit to Celsius and Kelvin\n",
    "    cVal = (farVal - 32.0) * 5.0 / 9.0\n",
    "    kVal= cVal + 273.15\n",
    "    return cVal, kVal  "
   ]
  },
  {
   "cell_type": "markdown",
   "id": "73b7f924-97e3-479c-9e0c-5d5b9357e9c5",
   "metadata": {},
   "source": [
    "##### Output: List"
   ]
  },
  {
   "cell_type": "code",
   "execution_count": 96,
   "id": "b2c98f60-0894-4033-9770-328e58dfdea6",
   "metadata": {},
   "outputs": [
    {
     "name": "stdout",
     "output_type": "stream",
     "text": [
      "Change 14 deg F to Celsius and Kelvin\n",
      "(-10.0, 263.15)\n",
      "Change 32 deg F to Celsius and Kelvin\n",
      "0.0\n",
      "273.15\n"
     ]
    }
   ],
   "source": [
    "def changeFromFToCAndK( farVal ):\n",
    "    # Change the temperature from Fahrenheit to Celsius and Kelvin\n",
    "    cVal = (farVal - 32.0) * 5.0 / 9.0\n",
    "    kVal= cVal + 273.15\n",
    "    return cVal, kVal    \n",
    "    \n",
    "print( \"Change 14 deg F to Celsius and Kelvin\" )\n",
    "print( changeFromFToCAndK( 14 ) )\n",
    "\n",
    "print( \"Change 32 deg F to Celsius and Kelvin\" )\n",
    "freezing = changeFromFToCAndK( 32 ) \n",
    "print( freezing[0] )\n",
    "print( freezing[1] )"
   ]
  },
  {
   "cell_type": "markdown",
   "id": "7a0e488f-ab1e-430d-a706-0695e3236fee",
   "metadata": {},
   "source": [
    "##### Output: Multiple Variables "
   ]
  },
  {
   "cell_type": "code",
   "execution_count": 97,
   "id": "16f1b9c4-9482-401f-94f0-332e90db4579",
   "metadata": {},
   "outputs": [
    {
     "name": "stdout",
     "output_type": "stream",
     "text": [
      "Change 212 deg F to Celsius and Kelvin\n",
      "100.0\n",
      "373.15\n"
     ]
    }
   ],
   "source": [
    "print( \"Change 212 deg F to Celsius and Kelvin\" )\n",
    "boilingC, boilingK = changeFromFToCAndK( 212 ) \n",
    "print( boilingC )\n",
    "print( boilingK )"
   ]
  },
  {
   "cell_type": "markdown",
   "id": "c03220c2-d1e7-4ca8-a6e4-aa47dde66855",
   "metadata": {},
   "source": [
    "##### Multiple Input Function"
   ]
  },
  {
   "cell_type": "code",
   "execution_count": 98,
   "id": "f670f9dd-7760-4306-9f55-86521f5203c1",
   "metadata": {},
   "outputs": [],
   "source": [
    "def changeFromFToCOrK( farVal, tempType ):\n",
    "    if (tempType == \"C\"):\n",
    "        return (farVal - 32.0) * 5.0 / 9.0\n",
    "    elif (tempType == \"K\"):\n",
    "        return ((farVal - 32.0) * 5.0 / 9.0) + 273.15\n",
    "    else:\n",
    "        return \"invalid temperature type\""
   ]
  },
  {
   "cell_type": "code",
   "execution_count": 99,
   "id": "dfc47bf8-3261-41cc-9dcf-c25453db05f2",
   "metadata": {},
   "outputs": [
    {
     "name": "stdout",
     "output_type": "stream",
     "text": [
      "21.11111111111111\n"
     ]
    }
   ],
   "source": [
    "print ( changeFromFToCOrK(70,\"C\") )"
   ]
  },
  {
   "cell_type": "code",
   "execution_count": 100,
   "id": "72e0d2b2-336e-4f49-a7e4-b89ddd34102b",
   "metadata": {},
   "outputs": [
    {
     "name": "stdout",
     "output_type": "stream",
     "text": [
      "294.26111111111106\n"
     ]
    }
   ],
   "source": [
    "print ( changeFromFToCOrK(70,\"K\") )"
   ]
  },
  {
   "cell_type": "code",
   "execution_count": 101,
   "id": "ec462eaf-e615-428d-9112-d6bc60b8c6b2",
   "metadata": {},
   "outputs": [
    {
     "name": "stdout",
     "output_type": "stream",
     "text": [
      "invalid temperature type\n"
     ]
    }
   ],
   "source": [
    "print ( changeFromFToCOrK(70,\"W\") )"
   ]
  },
  {
   "cell_type": "markdown",
   "id": "0385d73e-89fd-4aaa-b728-c380c1d63b18",
   "metadata": {},
   "source": [
    "#### Function Gotcha! 😆 "
   ]
  },
  {
   "cell_type": "markdown",
   "id": "be63a292-fd3c-49da-ae8c-6bf099f3d552",
   "metadata": {},
   "source": [
    "```{note}\n",
    "The biggest gotcha on functions is with variable scope: \n",
    "* Variables defined in a function are not accessible from the outside\n",
    "* Functions have access to more than just the variables passed in\n",
    "```"
   ]
  },
  {
   "cell_type": "code",
   "execution_count": 102,
   "id": "7ed51f20-89b5-4be9-bc7b-4f303e59922a",
   "metadata": {},
   "outputs": [
    {
     "name": "stdout",
     "output_type": "stream",
     "text": [
      "outside the function\n",
      "dog: 10\n",
      "\t in the function\n",
      "\t I have access to dog: 10\n",
      "\t I have access to animal: 10\n",
      "\t I have access to newValue: 11\n",
      "function output: 11\n"
     ]
    }
   ],
   "source": [
    "def addAnAnimal( animal ):\n",
    "    print (\"\\t\",\"in the function\")\n",
    "    print (\"\\t\",\"I have access to dog:\",dog)\n",
    "    print (\"\\t\",\"I have access to animal:\",animal)\n",
    "    newValue = animal + 1\n",
    "    print (\"\\t\",\"I have access to newValue:\",newValue)\n",
    "    return newValue\n",
    "  \n",
    "print (\"outside the function\")\n",
    "dog = 10\n",
    "print(\"dog:\", dog)\n",
    "print (\"function output:\",addAnAnimal( dog ))"
   ]
  },
  {
   "cell_type": "markdown",
   "id": "6b9388b6-fd87-497f-99e0-ec597c21a9b7",
   "metadata": {},
   "source": [
    "If we would add:\n",
    "\n",
    "```python\n",
    "print (newValue)\n",
    "```\n",
    "\n",
    "to the bottom, we would end up with this:"
   ]
  },
  {
   "cell_type": "markdown",
   "id": "60042e22-082d-4803-b3ff-58b94a07fe8f",
   "metadata": {},
   "source": [
    "```python\n",
    "def addAnAnimal( animal ):\n",
    "    print (\"\\t\",\"in the function\")\n",
    "    print (\"\\t\",\"I have access to dog:\",dog)\n",
    "    print (\"\\t\",\"I have access to animal:\",animal)\n",
    "    newValue = animal + 1\n",
    "    print (\"\\t\",\"I have access to newValue:\",newValue)\n",
    "    return newValue\n",
    "  \n",
    "print (\"outside the function\")\n",
    "dog = 10\n",
    "print(\"dog:\", dog)\n",
    "print (\"function output:\",addAnAnimal( dog ))\n",
    "print (newValue)\n",
    "```\n",
    "\n",
    "outside the function\n",
    "\n",
    "dog: 10\n",
    "\n",
    "&nbsp;&nbsp;&nbsp;&nbsp;&nbsp;&nbsp;in the function\n",
    "     \n",
    "&nbsp;&nbsp;&nbsp;&nbsp;&nbsp;&nbsp;I have access to dog: 10\n",
    "     \n",
    "&nbsp;&nbsp;&nbsp;&nbsp;&nbsp;&nbsp;I have access to animal: 10\n",
    "     \n",
    "&nbsp;&nbsp;&nbsp;&nbsp;&nbsp;&nbsp;I have access to newValue: 11\n",
    "     \n",
    "function output: 11\n",
    "\n",
    "```python\n",
    "---------------------------------------------------------------------------\n",
    "NameError                                 Traceback (most recent call last)\n",
    "<ipython-input-32-07cce689eb00> in <module>\n",
    "     11 print(\"dog:\", dog)\n",
    "     12 print (\"function output:\",addAnAnimal( dog ))\n",
    "---> 13 print (newValue)\n",
    "\n",
    "NameError: name 'newValue' is not defined\n",
    "```\n",
    "    "
   ]
  },
  {
   "cell_type": "markdown",
   "id": "919fdc17-0283-453a-acd8-37d8098e1b13",
   "metadata": {},
   "source": [
    "### Your Turn!"
   ]
  },
  {
   "cell_type": "markdown",
   "id": "7bb17a4e-2aad-424c-9a2d-1ef68d0a9dfc",
   "metadata": {},
   "source": [
    "Try to fill in code to fulfill the request!  Here is a variable used in the excercises."
   ]
  },
  {
   "cell_type": "code",
   "execution_count": 103,
   "id": "026c51ff-6265-4094-b0ce-f66d0e5c3d0a",
   "metadata": {},
   "outputs": [],
   "source": [
    "aListOfNumbers = [6, 3, 4, 5, 7, 8, 9 ]"
   ]
  },
  {
   "cell_type": "markdown",
   "id": "e80888e7-6d8a-413c-923d-5b1d8e933bc5",
   "metadata": {},
   "source": [
    "Write a function that returns the length of aListOfNumbers as well as the maximum value. Hint: max() is a built-in function"
   ]
  },
  {
   "cell_type": "code",
   "execution_count": 104,
   "id": "ea3c2cd0-ac1e-4a65-a024-3576e0683b4a",
   "metadata": {},
   "outputs": [],
   "source": [
    "## try here!"
   ]
  }
 ],
 "metadata": {
  "celltoolbar": "Slideshow",
  "colab": {
   "collapsed_sections": [],
   "name": "Introduction.ipynb",
   "provenance": []
  },
  "kernelspec": {
   "display_name": "Python 3",
   "language": "python",
   "name": "python3"
  },
  "language_info": {
   "codemirror_mode": {
    "name": "ipython",
    "version": 3
   },
   "file_extension": ".py",
   "mimetype": "text/x-python",
   "name": "python",
   "nbconvert_exporter": "python",
   "pygments_lexer": "ipython3",
   "version": "3.8.5"
  },
  "toc-autonumbering": false,
  "toc-showcode": true,
  "toc-showmarkdowntxt": true,
  "toc-showtags": true
 },
 "nbformat": 4,
 "nbformat_minor": 5
}
