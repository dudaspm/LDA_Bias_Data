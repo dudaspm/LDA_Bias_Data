{
 "cells": [
  {
   "cell_type": "markdown",
   "id": "4e68dd8f-aab6-4969-be1c-85e3958eb5ca",
   "metadata": {},
   "source": [
    "# Topic Modeling - 🐓"
   ]
  },
  {
   "cell_type": "markdown",
   "id": "02b7c30d-baa6-4186-a98a-f090f82e38a2",
   "metadata": {},
   "source": [
    "![The Little Red Hen Book](https://www.gutenberg.org/files/18735/18735-h/images/cover_054_1.jpg)\n",
    "\n",
    "> The Little Red Hen {cite:p}`Williams_1918` via https://www.gutenberg.org/ebooks/18735"
   ]
  },
  {
   "cell_type": "markdown",
   "id": "59edb20a-f69d-4bce-8c40-035f1965df70",
   "metadata": {},
   "source": [
    "To start our discussion, we should introduce what Topic Modeling is and how it can be applied. "
   ]
  },
  {
   "cell_type": "markdown",
   "id": "4172a2e2-8392-4287-805a-388c71209bd8",
   "metadata": {},
   "source": [
    ":::{note}\n",
    "\"Topic modeling is a princpled approach for discovering topics from a large corpus of text documents {cite:p}`liu2020sentiment` (pg.159).\"\n",
    "\n",
    "\n",
    "\n",
    ":::\n",
    "\n"
   ]
  },
  {
   "cell_type": "markdown",
   "id": "adf84bb5-fbd4-49a2-a75f-a626feb9bb38",
   "metadata": {},
   "source": [
    "Already, we have few things to unpack. What are topics? How are the defined? Do we define or does the computer? What is a large corpus? How many documents do we need?\n",
    "\n",
    "\n",
    "Let's start with a *large corpus of text documents*. Typically, we would have two documents 📄, five documents 📄, ten million documents 📄, can be thought of as our corpus. Yes, even 1 document 📄 can be used for topic modeling. So, defining, *large corpus of text documents*, can be subjective. \n",
    "\n",
    "As specified by Liu {cite:p}`liu2020sentiment` we can start this conversation using one of the two basic types of topic modeling. This being *probablistic Latent Dirichlet Allocation* or *Latent Dirichlet Allocation*. For our conversation, we will be using *Latent Dirichlet Allocation*. \n",
    "\n",
    "\n",
    "\n"
   ]
  },
  {
   "cell_type": "markdown",
   "id": "874d41a2-a582-4123-8601-066793c98966",
   "metadata": {},
   "source": [
    "## Latent Dirichlet Allocation\n",
    "\n",
    "### Pronunciation\n",
    "\n",
    "<audio controls>\n",
    "  <source src=\"horse.ogg\" type=\"audio/ogg\">\n",
    "  <source src=\"horse.mp3\" type=\"audio/mpeg\">\n",
    "Your browser does not support the audio element.\n",
    "</audio>\n",
    "\n",
    "Our pronoucation stems from a talk by David Blei who is a professor of Statistics and Computer Science at Columbia University during David's talk \"Probabilistic Topic Models and User Behavior {cite:p}`Blei_2017`.\" The citation provides a link to original YouTube video (which is a *great* resource), but specifically, helpful for the pronouciation. \n"
   ]
  },
  {
   "cell_type": "code",
   "execution_count": null,
   "id": "9da7b577-d5a6-4c83-b79d-99783f9892f7",
   "metadata": {},
   "outputs": [],
   "source": []
  }
 ],
 "metadata": {
  "kernelspec": {
   "display_name": "Python 3",
   "language": "python",
   "name": "python3"
  },
  "language_info": {
   "codemirror_mode": {
    "name": "ipython",
    "version": 3
   },
   "file_extension": ".py",
   "mimetype": "text/x-python",
   "name": "python",
   "nbconvert_exporter": "python",
   "pygments_lexer": "ipython3",
   "version": "3.8.5"
  }
 },
 "nbformat": 4,
 "nbformat_minor": 5
}
