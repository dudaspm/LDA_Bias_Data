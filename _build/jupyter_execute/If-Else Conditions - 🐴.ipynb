{
 "cells": [
  {
   "cell_type": "markdown",
   "id": "2553bf5c-a7b2-4636-8eaf-45885b06c864",
   "metadata": {},
   "source": [
    "# If-Else Conditions - 🐴"
   ]
  },
  {
   "cell_type": "markdown",
   "id": "6479aa90-b976-4d5e-8f30-238528acdcae",
   "metadata": {},
   "source": [
    "We can condition our data using if-else statements and switch cases.  If-else statements allow us to do different things if a certain criterion is met or not. We can count the odds and evens in our someNumbers list."
   ]
  },
  {
   "cell_type": "markdown",
   "id": "8e09d0e4-695e-41c5-b446-b604c06937d4",
   "metadata": {},
   "source": [
    "## if"
   ]
  },
  {
   "cell_type": "markdown",
   "id": "7efef757-4393-4b1e-8936-e4883c20bcfc",
   "metadata": {},
   "source": [
    "The *if* statement starts with if and then lists a condition that may or may not is met. If the condition is true, we do what is listed. If it is not, we move on. \n",
    "\n",
    "Our example here is straightforward; if answer is greater than 30, print something."
   ]
  },
  {
   "cell_type": "code",
   "execution_count": 1,
   "id": "d9ffc097-e864-43e5-b091-a26355154299",
   "metadata": {},
   "outputs": [
    {
     "name": "stdout",
     "output_type": "stream",
     "text": [
      "This number is greater than 30\n"
     ]
    }
   ],
   "source": [
    "answer = 42\n",
    "\n",
    "if answer > 30:\n",
    "    print( \"This number is greater than 30\")"
   ]
  },
  {
   "cell_type": "markdown",
   "id": "287907cd-acc7-4d5f-997e-e72229722c2b",
   "metadata": {},
   "source": [
    "OK, same concept. "
   ]
  },
  {
   "cell_type": "code",
   "execution_count": 2,
   "id": "56f70a30-92fa-41dd-9056-b3386a0008fe",
   "metadata": {},
   "outputs": [],
   "source": [
    "answer = 42\n",
    "\n",
    "if answer > 50:\n",
    "    print( \"This number is greater than 50\")"
   ]
  },
  {
   "cell_type": "markdown",
   "id": "e4e15d1e-66a7-48a5-a350-d2d4189fb800",
   "metadata": {},
   "source": [
    "```{note}\n",
    "Note the structure of a Python if/else statement where some languages use { } to denote the start and end of the if/else statement. Python uses spaces. \n",
    "\n",
    "if (condition): <-colon\n",
    "\n",
    " <- space or tab\n",
    " \n",
    "Anything that is also spaced or tab is *part* of the if statement. \n",
    "\n",
    "```"
   ]
  },
  {
   "cell_type": "markdown",
   "id": "4dfd5c37-0628-48c4-a9c3-f822ba8f9db5",
   "metadata": {},
   "source": [
    "### Where the if Starts and Ends"
   ]
  },
  {
   "cell_type": "markdown",
   "id": "bd4e654e-5590-4fc8-8ad4-9c3bde70927b",
   "metadata": {},
   "source": [
    "As mentioned in our note, the if/else statement uses spacing to indicate where it starts and ends. To highlight this, let's look at an example. "
   ]
  },
  {
   "cell_type": "code",
   "execution_count": 3,
   "id": "dd81ff39-16ec-4296-b47a-157f3c30509c",
   "metadata": {},
   "outputs": [
    {
     "name": "stdout",
     "output_type": "stream",
     "text": [
      "Into the If/Else!\n",
      "Out of the If/Else!\n"
     ]
    }
   ],
   "source": [
    "print(\"Into the If/Else!\")\n",
    "\n",
    "if (10 < 2):\n",
    "    print(\"In the If/Else!\")\n",
    "    \n",
    "    print(\"Still in the If/Else!\")\n",
    "    \n",
    "    \n",
    "    \n",
    "    \n",
    "    print(\"How do I get out of here!?\")\n",
    "\n",
    "print(\"Out of the If/Else!\")"
   ]
  },
  {
   "cell_type": "markdown",
   "id": "75aca4d6-2d2e-4918-b383-9087ea5d67a3",
   "metadata": {},
   "source": [
    "## else"
   ]
  },
  {
   "cell_type": "markdown",
   "id": "ead5f407-6e65-47b8-b56c-92a137107642",
   "metadata": {},
   "source": [
    "In these examples, only the numbers that are greater than 30 and 50 will get any response.  We can add a response for values that do not meet the conditional statement found within the if using an *else* statement. "
   ]
  },
  {
   "cell_type": "code",
   "execution_count": 4,
   "id": "7f94c76b-80a2-4a2c-b6eb-a4a232df1ff6",
   "metadata": {},
   "outputs": [
    {
     "name": "stdout",
     "output_type": "stream",
     "text": [
      "42 > 30\n",
      "42 < 50\n"
     ]
    }
   ],
   "source": [
    "answer = 42\n",
    "\n",
    "if answer > 30:\n",
    "    print( answer, \"> 30\")\n",
    "else:\n",
    "    print( answer, \"< 30\")\n",
    "    \n",
    "if answer > 50:\n",
    "    print( answer, \"> 50\")\n",
    "else:\n",
    "    print( answer, \"< 50\")"
   ]
  },
  {
   "cell_type": "markdown",
   "id": "e2e2559d-9be7-4c6b-a8b0-2b3f81eb2d2d",
   "metadata": {},
   "source": [
    "## elif (else if)"
   ]
  },
  {
   "cell_type": "markdown",
   "id": "39996b3d-275b-4e7a-a4f3-15ecf56fe7e9",
   "metadata": {},
   "source": [
    "If-else statements can also be stacked together to allow for additional sorting using multiple conditions.  The way this is done in python is by using \n",
    "```python\n",
    "elif\n",
    "```\n",
    "\n",
    "This will chain conditions, but once one condition is true. It will stop ✋\n",
    "\n",
    "Let's take a look at an example."
   ]
  },
  {
   "cell_type": "code",
   "execution_count": 5,
   "id": "e3b7f5cf-6e43-4d9d-b8b1-988acdfd6178",
   "metadata": {},
   "outputs": [
    {
     "name": "stdout",
     "output_type": "stream",
     "text": [
      "My favorite color is yellow.\n"
     ]
    }
   ],
   "source": [
    "favoriteColor = \"Yellow\"\n",
    "\n",
    "if (favoriteColor == \"Red\"):\n",
    "    print (\"My favorite color is red.\")\n",
    "elif (favoriteColor == \"Orange\"):\n",
    "    print (\"My favorite color is orange.\")\n",
    "elif (favoriteColor == \"Yellow\"):\n",
    "    print (\"My favorite color is yellow.\")\n",
    "elif (favoriteColor == \"Green\"):\n",
    "    print (\"My favorite color is green.\")\n",
    "elif (favoriteColor == \"Blue\"):\n",
    "    print (\"My favorite color is blue.\")\n",
    "elif (favoriteColor == \"Indigo\"):\n",
    "    print (\"My favorite color is indigo.\")\n",
    "elif (favoriteColor == \"Violet\"):\n",
    "    print (\"My favorite color is violet.\")\n",
    "else:\n",
    "    print (\"I don't have a favorite color.\")"
   ]
  },
  {
   "cell_type": "markdown",
   "id": "fd2aa56c-bded-4688-9bcf-3993071f1c49",
   "metadata": {},
   "source": [
    "### Switch Cases"
   ]
  },
  {
   "cell_type": "markdown",
   "id": "fc9c3fa7-bddd-4e45-a30f-4f10672359fa",
   "metadata": {},
   "source": [
    "Switch Cases are specialized if-else statements - the criteria must be met precisely. Let's work on an example that changes between month numbers and month names. We first set up a dictionary that will be used for the evaluation.  We will use numbers as the keys and use the abbreviations as the values. "
   ]
  },
  {
   "cell_type": "code",
   "execution_count": 6,
   "id": "94435682-c56f-456d-a702-92aa5ebec8d7",
   "metadata": {},
   "outputs": [],
   "source": [
    "monthSwap = {1:'Jan',2:'Feb',3:'Mar',4:'Apr',5:'May',6:'Jun',7:'Jul',8:'Aug',9:'Sep',10:'Oct',11:'Nov',12:'Dec'}"
   ]
  },
  {
   "cell_type": "code",
   "execution_count": 7,
   "id": "2c4e03eb-bed4-4120-bab1-ef70fa826cf6",
   "metadata": {},
   "outputs": [
    {
     "name": "stdout",
     "output_type": "stream",
     "text": [
      "monthSwap =  {1: 'Jan', 2: 'Feb', 3: 'Mar', 4: 'Apr', 5: 'May', 6: 'Jun', 7: 'Jul', 8: 'Aug', 9: 'Sep', 10: 'Oct', 11: 'Nov', 12: 'Dec'}\n",
      "\n",
      "#-# Key = 5\n",
      "May\n",
      "\n",
      "#-# Key = 19\n",
      "oooooops!\n"
     ]
    }
   ],
   "source": [
    "print( \"monthSwap = \", monthSwap)\n",
    "\n",
    "# Print out the 5th month\n",
    "print( \"\\n#-# Key = 5\")\n",
    "print( monthSwap.get(5,\"oooooops!\") )\n",
    "\n",
    "# Print out the 19th month\n",
    "print( \"\\n#-# Key = 19\")\n",
    "print( monthSwap.get(19,\"oooooops!\") )"
   ]
  },
  {
   "cell_type": "code",
   "execution_count": null,
   "id": "97160f83-a6da-459a-854b-56029729cc4d",
   "metadata": {},
   "outputs": [],
   "source": []
  }
 ],
 "metadata": {
  "kernelspec": {
   "display_name": "Python 3",
   "language": "python",
   "name": "python3"
  },
  "language_info": {
   "codemirror_mode": {
    "name": "ipython",
    "version": 3
   },
   "file_extension": ".py",
   "mimetype": "text/x-python",
   "name": "python",
   "nbconvert_exporter": "python",
   "pygments_lexer": "ipython3",
   "version": "3.7.10"
  }
 },
 "nbformat": 4,
 "nbformat_minor": 5
}