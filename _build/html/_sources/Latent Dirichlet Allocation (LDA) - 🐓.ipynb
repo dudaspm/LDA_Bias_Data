{
 "cells": [
  {
   "cell_type": "markdown",
   "id": "4e68dd8f-aab6-4969-be1c-85e3958eb5ca",
   "metadata": {},
   "source": [
    "# Topic Modeling - 🐓"
   ]
  },
  {
   "cell_type": "markdown",
   "id": "02b7c30d-baa6-4186-a98a-f090f82e38a2",
   "metadata": {},
   "source": [
    "![The Little Red Hen Book](https://www.gutenberg.org/files/18735/18735-h/images/cover_054_1.jpg)\n",
    "\n",
    "> The Little Red Hen {cite:p}`Williams_1918` via https://www.gutenberg.org/ebooks/18735"
   ]
  },
  {
   "cell_type": "markdown",
   "id": "59edb20a-f69d-4bce-8c40-035f1965df70",
   "metadata": {},
   "source": [
    "To start our discussion, we should introduce what Topic Modeling is and how it can be applied. "
   ]
  },
  {
   "cell_type": "markdown",
   "id": "4172a2e2-8392-4287-805a-388c71209bd8",
   "metadata": {},
   "source": [
    ":::{note}\n",
    "\"Topic modeling is a princpled approach for discovering topics from a large corpus of text documents {cite:p}`liu2020sentiment` (pg.159).\"\n",
    "\n",
    "\n",
    "\n",
    ":::\n",
    "\n"
   ]
  },
  {
   "cell_type": "code",
   "execution_count": null,
   "id": "8c1ee449-d5a9-4d15-871b-cc0524fb2207",
   "metadata": {},
   "outputs": [],
   "source": []
  }
 ],
 "metadata": {
  "kernelspec": {
   "display_name": "Python 3",
   "language": "python",
   "name": "python3"
  },
  "language_info": {
   "codemirror_mode": {
    "name": "ipython",
    "version": 3
   },
   "file_extension": ".py",
   "mimetype": "text/x-python",
   "name": "python",
   "nbconvert_exporter": "python",
   "pygments_lexer": "ipython3",
   "version": "3.8.5"
  }
 },
 "nbformat": 4,
 "nbformat_minor": 5
}
