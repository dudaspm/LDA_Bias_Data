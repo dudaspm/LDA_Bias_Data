{
 "cells": [
  {
   "cell_type": "markdown",
   "id": "1e468c88-42c6-4ef9-9189-3d04cdef8495",
   "metadata": {},
   "source": [
    "# Dirichlet Distribution"
   ]
  },
  {
   "cell_type": "code",
   "execution_count": null,
   "id": "93b8fc54-af16-4493-ae6c-c323f35e63e1",
   "metadata": {},
   "outputs": [],
   "source": []
  },
  {
   "cell_type": "code",
   "execution_count": null,
   "id": "944dbe68-11b3-4b26-9d7a-a714a3e0908e",
   "metadata": {},
   "outputs": [],
   "source": []
  },
  {
   "cell_type": "code",
   "execution_count": null,
   "id": "eb52f9a2-a15c-44c4-a3a0-6b52b95a3eff",
   "metadata": {},
   "outputs": [],
   "source": []
  },
  {
   "cell_type": "code",
   "execution_count": 364,
   "id": "ad450696-5f96-4bd9-a1f7-c1a44b5bfe20",
   "metadata": {
    "tags": [
     "hide-cell"
    ]
   },
   "outputs": [
    {
     "data": {
      "text/html": [
       "<script src='https://d3js.org/d3.v6.min.js'></script>"
      ],
      "text/plain": [
       "<IPython.core.display.HTML object>"
      ]
     },
     "metadata": {},
     "output_type": "display_data"
    },
    {
     "data": {
      "text/html": [
       "<script src='https://d3js.org/d3.v6.min.js'></script>"
      ],
      "text/plain": [
       "<IPython.core.display.HTML object>"
      ]
     },
     "metadata": {},
     "output_type": "display_data"
    },
    {
     "data": {
      "text/html": [
       "<script src='https://d3js.org/d3.v6.min.js'></script>"
      ],
      "text/plain": [
       "<IPython.core.display.HTML object>"
      ]
     },
     "metadata": {},
     "output_type": "display_data"
    },
    {
     "data": {
      "text/html": [
       "<script src='https://d3js.org/d3.v6.min.js'></script>"
      ],
      "text/plain": [
       "<IPython.core.display.HTML object>"
      ]
     },
     "metadata": {},
     "output_type": "display_data"
    },
    {
     "data": {
      "text/html": [
       "<script src='https://d3js.org/d3.v6.min.js'></script>"
      ],
      "text/plain": [
       "<IPython.core.display.HTML object>"
      ]
     },
     "metadata": {},
     "output_type": "display_data"
    },
    {
     "data": {
      "text/html": [
       "<script src='https://d3js.org/d3.v6.min.js'></script>"
      ],
      "text/plain": [
       "<IPython.core.display.HTML object>"
      ]
     },
     "metadata": {},
     "output_type": "display_data"
    },
    {
     "data": {
      "text/html": [
       "<script src='https://d3js.org/d3.v6.min.js'></script>"
      ],
      "text/plain": [
       "<IPython.core.display.HTML object>"
      ]
     },
     "metadata": {},
     "output_type": "display_data"
    }
   ],
   "source": [
    "from IPython.display import  HTML\n",
    "\n",
    "def load_d3_in_cell_output():\n",
    "  display(HTML(\"<script src='https://d3js.org/d3.v6.min.js'></script>\"))\n",
    "get_ipython().events.register('pre_run_cell', load_d3_in_cell_output)"
   ]
  },
  {
   "cell_type": "markdown",
   "id": "129bb8b0-4830-4dbc-9873-e2509fb66ae7",
   "metadata": {},
   "source": [
    "## The Chinese Restaurant Process"
   ]
  },
  {
   "cell_type": "markdown",
   "id": "c39b1569-bfc7-41ec-89f7-3c87a4103365",
   "metadata": {},
   "source": [
    "In the thought problem, we will be examing a situation where a hungery person (🤔) enters a restrauant and needs to choose a table (⚪).\n",
    "\n",
    "This original was developed by xxx and a great resource to consider is Pasupat's (xxx).\n",
    "\n",
    "Here are the ground rules for this thought problem.\n",
    "  "
   ]
  },
  {
   "cell_type": "markdown",
   "id": "af48f15f-7d3b-444a-b745-8e14c895dff7",
   "metadata": {},
   "source": [
    "## Rules for Our Thought Problem"
   ]
  },
  {
   "cell_type": "markdown",
   "id": "802c2fbf-1898-4c04-90a0-7ace8baedd52",
   "metadata": {},
   "source": [
    "### 1. An Infinite Amount of Tables (⚪)\n",
    "\n",
    "We are depicting five tables (⚪⚪⚪⚪⚪) but we need to consider a situation where the number of tables are infinite. \n",
    "\n",
    "* ⚪ = ∞"
   ]
  },
  {
   "cell_type": "markdown",
   "id": "7342c7ba-74d9-4ece-ba1b-4dc6576b827f",
   "metadata": {},
   "source": [
    "### 2. A Hungry Person (🤔) Only Two Options\n",
    "\n",
    "When a hungry person (🤔) walks into the the restraunt they have two options: \n",
    "    \n",
    "* Either they sit a table (⚪) with someone else (😃) \n",
    "* or pick a new table  (⚪) \n",
    "\n",
    "To simplify this, here a decision chart. "
   ]
  },
  {
   "cell_type": "code",
   "execution_count": 365,
   "id": "05be4377-481c-4f6a-8885-54e82f716645",
   "metadata": {
    "tags": [
     "remove-input"
    ]
   },
   "outputs": [
    {
     "data": {
      "text/html": [
       "<script src='https://d3js.org/d3.v6.min.js'></script>"
      ],
      "text/plain": [
       "<IPython.core.display.HTML object>"
      ]
     },
     "metadata": {},
     "output_type": "display_data"
    },
    {
     "data": {
      "text/html": [
       "<script src='https://d3js.org/d3.v6.min.js'></script>"
      ],
      "text/plain": [
       "<IPython.core.display.HTML object>"
      ]
     },
     "metadata": {},
     "output_type": "display_data"
    },
    {
     "data": {
      "text/html": [
       "<script src='https://d3js.org/d3.v6.min.js'></script>"
      ],
      "text/plain": [
       "<IPython.core.display.HTML object>"
      ]
     },
     "metadata": {},
     "output_type": "display_data"
    },
    {
     "data": {
      "text/html": [
       "<script src='https://d3js.org/d3.v6.min.js'></script>"
      ],
      "text/plain": [
       "<IPython.core.display.HTML object>"
      ]
     },
     "metadata": {},
     "output_type": "display_data"
    },
    {
     "data": {
      "text/html": [
       "<script src='https://d3js.org/d3.v6.min.js'></script>"
      ],
      "text/plain": [
       "<IPython.core.display.HTML object>"
      ]
     },
     "metadata": {},
     "output_type": "display_data"
    },
    {
     "data": {
      "text/html": [
       "<script src='https://d3js.org/d3.v6.min.js'></script>"
      ],
      "text/plain": [
       "<IPython.core.display.HTML object>"
      ]
     },
     "metadata": {},
     "output_type": "display_data"
    },
    {
     "data": {
      "text/html": [
       "<script src='https://d3js.org/d3.v6.min.js'></script>"
      ],
      "text/plain": [
       "<IPython.core.display.HTML object>"
      ]
     },
     "metadata": {},
     "output_type": "display_data"
    },
    {
     "data": {
      "text/html": [
       "<script src='https://d3js.org/d3.v6.min.js'></script>"
      ],
      "text/plain": [
       "<IPython.core.display.HTML object>"
      ]
     },
     "metadata": {},
     "output_type": "display_data"
    },
    {
     "data": {
      "image/svg+xml": [
       "<svg xmlns=\"http://www.w3.org/2000/svg\" xmlns:xlink=\"http://www.w3.org/1999/xlink\" viewBox=\"0,0,400,60\" style=\"overflow: visible;\"><g font-family=\"sans-serif\" font-size=\"10\" transform=\"translate(180,30)\"><g fill=\"none\" stroke=\"#555\" stroke-opacity=\"0.4\" stroke-width=\"1.5\"><path d=\"M0,0C29.5,0,29.5,-10,59,-10\"/><path d=\"M0,0C29.5,0,29.5,10,59,10\"/></g><g stroke-linejoin=\"round\" stroke-width=\"3\"><g transform=\"translate(0,0)\"><text dy=\"0.31em\" x=\"-6\" text-anchor=\"end\" stroke=\"white\">A hungry 🤔 walks into the restaurant</text><circle fill=\"#555\" r=\"2.5\"/><text dy=\"0.31em\" x=\"-6\" text-anchor=\"end\">A hungry 🤔 walks into the restaurant</text></g><g transform=\"translate(59,-10)\"><text dy=\"0.31em\" x=\"6\" text-anchor=\"start\" stroke=\"white\">Sit at a ⚪ with other 😃</text><circle fill=\"#999\" r=\"2.5\"/><text dy=\"0.31em\" x=\"6\" text-anchor=\"start\">Sit at a ⚪ with other 😃</text></g><g transform=\"translate(59,10)\"><text dy=\"0.31em\" x=\"6\" text-anchor=\"start\" stroke=\"white\">Sit at a new ⚪</text><circle fill=\"#999\" r=\"2.5\"/><text dy=\"0.31em\" x=\"6\" text-anchor=\"start\">Sit at a new ⚪</text></g></g></g></svg>"
      ],
      "text/plain": [
       "<IPython.core.display.SVG object>"
      ]
     },
     "metadata": {},
     "output_type": "display_data"
    }
   ],
   "source": [
    "from IPython.display import SVG, display\n",
    "display(SVG(url='https://raw.githubusercontent.com/dudaspm/LDA_Bias_Data/main/images/startCondition.svg'))"
   ]
  },
  {
   "cell_type": "markdown",
   "id": "d2b89149-0e89-4dfb-9c67-513764ed4526",
   "metadata": {},
   "source": [
    "And to further reduce this down, we will be using this:"
   ]
  },
  {
   "cell_type": "code",
   "execution_count": 366,
   "id": "b2a75ba5-b3af-4140-9f9b-dfdcedb9dd03",
   "metadata": {
    "tags": [
     "remove-input"
    ]
   },
   "outputs": [
    {
     "data": {
      "text/html": [
       "<script src='https://d3js.org/d3.v6.min.js'></script>"
      ],
      "text/plain": [
       "<IPython.core.display.HTML object>"
      ]
     },
     "metadata": {},
     "output_type": "display_data"
    },
    {
     "data": {
      "text/html": [
       "<script src='https://d3js.org/d3.v6.min.js'></script>"
      ],
      "text/plain": [
       "<IPython.core.display.HTML object>"
      ]
     },
     "metadata": {},
     "output_type": "display_data"
    },
    {
     "data": {
      "text/html": [
       "<script src='https://d3js.org/d3.v6.min.js'></script>"
      ],
      "text/plain": [
       "<IPython.core.display.HTML object>"
      ]
     },
     "metadata": {},
     "output_type": "display_data"
    },
    {
     "data": {
      "text/html": [
       "<script src='https://d3js.org/d3.v6.min.js'></script>"
      ],
      "text/plain": [
       "<IPython.core.display.HTML object>"
      ]
     },
     "metadata": {},
     "output_type": "display_data"
    },
    {
     "data": {
      "text/html": [
       "<script src='https://d3js.org/d3.v6.min.js'></script>"
      ],
      "text/plain": [
       "<IPython.core.display.HTML object>"
      ]
     },
     "metadata": {},
     "output_type": "display_data"
    },
    {
     "data": {
      "text/html": [
       "<script src='https://d3js.org/d3.v6.min.js'></script>"
      ],
      "text/plain": [
       "<IPython.core.display.HTML object>"
      ]
     },
     "metadata": {},
     "output_type": "display_data"
    },
    {
     "data": {
      "text/html": [
       "<script src='https://d3js.org/d3.v6.min.js'></script>"
      ],
      "text/plain": [
       "<IPython.core.display.HTML object>"
      ]
     },
     "metadata": {},
     "output_type": "display_data"
    },
    {
     "data": {
      "text/html": [
       "<script src='https://d3js.org/d3.v6.min.js'></script>"
      ],
      "text/plain": [
       "<IPython.core.display.HTML object>"
      ]
     },
     "metadata": {},
     "output_type": "display_data"
    },
    {
     "data": {
      "image/svg+xml": [
       "<svg xmlns=\"http://www.w3.org/2000/svg\" xmlns:xlink=\"http://www.w3.org/1999/xlink\" viewBox=\"0,0,130,60\" style=\"overflow: visible;\"><g font-family=\"sans-serif\" font-size=\"10\" transform=\"translate(20,30)\"><g fill=\"none\" stroke=\"#555\" stroke-opacity=\"0.4\" stroke-width=\"1.5\"><path d=\"M0,0C29.5,0,29.5,-10,59,-10\"/><path d=\"M0,0C29.5,0,29.5,10,59,10\"/></g><g stroke-linejoin=\"round\" stroke-width=\"3\"><g transform=\"translate(0,0)\"><text dy=\"0.31em\" x=\"-6\" text-anchor=\"end\" stroke=\"white\">🤔</text><circle fill=\"#555\" r=\"2.5\"/><text dy=\"0.31em\" x=\"-6\" text-anchor=\"end\">🤔</text></g><g transform=\"translate(59,-10)\"><text dy=\"0.31em\" x=\"6\" text-anchor=\"start\" stroke=\"white\">⚪ &amp; 😃</text><circle fill=\"#999\" r=\"2.5\"/><text dy=\"0.31em\" x=\"6\" text-anchor=\"start\">⚪ &amp; 😃</text></g><g transform=\"translate(59,10)\"><text dy=\"0.31em\" x=\"6\" text-anchor=\"start\" stroke=\"white\">⚪</text><circle fill=\"#999\" r=\"2.5\"/><text dy=\"0.31em\" x=\"6\" text-anchor=\"start\">⚪</text></g></g></g></svg>"
      ],
      "text/plain": [
       "<IPython.core.display.SVG object>"
      ]
     },
     "metadata": {},
     "output_type": "display_data"
    }
   ],
   "source": [
    "from IPython.display import SVG, display\n",
    "display(SVG(url='https://raw.githubusercontent.com/dudaspm/LDA_Bias_Data/main/images/simpleStartCondition.svg'))"
   ]
  },
  {
   "cell_type": "markdown",
   "id": "e160df99-5cce-4a39-af1d-ceeb947ea3a3",
   "metadata": {},
   "source": [
    "### 3. Many ⚪ & 😃, Only One Empty ⚪\n",
    "\n",
    "This goes with #2, but in our scenario there will number of tables (⚪) with people (😃), but when considering an empty table (⚪). We will only consider *one* of the infinite number of tables (⚪) open. Another way to consider this is either a hungry person (🤔):\n",
    "* sits at the *one of possible many* tables (⚪) with someone else (😃) \n",
    "* *OR* they sit at the *one* new table  (⚪)"
   ]
  },
  {
   "cell_type": "markdown",
   "id": "33113b93-32e2-450f-a5fb-13cf335ab3e8",
   "metadata": {},
   "source": [
    "### All Tables (⚪) are Equal\n",
    "Notice that all the tables are equal distance away. So, there is no weighting based on the distance and each table is equally likely to be picked.     "
   ]
  },
  {
   "cell_type": "code",
   "execution_count": 367,
   "id": "ac1b59d4-c268-464a-b087-8964b9c2547a",
   "metadata": {
    "tags": [
     "hide-input"
    ]
   },
   "outputs": [
    {
     "data": {
      "text/html": [
       "<script src='https://d3js.org/d3.v6.min.js'></script>"
      ],
      "text/plain": [
       "<IPython.core.display.HTML object>"
      ]
     },
     "metadata": {},
     "output_type": "display_data"
    },
    {
     "data": {
      "text/html": [
       "<script src='https://d3js.org/d3.v6.min.js'></script>"
      ],
      "text/plain": [
       "<IPython.core.display.HTML object>"
      ]
     },
     "metadata": {},
     "output_type": "display_data"
    },
    {
     "data": {
      "text/html": [
       "<script src='https://d3js.org/d3.v6.min.js'></script>"
      ],
      "text/plain": [
       "<IPython.core.display.HTML object>"
      ]
     },
     "metadata": {},
     "output_type": "display_data"
    },
    {
     "data": {
      "text/html": [
       "<script src='https://d3js.org/d3.v6.min.js'></script>"
      ],
      "text/plain": [
       "<IPython.core.display.HTML object>"
      ]
     },
     "metadata": {},
     "output_type": "display_data"
    },
    {
     "data": {
      "text/html": [
       "<script src='https://d3js.org/d3.v6.min.js'></script>"
      ],
      "text/plain": [
       "<IPython.core.display.HTML object>"
      ]
     },
     "metadata": {},
     "output_type": "display_data"
    },
    {
     "data": {
      "text/html": [
       "<script src='https://d3js.org/d3.v6.min.js'></script>"
      ],
      "text/plain": [
       "<IPython.core.display.HTML object>"
      ]
     },
     "metadata": {},
     "output_type": "display_data"
    },
    {
     "data": {
      "text/html": [
       "<script src='https://d3js.org/d3.v6.min.js'></script>"
      ],
      "text/plain": [
       "<IPython.core.display.HTML object>"
      ]
     },
     "metadata": {},
     "output_type": "display_data"
    },
    {
     "data": {
      "text/html": [
       "<script src='https://d3js.org/d3.v6.min.js'></script>"
      ],
      "text/plain": [
       "<IPython.core.display.HTML object>"
      ]
     },
     "metadata": {},
     "output_type": "display_data"
    },
    {
     "data": {
      "text/html": [
       "<input type=\"button\" onclick=\"runWeight()\" value=\"Run Animation\">\n",
       "<div id=\"runWeight\"></div>\n",
       "\n",
       "<script type=\"text/javascript\">   \n",
       "    function runWeight() {\n",
       "        var width = 500\n",
       "        var height = 270\n",
       "        var margin = 35\n",
       "        var radius = 200\n",
       "        \n",
       "        d3.select(\"div#runWeight\").select(\"svg\").remove()\n",
       "        var svg1 = d3.select(\"div#runWeight\").append(\"svg\")\n",
       "            .attr(\"width\", width)\n",
       "            .attr(\"height\", height)\n",
       "\n",
       "        var x = d3.scaleLinear().domain([0,d3.range(5).length-1]).range([Math.PI, 2*Math.PI])\n",
       "\n",
       "        svg1.selectAll(\"line\")\n",
       "            .data(d3.range(5))\n",
       "            .join(\"line\")\n",
       "            .attr(\"x1\", (d,i)=> ((0) * Math.cos(x(i))) + (width/2))\n",
       "            .attr(\"y1\", (d,i)=> ((0) * Math.sin(x(i))) + (height-margin))  \n",
       "            .attr(\"x2\", (d,i)=> ((0) * Math.cos(x(i))) + (width/2))\n",
       "            .attr(\"y2\", (d,i)=> ((0) * Math.sin(x(i))) + (height-margin)) \n",
       "            .style(\"stroke\",\"darkgrey\")\n",
       "            .style(\"stroke-width\", \"10px\")\n",
       "            .style(\"stroke-linecap\",\"round\")\n",
       "            .transition(\"line\")\n",
       "            .duration(1000)\n",
       "            .delay((d,i)=> i * 100)\n",
       "            .attr(\"x2\", (d,i)=> ((radius) * Math.cos(x(i))) + (width/2))\n",
       "            .attr(\"y2\", (d,i)=> ((radius) * Math.sin(x(i))) + (height-margin))    \n",
       "\n",
       "        svg1.selectAll(\"circle\")\n",
       "            // Collect\n",
       "            .data(d3.range(5))\n",
       "            // Update\n",
       "            .join(\"circle\")\n",
       "            .attr(\"cx\", (d,i)=> ((0) * Math.cos(x(i))) + (width/2))\n",
       "            .attr(\"cy\", (d,i)=> ((0) * Math.sin(x(i))) + (height-margin))  \n",
       "            .attr(\"r\", (d,i)=> 30)\n",
       "            .style(\"fill\", \"white\")\n",
       "            .style(\"stroke\", \"black\")\n",
       "            .style(\"stroke-width\", \"1px\")\n",
       "            .transition(\"circle\")\n",
       "            .duration(1000)\n",
       "            .delay((d,i)=> i * 100)\n",
       "            .attr(\"cx\", (d,i)=> ((radius) * Math.cos(x(i))) + (width/2))\n",
       "            .attr(\"cy\", (d,i)=> ((radius) * Math.sin(x(i))) + (height-margin))\n",
       "\n",
       "        svg1.append(\"text\")\n",
       "            .attr(\"x\", width/2)\n",
       "            .attr(\"y\", (height-margin))\n",
       "            .style(\"font-size\",\"50px\")\n",
       "            .style(\"text-anchor\", \"middle\")\n",
       "            .style(\"alignment-baseline\",\"middle\")\n",
       "            .text(\"🤔\")\n",
       "    }\n",
       "    runWeight()\n",
       "</script>\n"
      ],
      "text/plain": [
       "<IPython.core.display.HTML object>"
      ]
     },
     "metadata": {},
     "output_type": "display_data"
    }
   ],
   "source": [
    "%%html\n",
    "<input type=\"button\" onclick=\"runWeight()\" value=\"Run Animation\">\n",
    "<div id=\"runWeight\"></div>\n",
    "\n",
    "<script type=\"text/javascript\">   \n",
    "    function runWeight() {\n",
    "        var width = 500\n",
    "        var height = 270\n",
    "        var margin = 35\n",
    "        var radius = 200\n",
    "        \n",
    "        d3.select(\"div#runWeight\").select(\"svg\").remove()\n",
    "        var svg1 = d3.select(\"div#runWeight\").append(\"svg\")\n",
    "            .attr(\"width\", width)\n",
    "            .attr(\"height\", height)\n",
    "\n",
    "        var x = d3.scaleLinear().domain([0,d3.range(5).length-1]).range([Math.PI, 2*Math.PI])\n",
    "\n",
    "        svg1.selectAll(\"line\")\n",
    "            .data(d3.range(5))\n",
    "            .join(\"line\")\n",
    "            .attr(\"x1\", (d,i)=> ((0) * Math.cos(x(i))) + (width/2))\n",
    "            .attr(\"y1\", (d,i)=> ((0) * Math.sin(x(i))) + (height-margin))  \n",
    "            .attr(\"x2\", (d,i)=> ((0) * Math.cos(x(i))) + (width/2))\n",
    "            .attr(\"y2\", (d,i)=> ((0) * Math.sin(x(i))) + (height-margin)) \n",
    "            .style(\"stroke\",\"darkgrey\")\n",
    "            .style(\"stroke-width\", \"10px\")\n",
    "            .style(\"stroke-linecap\",\"round\")\n",
    "            .transition(\"line\")\n",
    "            .duration(1000)\n",
    "            .delay((d,i)=> i * 100)\n",
    "            .attr(\"x2\", (d,i)=> ((radius) * Math.cos(x(i))) + (width/2))\n",
    "            .attr(\"y2\", (d,i)=> ((radius) * Math.sin(x(i))) + (height-margin))    \n",
    "\n",
    "        svg1.selectAll(\"circle\")\n",
    "            // Collect\n",
    "            .data(d3.range(5))\n",
    "            // Update\n",
    "            .join(\"circle\")\n",
    "            .attr(\"cx\", (d,i)=> ((0) * Math.cos(x(i))) + (width/2))\n",
    "            .attr(\"cy\", (d,i)=> ((0) * Math.sin(x(i))) + (height-margin))  \n",
    "            .attr(\"r\", (d,i)=> 30)\n",
    "            .style(\"fill\", \"white\")\n",
    "            .style(\"stroke\", \"black\")\n",
    "            .style(\"stroke-width\", \"1px\")\n",
    "            .transition(\"circle\")\n",
    "            .duration(1000)\n",
    "            .delay((d,i)=> i * 100)\n",
    "            .attr(\"cx\", (d,i)=> ((radius) * Math.cos(x(i))) + (width/2))\n",
    "            .attr(\"cy\", (d,i)=> ((radius) * Math.sin(x(i))) + (height-margin))\n",
    "\n",
    "        svg1.append(\"text\")\n",
    "            .attr(\"x\", width/2)\n",
    "            .attr(\"y\", (height-margin))\n",
    "            .style(\"font-size\",\"50px\")\n",
    "            .style(\"text-anchor\", \"middle\")\n",
    "            .style(\"alignment-baseline\",\"middle\")\n",
    "            .text(\"🤔\")\n",
    "    }\n",
    "    runWeight()\n",
    "</script>"
   ]
  },
  {
   "cell_type": "markdown",
   "id": "782ab924-62be-4ad3-a67d-0df68a631478",
   "metadata": {},
   "source": [
    "### Key for Thought Problem\n",
    "\n",
    "> 🤔 - hungry person\n",
    "* The person who needs to find a seat at a table\n",
    "\n",
    "> 😃 - person eating\n",
    "* A person already at a table\n",
    "\n",
    "> ⚪ - a possible table\n",
    "* A potential seat for the hungry person to sit at\n",
    "\n",
    "> ⚫ - a not possible table \n",
    "* Not a potential seat for the hungry person to sit at (see Rule #3)"
   ]
  },
  {
   "cell_type": "markdown",
   "id": "341b4578-6590-423e-862d-426046664b41",
   "metadata": {},
   "source": [
    "## All Solutions 💥TO THE EXTREME💥"
   ]
  },
  {
   "cell_type": "markdown",
   "id": "fcb3ee10-da7d-4c19-aaee-781a24318b28",
   "metadata": {},
   "source": [
    ":::{note}\n",
    "\"To the extreme!\" was a popular phrase from the early 1990s. Meaning \"to take something to its furthest limits.\" Most credit [Robert Matthew Van Winkle](https://en.wikipedia.org/wiki/Vanilla_Ice) for the phrase. \n",
    ":::"
   ]
  },
  {
   "cell_type": "markdown",
   "id": "387dc94a-1424-46c5-9db5-16dbaccf0e46",
   "metadata": {},
   "source": [
    "Now that we have our ground rules, let's approach this problem from, what I am calling, the extreme positions. Up to this point, we have not mentioned a single bit of math, but this section will contain conversations around probabilities. Here are three scenarios for our extreme positions. \n",
    "\n",
    "1. The Social Butterfly\n",
    "2. The Gambler\n",
    "3. The Long Day"
   ]
  },
  {
   "cell_type": "markdown",
   "id": "bec17d1f-d5ba-4a01-a740-b414c13e2f47",
   "metadata": {},
   "source": [
    "### 1. The Social Butterfly\n",
    "\n",
    "The social butterfly assumes every person that enters the restraunts wants to sit at the table with the most people. "
   ]
  },
  {
   "cell_type": "code",
   "execution_count": 368,
   "id": "8b03680d-d20e-42c6-bea6-1fbf5e658b60",
   "metadata": {
    "jupyter": {
     "source_hidden": true
    },
    "tags": [
     "hide-input"
    ]
   },
   "outputs": [
    {
     "data": {
      "text/html": [
       "<script src='https://d3js.org/d3.v6.min.js'></script>"
      ],
      "text/plain": [
       "<IPython.core.display.HTML object>"
      ]
     },
     "metadata": {},
     "output_type": "display_data"
    },
    {
     "data": {
      "text/html": [
       "<script src='https://d3js.org/d3.v6.min.js'></script>"
      ],
      "text/plain": [
       "<IPython.core.display.HTML object>"
      ]
     },
     "metadata": {},
     "output_type": "display_data"
    },
    {
     "data": {
      "text/html": [
       "<script src='https://d3js.org/d3.v6.min.js'></script>"
      ],
      "text/plain": [
       "<IPython.core.display.HTML object>"
      ]
     },
     "metadata": {},
     "output_type": "display_data"
    },
    {
     "data": {
      "text/html": [
       "<script src='https://d3js.org/d3.v6.min.js'></script>"
      ],
      "text/plain": [
       "<IPython.core.display.HTML object>"
      ]
     },
     "metadata": {},
     "output_type": "display_data"
    },
    {
     "data": {
      "text/html": [
       "<script src='https://d3js.org/d3.v6.min.js'></script>"
      ],
      "text/plain": [
       "<IPython.core.display.HTML object>"
      ]
     },
     "metadata": {},
     "output_type": "display_data"
    },
    {
     "data": {
      "text/html": [
       "<script src='https://d3js.org/d3.v6.min.js'></script>"
      ],
      "text/plain": [
       "<IPython.core.display.HTML object>"
      ]
     },
     "metadata": {},
     "output_type": "display_data"
    },
    {
     "data": {
      "text/html": [
       "<script src='https://d3js.org/d3.v6.min.js'></script>"
      ],
      "text/plain": [
       "<IPython.core.display.HTML object>"
      ]
     },
     "metadata": {},
     "output_type": "display_data"
    },
    {
     "data": {
      "text/html": [
       "<script src='https://d3js.org/d3.v6.min.js'></script>"
      ],
      "text/plain": [
       "<IPython.core.display.HTML object>"
      ]
     },
     "metadata": {},
     "output_type": "display_data"
    },
    {
     "data": {
      "text/html": [
       "<input type=\"button\" onclick=\"social1()\" value=\"Run Animation\">\n",
       "<div id=\"social1\"></div>\n",
       "\n",
       "<script type=\"text/javascript\">   \n",
       "    function social1() {\n",
       "        var width = 500\n",
       "        var height = 270\n",
       "        var margin = 35\n",
       "        var radius = 200\n",
       "        \n",
       "        d3.select(\"div#social1\").select(\"svg\").remove()\n",
       "        var svg2 = d3.select(\"div#social1\").append(\"svg\")\n",
       "            .attr(\"width\", width)\n",
       "            .attr(\"height\", height)\n",
       "\n",
       "        var x = d3.scaleLinear().domain([0,d3.range(5).length-1]).range([Math.PI, 2*Math.PI])\n",
       "\n",
       "        svg2.selectAll(\"line\")\n",
       "            .data(d3.range(1))\n",
       "            .join(\"line\")\n",
       "            .attr(\"x1\", (d,i)=> ((0) * Math.cos(x(i))) + (width/2))\n",
       "            .attr(\"y1\", (d,i)=> ((0) * Math.sin(x(i))) + (height-margin))  \n",
       "            .attr(\"x2\", (d,i)=> ((0) * Math.cos(x(i))) + (width/2))\n",
       "            .attr(\"y2\", (d,i)=> ((0) * Math.sin(x(i))) + (height-margin)) \n",
       "            .style(\"stroke\",\"darkgrey\")\n",
       "            .style(\"stroke-width\", \"10px\")\n",
       "            .style(\"stroke-linecap\",\"round\")\n",
       "            .transition(\"line\")\n",
       "            .duration(1000)\n",
       "            .delay((d,i)=> i * 100)\n",
       "            .attr(\"x2\", (d,i)=> ((radius) * Math.cos(x(i))) + (width/2))\n",
       "            .attr(\"y2\", (d,i)=> ((radius) * Math.sin(x(i))) + (height-margin))    \n",
       "\n",
       "        svg2.selectAll(\"circle\")\n",
       "            // Collect\n",
       "            .data(d3.range(5))\n",
       "            // Update\n",
       "            .join(\"circle\")\n",
       "            .attr(\"cx\", (d,i)=> ((0) * Math.cos(x(i))) + (width/2))\n",
       "            .attr(\"cy\", (d,i)=> ((0) * Math.sin(x(i))) + (height-margin))  \n",
       "            .attr(\"r\", (d,i)=> 30)\n",
       "            .style(\"fill\", (d,i)=> (i<=0)?\"white\":\"black\")\n",
       "            .style(\"stroke\", \"black\")\n",
       "            .style(\"stroke-width\", \"1px\")\n",
       "            .transition(\"circle\")\n",
       "            .duration(1000)\n",
       "            .delay((d,i)=> i * 100)\n",
       "            .attr(\"cx\", (d,i)=> ((radius) * Math.cos(x(i))) + (width/2))\n",
       "            .attr(\"cy\", (d,i)=> ((radius) * Math.sin(x(i))) + (height-margin))\n",
       "\n",
       "        fractions = [\"1\",\"0\",\"0\",\"0\",\"0\"]\n",
       "        svg2.selectAll(\"text\")\n",
       "            // Collect\n",
       "            .data(fractions)\n",
       "            // Update\n",
       "            .join(\"text\")\n",
       "            .attr(\"x\", (d,i)=> ((0) * Math.cos(x(i))) + (width/2))\n",
       "            .attr(\"y\", (d,i)=> ((0) * Math.sin(x(i))) + (height-margin))  \n",
       "            .attr(\"r\", (d,i)=> 30)\n",
       "            .style(\"font-size\",\"30px\")\n",
       "            .style(\"text-anchor\", \"middle\")\n",
       "            .style(\"alignment-baseline\",\"middle\")\n",
       "            .text(d=>d)\n",
       "            .transition(\"text\")\n",
       "            .duration(1000)\n",
       "            .delay((d,i)=> i * 100)\n",
       "            .attr(\"x\", (d,i)=> ((radius) * Math.cos(x(i))) + (width/2))\n",
       "            .attr(\"y\", (d,i)=> ((radius) * Math.sin(x(i))) + (height-margin))\n",
       "        \n",
       "        \n",
       "        \n",
       "        svg2.append(\"text\")\n",
       "            .attr(\"x\", width/2)\n",
       "            .attr(\"y\", (height-margin))\n",
       "            .style(\"font-size\",\"50px\")\n",
       "            .style(\"text-anchor\", \"middle\")\n",
       "            .style(\"alignment-baseline\",\"middle\")\n",
       "            .text(\"🤔\")\n",
       "    }\n",
       "    social1()\n",
       "</script>\n"
      ],
      "text/plain": [
       "<IPython.core.display.HTML object>"
      ]
     },
     "metadata": {},
     "output_type": "display_data"
    }
   ],
   "source": [
    "%%html\n",
    "<input type=\"button\" onclick=\"social1()\" value=\"Run Animation\">\n",
    "<div id=\"social1\"></div>\n",
    "\n",
    "<script type=\"text/javascript\">   \n",
    "    function social1() {\n",
    "        var width = 500\n",
    "        var height = 270\n",
    "        var margin = 35\n",
    "        var radius = 200\n",
    "        \n",
    "        d3.select(\"div#social1\").select(\"svg\").remove()\n",
    "        var svg2 = d3.select(\"div#social1\").append(\"svg\")\n",
    "            .attr(\"width\", width)\n",
    "            .attr(\"height\", height)\n",
    "\n",
    "        var x = d3.scaleLinear().domain([0,d3.range(5).length-1]).range([Math.PI, 2*Math.PI])\n",
    "\n",
    "        svg2.selectAll(\"line\")\n",
    "            .data(d3.range(1))\n",
    "            .join(\"line\")\n",
    "            .attr(\"x1\", (d,i)=> ((0) * Math.cos(x(i))) + (width/2))\n",
    "            .attr(\"y1\", (d,i)=> ((0) * Math.sin(x(i))) + (height-margin))  \n",
    "            .attr(\"x2\", (d,i)=> ((0) * Math.cos(x(i))) + (width/2))\n",
    "            .attr(\"y2\", (d,i)=> ((0) * Math.sin(x(i))) + (height-margin)) \n",
    "            .style(\"stroke\",\"darkgrey\")\n",
    "            .style(\"stroke-width\", \"10px\")\n",
    "            .style(\"stroke-linecap\",\"round\")\n",
    "            .transition(\"line\")\n",
    "            .duration(1000)\n",
    "            .delay((d,i)=> i * 100)\n",
    "            .attr(\"x2\", (d,i)=> ((radius) * Math.cos(x(i))) + (width/2))\n",
    "            .attr(\"y2\", (d,i)=> ((radius) * Math.sin(x(i))) + (height-margin))    \n",
    "\n",
    "        svg2.selectAll(\"circle\")\n",
    "            // Collect\n",
    "            .data(d3.range(5))\n",
    "            // Update\n",
    "            .join(\"circle\")\n",
    "            .attr(\"cx\", (d,i)=> ((0) * Math.cos(x(i))) + (width/2))\n",
    "            .attr(\"cy\", (d,i)=> ((0) * Math.sin(x(i))) + (height-margin))  \n",
    "            .attr(\"r\", (d,i)=> 30)\n",
    "            .style(\"fill\", (d,i)=> (i<=0)?\"white\":\"black\")\n",
    "            .style(\"stroke\", \"black\")\n",
    "            .style(\"stroke-width\", \"1px\")\n",
    "            .transition(\"circle\")\n",
    "            .duration(1000)\n",
    "            .delay((d,i)=> i * 100)\n",
    "            .attr(\"cx\", (d,i)=> ((radius) * Math.cos(x(i))) + (width/2))\n",
    "            .attr(\"cy\", (d,i)=> ((radius) * Math.sin(x(i))) + (height-margin))\n",
    "\n",
    "        fractions = [\"1\",\"0\",\"0\",\"0\",\"0\"]\n",
    "        svg2.selectAll(\"text\")\n",
    "            // Collect\n",
    "            .data(fractions)\n",
    "            // Update\n",
    "            .join(\"text\")\n",
    "            .attr(\"x\", (d,i)=> ((0) * Math.cos(x(i))) + (width/2))\n",
    "            .attr(\"y\", (d,i)=> ((0) * Math.sin(x(i))) + (height-margin))  \n",
    "            .attr(\"r\", (d,i)=> 30)\n",
    "            .style(\"font-size\",\"30px\")\n",
    "            .style(\"text-anchor\", \"middle\")\n",
    "            .style(\"alignment-baseline\",\"middle\")\n",
    "            .text(d=>d)\n",
    "            .transition(\"text\")\n",
    "            .duration(1000)\n",
    "            .delay((d,i)=> i * 100)\n",
    "            .attr(\"x\", (d,i)=> ((radius) * Math.cos(x(i))) + (width/2))\n",
    "            .attr(\"y\", (d,i)=> ((radius) * Math.sin(x(i))) + (height-margin))\n",
    "        \n",
    "        \n",
    "        \n",
    "        svg2.append(\"text\")\n",
    "            .attr(\"x\", width/2)\n",
    "            .attr(\"y\", (height-margin))\n",
    "            .style(\"font-size\",\"50px\")\n",
    "            .style(\"text-anchor\", \"middle\")\n",
    "            .style(\"alignment-baseline\",\"middle\")\n",
    "            .text(\"🤔\")\n",
    "    }\n",
    "    social1()\n",
    "</script>"
   ]
  },
  {
   "cell_type": "code",
   "execution_count": 369,
   "id": "51934260-b24a-4212-b3f7-83dbe283931b",
   "metadata": {
    "jupyter": {
     "source_hidden": true
    },
    "tags": [
     "hide-input"
    ]
   },
   "outputs": [
    {
     "data": {
      "text/html": [
       "<script src='https://d3js.org/d3.v6.min.js'></script>"
      ],
      "text/plain": [
       "<IPython.core.display.HTML object>"
      ]
     },
     "metadata": {},
     "output_type": "display_data"
    },
    {
     "data": {
      "text/html": [
       "<script src='https://d3js.org/d3.v6.min.js'></script>"
      ],
      "text/plain": [
       "<IPython.core.display.HTML object>"
      ]
     },
     "metadata": {},
     "output_type": "display_data"
    },
    {
     "data": {
      "text/html": [
       "<script src='https://d3js.org/d3.v6.min.js'></script>"
      ],
      "text/plain": [
       "<IPython.core.display.HTML object>"
      ]
     },
     "metadata": {},
     "output_type": "display_data"
    },
    {
     "data": {
      "text/html": [
       "<script src='https://d3js.org/d3.v6.min.js'></script>"
      ],
      "text/plain": [
       "<IPython.core.display.HTML object>"
      ]
     },
     "metadata": {},
     "output_type": "display_data"
    },
    {
     "data": {
      "text/html": [
       "<script src='https://d3js.org/d3.v6.min.js'></script>"
      ],
      "text/plain": [
       "<IPython.core.display.HTML object>"
      ]
     },
     "metadata": {},
     "output_type": "display_data"
    },
    {
     "data": {
      "text/html": [
       "<script src='https://d3js.org/d3.v6.min.js'></script>"
      ],
      "text/plain": [
       "<IPython.core.display.HTML object>"
      ]
     },
     "metadata": {},
     "output_type": "display_data"
    },
    {
     "data": {
      "text/html": [
       "<script src='https://d3js.org/d3.v6.min.js'></script>"
      ],
      "text/plain": [
       "<IPython.core.display.HTML object>"
      ]
     },
     "metadata": {},
     "output_type": "display_data"
    },
    {
     "data": {
      "text/html": [
       "<script src='https://d3js.org/d3.v6.min.js'></script>"
      ],
      "text/plain": [
       "<IPython.core.display.HTML object>"
      ]
     },
     "metadata": {},
     "output_type": "display_data"
    },
    {
     "data": {
      "text/html": [
       "<input type=\"button\" onclick=\"social2()\" value=\"Run Animation\">\n",
       "<div id=\"social2\"></div>\n",
       "\n",
       "<script type=\"text/javascript\">   \n",
       "    function social2() {\n",
       "        var width = 600\n",
       "        var height = 300\n",
       "        var margin = 55\n",
       "        var radius = 200\n",
       "        \n",
       "        d3.select(\"div#social2\").select(\"svg\").remove()\n",
       "        var svg3 = d3.select(\"div#social2\").append(\"svg\")\n",
       "            .attr(\"width\", width)\n",
       "            .attr(\"height\", height)\n",
       "\n",
       "        var x = d3.scaleLinear().domain([0,d3.range(5).length-1]).range([Math.PI, 2*Math.PI])\n",
       "\n",
       "        svg3.selectAll(\"line\")\n",
       "            .data(d3.range(2))\n",
       "            .join(\"line\")\n",
       "            .attr(\"x1\", (d,i)=> ((0) * Math.cos(x(i))) + (width/2))\n",
       "            .attr(\"y1\", (d,i)=> ((0) * Math.sin(x(i))) + (height-margin))  \n",
       "            .attr(\"x2\", (d,i)=> ((0) * Math.cos(x(i))) + (width/2))\n",
       "            .attr(\"y2\", (d,i)=> ((0) * Math.sin(x(i))) + (height-margin)) \n",
       "            .style(\"stroke\",\"darkgrey\")\n",
       "            .style(\"stroke-width\", \"10px\")\n",
       "            .style(\"stroke-linecap\",\"round\")\n",
       "            .transition(\"line\")\n",
       "            .duration(1000)\n",
       "            .delay((d,i)=> i * 100)\n",
       "            .attr(\"x2\", (d,i)=> ((radius) * Math.cos(x(i))) + (width/2))\n",
       "            .attr(\"y2\", (d,i)=> ((radius) * Math.sin(x(i))) + (height-margin))    \n",
       "\n",
       "        svg3.selectAll(\"circle\")\n",
       "            // Collect\n",
       "            .data(d3.range(5))\n",
       "            // Update\n",
       "            .join(\"circle\")\n",
       "            .attr(\"cx\", (d,i)=> ((0) * Math.cos(x(i))) + (width/2))\n",
       "            .attr(\"cy\", (d,i)=> ((0) * Math.sin(x(i))) + (height-margin))  \n",
       "            .attr(\"r\", (d,i)=> 30)\n",
       "            .style(\"fill\", (d,i)=> (i<=1)?\"white\":\"black\")\n",
       "            .style(\"stroke\", \"black\")\n",
       "            .style(\"stroke-width\", \"1px\")\n",
       "            .transition(\"circle\")\n",
       "            .duration(1000)\n",
       "            .delay((d,i)=> i * 100)\n",
       "            .attr(\"cx\", (d,i)=> ((radius) * Math.cos(x(i))) + (width/2))\n",
       "            .attr(\"cy\", (d,i)=> ((radius) * Math.sin(x(i))) + (height-margin))\n",
       "\n",
       "        fractions = [\"1/1\",\"0\",\"0\",\"0\",\"0\"]\n",
       "        svg3.selectAll(\"text.perc\")\n",
       "            // Collect\n",
       "            .data(fractions)\n",
       "            // Update\n",
       "            .join(\"text\")\n",
       "            .attr(\"class\",\"perc\")\n",
       "            .attr(\"x\", (d,i)=> ((0) * Math.cos(x(i))) + (width/2))\n",
       "            .attr(\"y\", (d,i)=> ((0) * Math.sin(x(i))) + (height-margin))  \n",
       "            .style(\"font-size\",\"30px\")\n",
       "            .style(\"text-anchor\", \"middle\")\n",
       "            .style(\"alignment-baseline\",\"middle\")\n",
       "            .text(d=>d)\n",
       "            .transition(\"text\")\n",
       "            .duration(1000)\n",
       "            .delay((d,i)=> i * 100)\n",
       "            .attr(\"x\", (d,i)=> ((radius) * Math.cos(x(i))) + (width/2))\n",
       "            .attr(\"y\", (d,i)=> ((radius) * Math.sin(x(i))) + (height-margin))\n",
       "        \n",
       "        \n",
       "        \n",
       "        svg3.append(\"text\")\n",
       "            .attr(\"class\",\"hungry\")\n",
       "            .attr(\"x\", width/2)\n",
       "            .attr(\"y\", (height-margin))\n",
       "            .style(\"font-size\",\"50px\")\n",
       "            .style(\"text-anchor\", \"middle\")\n",
       "            .style(\"alignment-baseline\",\"middle\")\n",
       "            .text(\"🤔\")\n",
       "        \n",
       "        function addPeople(cx,cy,e,s) {\n",
       "            var xc = d3.scaleLinear().domain([0,d3.range(e).length]).range([Math.PI, 3*Math.PI])\n",
       "            s.selectAll(\"text.feed\")\n",
       "                // Collect\n",
       "                .data(d3.range(e))\n",
       "                // Update\n",
       "                .join(\"text\")\n",
       "                .attr(\"class\",\"feed\")\n",
       "                .attr(\"x\", cx)\n",
       "                .attr(\"y\", cy)  \n",
       "                .style(\"font-size\",\"30px\")\n",
       "                .style(\"text-anchor\", \"middle\")\n",
       "                .style(\"alignment-baseline\",\"middle\")\n",
       "                .text(d=>\"😃\")\n",
       "                .transition(\"text2\")\n",
       "                .duration(1000)\n",
       "                .delay((d,i)=> i * 100)\n",
       "                .attr(\"x\", (d,i)=> ((40) * Math.cos(xc(i))) + cx)\n",
       "                .attr(\"y\", (d,i)=> ((40) * Math.sin(xc(i))) + cy)\n",
       "        \n",
       "            \n",
       "        }\n",
       "        var cx = ((radius) * Math.cos(x(0))) + (width/2)\n",
       "        var cy = ((radius) * Math.sin(x(0))) + (height-margin)\n",
       "        addPeople(cx,cy,1,svg3)\n",
       "    }\n",
       "    social2()\n",
       "</script>\n"
      ],
      "text/plain": [
       "<IPython.core.display.HTML object>"
      ]
     },
     "metadata": {},
     "output_type": "display_data"
    }
   ],
   "source": [
    "%%html\n",
    "<input type=\"button\" onclick=\"social2()\" value=\"Run Animation\">\n",
    "<div id=\"social2\"></div>\n",
    "\n",
    "<script type=\"text/javascript\">   \n",
    "    function social2() {\n",
    "        var width = 600\n",
    "        var height = 300\n",
    "        var margin = 55\n",
    "        var radius = 200\n",
    "        \n",
    "        d3.select(\"div#social2\").select(\"svg\").remove()\n",
    "        var svg3 = d3.select(\"div#social2\").append(\"svg\")\n",
    "            .attr(\"width\", width)\n",
    "            .attr(\"height\", height)\n",
    "\n",
    "        var x = d3.scaleLinear().domain([0,d3.range(5).length-1]).range([Math.PI, 2*Math.PI])\n",
    "\n",
    "        svg3.selectAll(\"line\")\n",
    "            .data(d3.range(2))\n",
    "            .join(\"line\")\n",
    "            .attr(\"x1\", (d,i)=> ((0) * Math.cos(x(i))) + (width/2))\n",
    "            .attr(\"y1\", (d,i)=> ((0) * Math.sin(x(i))) + (height-margin))  \n",
    "            .attr(\"x2\", (d,i)=> ((0) * Math.cos(x(i))) + (width/2))\n",
    "            .attr(\"y2\", (d,i)=> ((0) * Math.sin(x(i))) + (height-margin)) \n",
    "            .style(\"stroke\",\"darkgrey\")\n",
    "            .style(\"stroke-width\", \"10px\")\n",
    "            .style(\"stroke-linecap\",\"round\")\n",
    "            .transition(\"line\")\n",
    "            .duration(1000)\n",
    "            .delay((d,i)=> i * 100)\n",
    "            .attr(\"x2\", (d,i)=> ((radius) * Math.cos(x(i))) + (width/2))\n",
    "            .attr(\"y2\", (d,i)=> ((radius) * Math.sin(x(i))) + (height-margin))    \n",
    "\n",
    "        svg3.selectAll(\"circle\")\n",
    "            // Collect\n",
    "            .data(d3.range(5))\n",
    "            // Update\n",
    "            .join(\"circle\")\n",
    "            .attr(\"cx\", (d,i)=> ((0) * Math.cos(x(i))) + (width/2))\n",
    "            .attr(\"cy\", (d,i)=> ((0) * Math.sin(x(i))) + (height-margin))  \n",
    "            .attr(\"r\", (d,i)=> 30)\n",
    "            .style(\"fill\", (d,i)=> (i<=1)?\"white\":\"black\")\n",
    "            .style(\"stroke\", \"black\")\n",
    "            .style(\"stroke-width\", \"1px\")\n",
    "            .transition(\"circle\")\n",
    "            .duration(1000)\n",
    "            .delay((d,i)=> i * 100)\n",
    "            .attr(\"cx\", (d,i)=> ((radius) * Math.cos(x(i))) + (width/2))\n",
    "            .attr(\"cy\", (d,i)=> ((radius) * Math.sin(x(i))) + (height-margin))\n",
    "\n",
    "        fractions = [\"1/1\",\"0\",\"0\",\"0\",\"0\"]\n",
    "        svg3.selectAll(\"text.perc\")\n",
    "            // Collect\n",
    "            .data(fractions)\n",
    "            // Update\n",
    "            .join(\"text\")\n",
    "            .attr(\"class\",\"perc\")\n",
    "            .attr(\"x\", (d,i)=> ((0) * Math.cos(x(i))) + (width/2))\n",
    "            .attr(\"y\", (d,i)=> ((0) * Math.sin(x(i))) + (height-margin))  \n",
    "            .style(\"font-size\",\"30px\")\n",
    "            .style(\"text-anchor\", \"middle\")\n",
    "            .style(\"alignment-baseline\",\"middle\")\n",
    "            .text(d=>d)\n",
    "            .transition(\"text\")\n",
    "            .duration(1000)\n",
    "            .delay((d,i)=> i * 100)\n",
    "            .attr(\"x\", (d,i)=> ((radius) * Math.cos(x(i))) + (width/2))\n",
    "            .attr(\"y\", (d,i)=> ((radius) * Math.sin(x(i))) + (height-margin))\n",
    "        \n",
    "        \n",
    "        \n",
    "        svg3.append(\"text\")\n",
    "            .attr(\"class\",\"hungry\")\n",
    "            .attr(\"x\", width/2)\n",
    "            .attr(\"y\", (height-margin))\n",
    "            .style(\"font-size\",\"50px\")\n",
    "            .style(\"text-anchor\", \"middle\")\n",
    "            .style(\"alignment-baseline\",\"middle\")\n",
    "            .text(\"🤔\")\n",
    "        \n",
    "        function addPeople(cx,cy,e,s) {\n",
    "            var xc = d3.scaleLinear().domain([0,d3.range(e).length]).range([Math.PI, 3*Math.PI])\n",
    "            s.selectAll(\"text.feed\")\n",
    "                // Collect\n",
    "                .data(d3.range(e))\n",
    "                // Update\n",
    "                .join(\"text\")\n",
    "                .attr(\"class\",\"feed\")\n",
    "                .attr(\"x\", cx)\n",
    "                .attr(\"y\", cy)  \n",
    "                .style(\"font-size\",\"30px\")\n",
    "                .style(\"text-anchor\", \"middle\")\n",
    "                .style(\"alignment-baseline\",\"middle\")\n",
    "                .text(d=>\"😃\")\n",
    "                .transition(\"text2\")\n",
    "                .duration(1000)\n",
    "                .delay((d,i)=> i * 100)\n",
    "                .attr(\"x\", (d,i)=> ((40) * Math.cos(xc(i))) + cx)\n",
    "                .attr(\"y\", (d,i)=> ((40) * Math.sin(xc(i))) + cy)\n",
    "        \n",
    "            \n",
    "        }\n",
    "        var cx = ((radius) * Math.cos(x(0))) + (width/2)\n",
    "        var cy = ((radius) * Math.sin(x(0))) + (height-margin)\n",
    "        addPeople(cx,cy,1,svg3)\n",
    "    }\n",
    "    social2()\n",
    "</script>"
   ]
  },
  {
   "cell_type": "code",
   "execution_count": 370,
   "id": "3d20df50-50c9-422d-a233-13dfad7fd1e8",
   "metadata": {
    "jupyter": {
     "source_hidden": true
    },
    "tags": [
     "hide-input"
    ]
   },
   "outputs": [
    {
     "data": {
      "text/html": [
       "<script src='https://d3js.org/d3.v6.min.js'></script>"
      ],
      "text/plain": [
       "<IPython.core.display.HTML object>"
      ]
     },
     "metadata": {},
     "output_type": "display_data"
    },
    {
     "data": {
      "text/html": [
       "<script src='https://d3js.org/d3.v6.min.js'></script>"
      ],
      "text/plain": [
       "<IPython.core.display.HTML object>"
      ]
     },
     "metadata": {},
     "output_type": "display_data"
    },
    {
     "data": {
      "text/html": [
       "<script src='https://d3js.org/d3.v6.min.js'></script>"
      ],
      "text/plain": [
       "<IPython.core.display.HTML object>"
      ]
     },
     "metadata": {},
     "output_type": "display_data"
    },
    {
     "data": {
      "text/html": [
       "<script src='https://d3js.org/d3.v6.min.js'></script>"
      ],
      "text/plain": [
       "<IPython.core.display.HTML object>"
      ]
     },
     "metadata": {},
     "output_type": "display_data"
    },
    {
     "data": {
      "text/html": [
       "<script src='https://d3js.org/d3.v6.min.js'></script>"
      ],
      "text/plain": [
       "<IPython.core.display.HTML object>"
      ]
     },
     "metadata": {},
     "output_type": "display_data"
    },
    {
     "data": {
      "text/html": [
       "<script src='https://d3js.org/d3.v6.min.js'></script>"
      ],
      "text/plain": [
       "<IPython.core.display.HTML object>"
      ]
     },
     "metadata": {},
     "output_type": "display_data"
    },
    {
     "data": {
      "text/html": [
       "<script src='https://d3js.org/d3.v6.min.js'></script>"
      ],
      "text/plain": [
       "<IPython.core.display.HTML object>"
      ]
     },
     "metadata": {},
     "output_type": "display_data"
    },
    {
     "data": {
      "text/html": [
       "<script src='https://d3js.org/d3.v6.min.js'></script>"
      ],
      "text/plain": [
       "<IPython.core.display.HTML object>"
      ]
     },
     "metadata": {},
     "output_type": "display_data"
    },
    {
     "data": {
      "text/html": [
       "<input type=\"button\" onclick=\"social3()\" value=\"Run Animation\">\n",
       "<div id=\"social3\"></div>\n",
       "\n",
       "<script type=\"text/javascript\">   \n",
       "    function social3() {\n",
       "        var width = 600\n",
       "        var height = 300\n",
       "        var margin = 55\n",
       "        var radius = 200\n",
       "        \n",
       "        d3.select(\"div#social3\").select(\"svg\").remove()\n",
       "        var svg4 = d3.select(\"div#social3\").append(\"svg\")\n",
       "            .attr(\"width\", width)\n",
       "            .attr(\"height\", height)\n",
       "\n",
       "        var x = d3.scaleLinear().domain([0,d3.range(5).length-1]).range([Math.PI, 2*Math.PI])\n",
       "\n",
       "        svg4.selectAll(\"line\")\n",
       "            .data(d3.range(2))\n",
       "            .join(\"line\")\n",
       "            .attr(\"x1\", (d,i)=> ((0) * Math.cos(x(i))) + (width/2))\n",
       "            .attr(\"y1\", (d,i)=> ((0) * Math.sin(x(i))) + (height-margin))  \n",
       "            .attr(\"x2\", (d,i)=> ((0) * Math.cos(x(i))) + (width/2))\n",
       "            .attr(\"y2\", (d,i)=> ((0) * Math.sin(x(i))) + (height-margin)) \n",
       "            .style(\"stroke\",\"darkgrey\")\n",
       "            .style(\"stroke-width\", \"10px\")\n",
       "            .style(\"stroke-linecap\",\"round\")\n",
       "            .transition(\"line\")\n",
       "            .duration(1000)\n",
       "            .delay((d,i)=> i * 100)\n",
       "            .attr(\"x2\", (d,i)=> ((radius) * Math.cos(x(i))) + (width/2))\n",
       "            .attr(\"y2\", (d,i)=> ((radius) * Math.sin(x(i))) + (height-margin))    \n",
       "\n",
       "        svg4.selectAll(\"circle\")\n",
       "            // Collect\n",
       "            .data(d3.range(5))\n",
       "            // Update\n",
       "            .join(\"circle\")\n",
       "            .attr(\"cx\", (d,i)=> ((0) * Math.cos(x(i))) + (width/2))\n",
       "            .attr(\"cy\", (d,i)=> ((0) * Math.sin(x(i))) + (height-margin))  \n",
       "            .attr(\"r\", (d,i)=> 30)\n",
       "            .style(\"fill\", (d,i)=> (i<=1)?\"white\":\"black\")\n",
       "            .style(\"stroke\", \"black\")\n",
       "            .style(\"stroke-width\", \"1px\")\n",
       "            .transition(\"circle\")\n",
       "            .duration(1000)\n",
       "            .delay((d,i)=> i * 100)\n",
       "            .attr(\"cx\", (d,i)=> ((radius) * Math.cos(x(i))) + (width/2))\n",
       "            .attr(\"cy\", (d,i)=> ((radius) * Math.sin(x(i))) + (height-margin))\n",
       "\n",
       "        fractions = [\"2/2\",\"0\",\"0\",\"0\",\"0\"]\n",
       "        svg4.selectAll(\"text.perc\")\n",
       "            // Collect\n",
       "            .data(fractions)\n",
       "            // Update\n",
       "            .join(\"text\")\n",
       "            .attr(\"class\",\"perc\")\n",
       "            .attr(\"x\", (d,i)=> ((0) * Math.cos(x(i))) + (width/2))\n",
       "            .attr(\"y\", (d,i)=> ((0) * Math.sin(x(i))) + (height-margin))  \n",
       "            .style(\"font-size\",\"30px\")\n",
       "            .style(\"text-anchor\", \"middle\")\n",
       "            .style(\"alignment-baseline\",\"middle\")\n",
       "            .text(d=>d)\n",
       "            .transition(\"text\")\n",
       "            .duration(1000)\n",
       "            .delay((d,i)=> i * 100)\n",
       "            .attr(\"x\", (d,i)=> ((radius) * Math.cos(x(i))) + (width/2))\n",
       "            .attr(\"y\", (d,i)=> ((radius) * Math.sin(x(i))) + (height-margin))\n",
       "        \n",
       "        \n",
       "        \n",
       "        svg4.append(\"text\")\n",
       "            .attr(\"class\",\"hungry\")\n",
       "            .attr(\"x\", width/2)\n",
       "            .attr(\"y\", (height-margin))\n",
       "            .style(\"font-size\",\"50px\")\n",
       "            .style(\"text-anchor\", \"middle\")\n",
       "            .style(\"alignment-baseline\",\"middle\")\n",
       "            .text(\"🤔\")\n",
       "        \n",
       "        function addPeople(cx,cy,e,s) {\n",
       "            var xc = d3.scaleLinear().domain([0,d3.range(e).length]).range([Math.PI, 3*Math.PI])\n",
       "            s.selectAll(\"text.feed\")\n",
       "                // Collect\n",
       "                .data(d3.range(e))\n",
       "                // Update\n",
       "                .join(\"text\")\n",
       "                .attr(\"class\",\"feed\")\n",
       "                .attr(\"x\", cx)\n",
       "                .attr(\"y\", cy)  \n",
       "                .style(\"font-size\",\"30px\")\n",
       "                .style(\"text-anchor\", \"middle\")\n",
       "                .style(\"alignment-baseline\",\"middle\")\n",
       "                .text(d=>\"😃\")\n",
       "                .transition(\"text2\")\n",
       "                .duration(1000)\n",
       "                .delay((d,i)=> i * 100)\n",
       "                .attr(\"x\", (d,i)=> ((40) * Math.cos(xc(i))) + cx)\n",
       "                .attr(\"y\", (d,i)=> ((40) * Math.sin(xc(i))) + cy)\n",
       "        \n",
       "            \n",
       "        }\n",
       "        var cx = ((radius) * Math.cos(x(0))) + (width/2)\n",
       "        var cy = ((radius) * Math.sin(x(0))) + (height-margin)\n",
       "        addPeople(cx,cy,2,svg4)\n",
       "    }\n",
       "    social3()\n",
       "</script>\n"
      ],
      "text/plain": [
       "<IPython.core.display.HTML object>"
      ]
     },
     "metadata": {},
     "output_type": "display_data"
    }
   ],
   "source": [
    "%%html\n",
    "<input type=\"button\" onclick=\"social3()\" value=\"Run Animation\">\n",
    "<div id=\"social3\"></div>\n",
    "\n",
    "<script type=\"text/javascript\">   \n",
    "    function social3() {\n",
    "        var width = 600\n",
    "        var height = 300\n",
    "        var margin = 55\n",
    "        var radius = 200\n",
    "        \n",
    "        d3.select(\"div#social3\").select(\"svg\").remove()\n",
    "        var svg4 = d3.select(\"div#social3\").append(\"svg\")\n",
    "            .attr(\"width\", width)\n",
    "            .attr(\"height\", height)\n",
    "\n",
    "        var x = d3.scaleLinear().domain([0,d3.range(5).length-1]).range([Math.PI, 2*Math.PI])\n",
    "\n",
    "        svg4.selectAll(\"line\")\n",
    "            .data(d3.range(2))\n",
    "            .join(\"line\")\n",
    "            .attr(\"x1\", (d,i)=> ((0) * Math.cos(x(i))) + (width/2))\n",
    "            .attr(\"y1\", (d,i)=> ((0) * Math.sin(x(i))) + (height-margin))  \n",
    "            .attr(\"x2\", (d,i)=> ((0) * Math.cos(x(i))) + (width/2))\n",
    "            .attr(\"y2\", (d,i)=> ((0) * Math.sin(x(i))) + (height-margin)) \n",
    "            .style(\"stroke\",\"darkgrey\")\n",
    "            .style(\"stroke-width\", \"10px\")\n",
    "            .style(\"stroke-linecap\",\"round\")\n",
    "            .transition(\"line\")\n",
    "            .duration(1000)\n",
    "            .delay((d,i)=> i * 100)\n",
    "            .attr(\"x2\", (d,i)=> ((radius) * Math.cos(x(i))) + (width/2))\n",
    "            .attr(\"y2\", (d,i)=> ((radius) * Math.sin(x(i))) + (height-margin))    \n",
    "\n",
    "        svg4.selectAll(\"circle\")\n",
    "            // Collect\n",
    "            .data(d3.range(5))\n",
    "            // Update\n",
    "            .join(\"circle\")\n",
    "            .attr(\"cx\", (d,i)=> ((0) * Math.cos(x(i))) + (width/2))\n",
    "            .attr(\"cy\", (d,i)=> ((0) * Math.sin(x(i))) + (height-margin))  \n",
    "            .attr(\"r\", (d,i)=> 30)\n",
    "            .style(\"fill\", (d,i)=> (i<=1)?\"white\":\"black\")\n",
    "            .style(\"stroke\", \"black\")\n",
    "            .style(\"stroke-width\", \"1px\")\n",
    "            .transition(\"circle\")\n",
    "            .duration(1000)\n",
    "            .delay((d,i)=> i * 100)\n",
    "            .attr(\"cx\", (d,i)=> ((radius) * Math.cos(x(i))) + (width/2))\n",
    "            .attr(\"cy\", (d,i)=> ((radius) * Math.sin(x(i))) + (height-margin))\n",
    "\n",
    "        fractions = [\"2/2\",\"0\",\"0\",\"0\",\"0\"]\n",
    "        svg4.selectAll(\"text.perc\")\n",
    "            // Collect\n",
    "            .data(fractions)\n",
    "            // Update\n",
    "            .join(\"text\")\n",
    "            .attr(\"class\",\"perc\")\n",
    "            .attr(\"x\", (d,i)=> ((0) * Math.cos(x(i))) + (width/2))\n",
    "            .attr(\"y\", (d,i)=> ((0) * Math.sin(x(i))) + (height-margin))  \n",
    "            .style(\"font-size\",\"30px\")\n",
    "            .style(\"text-anchor\", \"middle\")\n",
    "            .style(\"alignment-baseline\",\"middle\")\n",
    "            .text(d=>d)\n",
    "            .transition(\"text\")\n",
    "            .duration(1000)\n",
    "            .delay((d,i)=> i * 100)\n",
    "            .attr(\"x\", (d,i)=> ((radius) * Math.cos(x(i))) + (width/2))\n",
    "            .attr(\"y\", (d,i)=> ((radius) * Math.sin(x(i))) + (height-margin))\n",
    "        \n",
    "        \n",
    "        \n",
    "        svg4.append(\"text\")\n",
    "            .attr(\"class\",\"hungry\")\n",
    "            .attr(\"x\", width/2)\n",
    "            .attr(\"y\", (height-margin))\n",
    "            .style(\"font-size\",\"50px\")\n",
    "            .style(\"text-anchor\", \"middle\")\n",
    "            .style(\"alignment-baseline\",\"middle\")\n",
    "            .text(\"🤔\")\n",
    "        \n",
    "        function addPeople(cx,cy,e,s) {\n",
    "            var xc = d3.scaleLinear().domain([0,d3.range(e).length]).range([Math.PI, 3*Math.PI])\n",
    "            s.selectAll(\"text.feed\")\n",
    "                // Collect\n",
    "                .data(d3.range(e))\n",
    "                // Update\n",
    "                .join(\"text\")\n",
    "                .attr(\"class\",\"feed\")\n",
    "                .attr(\"x\", cx)\n",
    "                .attr(\"y\", cy)  \n",
    "                .style(\"font-size\",\"30px\")\n",
    "                .style(\"text-anchor\", \"middle\")\n",
    "                .style(\"alignment-baseline\",\"middle\")\n",
    "                .text(d=>\"😃\")\n",
    "                .transition(\"text2\")\n",
    "                .duration(1000)\n",
    "                .delay((d,i)=> i * 100)\n",
    "                .attr(\"x\", (d,i)=> ((40) * Math.cos(xc(i))) + cx)\n",
    "                .attr(\"y\", (d,i)=> ((40) * Math.sin(xc(i))) + cy)\n",
    "        \n",
    "            \n",
    "        }\n",
    "        var cx = ((radius) * Math.cos(x(0))) + (width/2)\n",
    "        var cy = ((radius) * Math.sin(x(0))) + (height-margin)\n",
    "        addPeople(cx,cy,2,svg4)\n",
    "    }\n",
    "    social3()\n",
    "</script>"
   ]
  },
  {
   "cell_type": "code",
   "execution_count": 371,
   "id": "7cfea82c-3f8e-420a-bf33-10dc5e5b0c61",
   "metadata": {
    "jupyter": {
     "source_hidden": true
    },
    "tags": [
     "hide-input"
    ]
   },
   "outputs": [
    {
     "data": {
      "text/html": [
       "<script src='https://d3js.org/d3.v6.min.js'></script>"
      ],
      "text/plain": [
       "<IPython.core.display.HTML object>"
      ]
     },
     "metadata": {},
     "output_type": "display_data"
    },
    {
     "data": {
      "text/html": [
       "<script src='https://d3js.org/d3.v6.min.js'></script>"
      ],
      "text/plain": [
       "<IPython.core.display.HTML object>"
      ]
     },
     "metadata": {},
     "output_type": "display_data"
    },
    {
     "data": {
      "text/html": [
       "<script src='https://d3js.org/d3.v6.min.js'></script>"
      ],
      "text/plain": [
       "<IPython.core.display.HTML object>"
      ]
     },
     "metadata": {},
     "output_type": "display_data"
    },
    {
     "data": {
      "text/html": [
       "<script src='https://d3js.org/d3.v6.min.js'></script>"
      ],
      "text/plain": [
       "<IPython.core.display.HTML object>"
      ]
     },
     "metadata": {},
     "output_type": "display_data"
    },
    {
     "data": {
      "text/html": [
       "<script src='https://d3js.org/d3.v6.min.js'></script>"
      ],
      "text/plain": [
       "<IPython.core.display.HTML object>"
      ]
     },
     "metadata": {},
     "output_type": "display_data"
    },
    {
     "data": {
      "text/html": [
       "<script src='https://d3js.org/d3.v6.min.js'></script>"
      ],
      "text/plain": [
       "<IPython.core.display.HTML object>"
      ]
     },
     "metadata": {},
     "output_type": "display_data"
    },
    {
     "data": {
      "text/html": [
       "<script src='https://d3js.org/d3.v6.min.js'></script>"
      ],
      "text/plain": [
       "<IPython.core.display.HTML object>"
      ]
     },
     "metadata": {},
     "output_type": "display_data"
    },
    {
     "data": {
      "text/html": [
       "<script src='https://d3js.org/d3.v6.min.js'></script>"
      ],
      "text/plain": [
       "<IPython.core.display.HTML object>"
      ]
     },
     "metadata": {},
     "output_type": "display_data"
    },
    {
     "data": {
      "text/html": [
       "<input type=\"button\" onclick=\"social4()\" value=\"Run Animation\">\n",
       "<div id=\"social4\"></div>\n",
       "\n",
       "<script type=\"text/javascript\">   \n",
       "    function social4() {\n",
       "        var width = 600\n",
       "        var height = 300\n",
       "        var margin = 55\n",
       "        var radius = 200\n",
       "        \n",
       "        d3.select(\"div#social4\").select(\"svg\").remove()\n",
       "        var svg5 = d3.select(\"div#social4\").append(\"svg\")\n",
       "            .attr(\"width\", width)\n",
       "            .attr(\"height\", height)\n",
       "\n",
       "        var x = d3.scaleLinear().domain([0,d3.range(5).length-1]).range([Math.PI, 2*Math.PI])\n",
       "\n",
       "        svg5.selectAll(\"line\")\n",
       "            .data(d3.range(2))\n",
       "            .join(\"line\")\n",
       "            .attr(\"x1\", (d,i)=> ((0) * Math.cos(x(i))) + (width/2))\n",
       "            .attr(\"y1\", (d,i)=> ((0) * Math.sin(x(i))) + (height-margin))  \n",
       "            .attr(\"x2\", (d,i)=> ((0) * Math.cos(x(i))) + (width/2))\n",
       "            .attr(\"y2\", (d,i)=> ((0) * Math.sin(x(i))) + (height-margin)) \n",
       "            .style(\"stroke\",\"darkgrey\")\n",
       "            .style(\"stroke-width\", \"10px\")\n",
       "            .style(\"stroke-linecap\",\"round\")\n",
       "            .transition(\"line\")\n",
       "            .duration(1000)\n",
       "            .delay((d,i)=> i * 100)\n",
       "            .attr(\"x2\", (d,i)=> ((radius) * Math.cos(x(i))) + (width/2))\n",
       "            .attr(\"y2\", (d,i)=> ((radius) * Math.sin(x(i))) + (height-margin))    \n",
       "\n",
       "        svg5.selectAll(\"circle\")\n",
       "            // Collect\n",
       "            .data(d3.range(5))\n",
       "            // Update\n",
       "            .join(\"circle\")\n",
       "            .attr(\"cx\", (d,i)=> ((0) * Math.cos(x(i))) + (width/2))\n",
       "            .attr(\"cy\", (d,i)=> ((0) * Math.sin(x(i))) + (height-margin))  \n",
       "            .attr(\"r\", (d,i)=> 30)\n",
       "            .style(\"fill\", (d,i)=> (i<=1)?\"white\":\"black\")\n",
       "            .style(\"stroke\", \"black\")\n",
       "            .style(\"stroke-width\", \"1px\")\n",
       "            .transition(\"circle\")\n",
       "            .duration(1000)\n",
       "            .delay((d,i)=> i * 100)\n",
       "            .attr(\"cx\", (d,i)=> ((radius) * Math.cos(x(i))) + (width/2))\n",
       "            .attr(\"cy\", (d,i)=> ((radius) * Math.sin(x(i))) + (height-margin))\n",
       "\n",
       "        fractions = [\"3/3\",\"0\",\"0\",\"0\",\"0\"]\n",
       "        svg5.selectAll(\"text.perc\")\n",
       "            // Collect\n",
       "            .data(fractions)\n",
       "            // Update\n",
       "            .join(\"text\")\n",
       "            .attr(\"class\",\"perc\")\n",
       "            .attr(\"x\", (d,i)=> ((0) * Math.cos(x(i))) + (width/2))\n",
       "            .attr(\"y\", (d,i)=> ((0) * Math.sin(x(i))) + (height-margin))  \n",
       "            .style(\"font-size\",\"30px\")\n",
       "            .style(\"text-anchor\", \"middle\")\n",
       "            .style(\"alignment-baseline\",\"middle\")\n",
       "            .text(d=>d)\n",
       "            .transition(\"text\")\n",
       "            .duration(1000)\n",
       "            .delay((d,i)=> i * 100)\n",
       "            .attr(\"x\", (d,i)=> ((radius) * Math.cos(x(i))) + (width/2))\n",
       "            .attr(\"y\", (d,i)=> ((radius) * Math.sin(x(i))) + (height-margin))\n",
       "        \n",
       "        \n",
       "        \n",
       "        svg5.append(\"text\")\n",
       "            .attr(\"class\",\"hungry\")\n",
       "            .attr(\"x\", width/2)\n",
       "            .attr(\"y\", (height-margin))\n",
       "            .style(\"font-size\",\"50px\")\n",
       "            .style(\"text-anchor\", \"middle\")\n",
       "            .style(\"alignment-baseline\",\"middle\")\n",
       "            .text(\"🤔\")\n",
       "        \n",
       "        function addPeople(cx,cy,e,s) {\n",
       "            var xc = d3.scaleLinear().domain([0,d3.range(e).length]).range([Math.PI, 3*Math.PI])\n",
       "            s.selectAll(\"text.feed\")\n",
       "                // Collect\n",
       "                .data(d3.range(e))\n",
       "                // Update\n",
       "                .join(\"text\")\n",
       "                .attr(\"class\",\"feed\")\n",
       "                .attr(\"x\", cx)\n",
       "                .attr(\"y\", cy)  \n",
       "                .style(\"font-size\",\"30px\")\n",
       "                .style(\"text-anchor\", \"middle\")\n",
       "                .style(\"alignment-baseline\",\"middle\")\n",
       "                .text(d=>\"😃\")\n",
       "                .transition(\"text2\")\n",
       "                .duration(1000)\n",
       "                .delay((d,i)=> i * 100)\n",
       "                .attr(\"x\", (d,i)=> ((40) * Math.cos(xc(i))) + cx)\n",
       "                .attr(\"y\", (d,i)=> ((40) * Math.sin(xc(i))) + cy)\n",
       "        \n",
       "            \n",
       "        }\n",
       "        var cx = ((radius) * Math.cos(x(0))) + (width/2)\n",
       "        var cy = ((radius) * Math.sin(x(0))) + (height-margin)\n",
       "        addPeople(cx,cy,3,svg5)\n",
       "    }\n",
       "    social4()\n",
       "</script>\n"
      ],
      "text/plain": [
       "<IPython.core.display.HTML object>"
      ]
     },
     "metadata": {},
     "output_type": "display_data"
    }
   ],
   "source": [
    "%%html\n",
    "<input type=\"button\" onclick=\"social4()\" value=\"Run Animation\">\n",
    "<div id=\"social4\"></div>\n",
    "\n",
    "<script type=\"text/javascript\">   \n",
    "    function social4() {\n",
    "        var width = 600\n",
    "        var height = 300\n",
    "        var margin = 55\n",
    "        var radius = 200\n",
    "        \n",
    "        d3.select(\"div#social4\").select(\"svg\").remove()\n",
    "        var svg5 = d3.select(\"div#social4\").append(\"svg\")\n",
    "            .attr(\"width\", width)\n",
    "            .attr(\"height\", height)\n",
    "\n",
    "        var x = d3.scaleLinear().domain([0,d3.range(5).length-1]).range([Math.PI, 2*Math.PI])\n",
    "\n",
    "        svg5.selectAll(\"line\")\n",
    "            .data(d3.range(2))\n",
    "            .join(\"line\")\n",
    "            .attr(\"x1\", (d,i)=> ((0) * Math.cos(x(i))) + (width/2))\n",
    "            .attr(\"y1\", (d,i)=> ((0) * Math.sin(x(i))) + (height-margin))  \n",
    "            .attr(\"x2\", (d,i)=> ((0) * Math.cos(x(i))) + (width/2))\n",
    "            .attr(\"y2\", (d,i)=> ((0) * Math.sin(x(i))) + (height-margin)) \n",
    "            .style(\"stroke\",\"darkgrey\")\n",
    "            .style(\"stroke-width\", \"10px\")\n",
    "            .style(\"stroke-linecap\",\"round\")\n",
    "            .transition(\"line\")\n",
    "            .duration(1000)\n",
    "            .delay((d,i)=> i * 100)\n",
    "            .attr(\"x2\", (d,i)=> ((radius) * Math.cos(x(i))) + (width/2))\n",
    "            .attr(\"y2\", (d,i)=> ((radius) * Math.sin(x(i))) + (height-margin))    \n",
    "\n",
    "        svg5.selectAll(\"circle\")\n",
    "            // Collect\n",
    "            .data(d3.range(5))\n",
    "            // Update\n",
    "            .join(\"circle\")\n",
    "            .attr(\"cx\", (d,i)=> ((0) * Math.cos(x(i))) + (width/2))\n",
    "            .attr(\"cy\", (d,i)=> ((0) * Math.sin(x(i))) + (height-margin))  \n",
    "            .attr(\"r\", (d,i)=> 30)\n",
    "            .style(\"fill\", (d,i)=> (i<=1)?\"white\":\"black\")\n",
    "            .style(\"stroke\", \"black\")\n",
    "            .style(\"stroke-width\", \"1px\")\n",
    "            .transition(\"circle\")\n",
    "            .duration(1000)\n",
    "            .delay((d,i)=> i * 100)\n",
    "            .attr(\"cx\", (d,i)=> ((radius) * Math.cos(x(i))) + (width/2))\n",
    "            .attr(\"cy\", (d,i)=> ((radius) * Math.sin(x(i))) + (height-margin))\n",
    "\n",
    "        fractions = [\"3/3\",\"0\",\"0\",\"0\",\"0\"]\n",
    "        svg5.selectAll(\"text.perc\")\n",
    "            // Collect\n",
    "            .data(fractions)\n",
    "            // Update\n",
    "            .join(\"text\")\n",
    "            .attr(\"class\",\"perc\")\n",
    "            .attr(\"x\", (d,i)=> ((0) * Math.cos(x(i))) + (width/2))\n",
    "            .attr(\"y\", (d,i)=> ((0) * Math.sin(x(i))) + (height-margin))  \n",
    "            .style(\"font-size\",\"30px\")\n",
    "            .style(\"text-anchor\", \"middle\")\n",
    "            .style(\"alignment-baseline\",\"middle\")\n",
    "            .text(d=>d)\n",
    "            .transition(\"text\")\n",
    "            .duration(1000)\n",
    "            .delay((d,i)=> i * 100)\n",
    "            .attr(\"x\", (d,i)=> ((radius) * Math.cos(x(i))) + (width/2))\n",
    "            .attr(\"y\", (d,i)=> ((radius) * Math.sin(x(i))) + (height-margin))\n",
    "        \n",
    "        \n",
    "        \n",
    "        svg5.append(\"text\")\n",
    "            .attr(\"class\",\"hungry\")\n",
    "            .attr(\"x\", width/2)\n",
    "            .attr(\"y\", (height-margin))\n",
    "            .style(\"font-size\",\"50px\")\n",
    "            .style(\"text-anchor\", \"middle\")\n",
    "            .style(\"alignment-baseline\",\"middle\")\n",
    "            .text(\"🤔\")\n",
    "        \n",
    "        function addPeople(cx,cy,e,s) {\n",
    "            var xc = d3.scaleLinear().domain([0,d3.range(e).length]).range([Math.PI, 3*Math.PI])\n",
    "            s.selectAll(\"text.feed\")\n",
    "                // Collect\n",
    "                .data(d3.range(e))\n",
    "                // Update\n",
    "                .join(\"text\")\n",
    "                .attr(\"class\",\"feed\")\n",
    "                .attr(\"x\", cx)\n",
    "                .attr(\"y\", cy)  \n",
    "                .style(\"font-size\",\"30px\")\n",
    "                .style(\"text-anchor\", \"middle\")\n",
    "                .style(\"alignment-baseline\",\"middle\")\n",
    "                .text(d=>\"😃\")\n",
    "                .transition(\"text2\")\n",
    "                .duration(1000)\n",
    "                .delay((d,i)=> i * 100)\n",
    "                .attr(\"x\", (d,i)=> ((40) * Math.cos(xc(i))) + cx)\n",
    "                .attr(\"y\", (d,i)=> ((40) * Math.sin(xc(i))) + cy)\n",
    "        \n",
    "            \n",
    "        }\n",
    "        var cx = ((radius) * Math.cos(x(0))) + (width/2)\n",
    "        var cy = ((radius) * Math.sin(x(0))) + (height-margin)\n",
    "        addPeople(cx,cy,3,svg5)\n",
    "    }\n",
    "    social4()\n",
    "</script>"
   ]
  },
  {
   "cell_type": "code",
   "execution_count": 372,
   "id": "2175f40b-0e1b-454e-93da-c75686e3a859",
   "metadata": {
    "jupyter": {
     "source_hidden": true
    },
    "tags": [
     "hide-input"
    ]
   },
   "outputs": [
    {
     "data": {
      "text/html": [
       "<script src='https://d3js.org/d3.v6.min.js'></script>"
      ],
      "text/plain": [
       "<IPython.core.display.HTML object>"
      ]
     },
     "metadata": {},
     "output_type": "display_data"
    },
    {
     "data": {
      "text/html": [
       "<script src='https://d3js.org/d3.v6.min.js'></script>"
      ],
      "text/plain": [
       "<IPython.core.display.HTML object>"
      ]
     },
     "metadata": {},
     "output_type": "display_data"
    },
    {
     "data": {
      "text/html": [
       "<script src='https://d3js.org/d3.v6.min.js'></script>"
      ],
      "text/plain": [
       "<IPython.core.display.HTML object>"
      ]
     },
     "metadata": {},
     "output_type": "display_data"
    },
    {
     "data": {
      "text/html": [
       "<script src='https://d3js.org/d3.v6.min.js'></script>"
      ],
      "text/plain": [
       "<IPython.core.display.HTML object>"
      ]
     },
     "metadata": {},
     "output_type": "display_data"
    },
    {
     "data": {
      "text/html": [
       "<script src='https://d3js.org/d3.v6.min.js'></script>"
      ],
      "text/plain": [
       "<IPython.core.display.HTML object>"
      ]
     },
     "metadata": {},
     "output_type": "display_data"
    },
    {
     "data": {
      "text/html": [
       "<script src='https://d3js.org/d3.v6.min.js'></script>"
      ],
      "text/plain": [
       "<IPython.core.display.HTML object>"
      ]
     },
     "metadata": {},
     "output_type": "display_data"
    },
    {
     "data": {
      "text/html": [
       "<script src='https://d3js.org/d3.v6.min.js'></script>"
      ],
      "text/plain": [
       "<IPython.core.display.HTML object>"
      ]
     },
     "metadata": {},
     "output_type": "display_data"
    },
    {
     "data": {
      "text/html": [
       "<script src='https://d3js.org/d3.v6.min.js'></script>"
      ],
      "text/plain": [
       "<IPython.core.display.HTML object>"
      ]
     },
     "metadata": {},
     "output_type": "display_data"
    },
    {
     "data": {
      "text/html": [
       "<input type=\"button\" onclick=\"social5()\" value=\"Run Animation\">\n",
       "<div id=\"social5\"></div>\n",
       "\n",
       "<script type=\"text/javascript\">   \n",
       "    function social5() {\n",
       "        var width = 600\n",
       "        var height = 300\n",
       "        var margin = 55\n",
       "        var radius = 200\n",
       "        \n",
       "        d3.select(\"div#social5\").select(\"svg\").remove()\n",
       "        var svg6 = d3.select(\"div#social5\").append(\"svg\")\n",
       "            .attr(\"width\", width)\n",
       "            .attr(\"height\", height)\n",
       "\n",
       "        var x = d3.scaleLinear().domain([0,d3.range(5).length-1]).range([Math.PI, 2*Math.PI])\n",
       "\n",
       "        svg6.selectAll(\"line\")\n",
       "            .data(d3.range(2))\n",
       "            .join(\"line\")\n",
       "            .attr(\"x1\", (d,i)=> ((0) * Math.cos(x(i))) + (width/2))\n",
       "            .attr(\"y1\", (d,i)=> ((0) * Math.sin(x(i))) + (height-margin))  \n",
       "            .attr(\"x2\", (d,i)=> ((0) * Math.cos(x(i))) + (width/2))\n",
       "            .attr(\"y2\", (d,i)=> ((0) * Math.sin(x(i))) + (height-margin)) \n",
       "            .style(\"stroke\",\"darkgrey\")\n",
       "            .style(\"stroke-width\", \"10px\")\n",
       "            .style(\"stroke-linecap\",\"round\")\n",
       "            .transition(\"line\")\n",
       "            .duration(1000)\n",
       "            .delay((d,i)=> i * 100)\n",
       "            .attr(\"x2\", (d,i)=> ((radius) * Math.cos(x(i))) + (width/2))\n",
       "            .attr(\"y2\", (d,i)=> ((radius) * Math.sin(x(i))) + (height-margin))    \n",
       "\n",
       "        svg6.selectAll(\"circle\")\n",
       "            // Collect\n",
       "            .data(d3.range(5))\n",
       "            // Update\n",
       "            .join(\"circle\")\n",
       "            .attr(\"cx\", (d,i)=> ((0) * Math.cos(x(i))) + (width/2))\n",
       "            .attr(\"cy\", (d,i)=> ((0) * Math.sin(x(i))) + (height-margin))  \n",
       "            .attr(\"r\", (d,i)=> 30)\n",
       "            .style(\"fill\", (d,i)=> (i<=1)?\"white\":\"black\")\n",
       "            .style(\"stroke\", \"black\")\n",
       "            .style(\"stroke-width\", \"1px\")\n",
       "            .transition(\"circle\")\n",
       "            .duration(1000)\n",
       "            .delay((d,i)=> i * 100)\n",
       "            .attr(\"cx\", (d,i)=> ((radius) * Math.cos(x(i))) + (width/2))\n",
       "            .attr(\"cy\", (d,i)=> ((radius) * Math.sin(x(i))) + (height-margin))\n",
       "\n",
       "        fractions = [\"4/4\",\"0\",\"0\",\"0\",\"0\"]\n",
       "        svg6.selectAll(\"text.perc\")\n",
       "            // Collect\n",
       "            .data(fractions)\n",
       "            // Update\n",
       "            .join(\"text\")\n",
       "            .attr(\"class\",\"perc\")\n",
       "            .attr(\"x\", (d,i)=> ((0) * Math.cos(x(i))) + (width/2))\n",
       "            .attr(\"y\", (d,i)=> ((0) * Math.sin(x(i))) + (height-margin))  \n",
       "            .style(\"font-size\",\"30px\")\n",
       "            .style(\"text-anchor\", \"middle\")\n",
       "            .style(\"alignment-baseline\",\"middle\")\n",
       "            .text(d=>d)\n",
       "            .transition(\"text\")\n",
       "            .duration(1000)\n",
       "            .delay((d,i)=> i * 100)\n",
       "            .attr(\"x\", (d,i)=> ((radius) * Math.cos(x(i))) + (width/2))\n",
       "            .attr(\"y\", (d,i)=> ((radius) * Math.sin(x(i))) + (height-margin))\n",
       "        \n",
       "        \n",
       "        \n",
       "        svg6.append(\"text\")\n",
       "            .attr(\"class\",\"hungry\")\n",
       "            .attr(\"x\", width/2)\n",
       "            .attr(\"y\", (height-margin))\n",
       "            .style(\"font-size\",\"50px\")\n",
       "            .style(\"text-anchor\", \"middle\")\n",
       "            .style(\"alignment-baseline\",\"middle\")\n",
       "            .text(\"🤔\")\n",
       "        \n",
       "        function addPeople(cx,cy,e,s) {\n",
       "            var xc = d3.scaleLinear().domain([0,d3.range(e).length]).range([Math.PI, 3*Math.PI])\n",
       "            s.selectAll(\"text.feed\")\n",
       "                // Collect\n",
       "                .data(d3.range(e))\n",
       "                // Update\n",
       "                .join(\"text\")\n",
       "                .attr(\"class\",\"feed\")\n",
       "                .attr(\"x\", cx)\n",
       "                .attr(\"y\", cy)  \n",
       "                .style(\"font-size\",\"30px\")\n",
       "                .style(\"text-anchor\", \"middle\")\n",
       "                .style(\"alignment-baseline\",\"middle\")\n",
       "                .text(d=>\"😃\")\n",
       "                .transition(\"text2\")\n",
       "                .duration(1000)\n",
       "                .delay((d,i)=> i * 100)\n",
       "                .attr(\"x\", (d,i)=> ((40) * Math.cos(xc(i))) + cx)\n",
       "                .attr(\"y\", (d,i)=> ((40) * Math.sin(xc(i))) + cy)\n",
       "        \n",
       "            \n",
       "        }\n",
       "        var cx = ((radius) * Math.cos(x(0))) + (width/2)\n",
       "        var cy = ((radius) * Math.sin(x(0))) + (height-margin)\n",
       "        addPeople(cx,cy,4,svg6)\n",
       "    }\n",
       "    social5()\n",
       "</script>\n"
      ],
      "text/plain": [
       "<IPython.core.display.HTML object>"
      ]
     },
     "metadata": {},
     "output_type": "display_data"
    }
   ],
   "source": [
    "%%html\n",
    "<input type=\"button\" onclick=\"social5()\" value=\"Run Animation\">\n",
    "<div id=\"social5\"></div>\n",
    "\n",
    "<script type=\"text/javascript\">   \n",
    "    function social5() {\n",
    "        var width = 600\n",
    "        var height = 300\n",
    "        var margin = 55\n",
    "        var radius = 200\n",
    "        \n",
    "        d3.select(\"div#social5\").select(\"svg\").remove()\n",
    "        var svg6 = d3.select(\"div#social5\").append(\"svg\")\n",
    "            .attr(\"width\", width)\n",
    "            .attr(\"height\", height)\n",
    "\n",
    "        var x = d3.scaleLinear().domain([0,d3.range(5).length-1]).range([Math.PI, 2*Math.PI])\n",
    "\n",
    "        svg6.selectAll(\"line\")\n",
    "            .data(d3.range(2))\n",
    "            .join(\"line\")\n",
    "            .attr(\"x1\", (d,i)=> ((0) * Math.cos(x(i))) + (width/2))\n",
    "            .attr(\"y1\", (d,i)=> ((0) * Math.sin(x(i))) + (height-margin))  \n",
    "            .attr(\"x2\", (d,i)=> ((0) * Math.cos(x(i))) + (width/2))\n",
    "            .attr(\"y2\", (d,i)=> ((0) * Math.sin(x(i))) + (height-margin)) \n",
    "            .style(\"stroke\",\"darkgrey\")\n",
    "            .style(\"stroke-width\", \"10px\")\n",
    "            .style(\"stroke-linecap\",\"round\")\n",
    "            .transition(\"line\")\n",
    "            .duration(1000)\n",
    "            .delay((d,i)=> i * 100)\n",
    "            .attr(\"x2\", (d,i)=> ((radius) * Math.cos(x(i))) + (width/2))\n",
    "            .attr(\"y2\", (d,i)=> ((radius) * Math.sin(x(i))) + (height-margin))    \n",
    "\n",
    "        svg6.selectAll(\"circle\")\n",
    "            // Collect\n",
    "            .data(d3.range(5))\n",
    "            // Update\n",
    "            .join(\"circle\")\n",
    "            .attr(\"cx\", (d,i)=> ((0) * Math.cos(x(i))) + (width/2))\n",
    "            .attr(\"cy\", (d,i)=> ((0) * Math.sin(x(i))) + (height-margin))  \n",
    "            .attr(\"r\", (d,i)=> 30)\n",
    "            .style(\"fill\", (d,i)=> (i<=1)?\"white\":\"black\")\n",
    "            .style(\"stroke\", \"black\")\n",
    "            .style(\"stroke-width\", \"1px\")\n",
    "            .transition(\"circle\")\n",
    "            .duration(1000)\n",
    "            .delay((d,i)=> i * 100)\n",
    "            .attr(\"cx\", (d,i)=> ((radius) * Math.cos(x(i))) + (width/2))\n",
    "            .attr(\"cy\", (d,i)=> ((radius) * Math.sin(x(i))) + (height-margin))\n",
    "\n",
    "        fractions = [\"4/4\",\"0\",\"0\",\"0\",\"0\"]\n",
    "        svg6.selectAll(\"text.perc\")\n",
    "            // Collect\n",
    "            .data(fractions)\n",
    "            // Update\n",
    "            .join(\"text\")\n",
    "            .attr(\"class\",\"perc\")\n",
    "            .attr(\"x\", (d,i)=> ((0) * Math.cos(x(i))) + (width/2))\n",
    "            .attr(\"y\", (d,i)=> ((0) * Math.sin(x(i))) + (height-margin))  \n",
    "            .style(\"font-size\",\"30px\")\n",
    "            .style(\"text-anchor\", \"middle\")\n",
    "            .style(\"alignment-baseline\",\"middle\")\n",
    "            .text(d=>d)\n",
    "            .transition(\"text\")\n",
    "            .duration(1000)\n",
    "            .delay((d,i)=> i * 100)\n",
    "            .attr(\"x\", (d,i)=> ((radius) * Math.cos(x(i))) + (width/2))\n",
    "            .attr(\"y\", (d,i)=> ((radius) * Math.sin(x(i))) + (height-margin))\n",
    "        \n",
    "        \n",
    "        \n",
    "        svg6.append(\"text\")\n",
    "            .attr(\"class\",\"hungry\")\n",
    "            .attr(\"x\", width/2)\n",
    "            .attr(\"y\", (height-margin))\n",
    "            .style(\"font-size\",\"50px\")\n",
    "            .style(\"text-anchor\", \"middle\")\n",
    "            .style(\"alignment-baseline\",\"middle\")\n",
    "            .text(\"🤔\")\n",
    "        \n",
    "        function addPeople(cx,cy,e,s) {\n",
    "            var xc = d3.scaleLinear().domain([0,d3.range(e).length]).range([Math.PI, 3*Math.PI])\n",
    "            s.selectAll(\"text.feed\")\n",
    "                // Collect\n",
    "                .data(d3.range(e))\n",
    "                // Update\n",
    "                .join(\"text\")\n",
    "                .attr(\"class\",\"feed\")\n",
    "                .attr(\"x\", cx)\n",
    "                .attr(\"y\", cy)  \n",
    "                .style(\"font-size\",\"30px\")\n",
    "                .style(\"text-anchor\", \"middle\")\n",
    "                .style(\"alignment-baseline\",\"middle\")\n",
    "                .text(d=>\"😃\")\n",
    "                .transition(\"text2\")\n",
    "                .duration(1000)\n",
    "                .delay((d,i)=> i * 100)\n",
    "                .attr(\"x\", (d,i)=> ((40) * Math.cos(xc(i))) + cx)\n",
    "                .attr(\"y\", (d,i)=> ((40) * Math.sin(xc(i))) + cy)\n",
    "        \n",
    "            \n",
    "        }\n",
    "        var cx = ((radius) * Math.cos(x(0))) + (width/2)\n",
    "        var cy = ((radius) * Math.sin(x(0))) + (height-margin)\n",
    "        addPeople(cx,cy,4,svg6)\n",
    "    }\n",
    "    social5()\n",
    "</script>"
   ]
  },
  {
   "cell_type": "markdown",
   "id": "ef83f290-8744-4a3c-bd23-9478abb82a8e",
   "metadata": {},
   "source": [
    "### 2. The Gambler\n",
    "\n",
    "The Gambler is the person who only cares about the probabilites. Meaning, if there is two tables (xx), then they have a 50/50 choice, and they do not care at all about the people sitting there or not. "
   ]
  },
  {
   "cell_type": "code",
   "execution_count": 373,
   "id": "2578cef5-bfb5-4213-afb4-f4d08524bd35",
   "metadata": {
    "jupyter": {
     "source_hidden": true
    },
    "tags": [
     "hide-input"
    ]
   },
   "outputs": [
    {
     "data": {
      "text/html": [
       "<script src='https://d3js.org/d3.v6.min.js'></script>"
      ],
      "text/plain": [
       "<IPython.core.display.HTML object>"
      ]
     },
     "metadata": {},
     "output_type": "display_data"
    },
    {
     "data": {
      "text/html": [
       "<script src='https://d3js.org/d3.v6.min.js'></script>"
      ],
      "text/plain": [
       "<IPython.core.display.HTML object>"
      ]
     },
     "metadata": {},
     "output_type": "display_data"
    },
    {
     "data": {
      "text/html": [
       "<script src='https://d3js.org/d3.v6.min.js'></script>"
      ],
      "text/plain": [
       "<IPython.core.display.HTML object>"
      ]
     },
     "metadata": {},
     "output_type": "display_data"
    },
    {
     "data": {
      "text/html": [
       "<script src='https://d3js.org/d3.v6.min.js'></script>"
      ],
      "text/plain": [
       "<IPython.core.display.HTML object>"
      ]
     },
     "metadata": {},
     "output_type": "display_data"
    },
    {
     "data": {
      "text/html": [
       "<script src='https://d3js.org/d3.v6.min.js'></script>"
      ],
      "text/plain": [
       "<IPython.core.display.HTML object>"
      ]
     },
     "metadata": {},
     "output_type": "display_data"
    },
    {
     "data": {
      "text/html": [
       "<script src='https://d3js.org/d3.v6.min.js'></script>"
      ],
      "text/plain": [
       "<IPython.core.display.HTML object>"
      ]
     },
     "metadata": {},
     "output_type": "display_data"
    },
    {
     "data": {
      "text/html": [
       "<script src='https://d3js.org/d3.v6.min.js'></script>"
      ],
      "text/plain": [
       "<IPython.core.display.HTML object>"
      ]
     },
     "metadata": {},
     "output_type": "display_data"
    },
    {
     "data": {
      "text/html": [
       "<script src='https://d3js.org/d3.v6.min.js'></script>"
      ],
      "text/plain": [
       "<IPython.core.display.HTML object>"
      ]
     },
     "metadata": {},
     "output_type": "display_data"
    },
    {
     "data": {
      "text/html": [
       "<input type=\"button\" onclick=\"gambler1()\" value=\"Run Animation\">\n",
       "<div id=\"gambler1\"></div>\n",
       "\n",
       "<script type=\"text/javascript\">   \n",
       "    function gambler1() {\n",
       "        var width = 500\n",
       "        var height = 270\n",
       "        var margin = 35\n",
       "        var radius = 200\n",
       "        \n",
       "        d3.select(\"div#gambler1\").select(\"svg\").remove()\n",
       "        var svg7 = d3.select(\"div#gambler1\").append(\"svg\")\n",
       "            .attr(\"width\", width)\n",
       "            .attr(\"height\", height)\n",
       "\n",
       "        var x = d3.scaleLinear().domain([0,d3.range(5).length-1]).range([Math.PI, 2*Math.PI])\n",
       "\n",
       "        svg7.selectAll(\"line\")\n",
       "            .data(d3.range(1))\n",
       "            .join(\"line\")\n",
       "            .attr(\"x1\", (d,i)=> ((0) * Math.cos(x(i))) + (width/2))\n",
       "            .attr(\"y1\", (d,i)=> ((0) * Math.sin(x(i))) + (height-margin))  \n",
       "            .attr(\"x2\", (d,i)=> ((0) * Math.cos(x(i))) + (width/2))\n",
       "            .attr(\"y2\", (d,i)=> ((0) * Math.sin(x(i))) + (height-margin)) \n",
       "            .style(\"stroke\",\"darkgrey\")\n",
       "            .style(\"stroke-width\", \"10px\")\n",
       "            .style(\"stroke-linecap\",\"round\")\n",
       "            .transition(\"line\")\n",
       "            .duration(1000)\n",
       "            .delay((d,i)=> i * 100)\n",
       "            .attr(\"x2\", (d,i)=> ((radius) * Math.cos(x(i))) + (width/2))\n",
       "            .attr(\"y2\", (d,i)=> ((radius) * Math.sin(x(i))) + (height-margin))    \n",
       "\n",
       "        svg7.selectAll(\"circle\")\n",
       "            // Collect\n",
       "            .data(d3.range(5))\n",
       "            // Update\n",
       "            .join(\"circle\")\n",
       "            .attr(\"cx\", (d,i)=> ((0) * Math.cos(x(i))) + (width/2))\n",
       "            .attr(\"cy\", (d,i)=> ((0) * Math.sin(x(i))) + (height-margin))  \n",
       "            .attr(\"r\", (d,i)=> 30)\n",
       "            .style(\"fill\", (d,i)=> (i<=0)?\"white\":\"black\")\n",
       "            .style(\"stroke\", \"black\")\n",
       "            .style(\"stroke-width\", \"1px\")\n",
       "            .transition(\"circle\")\n",
       "            .duration(1000)\n",
       "            .delay((d,i)=> i * 100)\n",
       "            .attr(\"cx\", (d,i)=> ((radius) * Math.cos(x(i))) + (width/2))\n",
       "            .attr(\"cy\", (d,i)=> ((radius) * Math.sin(x(i))) + (height-margin))\n",
       "\n",
       "        fractions = [\"1/1\",\"0\",\"0\",\"0\",\"0\"]\n",
       "        svg7.selectAll(\"text\")\n",
       "            // Collect\n",
       "            .data(fractions)\n",
       "            // Update\n",
       "            .join(\"text\")\n",
       "            .attr(\"x\", (d,i)=> ((0) * Math.cos(x(i))) + (width/2))\n",
       "            .attr(\"y\", (d,i)=> ((0) * Math.sin(x(i))) + (height-margin))  \n",
       "            .attr(\"r\", (d,i)=> 30)\n",
       "            .style(\"font-size\",\"30px\")\n",
       "            .style(\"text-anchor\", \"middle\")\n",
       "            .style(\"alignment-baseline\",\"middle\")\n",
       "            .text(d=>d)\n",
       "            .transition(\"text\")\n",
       "            .duration(1000)\n",
       "            .delay((d,i)=> i * 100)\n",
       "            .attr(\"x\", (d,i)=> ((radius) * Math.cos(x(i))) + (width/2))\n",
       "            .attr(\"y\", (d,i)=> ((radius) * Math.sin(x(i))) + (height-margin))\n",
       "        \n",
       "        \n",
       "        \n",
       "        svg7.append(\"text\")\n",
       "            .attr(\"x\", width/2)\n",
       "            .attr(\"y\", (height-margin))\n",
       "            .style(\"font-size\",\"50px\")\n",
       "            .style(\"text-anchor\", \"middle\")\n",
       "            .style(\"alignment-baseline\",\"middle\")\n",
       "            .text(\"🤔\")\n",
       "    }\n",
       "    gambler1()\n",
       "</script>\n"
      ],
      "text/plain": [
       "<IPython.core.display.HTML object>"
      ]
     },
     "metadata": {},
     "output_type": "display_data"
    }
   ],
   "source": [
    "%%html\n",
    "<input type=\"button\" onclick=\"gambler1()\" value=\"Run Animation\">\n",
    "<div id=\"gambler1\"></div>\n",
    "\n",
    "<script type=\"text/javascript\">   \n",
    "    function gambler1() {\n",
    "        var width = 500\n",
    "        var height = 270\n",
    "        var margin = 35\n",
    "        var radius = 200\n",
    "        \n",
    "        d3.select(\"div#gambler1\").select(\"svg\").remove()\n",
    "        var svg7 = d3.select(\"div#gambler1\").append(\"svg\")\n",
    "            .attr(\"width\", width)\n",
    "            .attr(\"height\", height)\n",
    "\n",
    "        var x = d3.scaleLinear().domain([0,d3.range(5).length-1]).range([Math.PI, 2*Math.PI])\n",
    "\n",
    "        svg7.selectAll(\"line\")\n",
    "            .data(d3.range(1))\n",
    "            .join(\"line\")\n",
    "            .attr(\"x1\", (d,i)=> ((0) * Math.cos(x(i))) + (width/2))\n",
    "            .attr(\"y1\", (d,i)=> ((0) * Math.sin(x(i))) + (height-margin))  \n",
    "            .attr(\"x2\", (d,i)=> ((0) * Math.cos(x(i))) + (width/2))\n",
    "            .attr(\"y2\", (d,i)=> ((0) * Math.sin(x(i))) + (height-margin)) \n",
    "            .style(\"stroke\",\"darkgrey\")\n",
    "            .style(\"stroke-width\", \"10px\")\n",
    "            .style(\"stroke-linecap\",\"round\")\n",
    "            .transition(\"line\")\n",
    "            .duration(1000)\n",
    "            .delay((d,i)=> i * 100)\n",
    "            .attr(\"x2\", (d,i)=> ((radius) * Math.cos(x(i))) + (width/2))\n",
    "            .attr(\"y2\", (d,i)=> ((radius) * Math.sin(x(i))) + (height-margin))    \n",
    "\n",
    "        svg7.selectAll(\"circle\")\n",
    "            // Collect\n",
    "            .data(d3.range(5))\n",
    "            // Update\n",
    "            .join(\"circle\")\n",
    "            .attr(\"cx\", (d,i)=> ((0) * Math.cos(x(i))) + (width/2))\n",
    "            .attr(\"cy\", (d,i)=> ((0) * Math.sin(x(i))) + (height-margin))  \n",
    "            .attr(\"r\", (d,i)=> 30)\n",
    "            .style(\"fill\", (d,i)=> (i<=0)?\"white\":\"black\")\n",
    "            .style(\"stroke\", \"black\")\n",
    "            .style(\"stroke-width\", \"1px\")\n",
    "            .transition(\"circle\")\n",
    "            .duration(1000)\n",
    "            .delay((d,i)=> i * 100)\n",
    "            .attr(\"cx\", (d,i)=> ((radius) * Math.cos(x(i))) + (width/2))\n",
    "            .attr(\"cy\", (d,i)=> ((radius) * Math.sin(x(i))) + (height-margin))\n",
    "\n",
    "        fractions = [\"1/1\",\"0\",\"0\",\"0\",\"0\"]\n",
    "        svg7.selectAll(\"text\")\n",
    "            // Collect\n",
    "            .data(fractions)\n",
    "            // Update\n",
    "            .join(\"text\")\n",
    "            .attr(\"x\", (d,i)=> ((0) * Math.cos(x(i))) + (width/2))\n",
    "            .attr(\"y\", (d,i)=> ((0) * Math.sin(x(i))) + (height-margin))  \n",
    "            .attr(\"r\", (d,i)=> 30)\n",
    "            .style(\"font-size\",\"30px\")\n",
    "            .style(\"text-anchor\", \"middle\")\n",
    "            .style(\"alignment-baseline\",\"middle\")\n",
    "            .text(d=>d)\n",
    "            .transition(\"text\")\n",
    "            .duration(1000)\n",
    "            .delay((d,i)=> i * 100)\n",
    "            .attr(\"x\", (d,i)=> ((radius) * Math.cos(x(i))) + (width/2))\n",
    "            .attr(\"y\", (d,i)=> ((radius) * Math.sin(x(i))) + (height-margin))\n",
    "        \n",
    "        \n",
    "        \n",
    "        svg7.append(\"text\")\n",
    "            .attr(\"x\", width/2)\n",
    "            .attr(\"y\", (height-margin))\n",
    "            .style(\"font-size\",\"50px\")\n",
    "            .style(\"text-anchor\", \"middle\")\n",
    "            .style(\"alignment-baseline\",\"middle\")\n",
    "            .text(\"🤔\")\n",
    "    }\n",
    "    gambler1()\n",
    "</script>"
   ]
  },
  {
   "cell_type": "code",
   "execution_count": 374,
   "id": "d0445c09-ef73-4f4b-9946-cb23e7b97b96",
   "metadata": {
    "jupyter": {
     "source_hidden": true
    },
    "tags": [
     "hide-input"
    ]
   },
   "outputs": [
    {
     "data": {
      "text/html": [
       "<script src='https://d3js.org/d3.v6.min.js'></script>"
      ],
      "text/plain": [
       "<IPython.core.display.HTML object>"
      ]
     },
     "metadata": {},
     "output_type": "display_data"
    },
    {
     "data": {
      "text/html": [
       "<script src='https://d3js.org/d3.v6.min.js'></script>"
      ],
      "text/plain": [
       "<IPython.core.display.HTML object>"
      ]
     },
     "metadata": {},
     "output_type": "display_data"
    },
    {
     "data": {
      "text/html": [
       "<script src='https://d3js.org/d3.v6.min.js'></script>"
      ],
      "text/plain": [
       "<IPython.core.display.HTML object>"
      ]
     },
     "metadata": {},
     "output_type": "display_data"
    },
    {
     "data": {
      "text/html": [
       "<script src='https://d3js.org/d3.v6.min.js'></script>"
      ],
      "text/plain": [
       "<IPython.core.display.HTML object>"
      ]
     },
     "metadata": {},
     "output_type": "display_data"
    },
    {
     "data": {
      "text/html": [
       "<script src='https://d3js.org/d3.v6.min.js'></script>"
      ],
      "text/plain": [
       "<IPython.core.display.HTML object>"
      ]
     },
     "metadata": {},
     "output_type": "display_data"
    },
    {
     "data": {
      "text/html": [
       "<script src='https://d3js.org/d3.v6.min.js'></script>"
      ],
      "text/plain": [
       "<IPython.core.display.HTML object>"
      ]
     },
     "metadata": {},
     "output_type": "display_data"
    },
    {
     "data": {
      "text/html": [
       "<script src='https://d3js.org/d3.v6.min.js'></script>"
      ],
      "text/plain": [
       "<IPython.core.display.HTML object>"
      ]
     },
     "metadata": {},
     "output_type": "display_data"
    },
    {
     "data": {
      "text/html": [
       "<script src='https://d3js.org/d3.v6.min.js'></script>"
      ],
      "text/plain": [
       "<IPython.core.display.HTML object>"
      ]
     },
     "metadata": {},
     "output_type": "display_data"
    },
    {
     "data": {
      "text/html": [
       "<input type=\"button\" onclick=\"gambler2()\" value=\"Run Animation\">\n",
       "<div id=\"gambler2\"></div>\n",
       "\n",
       "<script type=\"text/javascript\">   \n",
       "    function gambler2() {\n",
       "        var width = 600\n",
       "        var height = 300\n",
       "        var margin = 55\n",
       "        var radius = 200\n",
       "        \n",
       "        d3.select(\"div#gambler2\").select(\"svg\").remove()\n",
       "        var svg8 = d3.select(\"div#gambler2\").append(\"svg\")\n",
       "            .attr(\"width\", width)\n",
       "            .attr(\"height\", height)\n",
       "\n",
       "        var x = d3.scaleLinear().domain([0,d3.range(5).length-1]).range([Math.PI, 2*Math.PI])\n",
       "\n",
       "        svg8.selectAll(\"line\")\n",
       "            .data(d3.range(2))\n",
       "            .join(\"line\")\n",
       "            .attr(\"x1\", (d,i)=> ((0) * Math.cos(x(i))) + (width/2))\n",
       "            .attr(\"y1\", (d,i)=> ((0) * Math.sin(x(i))) + (height-margin))  \n",
       "            .attr(\"x2\", (d,i)=> ((0) * Math.cos(x(i))) + (width/2))\n",
       "            .attr(\"y2\", (d,i)=> ((0) * Math.sin(x(i))) + (height-margin)) \n",
       "            .style(\"stroke\",\"darkgrey\")\n",
       "            .style(\"stroke-width\", \"10px\")\n",
       "            .style(\"stroke-linecap\",\"round\")\n",
       "            .transition(\"line\")\n",
       "            .duration(1000)\n",
       "            .delay((d,i)=> i * 100)\n",
       "            .attr(\"x2\", (d,i)=> ((radius) * Math.cos(x(i))) + (width/2))\n",
       "            .attr(\"y2\", (d,i)=> ((radius) * Math.sin(x(i))) + (height-margin))    \n",
       "\n",
       "        svg8.selectAll(\"circle\")\n",
       "            // Collect\n",
       "            .data(d3.range(5))\n",
       "            // Update\n",
       "            .join(\"circle\")\n",
       "            .attr(\"cx\", (d,i)=> ((0) * Math.cos(x(i))) + (width/2))\n",
       "            .attr(\"cy\", (d,i)=> ((0) * Math.sin(x(i))) + (height-margin))  \n",
       "            .attr(\"r\", (d,i)=> 30)\n",
       "            .style(\"fill\", (d,i)=> (i<=1)?\"white\":\"black\")\n",
       "            .style(\"stroke\", \"black\")\n",
       "            .style(\"stroke-width\", \"1px\")\n",
       "            .transition(\"circle\")\n",
       "            .duration(1000)\n",
       "            .delay((d,i)=> i * 100)\n",
       "            .attr(\"cx\", (d,i)=> ((radius) * Math.cos(x(i))) + (width/2))\n",
       "            .attr(\"cy\", (d,i)=> ((radius) * Math.sin(x(i))) + (height-margin))\n",
       "\n",
       "        fractions = [\"1/2\",\"1/2\",\"0\",\"0\",\"0\"]\n",
       "        svg8.selectAll(\"text.perc\")\n",
       "            // Collect\n",
       "            .data(fractions)\n",
       "            // Update\n",
       "            .join(\"text\")\n",
       "            .attr(\"class\",\"perc\")\n",
       "            .attr(\"x\", (d,i)=> ((0) * Math.cos(x(i))) + (width/2))\n",
       "            .attr(\"y\", (d,i)=> ((0) * Math.sin(x(i))) + (height-margin))  \n",
       "            .style(\"font-size\",\"30px\")\n",
       "            .style(\"text-anchor\", \"middle\")\n",
       "            .style(\"alignment-baseline\",\"middle\")\n",
       "            .text(d=>d)\n",
       "            .transition(\"text\")\n",
       "            .duration(1000)\n",
       "            .delay((d,i)=> i * 100)\n",
       "            .attr(\"x\", (d,i)=> ((radius) * Math.cos(x(i))) + (width/2))\n",
       "            .attr(\"y\", (d,i)=> ((radius) * Math.sin(x(i))) + (height-margin))\n",
       "        \n",
       "        \n",
       "        \n",
       "        svg8.append(\"text\")\n",
       "            .attr(\"class\",\"hungry\")\n",
       "            .attr(\"x\", width/2)\n",
       "            .attr(\"y\", (height-margin))\n",
       "            .style(\"font-size\",\"50px\")\n",
       "            .style(\"text-anchor\", \"middle\")\n",
       "            .style(\"alignment-baseline\",\"middle\")\n",
       "            .text(\"🤔\")\n",
       "        \n",
       "        function addPeople(cx,cy,e,s) {\n",
       "            var xc = d3.scaleLinear().domain([0,d3.range(e).length]).range([Math.PI, 3*Math.PI])\n",
       "            s.selectAll(\"text.feed\")\n",
       "                // Collect\n",
       "                .data(d3.range(e))\n",
       "                // Update\n",
       "                .join(\"text\")\n",
       "                .attr(\"class\",\"feed\")\n",
       "                .attr(\"x\", cx)\n",
       "                .attr(\"y\", cy)  \n",
       "                .style(\"font-size\",\"30px\")\n",
       "                .style(\"text-anchor\", \"middle\")\n",
       "                .style(\"alignment-baseline\",\"middle\")\n",
       "                .text(d=>\"😃\")\n",
       "                .transition(\"text2\")\n",
       "                .duration(1000)\n",
       "                .delay((d,i)=> i * 100)\n",
       "                .attr(\"x\", (d,i)=> ((40) * Math.cos(xc(i))) + cx)\n",
       "                .attr(\"y\", (d,i)=> ((40) * Math.sin(xc(i))) + cy)\n",
       "        \n",
       "            \n",
       "        }\n",
       "        var cx = ((radius) * Math.cos(x(0))) + (width/2)\n",
       "        var cy = ((radius) * Math.sin(x(0))) + (height-margin)\n",
       "        addPeople(cx,cy,1,svg8)\n",
       "    }\n",
       "    gambler2()\n",
       "</script>\n"
      ],
      "text/plain": [
       "<IPython.core.display.HTML object>"
      ]
     },
     "metadata": {},
     "output_type": "display_data"
    }
   ],
   "source": [
    "%%html\n",
    "<input type=\"button\" onclick=\"gambler2()\" value=\"Run Animation\">\n",
    "<div id=\"gambler2\"></div>\n",
    "\n",
    "<script type=\"text/javascript\">   \n",
    "    function gambler2() {\n",
    "        var width = 600\n",
    "        var height = 300\n",
    "        var margin = 55\n",
    "        var radius = 200\n",
    "        \n",
    "        d3.select(\"div#gambler2\").select(\"svg\").remove()\n",
    "        var svg8 = d3.select(\"div#gambler2\").append(\"svg\")\n",
    "            .attr(\"width\", width)\n",
    "            .attr(\"height\", height)\n",
    "\n",
    "        var x = d3.scaleLinear().domain([0,d3.range(5).length-1]).range([Math.PI, 2*Math.PI])\n",
    "\n",
    "        svg8.selectAll(\"line\")\n",
    "            .data(d3.range(2))\n",
    "            .join(\"line\")\n",
    "            .attr(\"x1\", (d,i)=> ((0) * Math.cos(x(i))) + (width/2))\n",
    "            .attr(\"y1\", (d,i)=> ((0) * Math.sin(x(i))) + (height-margin))  \n",
    "            .attr(\"x2\", (d,i)=> ((0) * Math.cos(x(i))) + (width/2))\n",
    "            .attr(\"y2\", (d,i)=> ((0) * Math.sin(x(i))) + (height-margin)) \n",
    "            .style(\"stroke\",\"darkgrey\")\n",
    "            .style(\"stroke-width\", \"10px\")\n",
    "            .style(\"stroke-linecap\",\"round\")\n",
    "            .transition(\"line\")\n",
    "            .duration(1000)\n",
    "            .delay((d,i)=> i * 100)\n",
    "            .attr(\"x2\", (d,i)=> ((radius) * Math.cos(x(i))) + (width/2))\n",
    "            .attr(\"y2\", (d,i)=> ((radius) * Math.sin(x(i))) + (height-margin))    \n",
    "\n",
    "        svg8.selectAll(\"circle\")\n",
    "            // Collect\n",
    "            .data(d3.range(5))\n",
    "            // Update\n",
    "            .join(\"circle\")\n",
    "            .attr(\"cx\", (d,i)=> ((0) * Math.cos(x(i))) + (width/2))\n",
    "            .attr(\"cy\", (d,i)=> ((0) * Math.sin(x(i))) + (height-margin))  \n",
    "            .attr(\"r\", (d,i)=> 30)\n",
    "            .style(\"fill\", (d,i)=> (i<=1)?\"white\":\"black\")\n",
    "            .style(\"stroke\", \"black\")\n",
    "            .style(\"stroke-width\", \"1px\")\n",
    "            .transition(\"circle\")\n",
    "            .duration(1000)\n",
    "            .delay((d,i)=> i * 100)\n",
    "            .attr(\"cx\", (d,i)=> ((radius) * Math.cos(x(i))) + (width/2))\n",
    "            .attr(\"cy\", (d,i)=> ((radius) * Math.sin(x(i))) + (height-margin))\n",
    "\n",
    "        fractions = [\"1/2\",\"1/2\",\"0\",\"0\",\"0\"]\n",
    "        svg8.selectAll(\"text.perc\")\n",
    "            // Collect\n",
    "            .data(fractions)\n",
    "            // Update\n",
    "            .join(\"text\")\n",
    "            .attr(\"class\",\"perc\")\n",
    "            .attr(\"x\", (d,i)=> ((0) * Math.cos(x(i))) + (width/2))\n",
    "            .attr(\"y\", (d,i)=> ((0) * Math.sin(x(i))) + (height-margin))  \n",
    "            .style(\"font-size\",\"30px\")\n",
    "            .style(\"text-anchor\", \"middle\")\n",
    "            .style(\"alignment-baseline\",\"middle\")\n",
    "            .text(d=>d)\n",
    "            .transition(\"text\")\n",
    "            .duration(1000)\n",
    "            .delay((d,i)=> i * 100)\n",
    "            .attr(\"x\", (d,i)=> ((radius) * Math.cos(x(i))) + (width/2))\n",
    "            .attr(\"y\", (d,i)=> ((radius) * Math.sin(x(i))) + (height-margin))\n",
    "        \n",
    "        \n",
    "        \n",
    "        svg8.append(\"text\")\n",
    "            .attr(\"class\",\"hungry\")\n",
    "            .attr(\"x\", width/2)\n",
    "            .attr(\"y\", (height-margin))\n",
    "            .style(\"font-size\",\"50px\")\n",
    "            .style(\"text-anchor\", \"middle\")\n",
    "            .style(\"alignment-baseline\",\"middle\")\n",
    "            .text(\"🤔\")\n",
    "        \n",
    "        function addPeople(cx,cy,e,s) {\n",
    "            var xc = d3.scaleLinear().domain([0,d3.range(e).length]).range([Math.PI, 3*Math.PI])\n",
    "            s.selectAll(\"text.feed\")\n",
    "                // Collect\n",
    "                .data(d3.range(e))\n",
    "                // Update\n",
    "                .join(\"text\")\n",
    "                .attr(\"class\",\"feed\")\n",
    "                .attr(\"x\", cx)\n",
    "                .attr(\"y\", cy)  \n",
    "                .style(\"font-size\",\"30px\")\n",
    "                .style(\"text-anchor\", \"middle\")\n",
    "                .style(\"alignment-baseline\",\"middle\")\n",
    "                .text(d=>\"😃\")\n",
    "                .transition(\"text2\")\n",
    "                .duration(1000)\n",
    "                .delay((d,i)=> i * 100)\n",
    "                .attr(\"x\", (d,i)=> ((40) * Math.cos(xc(i))) + cx)\n",
    "                .attr(\"y\", (d,i)=> ((40) * Math.sin(xc(i))) + cy)\n",
    "        \n",
    "            \n",
    "        }\n",
    "        var cx = ((radius) * Math.cos(x(0))) + (width/2)\n",
    "        var cy = ((radius) * Math.sin(x(0))) + (height-margin)\n",
    "        addPeople(cx,cy,1,svg8)\n",
    "    }\n",
    "    gambler2()\n",
    "</script>"
   ]
  },
  {
   "cell_type": "code",
   "execution_count": 375,
   "id": "2288ced5-f72d-4688-8721-da87ee0cafa5",
   "metadata": {
    "jupyter": {
     "source_hidden": true
    },
    "tags": [
     "hide-input"
    ]
   },
   "outputs": [
    {
     "data": {
      "text/html": [
       "<script src='https://d3js.org/d3.v6.min.js'></script>"
      ],
      "text/plain": [
       "<IPython.core.display.HTML object>"
      ]
     },
     "metadata": {},
     "output_type": "display_data"
    },
    {
     "data": {
      "text/html": [
       "<script src='https://d3js.org/d3.v6.min.js'></script>"
      ],
      "text/plain": [
       "<IPython.core.display.HTML object>"
      ]
     },
     "metadata": {},
     "output_type": "display_data"
    },
    {
     "data": {
      "text/html": [
       "<script src='https://d3js.org/d3.v6.min.js'></script>"
      ],
      "text/plain": [
       "<IPython.core.display.HTML object>"
      ]
     },
     "metadata": {},
     "output_type": "display_data"
    },
    {
     "data": {
      "text/html": [
       "<script src='https://d3js.org/d3.v6.min.js'></script>"
      ],
      "text/plain": [
       "<IPython.core.display.HTML object>"
      ]
     },
     "metadata": {},
     "output_type": "display_data"
    },
    {
     "data": {
      "text/html": [
       "<script src='https://d3js.org/d3.v6.min.js'></script>"
      ],
      "text/plain": [
       "<IPython.core.display.HTML object>"
      ]
     },
     "metadata": {},
     "output_type": "display_data"
    },
    {
     "data": {
      "text/html": [
       "<script src='https://d3js.org/d3.v6.min.js'></script>"
      ],
      "text/plain": [
       "<IPython.core.display.HTML object>"
      ]
     },
     "metadata": {},
     "output_type": "display_data"
    },
    {
     "data": {
      "text/html": [
       "<script src='https://d3js.org/d3.v6.min.js'></script>"
      ],
      "text/plain": [
       "<IPython.core.display.HTML object>"
      ]
     },
     "metadata": {},
     "output_type": "display_data"
    },
    {
     "data": {
      "text/html": [
       "<script src='https://d3js.org/d3.v6.min.js'></script>"
      ],
      "text/plain": [
       "<IPython.core.display.HTML object>"
      ]
     },
     "metadata": {},
     "output_type": "display_data"
    },
    {
     "data": {
      "text/html": [
       "<input type=\"button\" onclick=\"gambler3()\" value=\"Run Animation\">\n",
       "<div id=\"gambler3\"></div>\n",
       "\n",
       "<script type=\"text/javascript\">   \n",
       "    function gambler3() {\n",
       "        var width = 600\n",
       "        var height = 300\n",
       "        var margin = 55\n",
       "        var radius = 200\n",
       "        \n",
       "        d3.select(\"div#gambler3\").select(\"svg\").remove()\n",
       "        var svg9 = d3.select(\"div#gambler3\").append(\"svg\")\n",
       "            .attr(\"width\", width)\n",
       "            .attr(\"height\", height)\n",
       "\n",
       "        var x = d3.scaleLinear().domain([0,d3.range(5).length-1]).range([Math.PI, 2*Math.PI])\n",
       "        fractions = [\"1/3\",\"1/3\",\"1/3\",\"0\",\"0\"]\n",
       "        svg9.selectAll(\"line\")\n",
       "            .data(d3.range(3))\n",
       "            .join(\"line\")\n",
       "            .attr(\"x1\", (d,i)=> ((0) * Math.cos(x(i))) + (width/2))\n",
       "            .attr(\"y1\", (d,i)=> ((0) * Math.sin(x(i))) + (height-margin))  \n",
       "            .attr(\"x2\", (d,i)=> ((0) * Math.cos(x(i))) + (width/2))\n",
       "            .attr(\"y2\", (d,i)=> ((0) * Math.sin(x(i))) + (height-margin)) \n",
       "            .style(\"stroke\",\"darkgrey\")\n",
       "            .style(\"stroke-width\", \"10px\")\n",
       "            .style(\"stroke-linecap\",\"round\")\n",
       "            .transition(\"line\")\n",
       "            .duration(1000)\n",
       "            .delay((d,i)=> i * 100)\n",
       "            .attr(\"x2\", (d,i)=> ((radius) * Math.cos(x(i))) + (width/2))\n",
       "            .attr(\"y2\", (d,i)=> ((radius) * Math.sin(x(i))) + (height-margin))    \n",
       "\n",
       "        svg9.selectAll(\"circle\")\n",
       "            // Collect\n",
       "            .data(fractions)\n",
       "            // Update\n",
       "            .join(\"circle\")\n",
       "            .attr(\"cx\", (d,i)=> ((0) * Math.cos(x(i))) + (width/2))\n",
       "            .attr(\"cy\", (d,i)=> ((0) * Math.sin(x(i))) + (height-margin))  \n",
       "            .attr(\"r\", (d,i)=> 30)\n",
       "            .style(\"fill\", (d,i)=> (+d!=0)?\"white\":\"black\")\n",
       "            .style(\"stroke\", \"black\")\n",
       "            .style(\"stroke-width\", \"1px\")\n",
       "            .transition(\"circle\")\n",
       "            .duration(1000)\n",
       "            .delay((d,i)=> i * 100)\n",
       "            .attr(\"cx\", (d,i)=> ((radius) * Math.cos(x(i))) + (width/2))\n",
       "            .attr(\"cy\", (d,i)=> ((radius) * Math.sin(x(i))) + (height-margin))\n",
       "\n",
       "        \n",
       "        svg9.selectAll(\"text.perc\")\n",
       "            // Collect\n",
       "            .data(fractions)\n",
       "            // Update\n",
       "            .join(\"text\")\n",
       "            .attr(\"class\",\"perc\")\n",
       "            .attr(\"x\", (d,i)=> ((0) * Math.cos(x(i))) + (width/2))\n",
       "            .attr(\"y\", (d,i)=> ((0) * Math.sin(x(i))) + (height-margin))  \n",
       "            .style(\"font-size\",\"30px\")\n",
       "            .style(\"text-anchor\", \"middle\")\n",
       "            .style(\"alignment-baseline\",\"middle\")\n",
       "            .text(d=>d)\n",
       "            .transition(\"text\")\n",
       "            .duration(1000)\n",
       "            .delay((d,i)=> i * 100)\n",
       "            .attr(\"x\", (d,i)=> ((radius) * Math.cos(x(i))) + (width/2))\n",
       "            .attr(\"y\", (d,i)=> ((radius) * Math.sin(x(i))) + (height-margin))\n",
       "        \n",
       "        \n",
       "        \n",
       "        svg9.append(\"text\")\n",
       "            .attr(\"class\",\"hungry\")\n",
       "            .attr(\"x\", width/2)\n",
       "            .attr(\"y\", (height-margin))\n",
       "            .style(\"font-size\",\"50px\")\n",
       "            .style(\"text-anchor\", \"middle\")\n",
       "            .style(\"alignment-baseline\",\"middle\")\n",
       "            .text(\"🤔\")\n",
       "        \n",
       "        function addPeople(cx,cy,e,s,c) {\n",
       "            var xc = d3.scaleLinear().domain([0,d3.range(e).length]).range([Math.PI, 3*Math.PI])\n",
       "            s.selectAll(\"text.feed_\"+c)\n",
       "                // Collect\n",
       "                .data(d3.range(e))\n",
       "                // Update\n",
       "                .join(\"text\")\n",
       "                .attr(\"class\",\"feed_\"+c)\n",
       "                .attr(\"x\", cx)\n",
       "                .attr(\"y\", cy)  \n",
       "                .style(\"font-size\",\"30px\")\n",
       "                .style(\"text-anchor\", \"middle\")\n",
       "                .style(\"alignment-baseline\",\"middle\")\n",
       "                .text(d=>\"😃\")\n",
       "                .transition(\"text2\")\n",
       "                .duration(1000)\n",
       "                .delay((d,i)=> i * 100)\n",
       "                .attr(\"x\", (d,i)=> ((40) * Math.cos(xc(i))) + cx)\n",
       "                .attr(\"y\", (d,i)=> ((40) * Math.sin(xc(i))) + cy)\n",
       "        \n",
       "            \n",
       "        }\n",
       "        var cx = ((radius) * Math.cos(x(0))) + (width/2)\n",
       "        var cy = ((radius) * Math.sin(x(0))) + (height-margin)\n",
       "        addPeople(cx,cy,1,svg9,0)\n",
       "        var cx = ((radius) * Math.cos(x(1))) + (width/2)\n",
       "        var cy = ((radius) * Math.sin(x(1))) + (height-margin)\n",
       "        addPeople(cx,cy,1,svg9,1)\n",
       "    }\n",
       "    gambler3()\n",
       "</script>\n"
      ],
      "text/plain": [
       "<IPython.core.display.HTML object>"
      ]
     },
     "metadata": {},
     "output_type": "display_data"
    }
   ],
   "source": [
    "%%html\n",
    "<input type=\"button\" onclick=\"gambler3()\" value=\"Run Animation\">\n",
    "<div id=\"gambler3\"></div>\n",
    "\n",
    "<script type=\"text/javascript\">   \n",
    "    function gambler3() {\n",
    "        var width = 600\n",
    "        var height = 300\n",
    "        var margin = 55\n",
    "        var radius = 200\n",
    "        \n",
    "        d3.select(\"div#gambler3\").select(\"svg\").remove()\n",
    "        var svg9 = d3.select(\"div#gambler3\").append(\"svg\")\n",
    "            .attr(\"width\", width)\n",
    "            .attr(\"height\", height)\n",
    "\n",
    "        var x = d3.scaleLinear().domain([0,d3.range(5).length-1]).range([Math.PI, 2*Math.PI])\n",
    "        fractions = [\"1/3\",\"1/3\",\"1/3\",\"0\",\"0\"]\n",
    "        svg9.selectAll(\"line\")\n",
    "            .data(d3.range(3))\n",
    "            .join(\"line\")\n",
    "            .attr(\"x1\", (d,i)=> ((0) * Math.cos(x(i))) + (width/2))\n",
    "            .attr(\"y1\", (d,i)=> ((0) * Math.sin(x(i))) + (height-margin))  \n",
    "            .attr(\"x2\", (d,i)=> ((0) * Math.cos(x(i))) + (width/2))\n",
    "            .attr(\"y2\", (d,i)=> ((0) * Math.sin(x(i))) + (height-margin)) \n",
    "            .style(\"stroke\",\"darkgrey\")\n",
    "            .style(\"stroke-width\", \"10px\")\n",
    "            .style(\"stroke-linecap\",\"round\")\n",
    "            .transition(\"line\")\n",
    "            .duration(1000)\n",
    "            .delay((d,i)=> i * 100)\n",
    "            .attr(\"x2\", (d,i)=> ((radius) * Math.cos(x(i))) + (width/2))\n",
    "            .attr(\"y2\", (d,i)=> ((radius) * Math.sin(x(i))) + (height-margin))    \n",
    "\n",
    "        svg9.selectAll(\"circle\")\n",
    "            // Collect\n",
    "            .data(fractions)\n",
    "            // Update\n",
    "            .join(\"circle\")\n",
    "            .attr(\"cx\", (d,i)=> ((0) * Math.cos(x(i))) + (width/2))\n",
    "            .attr(\"cy\", (d,i)=> ((0) * Math.sin(x(i))) + (height-margin))  \n",
    "            .attr(\"r\", (d,i)=> 30)\n",
    "            .style(\"fill\", (d,i)=> (+d!=0)?\"white\":\"black\")\n",
    "            .style(\"stroke\", \"black\")\n",
    "            .style(\"stroke-width\", \"1px\")\n",
    "            .transition(\"circle\")\n",
    "            .duration(1000)\n",
    "            .delay((d,i)=> i * 100)\n",
    "            .attr(\"cx\", (d,i)=> ((radius) * Math.cos(x(i))) + (width/2))\n",
    "            .attr(\"cy\", (d,i)=> ((radius) * Math.sin(x(i))) + (height-margin))\n",
    "\n",
    "        \n",
    "        svg9.selectAll(\"text.perc\")\n",
    "            // Collect\n",
    "            .data(fractions)\n",
    "            // Update\n",
    "            .join(\"text\")\n",
    "            .attr(\"class\",\"perc\")\n",
    "            .attr(\"x\", (d,i)=> ((0) * Math.cos(x(i))) + (width/2))\n",
    "            .attr(\"y\", (d,i)=> ((0) * Math.sin(x(i))) + (height-margin))  \n",
    "            .style(\"font-size\",\"30px\")\n",
    "            .style(\"text-anchor\", \"middle\")\n",
    "            .style(\"alignment-baseline\",\"middle\")\n",
    "            .text(d=>d)\n",
    "            .transition(\"text\")\n",
    "            .duration(1000)\n",
    "            .delay((d,i)=> i * 100)\n",
    "            .attr(\"x\", (d,i)=> ((radius) * Math.cos(x(i))) + (width/2))\n",
    "            .attr(\"y\", (d,i)=> ((radius) * Math.sin(x(i))) + (height-margin))\n",
    "        \n",
    "        \n",
    "        \n",
    "        svg9.append(\"text\")\n",
    "            .attr(\"class\",\"hungry\")\n",
    "            .attr(\"x\", width/2)\n",
    "            .attr(\"y\", (height-margin))\n",
    "            .style(\"font-size\",\"50px\")\n",
    "            .style(\"text-anchor\", \"middle\")\n",
    "            .style(\"alignment-baseline\",\"middle\")\n",
    "            .text(\"🤔\")\n",
    "        \n",
    "        function addPeople(cx,cy,e,s,c) {\n",
    "            var xc = d3.scaleLinear().domain([0,d3.range(e).length]).range([Math.PI, 3*Math.PI])\n",
    "            s.selectAll(\"text.feed_\"+c)\n",
    "                // Collect\n",
    "                .data(d3.range(e))\n",
    "                // Update\n",
    "                .join(\"text\")\n",
    "                .attr(\"class\",\"feed_\"+c)\n",
    "                .attr(\"x\", cx)\n",
    "                .attr(\"y\", cy)  \n",
    "                .style(\"font-size\",\"30px\")\n",
    "                .style(\"text-anchor\", \"middle\")\n",
    "                .style(\"alignment-baseline\",\"middle\")\n",
    "                .text(d=>\"😃\")\n",
    "                .transition(\"text2\")\n",
    "                .duration(1000)\n",
    "                .delay((d,i)=> i * 100)\n",
    "                .attr(\"x\", (d,i)=> ((40) * Math.cos(xc(i))) + cx)\n",
    "                .attr(\"y\", (d,i)=> ((40) * Math.sin(xc(i))) + cy)\n",
    "        \n",
    "            \n",
    "        }\n",
    "        var cx = ((radius) * Math.cos(x(0))) + (width/2)\n",
    "        var cy = ((radius) * Math.sin(x(0))) + (height-margin)\n",
    "        addPeople(cx,cy,1,svg9,0)\n",
    "        var cx = ((radius) * Math.cos(x(1))) + (width/2)\n",
    "        var cy = ((radius) * Math.sin(x(1))) + (height-margin)\n",
    "        addPeople(cx,cy,1,svg9,1)\n",
    "    }\n",
    "    gambler3()\n",
    "</script>"
   ]
  },
  {
   "cell_type": "code",
   "execution_count": 376,
   "id": "46a6e553-ea93-46ee-a509-04bb92c8b79c",
   "metadata": {
    "jupyter": {
     "source_hidden": true
    },
    "tags": [
     "hide-input"
    ]
   },
   "outputs": [
    {
     "data": {
      "text/html": [
       "<script src='https://d3js.org/d3.v6.min.js'></script>"
      ],
      "text/plain": [
       "<IPython.core.display.HTML object>"
      ]
     },
     "metadata": {},
     "output_type": "display_data"
    },
    {
     "data": {
      "text/html": [
       "<script src='https://d3js.org/d3.v6.min.js'></script>"
      ],
      "text/plain": [
       "<IPython.core.display.HTML object>"
      ]
     },
     "metadata": {},
     "output_type": "display_data"
    },
    {
     "data": {
      "text/html": [
       "<script src='https://d3js.org/d3.v6.min.js'></script>"
      ],
      "text/plain": [
       "<IPython.core.display.HTML object>"
      ]
     },
     "metadata": {},
     "output_type": "display_data"
    },
    {
     "data": {
      "text/html": [
       "<script src='https://d3js.org/d3.v6.min.js'></script>"
      ],
      "text/plain": [
       "<IPython.core.display.HTML object>"
      ]
     },
     "metadata": {},
     "output_type": "display_data"
    },
    {
     "data": {
      "text/html": [
       "<script src='https://d3js.org/d3.v6.min.js'></script>"
      ],
      "text/plain": [
       "<IPython.core.display.HTML object>"
      ]
     },
     "metadata": {},
     "output_type": "display_data"
    },
    {
     "data": {
      "text/html": [
       "<script src='https://d3js.org/d3.v6.min.js'></script>"
      ],
      "text/plain": [
       "<IPython.core.display.HTML object>"
      ]
     },
     "metadata": {},
     "output_type": "display_data"
    },
    {
     "data": {
      "text/html": [
       "<script src='https://d3js.org/d3.v6.min.js'></script>"
      ],
      "text/plain": [
       "<IPython.core.display.HTML object>"
      ]
     },
     "metadata": {},
     "output_type": "display_data"
    },
    {
     "data": {
      "text/html": [
       "<script src='https://d3js.org/d3.v6.min.js'></script>"
      ],
      "text/plain": [
       "<IPython.core.display.HTML object>"
      ]
     },
     "metadata": {},
     "output_type": "display_data"
    },
    {
     "data": {
      "text/html": [
       "<input type=\"button\" onclick=\"gambler4()\" value=\"Run Animation\">\n",
       "<div id=\"gambler4\"></div>\n",
       "\n",
       "<script type=\"text/javascript\">   \n",
       "    function gambler4() {\n",
       "        var width = 600\n",
       "        var height = 300\n",
       "        var margin = 55\n",
       "        var radius = 200\n",
       "        \n",
       "        d3.select(\"div#gambler4\").select(\"svg\").remove()\n",
       "        var svg10 = d3.select(\"div#gambler4\").append(\"svg\")\n",
       "            .attr(\"width\", width)\n",
       "            .attr(\"height\", height)\n",
       "\n",
       "        var x = d3.scaleLinear().domain([0,d3.range(5).length-1]).range([Math.PI, 2*Math.PI])\n",
       "        fractions = [\"1/4\",\"1/4\",\"1/4\",\"1/4\",\"0\"]\n",
       "        svg10.selectAll(\"line\")\n",
       "            .data(d3.range(4))\n",
       "            .join(\"line\")\n",
       "            .attr(\"x1\", (d,i)=> ((0) * Math.cos(x(i))) + (width/2))\n",
       "            .attr(\"y1\", (d,i)=> ((0) * Math.sin(x(i))) + (height-margin))  \n",
       "            .attr(\"x2\", (d,i)=> ((0) * Math.cos(x(i))) + (width/2))\n",
       "            .attr(\"y2\", (d,i)=> ((0) * Math.sin(x(i))) + (height-margin)) \n",
       "            .style(\"stroke\",\"darkgrey\")\n",
       "            .style(\"stroke-width\", \"10px\")\n",
       "            .style(\"stroke-linecap\",\"round\")\n",
       "            .transition(\"line\")\n",
       "            .duration(1000)\n",
       "            .delay((d,i)=> i * 100)\n",
       "            .attr(\"x2\", (d,i)=> ((radius) * Math.cos(x(i))) + (width/2))\n",
       "            .attr(\"y2\", (d,i)=> ((radius) * Math.sin(x(i))) + (height-margin))    \n",
       "\n",
       "        svg10.selectAll(\"circle\")\n",
       "            // Collect\n",
       "            .data(fractions)\n",
       "            // Update\n",
       "            .join(\"circle\")\n",
       "            .attr(\"cx\", (d,i)=> ((0) * Math.cos(x(i))) + (width/2))\n",
       "            .attr(\"cy\", (d,i)=> ((0) * Math.sin(x(i))) + (height-margin))  \n",
       "            .attr(\"r\", (d,i)=> 30)\n",
       "            .style(\"fill\", (d,i)=> (+d!=0)?\"white\":\"black\")\n",
       "            .style(\"stroke\", \"black\")\n",
       "            .style(\"stroke-width\", \"1px\")\n",
       "            .transition(\"circle\")\n",
       "            .duration(1000)\n",
       "            .delay((d,i)=> i * 100)\n",
       "            .attr(\"cx\", (d,i)=> ((radius) * Math.cos(x(i))) + (width/2))\n",
       "            .attr(\"cy\", (d,i)=> ((radius) * Math.sin(x(i))) + (height-margin))\n",
       "\n",
       "        \n",
       "        svg10.selectAll(\"text.perc\")\n",
       "            // Collect\n",
       "            .data(fractions)\n",
       "            // Update\n",
       "            .join(\"text\")\n",
       "            .attr(\"class\",\"perc\")\n",
       "            .attr(\"x\", (d,i)=> ((0) * Math.cos(x(i))) + (width/2))\n",
       "            .attr(\"y\", (d,i)=> ((0) * Math.sin(x(i))) + (height-margin))  \n",
       "            .style(\"font-size\",\"30px\")\n",
       "            .style(\"text-anchor\", \"middle\")\n",
       "            .style(\"alignment-baseline\",\"middle\")\n",
       "            .text(d=>d)\n",
       "            .transition(\"text\")\n",
       "            .duration(1000)\n",
       "            .delay((d,i)=> i * 100)\n",
       "            .attr(\"x\", (d,i)=> ((radius) * Math.cos(x(i))) + (width/2))\n",
       "            .attr(\"y\", (d,i)=> ((radius) * Math.sin(x(i))) + (height-margin))\n",
       "        \n",
       "        \n",
       "        \n",
       "        svg10.append(\"text\")\n",
       "            .attr(\"class\",\"hungry\")\n",
       "            .attr(\"x\", width/2)\n",
       "            .attr(\"y\", (height-margin))\n",
       "            .style(\"font-size\",\"50px\")\n",
       "            .style(\"text-anchor\", \"middle\")\n",
       "            .style(\"alignment-baseline\",\"middle\")\n",
       "            .text(\"🤔\")\n",
       "        \n",
       "        function addPeople(cx,cy,e,s,c) {\n",
       "            var xc = d3.scaleLinear().domain([0,d3.range(e).length]).range([Math.PI, 3*Math.PI])\n",
       "            s.selectAll(\"text.feed_\"+c)\n",
       "                // Collect\n",
       "                .data(d3.range(e))\n",
       "                // Update\n",
       "                .join(\"text\")\n",
       "                .attr(\"class\",\"feed_\"+c)\n",
       "                .attr(\"x\", cx)\n",
       "                .attr(\"y\", cy)  \n",
       "                .style(\"font-size\",\"30px\")\n",
       "                .style(\"text-anchor\", \"middle\")\n",
       "                .style(\"alignment-baseline\",\"middle\")\n",
       "                .text(d=>\"😃\")\n",
       "                .transition(\"text2\")\n",
       "                .duration(1000)\n",
       "                .delay((d,i)=> i * 100)\n",
       "                .attr(\"x\", (d,i)=> ((40) * Math.cos(xc(i))) + cx)\n",
       "                .attr(\"y\", (d,i)=> ((40) * Math.sin(xc(i))) + cy)\n",
       "        \n",
       "            \n",
       "        }\n",
       "        var cx = ((radius) * Math.cos(x(0))) + (width/2)\n",
       "        var cy = ((radius) * Math.sin(x(0))) + (height-margin)\n",
       "        addPeople(cx,cy,1,svg10,0)\n",
       "        var cx = ((radius) * Math.cos(x(1))) + (width/2)\n",
       "        var cy = ((radius) * Math.sin(x(1))) + (height-margin)\n",
       "        addPeople(cx,cy,1,svg10,1)\n",
       "        var cx = ((radius) * Math.cos(x(2))) + (width/2)\n",
       "        var cy = ((radius) * Math.sin(x(2))) + (height-margin)\n",
       "        addPeople(cx,cy,1,svg10,2)\n",
       "    }\n",
       "    gambler4()\n",
       "</script>\n"
      ],
      "text/plain": [
       "<IPython.core.display.HTML object>"
      ]
     },
     "metadata": {},
     "output_type": "display_data"
    }
   ],
   "source": [
    "%%html\n",
    "<input type=\"button\" onclick=\"gambler4()\" value=\"Run Animation\">\n",
    "<div id=\"gambler4\"></div>\n",
    "\n",
    "<script type=\"text/javascript\">   \n",
    "    function gambler4() {\n",
    "        var width = 600\n",
    "        var height = 300\n",
    "        var margin = 55\n",
    "        var radius = 200\n",
    "        \n",
    "        d3.select(\"div#gambler4\").select(\"svg\").remove()\n",
    "        var svg10 = d3.select(\"div#gambler4\").append(\"svg\")\n",
    "            .attr(\"width\", width)\n",
    "            .attr(\"height\", height)\n",
    "\n",
    "        var x = d3.scaleLinear().domain([0,d3.range(5).length-1]).range([Math.PI, 2*Math.PI])\n",
    "        fractions = [\"1/4\",\"1/4\",\"1/4\",\"1/4\",\"0\"]\n",
    "        svg10.selectAll(\"line\")\n",
    "            .data(d3.range(4))\n",
    "            .join(\"line\")\n",
    "            .attr(\"x1\", (d,i)=> ((0) * Math.cos(x(i))) + (width/2))\n",
    "            .attr(\"y1\", (d,i)=> ((0) * Math.sin(x(i))) + (height-margin))  \n",
    "            .attr(\"x2\", (d,i)=> ((0) * Math.cos(x(i))) + (width/2))\n",
    "            .attr(\"y2\", (d,i)=> ((0) * Math.sin(x(i))) + (height-margin)) \n",
    "            .style(\"stroke\",\"darkgrey\")\n",
    "            .style(\"stroke-width\", \"10px\")\n",
    "            .style(\"stroke-linecap\",\"round\")\n",
    "            .transition(\"line\")\n",
    "            .duration(1000)\n",
    "            .delay((d,i)=> i * 100)\n",
    "            .attr(\"x2\", (d,i)=> ((radius) * Math.cos(x(i))) + (width/2))\n",
    "            .attr(\"y2\", (d,i)=> ((radius) * Math.sin(x(i))) + (height-margin))    \n",
    "\n",
    "        svg10.selectAll(\"circle\")\n",
    "            // Collect\n",
    "            .data(fractions)\n",
    "            // Update\n",
    "            .join(\"circle\")\n",
    "            .attr(\"cx\", (d,i)=> ((0) * Math.cos(x(i))) + (width/2))\n",
    "            .attr(\"cy\", (d,i)=> ((0) * Math.sin(x(i))) + (height-margin))  \n",
    "            .attr(\"r\", (d,i)=> 30)\n",
    "            .style(\"fill\", (d,i)=> (+d!=0)?\"white\":\"black\")\n",
    "            .style(\"stroke\", \"black\")\n",
    "            .style(\"stroke-width\", \"1px\")\n",
    "            .transition(\"circle\")\n",
    "            .duration(1000)\n",
    "            .delay((d,i)=> i * 100)\n",
    "            .attr(\"cx\", (d,i)=> ((radius) * Math.cos(x(i))) + (width/2))\n",
    "            .attr(\"cy\", (d,i)=> ((radius) * Math.sin(x(i))) + (height-margin))\n",
    "\n",
    "        \n",
    "        svg10.selectAll(\"text.perc\")\n",
    "            // Collect\n",
    "            .data(fractions)\n",
    "            // Update\n",
    "            .join(\"text\")\n",
    "            .attr(\"class\",\"perc\")\n",
    "            .attr(\"x\", (d,i)=> ((0) * Math.cos(x(i))) + (width/2))\n",
    "            .attr(\"y\", (d,i)=> ((0) * Math.sin(x(i))) + (height-margin))  \n",
    "            .style(\"font-size\",\"30px\")\n",
    "            .style(\"text-anchor\", \"middle\")\n",
    "            .style(\"alignment-baseline\",\"middle\")\n",
    "            .text(d=>d)\n",
    "            .transition(\"text\")\n",
    "            .duration(1000)\n",
    "            .delay((d,i)=> i * 100)\n",
    "            .attr(\"x\", (d,i)=> ((radius) * Math.cos(x(i))) + (width/2))\n",
    "            .attr(\"y\", (d,i)=> ((radius) * Math.sin(x(i))) + (height-margin))\n",
    "        \n",
    "        \n",
    "        \n",
    "        svg10.append(\"text\")\n",
    "            .attr(\"class\",\"hungry\")\n",
    "            .attr(\"x\", width/2)\n",
    "            .attr(\"y\", (height-margin))\n",
    "            .style(\"font-size\",\"50px\")\n",
    "            .style(\"text-anchor\", \"middle\")\n",
    "            .style(\"alignment-baseline\",\"middle\")\n",
    "            .text(\"🤔\")\n",
    "        \n",
    "        function addPeople(cx,cy,e,s,c) {\n",
    "            var xc = d3.scaleLinear().domain([0,d3.range(e).length]).range([Math.PI, 3*Math.PI])\n",
    "            s.selectAll(\"text.feed_\"+c)\n",
    "                // Collect\n",
    "                .data(d3.range(e))\n",
    "                // Update\n",
    "                .join(\"text\")\n",
    "                .attr(\"class\",\"feed_\"+c)\n",
    "                .attr(\"x\", cx)\n",
    "                .attr(\"y\", cy)  \n",
    "                .style(\"font-size\",\"30px\")\n",
    "                .style(\"text-anchor\", \"middle\")\n",
    "                .style(\"alignment-baseline\",\"middle\")\n",
    "                .text(d=>\"😃\")\n",
    "                .transition(\"text2\")\n",
    "                .duration(1000)\n",
    "                .delay((d,i)=> i * 100)\n",
    "                .attr(\"x\", (d,i)=> ((40) * Math.cos(xc(i))) + cx)\n",
    "                .attr(\"y\", (d,i)=> ((40) * Math.sin(xc(i))) + cy)\n",
    "        \n",
    "            \n",
    "        }\n",
    "        var cx = ((radius) * Math.cos(x(0))) + (width/2)\n",
    "        var cy = ((radius) * Math.sin(x(0))) + (height-margin)\n",
    "        addPeople(cx,cy,1,svg10,0)\n",
    "        var cx = ((radius) * Math.cos(x(1))) + (width/2)\n",
    "        var cy = ((radius) * Math.sin(x(1))) + (height-margin)\n",
    "        addPeople(cx,cy,1,svg10,1)\n",
    "        var cx = ((radius) * Math.cos(x(2))) + (width/2)\n",
    "        var cy = ((radius) * Math.sin(x(2))) + (height-margin)\n",
    "        addPeople(cx,cy,1,svg10,2)\n",
    "    }\n",
    "    gambler4()\n",
    "</script>"
   ]
  },
  {
   "cell_type": "code",
   "execution_count": 377,
   "id": "7dfc6ce6-f9a6-41b5-8281-876d6a04d196",
   "metadata": {
    "jupyter": {
     "source_hidden": true
    },
    "tags": [
     "hide-input"
    ]
   },
   "outputs": [
    {
     "data": {
      "text/html": [
       "<script src='https://d3js.org/d3.v6.min.js'></script>"
      ],
      "text/plain": [
       "<IPython.core.display.HTML object>"
      ]
     },
     "metadata": {},
     "output_type": "display_data"
    },
    {
     "data": {
      "text/html": [
       "<script src='https://d3js.org/d3.v6.min.js'></script>"
      ],
      "text/plain": [
       "<IPython.core.display.HTML object>"
      ]
     },
     "metadata": {},
     "output_type": "display_data"
    },
    {
     "data": {
      "text/html": [
       "<script src='https://d3js.org/d3.v6.min.js'></script>"
      ],
      "text/plain": [
       "<IPython.core.display.HTML object>"
      ]
     },
     "metadata": {},
     "output_type": "display_data"
    },
    {
     "data": {
      "text/html": [
       "<script src='https://d3js.org/d3.v6.min.js'></script>"
      ],
      "text/plain": [
       "<IPython.core.display.HTML object>"
      ]
     },
     "metadata": {},
     "output_type": "display_data"
    },
    {
     "data": {
      "text/html": [
       "<script src='https://d3js.org/d3.v6.min.js'></script>"
      ],
      "text/plain": [
       "<IPython.core.display.HTML object>"
      ]
     },
     "metadata": {},
     "output_type": "display_data"
    },
    {
     "data": {
      "text/html": [
       "<script src='https://d3js.org/d3.v6.min.js'></script>"
      ],
      "text/plain": [
       "<IPython.core.display.HTML object>"
      ]
     },
     "metadata": {},
     "output_type": "display_data"
    },
    {
     "data": {
      "text/html": [
       "<script src='https://d3js.org/d3.v6.min.js'></script>"
      ],
      "text/plain": [
       "<IPython.core.display.HTML object>"
      ]
     },
     "metadata": {},
     "output_type": "display_data"
    },
    {
     "data": {
      "text/html": [
       "<script src='https://d3js.org/d3.v6.min.js'></script>"
      ],
      "text/plain": [
       "<IPython.core.display.HTML object>"
      ]
     },
     "metadata": {},
     "output_type": "display_data"
    },
    {
     "data": {
      "text/html": [
       "<input type=\"button\" onclick=\"gambler5()\" value=\"Run Animation\">\n",
       "<div id=\"gambler5\"></div>\n",
       "\n",
       "<script type=\"text/javascript\">   \n",
       "    function gambler5() {\n",
       "        var width = 600\n",
       "        var height = 300\n",
       "        var margin = 55\n",
       "        var radius = 200\n",
       "        \n",
       "        d3.select(\"div#gambler5\").select(\"svg\").remove()\n",
       "        var svg11 = d3.select(\"div#gambler5\").append(\"svg\")\n",
       "            .attr(\"width\", width)\n",
       "            .attr(\"height\", height)\n",
       "\n",
       "        var x = d3.scaleLinear().domain([0,d3.range(5).length-1]).range([Math.PI, 2*Math.PI])\n",
       "        fractions = [\"1/5\",\"1/5\",\"1/5\",\"1/5\",\"1/5\"]\n",
       "        svg11.selectAll(\"line\")\n",
       "            .data(d3.range(5))\n",
       "            .join(\"line\")\n",
       "            .attr(\"x1\", (d,i)=> ((0) * Math.cos(x(i))) + (width/2))\n",
       "            .attr(\"y1\", (d,i)=> ((0) * Math.sin(x(i))) + (height-margin))  \n",
       "            .attr(\"x2\", (d,i)=> ((0) * Math.cos(x(i))) + (width/2))\n",
       "            .attr(\"y2\", (d,i)=> ((0) * Math.sin(x(i))) + (height-margin)) \n",
       "            .style(\"stroke\",\"darkgrey\")\n",
       "            .style(\"stroke-width\", \"10px\")\n",
       "            .style(\"stroke-linecap\",\"round\")\n",
       "            .transition(\"line\")\n",
       "            .duration(1000)\n",
       "            .delay((d,i)=> i * 100)\n",
       "            .attr(\"x2\", (d,i)=> ((radius) * Math.cos(x(i))) + (width/2))\n",
       "            .attr(\"y2\", (d,i)=> ((radius) * Math.sin(x(i))) + (height-margin))    \n",
       "\n",
       "        svg11.selectAll(\"circle\")\n",
       "            // Collect\n",
       "            .data(fractions)\n",
       "            // Update\n",
       "            .join(\"circle\")\n",
       "            .attr(\"cx\", (d,i)=> ((0) * Math.cos(x(i))) + (width/2))\n",
       "            .attr(\"cy\", (d,i)=> ((0) * Math.sin(x(i))) + (height-margin))  \n",
       "            .attr(\"r\", (d,i)=> 30)\n",
       "            .style(\"fill\", (d,i)=> (+d!=0)?\"white\":\"black\")\n",
       "            .style(\"stroke\", \"black\")\n",
       "            .style(\"stroke-width\", \"1px\")\n",
       "            .transition(\"circle\")\n",
       "            .duration(1000)\n",
       "            .delay((d,i)=> i * 100)\n",
       "            .attr(\"cx\", (d,i)=> ((radius) * Math.cos(x(i))) + (width/2))\n",
       "            .attr(\"cy\", (d,i)=> ((radius) * Math.sin(x(i))) + (height-margin))\n",
       "\n",
       "        \n",
       "        svg11.selectAll(\"text.perc\")\n",
       "            // Collect\n",
       "            .data(fractions)\n",
       "            // Update\n",
       "            .join(\"text\")\n",
       "            .attr(\"class\",\"perc\")\n",
       "            .attr(\"x\", (d,i)=> ((0) * Math.cos(x(i))) + (width/2))\n",
       "            .attr(\"y\", (d,i)=> ((0) * Math.sin(x(i))) + (height-margin))  \n",
       "            .style(\"font-size\",\"30px\")\n",
       "            .style(\"text-anchor\", \"middle\")\n",
       "            .style(\"alignment-baseline\",\"middle\")\n",
       "            .text(d=>d)\n",
       "            .transition(\"text\")\n",
       "            .duration(1000)\n",
       "            .delay((d,i)=> i * 100)\n",
       "            .attr(\"x\", (d,i)=> ((radius) * Math.cos(x(i))) + (width/2))\n",
       "            .attr(\"y\", (d,i)=> ((radius) * Math.sin(x(i))) + (height-margin))\n",
       "        \n",
       "        \n",
       "        \n",
       "        svg11.append(\"text\")\n",
       "            .attr(\"class\",\"hungry\")\n",
       "            .attr(\"x\", width/2)\n",
       "            .attr(\"y\", (height-margin))\n",
       "            .style(\"font-size\",\"50px\")\n",
       "            .style(\"text-anchor\", \"middle\")\n",
       "            .style(\"alignment-baseline\",\"middle\")\n",
       "            .text(\"🤔\")\n",
       "        \n",
       "        function addPeople(cx,cy,e,s,c) {\n",
       "            var xc = d3.scaleLinear().domain([0,d3.range(e).length]).range([Math.PI, 3*Math.PI])\n",
       "            s.selectAll(\"text.feed_\"+c)\n",
       "                // Collect\n",
       "                .data(d3.range(e))\n",
       "                // Update\n",
       "                .join(\"text\")\n",
       "                .attr(\"class\",\"feed_\"+c)\n",
       "                .attr(\"x\", cx)\n",
       "                .attr(\"y\", cy)  \n",
       "                .style(\"font-size\",\"30px\")\n",
       "                .style(\"text-anchor\", \"middle\")\n",
       "                .style(\"alignment-baseline\",\"middle\")\n",
       "                .text(d=>\"😃\")\n",
       "                .transition(\"text2\")\n",
       "                .duration(1000)\n",
       "                .delay((d,i)=> i * 100)\n",
       "                .attr(\"x\", (d,i)=> ((40) * Math.cos(xc(i))) + cx)\n",
       "                .attr(\"y\", (d,i)=> ((40) * Math.sin(xc(i))) + cy)\n",
       "        \n",
       "            \n",
       "        }\n",
       "        var cx = ((radius) * Math.cos(x(0))) + (width/2)\n",
       "        var cy = ((radius) * Math.sin(x(0))) + (height-margin)\n",
       "        addPeople(cx,cy,1,svg11,0)\n",
       "        var cx = ((radius) * Math.cos(x(1))) + (width/2)\n",
       "        var cy = ((radius) * Math.sin(x(1))) + (height-margin)\n",
       "        addPeople(cx,cy,1,svg11,1)\n",
       "        var cx = ((radius) * Math.cos(x(2))) + (width/2)\n",
       "        var cy = ((radius) * Math.sin(x(2))) + (height-margin)\n",
       "        addPeople(cx,cy,1,svg11,2)\n",
       "        var cx = ((radius) * Math.cos(x(3))) + (width/2)\n",
       "        var cy = ((radius) * Math.sin(x(3))) + (height-margin)\n",
       "        addPeople(cx,cy,1,svg11,3)\n",
       "    }\n",
       "    gambler5()\n",
       "</script>\n"
      ],
      "text/plain": [
       "<IPython.core.display.HTML object>"
      ]
     },
     "metadata": {},
     "output_type": "display_data"
    }
   ],
   "source": [
    "%%html\n",
    "<input type=\"button\" onclick=\"gambler5()\" value=\"Run Animation\">\n",
    "<div id=\"gambler5\"></div>\n",
    "\n",
    "<script type=\"text/javascript\">   \n",
    "    function gambler5() {\n",
    "        var width = 600\n",
    "        var height = 300\n",
    "        var margin = 55\n",
    "        var radius = 200\n",
    "        \n",
    "        d3.select(\"div#gambler5\").select(\"svg\").remove()\n",
    "        var svg11 = d3.select(\"div#gambler5\").append(\"svg\")\n",
    "            .attr(\"width\", width)\n",
    "            .attr(\"height\", height)\n",
    "\n",
    "        var x = d3.scaleLinear().domain([0,d3.range(5).length-1]).range([Math.PI, 2*Math.PI])\n",
    "        fractions = [\"1/5\",\"1/5\",\"1/5\",\"1/5\",\"1/5\"]\n",
    "        svg11.selectAll(\"line\")\n",
    "            .data(d3.range(5))\n",
    "            .join(\"line\")\n",
    "            .attr(\"x1\", (d,i)=> ((0) * Math.cos(x(i))) + (width/2))\n",
    "            .attr(\"y1\", (d,i)=> ((0) * Math.sin(x(i))) + (height-margin))  \n",
    "            .attr(\"x2\", (d,i)=> ((0) * Math.cos(x(i))) + (width/2))\n",
    "            .attr(\"y2\", (d,i)=> ((0) * Math.sin(x(i))) + (height-margin)) \n",
    "            .style(\"stroke\",\"darkgrey\")\n",
    "            .style(\"stroke-width\", \"10px\")\n",
    "            .style(\"stroke-linecap\",\"round\")\n",
    "            .transition(\"line\")\n",
    "            .duration(1000)\n",
    "            .delay((d,i)=> i * 100)\n",
    "            .attr(\"x2\", (d,i)=> ((radius) * Math.cos(x(i))) + (width/2))\n",
    "            .attr(\"y2\", (d,i)=> ((radius) * Math.sin(x(i))) + (height-margin))    \n",
    "\n",
    "        svg11.selectAll(\"circle\")\n",
    "            // Collect\n",
    "            .data(fractions)\n",
    "            // Update\n",
    "            .join(\"circle\")\n",
    "            .attr(\"cx\", (d,i)=> ((0) * Math.cos(x(i))) + (width/2))\n",
    "            .attr(\"cy\", (d,i)=> ((0) * Math.sin(x(i))) + (height-margin))  \n",
    "            .attr(\"r\", (d,i)=> 30)\n",
    "            .style(\"fill\", (d,i)=> (+d!=0)?\"white\":\"black\")\n",
    "            .style(\"stroke\", \"black\")\n",
    "            .style(\"stroke-width\", \"1px\")\n",
    "            .transition(\"circle\")\n",
    "            .duration(1000)\n",
    "            .delay((d,i)=> i * 100)\n",
    "            .attr(\"cx\", (d,i)=> ((radius) * Math.cos(x(i))) + (width/2))\n",
    "            .attr(\"cy\", (d,i)=> ((radius) * Math.sin(x(i))) + (height-margin))\n",
    "\n",
    "        \n",
    "        svg11.selectAll(\"text.perc\")\n",
    "            // Collect\n",
    "            .data(fractions)\n",
    "            // Update\n",
    "            .join(\"text\")\n",
    "            .attr(\"class\",\"perc\")\n",
    "            .attr(\"x\", (d,i)=> ((0) * Math.cos(x(i))) + (width/2))\n",
    "            .attr(\"y\", (d,i)=> ((0) * Math.sin(x(i))) + (height-margin))  \n",
    "            .style(\"font-size\",\"30px\")\n",
    "            .style(\"text-anchor\", \"middle\")\n",
    "            .style(\"alignment-baseline\",\"middle\")\n",
    "            .text(d=>d)\n",
    "            .transition(\"text\")\n",
    "            .duration(1000)\n",
    "            .delay((d,i)=> i * 100)\n",
    "            .attr(\"x\", (d,i)=> ((radius) * Math.cos(x(i))) + (width/2))\n",
    "            .attr(\"y\", (d,i)=> ((radius) * Math.sin(x(i))) + (height-margin))\n",
    "        \n",
    "        \n",
    "        \n",
    "        svg11.append(\"text\")\n",
    "            .attr(\"class\",\"hungry\")\n",
    "            .attr(\"x\", width/2)\n",
    "            .attr(\"y\", (height-margin))\n",
    "            .style(\"font-size\",\"50px\")\n",
    "            .style(\"text-anchor\", \"middle\")\n",
    "            .style(\"alignment-baseline\",\"middle\")\n",
    "            .text(\"🤔\")\n",
    "        \n",
    "        function addPeople(cx,cy,e,s,c) {\n",
    "            var xc = d3.scaleLinear().domain([0,d3.range(e).length]).range([Math.PI, 3*Math.PI])\n",
    "            s.selectAll(\"text.feed_\"+c)\n",
    "                // Collect\n",
    "                .data(d3.range(e))\n",
    "                // Update\n",
    "                .join(\"text\")\n",
    "                .attr(\"class\",\"feed_\"+c)\n",
    "                .attr(\"x\", cx)\n",
    "                .attr(\"y\", cy)  \n",
    "                .style(\"font-size\",\"30px\")\n",
    "                .style(\"text-anchor\", \"middle\")\n",
    "                .style(\"alignment-baseline\",\"middle\")\n",
    "                .text(d=>\"😃\")\n",
    "                .transition(\"text2\")\n",
    "                .duration(1000)\n",
    "                .delay((d,i)=> i * 100)\n",
    "                .attr(\"x\", (d,i)=> ((40) * Math.cos(xc(i))) + cx)\n",
    "                .attr(\"y\", (d,i)=> ((40) * Math.sin(xc(i))) + cy)\n",
    "        \n",
    "            \n",
    "        }\n",
    "        var cx = ((radius) * Math.cos(x(0))) + (width/2)\n",
    "        var cy = ((radius) * Math.sin(x(0))) + (height-margin)\n",
    "        addPeople(cx,cy,1,svg11,0)\n",
    "        var cx = ((radius) * Math.cos(x(1))) + (width/2)\n",
    "        var cy = ((radius) * Math.sin(x(1))) + (height-margin)\n",
    "        addPeople(cx,cy,1,svg11,1)\n",
    "        var cx = ((radius) * Math.cos(x(2))) + (width/2)\n",
    "        var cy = ((radius) * Math.sin(x(2))) + (height-margin)\n",
    "        addPeople(cx,cy,1,svg11,2)\n",
    "        var cx = ((radius) * Math.cos(x(3))) + (width/2)\n",
    "        var cy = ((radius) * Math.sin(x(3))) + (height-margin)\n",
    "        addPeople(cx,cy,1,svg11,3)\n",
    "    }\n",
    "    gambler5()\n",
    "</script>"
   ]
  },
  {
   "cell_type": "markdown",
   "id": "ca29cf87-050e-444a-b988-dd377d5c202a",
   "metadata": {},
   "source": [
    "### 3. The Long Day\n",
    "\n",
    "The Long Day scenerio describes a situation where customers (xx) coming into the restraunt had a reeeeeeeeeeeeeeeally long day. All they want is a table (xx) to themselves to eat their food, pay, and go home. This is the opposite of the Social Butterfly, where if there are people at a table (😃 & xx). They will find an empty table (xxx).\n"
   ]
  },
  {
   "cell_type": "code",
   "execution_count": 378,
   "id": "ddf03ba3-0919-4019-b48a-3a2288c17664",
   "metadata": {
    "jupyter": {
     "source_hidden": true
    },
    "tags": [
     "hide-input"
    ]
   },
   "outputs": [
    {
     "data": {
      "text/html": [
       "<script src='https://d3js.org/d3.v6.min.js'></script>"
      ],
      "text/plain": [
       "<IPython.core.display.HTML object>"
      ]
     },
     "metadata": {},
     "output_type": "display_data"
    },
    {
     "data": {
      "text/html": [
       "<script src='https://d3js.org/d3.v6.min.js'></script>"
      ],
      "text/plain": [
       "<IPython.core.display.HTML object>"
      ]
     },
     "metadata": {},
     "output_type": "display_data"
    },
    {
     "data": {
      "text/html": [
       "<script src='https://d3js.org/d3.v6.min.js'></script>"
      ],
      "text/plain": [
       "<IPython.core.display.HTML object>"
      ]
     },
     "metadata": {},
     "output_type": "display_data"
    },
    {
     "data": {
      "text/html": [
       "<script src='https://d3js.org/d3.v6.min.js'></script>"
      ],
      "text/plain": [
       "<IPython.core.display.HTML object>"
      ]
     },
     "metadata": {},
     "output_type": "display_data"
    },
    {
     "data": {
      "text/html": [
       "<script src='https://d3js.org/d3.v6.min.js'></script>"
      ],
      "text/plain": [
       "<IPython.core.display.HTML object>"
      ]
     },
     "metadata": {},
     "output_type": "display_data"
    },
    {
     "data": {
      "text/html": [
       "<script src='https://d3js.org/d3.v6.min.js'></script>"
      ],
      "text/plain": [
       "<IPython.core.display.HTML object>"
      ]
     },
     "metadata": {},
     "output_type": "display_data"
    },
    {
     "data": {
      "text/html": [
       "<script src='https://d3js.org/d3.v6.min.js'></script>"
      ],
      "text/plain": [
       "<IPython.core.display.HTML object>"
      ]
     },
     "metadata": {},
     "output_type": "display_data"
    },
    {
     "data": {
      "text/html": [
       "<script src='https://d3js.org/d3.v6.min.js'></script>"
      ],
      "text/plain": [
       "<IPython.core.display.HTML object>"
      ]
     },
     "metadata": {},
     "output_type": "display_data"
    },
    {
     "data": {
      "text/html": [
       "<input type=\"button\" onclick=\"long1()\" value=\"Run Animation\">\n",
       "<div id=\"long1\"></div>\n",
       "\n",
       "<script type=\"text/javascript\">   \n",
       "    function long1() {\n",
       "        var width = 500\n",
       "        var height = 270\n",
       "        var margin = 35\n",
       "        var radius = 200\n",
       "        \n",
       "        d3.select(\"div#long1\").select(\"svg\").remove()\n",
       "        var svg12 = d3.select(\"div#long1\").append(\"svg\")\n",
       "            .attr(\"width\", width)\n",
       "            .attr(\"height\", height)\n",
       "\n",
       "        var x = d3.scaleLinear().domain([0,d3.range(5).length-1]).range([Math.PI, 2*Math.PI])\n",
       "\n",
       "        svg12.selectAll(\"line\")\n",
       "            .data(d3.range(1))\n",
       "            .join(\"line\")\n",
       "            .attr(\"x1\", (d,i)=> ((0) * Math.cos(x(i))) + (width/2))\n",
       "            .attr(\"y1\", (d,i)=> ((0) * Math.sin(x(i))) + (height-margin))  \n",
       "            .attr(\"x2\", (d,i)=> ((0) * Math.cos(x(i))) + (width/2))\n",
       "            .attr(\"y2\", (d,i)=> ((0) * Math.sin(x(i))) + (height-margin)) \n",
       "            .style(\"stroke\",\"darkgrey\")\n",
       "            .style(\"stroke-width\", \"10px\")\n",
       "            .style(\"stroke-linecap\",\"round\")\n",
       "            .transition(\"line\")\n",
       "            .duration(1000)\n",
       "            .delay((d,i)=> i * 100)\n",
       "            .attr(\"x2\", (d,i)=> ((radius) * Math.cos(x(i))) + (width/2))\n",
       "            .attr(\"y2\", (d,i)=> ((radius) * Math.sin(x(i))) + (height-margin))    \n",
       "\n",
       "        svg12.selectAll(\"circle\")\n",
       "            // Collect\n",
       "            .data(d3.range(5))\n",
       "            // Update\n",
       "            .join(\"circle\")\n",
       "            .attr(\"cx\", (d,i)=> ((0) * Math.cos(x(i))) + (width/2))\n",
       "            .attr(\"cy\", (d,i)=> ((0) * Math.sin(x(i))) + (height-margin))  \n",
       "            .attr(\"r\", (d,i)=> 30)\n",
       "            .style(\"fill\", (d,i)=> (i<=0)?\"white\":\"black\")\n",
       "            .style(\"stroke\", \"black\")\n",
       "            .style(\"stroke-width\", \"1px\")\n",
       "            .transition(\"circle\")\n",
       "            .duration(1000)\n",
       "            .delay((d,i)=> i * 100)\n",
       "            .attr(\"cx\", (d,i)=> ((radius) * Math.cos(x(i))) + (width/2))\n",
       "            .attr(\"cy\", (d,i)=> ((radius) * Math.sin(x(i))) + (height-margin))\n",
       "\n",
       "        fractions = [\"1/1\",\"0\",\"0\",\"0\",\"0\"]\n",
       "        svg12.selectAll(\"text\")\n",
       "            // Collect\n",
       "            .data(fractions)\n",
       "            // Update\n",
       "            .join(\"text\")\n",
       "            .attr(\"x\", (d,i)=> ((0) * Math.cos(x(i))) + (width/2))\n",
       "            .attr(\"y\", (d,i)=> ((0) * Math.sin(x(i))) + (height-margin))  \n",
       "            .attr(\"r\", (d,i)=> 30)\n",
       "            .style(\"font-size\",\"30px\")\n",
       "            .style(\"text-anchor\", \"middle\")\n",
       "            .style(\"alignment-baseline\",\"middle\")\n",
       "            .text(d=>d)\n",
       "            .transition(\"text\")\n",
       "            .duration(1000)\n",
       "            .delay((d,i)=> i * 100)\n",
       "            .attr(\"x\", (d,i)=> ((radius) * Math.cos(x(i))) + (width/2))\n",
       "            .attr(\"y\", (d,i)=> ((radius) * Math.sin(x(i))) + (height-margin))\n",
       "        \n",
       "        \n",
       "        \n",
       "        svg12.append(\"text\")\n",
       "            .attr(\"x\", width/2)\n",
       "            .attr(\"y\", (height-margin))\n",
       "            .style(\"font-size\",\"50px\")\n",
       "            .style(\"text-anchor\", \"middle\")\n",
       "            .style(\"alignment-baseline\",\"middle\")\n",
       "            .text(\"🤔\")\n",
       "    }\n",
       "    long1()\n",
       "</script>\n"
      ],
      "text/plain": [
       "<IPython.core.display.HTML object>"
      ]
     },
     "metadata": {},
     "output_type": "display_data"
    }
   ],
   "source": [
    "%%html\n",
    "<input type=\"button\" onclick=\"long1()\" value=\"Run Animation\">\n",
    "<div id=\"long1\"></div>\n",
    "\n",
    "<script type=\"text/javascript\">   \n",
    "    function long1() {\n",
    "        var width = 500\n",
    "        var height = 270\n",
    "        var margin = 35\n",
    "        var radius = 200\n",
    "        \n",
    "        d3.select(\"div#long1\").select(\"svg\").remove()\n",
    "        var svg12 = d3.select(\"div#long1\").append(\"svg\")\n",
    "            .attr(\"width\", width)\n",
    "            .attr(\"height\", height)\n",
    "\n",
    "        var x = d3.scaleLinear().domain([0,d3.range(5).length-1]).range([Math.PI, 2*Math.PI])\n",
    "\n",
    "        svg12.selectAll(\"line\")\n",
    "            .data(d3.range(1))\n",
    "            .join(\"line\")\n",
    "            .attr(\"x1\", (d,i)=> ((0) * Math.cos(x(i))) + (width/2))\n",
    "            .attr(\"y1\", (d,i)=> ((0) * Math.sin(x(i))) + (height-margin))  \n",
    "            .attr(\"x2\", (d,i)=> ((0) * Math.cos(x(i))) + (width/2))\n",
    "            .attr(\"y2\", (d,i)=> ((0) * Math.sin(x(i))) + (height-margin)) \n",
    "            .style(\"stroke\",\"darkgrey\")\n",
    "            .style(\"stroke-width\", \"10px\")\n",
    "            .style(\"stroke-linecap\",\"round\")\n",
    "            .transition(\"line\")\n",
    "            .duration(1000)\n",
    "            .delay((d,i)=> i * 100)\n",
    "            .attr(\"x2\", (d,i)=> ((radius) * Math.cos(x(i))) + (width/2))\n",
    "            .attr(\"y2\", (d,i)=> ((radius) * Math.sin(x(i))) + (height-margin))    \n",
    "\n",
    "        svg12.selectAll(\"circle\")\n",
    "            // Collect\n",
    "            .data(d3.range(5))\n",
    "            // Update\n",
    "            .join(\"circle\")\n",
    "            .attr(\"cx\", (d,i)=> ((0) * Math.cos(x(i))) + (width/2))\n",
    "            .attr(\"cy\", (d,i)=> ((0) * Math.sin(x(i))) + (height-margin))  \n",
    "            .attr(\"r\", (d,i)=> 30)\n",
    "            .style(\"fill\", (d,i)=> (i<=0)?\"white\":\"black\")\n",
    "            .style(\"stroke\", \"black\")\n",
    "            .style(\"stroke-width\", \"1px\")\n",
    "            .transition(\"circle\")\n",
    "            .duration(1000)\n",
    "            .delay((d,i)=> i * 100)\n",
    "            .attr(\"cx\", (d,i)=> ((radius) * Math.cos(x(i))) + (width/2))\n",
    "            .attr(\"cy\", (d,i)=> ((radius) * Math.sin(x(i))) + (height-margin))\n",
    "\n",
    "        fractions = [\"1/1\",\"0\",\"0\",\"0\",\"0\"]\n",
    "        svg12.selectAll(\"text\")\n",
    "            // Collect\n",
    "            .data(fractions)\n",
    "            // Update\n",
    "            .join(\"text\")\n",
    "            .attr(\"x\", (d,i)=> ((0) * Math.cos(x(i))) + (width/2))\n",
    "            .attr(\"y\", (d,i)=> ((0) * Math.sin(x(i))) + (height-margin))  \n",
    "            .attr(\"r\", (d,i)=> 30)\n",
    "            .style(\"font-size\",\"30px\")\n",
    "            .style(\"text-anchor\", \"middle\")\n",
    "            .style(\"alignment-baseline\",\"middle\")\n",
    "            .text(d=>d)\n",
    "            .transition(\"text\")\n",
    "            .duration(1000)\n",
    "            .delay((d,i)=> i * 100)\n",
    "            .attr(\"x\", (d,i)=> ((radius) * Math.cos(x(i))) + (width/2))\n",
    "            .attr(\"y\", (d,i)=> ((radius) * Math.sin(x(i))) + (height-margin))\n",
    "        \n",
    "        \n",
    "        \n",
    "        svg12.append(\"text\")\n",
    "            .attr(\"x\", width/2)\n",
    "            .attr(\"y\", (height-margin))\n",
    "            .style(\"font-size\",\"50px\")\n",
    "            .style(\"text-anchor\", \"middle\")\n",
    "            .style(\"alignment-baseline\",\"middle\")\n",
    "            .text(\"🤔\")\n",
    "    }\n",
    "    long1()\n",
    "</script>"
   ]
  },
  {
   "cell_type": "code",
   "execution_count": 379,
   "id": "e5e51927-29a5-4d52-b15c-ed7d34eab11f",
   "metadata": {
    "jupyter": {
     "source_hidden": true
    },
    "tags": [
     "hide-input"
    ]
   },
   "outputs": [
    {
     "data": {
      "text/html": [
       "<script src='https://d3js.org/d3.v6.min.js'></script>"
      ],
      "text/plain": [
       "<IPython.core.display.HTML object>"
      ]
     },
     "metadata": {},
     "output_type": "display_data"
    },
    {
     "data": {
      "text/html": [
       "<script src='https://d3js.org/d3.v6.min.js'></script>"
      ],
      "text/plain": [
       "<IPython.core.display.HTML object>"
      ]
     },
     "metadata": {},
     "output_type": "display_data"
    },
    {
     "data": {
      "text/html": [
       "<script src='https://d3js.org/d3.v6.min.js'></script>"
      ],
      "text/plain": [
       "<IPython.core.display.HTML object>"
      ]
     },
     "metadata": {},
     "output_type": "display_data"
    },
    {
     "data": {
      "text/html": [
       "<script src='https://d3js.org/d3.v6.min.js'></script>"
      ],
      "text/plain": [
       "<IPython.core.display.HTML object>"
      ]
     },
     "metadata": {},
     "output_type": "display_data"
    },
    {
     "data": {
      "text/html": [
       "<script src='https://d3js.org/d3.v6.min.js'></script>"
      ],
      "text/plain": [
       "<IPython.core.display.HTML object>"
      ]
     },
     "metadata": {},
     "output_type": "display_data"
    },
    {
     "data": {
      "text/html": [
       "<script src='https://d3js.org/d3.v6.min.js'></script>"
      ],
      "text/plain": [
       "<IPython.core.display.HTML object>"
      ]
     },
     "metadata": {},
     "output_type": "display_data"
    },
    {
     "data": {
      "text/html": [
       "<script src='https://d3js.org/d3.v6.min.js'></script>"
      ],
      "text/plain": [
       "<IPython.core.display.HTML object>"
      ]
     },
     "metadata": {},
     "output_type": "display_data"
    },
    {
     "data": {
      "text/html": [
       "<script src='https://d3js.org/d3.v6.min.js'></script>"
      ],
      "text/plain": [
       "<IPython.core.display.HTML object>"
      ]
     },
     "metadata": {},
     "output_type": "display_data"
    },
    {
     "data": {
      "text/html": [
       "<input type=\"button\" onclick=\"long2()\" value=\"Run Animation\">\n",
       "<div id=\"long2\"></div>\n",
       "\n",
       "<script type=\"text/javascript\">   \n",
       "    function long2() {\n",
       "        var width = 600\n",
       "        var height = 300\n",
       "        var margin = 55\n",
       "        var radius = 200\n",
       "        \n",
       "        d3.select(\"div#long2\").select(\"svg\").remove()\n",
       "        var svg13 = d3.select(\"div#long2\").append(\"svg\")\n",
       "            .attr(\"width\", width)\n",
       "            .attr(\"height\", height)\n",
       "\n",
       "        var x = d3.scaleLinear().domain([0,d3.range(5).length-1]).range([Math.PI, 2*Math.PI])\n",
       "\n",
       "        svg13.selectAll(\"line\")\n",
       "            .data(d3.range(2))\n",
       "            .join(\"line\")\n",
       "            .attr(\"x1\", (d,i)=> ((0) * Math.cos(x(i))) + (width/2))\n",
       "            .attr(\"y1\", (d,i)=> ((0) * Math.sin(x(i))) + (height-margin))  \n",
       "            .attr(\"x2\", (d,i)=> ((0) * Math.cos(x(i))) + (width/2))\n",
       "            .attr(\"y2\", (d,i)=> ((0) * Math.sin(x(i))) + (height-margin)) \n",
       "            .style(\"stroke\",\"darkgrey\")\n",
       "            .style(\"stroke-width\", \"10px\")\n",
       "            .style(\"stroke-linecap\",\"round\")\n",
       "            .transition(\"line\")\n",
       "            .duration(1000)\n",
       "            .delay((d,i)=> i * 100)\n",
       "            .attr(\"x2\", (d,i)=> ((radius) * Math.cos(x(i))) + (width/2))\n",
       "            .attr(\"y2\", (d,i)=> ((radius) * Math.sin(x(i))) + (height-margin))    \n",
       "\n",
       "        svg13.selectAll(\"circle\")\n",
       "            // Collect\n",
       "            .data(d3.range(5))\n",
       "            // Update\n",
       "            .join(\"circle\")\n",
       "            .attr(\"cx\", (d,i)=> ((0) * Math.cos(x(i))) + (width/2))\n",
       "            .attr(\"cy\", (d,i)=> ((0) * Math.sin(x(i))) + (height-margin))  \n",
       "            .attr(\"r\", (d,i)=> 30)\n",
       "            .style(\"fill\", (d,i)=> (i<=1)?\"white\":\"black\")\n",
       "            .style(\"stroke\", \"black\")\n",
       "            .style(\"stroke-width\", \"1px\")\n",
       "            .transition(\"circle\")\n",
       "            .duration(1000)\n",
       "            .delay((d,i)=> i * 100)\n",
       "            .attr(\"cx\", (d,i)=> ((radius) * Math.cos(x(i))) + (width/2))\n",
       "            .attr(\"cy\", (d,i)=> ((radius) * Math.sin(x(i))) + (height-margin))\n",
       "\n",
       "        fractions = [\"0\",\"1/1\",\"0\",\"0\",\"0\"]\n",
       "        svg13.selectAll(\"text.perc\")\n",
       "            // Collect\n",
       "            .data(fractions)\n",
       "            // Update\n",
       "            .join(\"text\")\n",
       "            .attr(\"class\",\"perc\")\n",
       "            .attr(\"x\", (d,i)=> ((0) * Math.cos(x(i))) + (width/2))\n",
       "            .attr(\"y\", (d,i)=> ((0) * Math.sin(x(i))) + (height-margin))  \n",
       "            .style(\"font-size\",\"30px\")\n",
       "            .style(\"text-anchor\", \"middle\")\n",
       "            .style(\"alignment-baseline\",\"middle\")\n",
       "            .text(d=>d)\n",
       "            .transition(\"text\")\n",
       "            .duration(1000)\n",
       "            .delay((d,i)=> i * 100)\n",
       "            .attr(\"x\", (d,i)=> ((radius) * Math.cos(x(i))) + (width/2))\n",
       "            .attr(\"y\", (d,i)=> ((radius) * Math.sin(x(i))) + (height-margin))\n",
       "        \n",
       "        \n",
       "        \n",
       "        svg13.append(\"text\")\n",
       "            .attr(\"class\",\"hungry\")\n",
       "            .attr(\"x\", width/2)\n",
       "            .attr(\"y\", (height-margin))\n",
       "            .style(\"font-size\",\"50px\")\n",
       "            .style(\"text-anchor\", \"middle\")\n",
       "            .style(\"alignment-baseline\",\"middle\")\n",
       "            .text(\"🤔\")\n",
       "        \n",
       "        function addPeople(cx,cy,e,s,c) {\n",
       "            var xc = d3.scaleLinear().domain([0,d3.range(e).length]).range([Math.PI, 3*Math.PI])\n",
       "            s.selectAll(\"text.feed_\"+c)\n",
       "                // Collect\n",
       "                .data(d3.range(e))\n",
       "                // Update\n",
       "                .join(\"text\")\n",
       "                .attr(\"class\",\"feed_\"+c)\n",
       "                .attr(\"x\", cx)\n",
       "                .attr(\"y\", cy)  \n",
       "                .style(\"font-size\",\"30px\")\n",
       "                .style(\"text-anchor\", \"middle\")\n",
       "                .style(\"alignment-baseline\",\"middle\")\n",
       "                .text(d=>\"😃\")\n",
       "                .transition(\"text2\")\n",
       "                .duration(1000)\n",
       "                .delay((d,i)=> i * 100)\n",
       "                .attr(\"x\", (d,i)=> ((40) * Math.cos(xc(i))) + cx)\n",
       "                .attr(\"y\", (d,i)=> ((40) * Math.sin(xc(i))) + cy)\n",
       "        \n",
       "            \n",
       "        }\n",
       "        var cx = ((radius) * Math.cos(x(0))) + (width/2)\n",
       "        var cy = ((radius) * Math.sin(x(0))) + (height-margin)\n",
       "        addPeople(cx,cy,1,svg13,0)\n",
       "\n",
       "    }\n",
       "    long2()\n",
       "</script>\n"
      ],
      "text/plain": [
       "<IPython.core.display.HTML object>"
      ]
     },
     "metadata": {},
     "output_type": "display_data"
    }
   ],
   "source": [
    "%%html\n",
    "<input type=\"button\" onclick=\"long2()\" value=\"Run Animation\">\n",
    "<div id=\"long2\"></div>\n",
    "\n",
    "<script type=\"text/javascript\">   \n",
    "    function long2() {\n",
    "        var width = 600\n",
    "        var height = 300\n",
    "        var margin = 55\n",
    "        var radius = 200\n",
    "        \n",
    "        d3.select(\"div#long2\").select(\"svg\").remove()\n",
    "        var svg13 = d3.select(\"div#long2\").append(\"svg\")\n",
    "            .attr(\"width\", width)\n",
    "            .attr(\"height\", height)\n",
    "\n",
    "        var x = d3.scaleLinear().domain([0,d3.range(5).length-1]).range([Math.PI, 2*Math.PI])\n",
    "\n",
    "        svg13.selectAll(\"line\")\n",
    "            .data(d3.range(2))\n",
    "            .join(\"line\")\n",
    "            .attr(\"x1\", (d,i)=> ((0) * Math.cos(x(i))) + (width/2))\n",
    "            .attr(\"y1\", (d,i)=> ((0) * Math.sin(x(i))) + (height-margin))  \n",
    "            .attr(\"x2\", (d,i)=> ((0) * Math.cos(x(i))) + (width/2))\n",
    "            .attr(\"y2\", (d,i)=> ((0) * Math.sin(x(i))) + (height-margin)) \n",
    "            .style(\"stroke\",\"darkgrey\")\n",
    "            .style(\"stroke-width\", \"10px\")\n",
    "            .style(\"stroke-linecap\",\"round\")\n",
    "            .transition(\"line\")\n",
    "            .duration(1000)\n",
    "            .delay((d,i)=> i * 100)\n",
    "            .attr(\"x2\", (d,i)=> ((radius) * Math.cos(x(i))) + (width/2))\n",
    "            .attr(\"y2\", (d,i)=> ((radius) * Math.sin(x(i))) + (height-margin))    \n",
    "\n",
    "        svg13.selectAll(\"circle\")\n",
    "            // Collect\n",
    "            .data(d3.range(5))\n",
    "            // Update\n",
    "            .join(\"circle\")\n",
    "            .attr(\"cx\", (d,i)=> ((0) * Math.cos(x(i))) + (width/2))\n",
    "            .attr(\"cy\", (d,i)=> ((0) * Math.sin(x(i))) + (height-margin))  \n",
    "            .attr(\"r\", (d,i)=> 30)\n",
    "            .style(\"fill\", (d,i)=> (i<=1)?\"white\":\"black\")\n",
    "            .style(\"stroke\", \"black\")\n",
    "            .style(\"stroke-width\", \"1px\")\n",
    "            .transition(\"circle\")\n",
    "            .duration(1000)\n",
    "            .delay((d,i)=> i * 100)\n",
    "            .attr(\"cx\", (d,i)=> ((radius) * Math.cos(x(i))) + (width/2))\n",
    "            .attr(\"cy\", (d,i)=> ((radius) * Math.sin(x(i))) + (height-margin))\n",
    "\n",
    "        fractions = [\"0\",\"1/1\",\"0\",\"0\",\"0\"]\n",
    "        svg13.selectAll(\"text.perc\")\n",
    "            // Collect\n",
    "            .data(fractions)\n",
    "            // Update\n",
    "            .join(\"text\")\n",
    "            .attr(\"class\",\"perc\")\n",
    "            .attr(\"x\", (d,i)=> ((0) * Math.cos(x(i))) + (width/2))\n",
    "            .attr(\"y\", (d,i)=> ((0) * Math.sin(x(i))) + (height-margin))  \n",
    "            .style(\"font-size\",\"30px\")\n",
    "            .style(\"text-anchor\", \"middle\")\n",
    "            .style(\"alignment-baseline\",\"middle\")\n",
    "            .text(d=>d)\n",
    "            .transition(\"text\")\n",
    "            .duration(1000)\n",
    "            .delay((d,i)=> i * 100)\n",
    "            .attr(\"x\", (d,i)=> ((radius) * Math.cos(x(i))) + (width/2))\n",
    "            .attr(\"y\", (d,i)=> ((radius) * Math.sin(x(i))) + (height-margin))\n",
    "        \n",
    "        \n",
    "        \n",
    "        svg13.append(\"text\")\n",
    "            .attr(\"class\",\"hungry\")\n",
    "            .attr(\"x\", width/2)\n",
    "            .attr(\"y\", (height-margin))\n",
    "            .style(\"font-size\",\"50px\")\n",
    "            .style(\"text-anchor\", \"middle\")\n",
    "            .style(\"alignment-baseline\",\"middle\")\n",
    "            .text(\"🤔\")\n",
    "        \n",
    "        function addPeople(cx,cy,e,s,c) {\n",
    "            var xc = d3.scaleLinear().domain([0,d3.range(e).length]).range([Math.PI, 3*Math.PI])\n",
    "            s.selectAll(\"text.feed_\"+c)\n",
    "                // Collect\n",
    "                .data(d3.range(e))\n",
    "                // Update\n",
    "                .join(\"text\")\n",
    "                .attr(\"class\",\"feed_\"+c)\n",
    "                .attr(\"x\", cx)\n",
    "                .attr(\"y\", cy)  \n",
    "                .style(\"font-size\",\"30px\")\n",
    "                .style(\"text-anchor\", \"middle\")\n",
    "                .style(\"alignment-baseline\",\"middle\")\n",
    "                .text(d=>\"😃\")\n",
    "                .transition(\"text2\")\n",
    "                .duration(1000)\n",
    "                .delay((d,i)=> i * 100)\n",
    "                .attr(\"x\", (d,i)=> ((40) * Math.cos(xc(i))) + cx)\n",
    "                .attr(\"y\", (d,i)=> ((40) * Math.sin(xc(i))) + cy)\n",
    "        \n",
    "            \n",
    "        }\n",
    "        var cx = ((radius) * Math.cos(x(0))) + (width/2)\n",
    "        var cy = ((radius) * Math.sin(x(0))) + (height-margin)\n",
    "        addPeople(cx,cy,1,svg13,0)\n",
    "\n",
    "    }\n",
    "    long2()\n",
    "</script>"
   ]
  },
  {
   "cell_type": "code",
   "execution_count": 380,
   "id": "f66f9fc3-170c-487f-be90-b87087278095",
   "metadata": {
    "jupyter": {
     "source_hidden": true
    },
    "tags": [
     "hide-input"
    ]
   },
   "outputs": [
    {
     "data": {
      "text/html": [
       "<script src='https://d3js.org/d3.v6.min.js'></script>"
      ],
      "text/plain": [
       "<IPython.core.display.HTML object>"
      ]
     },
     "metadata": {},
     "output_type": "display_data"
    },
    {
     "data": {
      "text/html": [
       "<script src='https://d3js.org/d3.v6.min.js'></script>"
      ],
      "text/plain": [
       "<IPython.core.display.HTML object>"
      ]
     },
     "metadata": {},
     "output_type": "display_data"
    },
    {
     "data": {
      "text/html": [
       "<script src='https://d3js.org/d3.v6.min.js'></script>"
      ],
      "text/plain": [
       "<IPython.core.display.HTML object>"
      ]
     },
     "metadata": {},
     "output_type": "display_data"
    },
    {
     "data": {
      "text/html": [
       "<script src='https://d3js.org/d3.v6.min.js'></script>"
      ],
      "text/plain": [
       "<IPython.core.display.HTML object>"
      ]
     },
     "metadata": {},
     "output_type": "display_data"
    },
    {
     "data": {
      "text/html": [
       "<script src='https://d3js.org/d3.v6.min.js'></script>"
      ],
      "text/plain": [
       "<IPython.core.display.HTML object>"
      ]
     },
     "metadata": {},
     "output_type": "display_data"
    },
    {
     "data": {
      "text/html": [
       "<script src='https://d3js.org/d3.v6.min.js'></script>"
      ],
      "text/plain": [
       "<IPython.core.display.HTML object>"
      ]
     },
     "metadata": {},
     "output_type": "display_data"
    },
    {
     "data": {
      "text/html": [
       "<script src='https://d3js.org/d3.v6.min.js'></script>"
      ],
      "text/plain": [
       "<IPython.core.display.HTML object>"
      ]
     },
     "metadata": {},
     "output_type": "display_data"
    },
    {
     "data": {
      "text/html": [
       "<script src='https://d3js.org/d3.v6.min.js'></script>"
      ],
      "text/plain": [
       "<IPython.core.display.HTML object>"
      ]
     },
     "metadata": {},
     "output_type": "display_data"
    },
    {
     "data": {
      "text/html": [
       "<input type=\"button\" onclick=\"long3()\" value=\"Run Animation\">\n",
       "<div id=\"long3\"></div>\n",
       "\n",
       "<script type=\"text/javascript\">   \n",
       "    function long3() {\n",
       "        var width = 600\n",
       "        var height = 300\n",
       "        var margin = 55\n",
       "        var radius = 200\n",
       "        \n",
       "        d3.select(\"div#long3\").select(\"svg\").remove()\n",
       "        var svg14 = d3.select(\"div#long3\").append(\"svg\")\n",
       "            .attr(\"width\", width)\n",
       "            .attr(\"height\", height)\n",
       "\n",
       "        var x = d3.scaleLinear().domain([0,d3.range(5).length-1]).range([Math.PI, 2*Math.PI])\n",
       "\n",
       "        svg14.selectAll(\"line\")\n",
       "            .data(d3.range(3))\n",
       "            .join(\"line\")\n",
       "            .attr(\"x1\", (d,i)=> ((0) * Math.cos(x(i))) + (width/2))\n",
       "            .attr(\"y1\", (d,i)=> ((0) * Math.sin(x(i))) + (height-margin))  \n",
       "            .attr(\"x2\", (d,i)=> ((0) * Math.cos(x(i))) + (width/2))\n",
       "            .attr(\"y2\", (d,i)=> ((0) * Math.sin(x(i))) + (height-margin)) \n",
       "            .style(\"stroke\",\"darkgrey\")\n",
       "            .style(\"stroke-width\", \"10px\")\n",
       "            .style(\"stroke-linecap\",\"round\")\n",
       "            .transition(\"line\")\n",
       "            .duration(1000)\n",
       "            .delay((d,i)=> i * 100)\n",
       "            .attr(\"x2\", (d,i)=> ((radius) * Math.cos(x(i))) + (width/2))\n",
       "            .attr(\"y2\", (d,i)=> ((radius) * Math.sin(x(i))) + (height-margin))    \n",
       "\n",
       "        svg14.selectAll(\"circle\")\n",
       "            // Collect\n",
       "            .data(d3.range(5))\n",
       "            // Update\n",
       "            .join(\"circle\")\n",
       "            .attr(\"cx\", (d,i)=> ((0) * Math.cos(x(i))) + (width/2))\n",
       "            .attr(\"cy\", (d,i)=> ((0) * Math.sin(x(i))) + (height-margin))  \n",
       "            .attr(\"r\", (d,i)=> 30)\n",
       "            .style(\"fill\", (d,i)=> (i<=2)?\"white\":\"black\")\n",
       "            .style(\"stroke\", \"black\")\n",
       "            .style(\"stroke-width\", \"1px\")\n",
       "            .transition(\"circle\")\n",
       "            .duration(1000)\n",
       "            .delay((d,i)=> i * 100)\n",
       "            .attr(\"cx\", (d,i)=> ((radius) * Math.cos(x(i))) + (width/2))\n",
       "            .attr(\"cy\", (d,i)=> ((radius) * Math.sin(x(i))) + (height-margin))\n",
       "\n",
       "        fractions = [\"0\",\"0\",\"2/2\",\"0\",\"0\"]\n",
       "        svg14.selectAll(\"text.perc\")\n",
       "            // Collect\n",
       "            .data(fractions)\n",
       "            // Update\n",
       "            .join(\"text\")\n",
       "            .attr(\"class\",\"perc\")\n",
       "            .attr(\"x\", (d,i)=> ((0) * Math.cos(x(i))) + (width/2))\n",
       "            .attr(\"y\", (d,i)=> ((0) * Math.sin(x(i))) + (height-margin))  \n",
       "            .style(\"font-size\",\"30px\")\n",
       "            .style(\"text-anchor\", \"middle\")\n",
       "            .style(\"alignment-baseline\",\"middle\")\n",
       "            .text(d=>d)\n",
       "            .transition(\"text\")\n",
       "            .duration(1000)\n",
       "            .delay((d,i)=> i * 100)\n",
       "            .attr(\"x\", (d,i)=> ((radius) * Math.cos(x(i))) + (width/2))\n",
       "            .attr(\"y\", (d,i)=> ((radius) * Math.sin(x(i))) + (height-margin))\n",
       "        \n",
       "        \n",
       "        \n",
       "        svg14.append(\"text\")\n",
       "            .attr(\"class\",\"hungry\")\n",
       "            .attr(\"x\", width/2)\n",
       "            .attr(\"y\", (height-margin))\n",
       "            .style(\"font-size\",\"50px\")\n",
       "            .style(\"text-anchor\", \"middle\")\n",
       "            .style(\"alignment-baseline\",\"middle\")\n",
       "            .text(\"🤔\")\n",
       "        \n",
       "        function addPeople(cx,cy,e,s,c) {\n",
       "            var xc = d3.scaleLinear().domain([0,d3.range(e).length]).range([Math.PI, 3*Math.PI])\n",
       "            s.selectAll(\"text.feed_\"+c)\n",
       "                // Collect\n",
       "                .data(d3.range(e))\n",
       "                // Update\n",
       "                .join(\"text\")\n",
       "                .attr(\"class\",\"feed_\"+c)\n",
       "                .attr(\"x\", cx)\n",
       "                .attr(\"y\", cy)  \n",
       "                .style(\"font-size\",\"30px\")\n",
       "                .style(\"text-anchor\", \"middle\")\n",
       "                .style(\"alignment-baseline\",\"middle\")\n",
       "                .text(d=>\"😃\")\n",
       "                .transition(\"text2\")\n",
       "                .duration(1000)\n",
       "                .delay((d,i)=> i * 100)\n",
       "                .attr(\"x\", (d,i)=> ((40) * Math.cos(xc(i))) + cx)\n",
       "                .attr(\"y\", (d,i)=> ((40) * Math.sin(xc(i))) + cy)\n",
       "        \n",
       "            \n",
       "        }\n",
       "        var cx = ((radius) * Math.cos(x(0))) + (width/2)\n",
       "        var cy = ((radius) * Math.sin(x(0))) + (height-margin)\n",
       "        addPeople(cx,cy,1,svg14,0)\n",
       "        var cx = ((radius) * Math.cos(x(1))) + (width/2)\n",
       "        var cy = ((radius) * Math.sin(x(1))) + (height-margin)\n",
       "        addPeople(cx,cy,1,svg14,1)\n",
       "\n",
       "    }\n",
       "    long3()\n",
       "</script>\n"
      ],
      "text/plain": [
       "<IPython.core.display.HTML object>"
      ]
     },
     "metadata": {},
     "output_type": "display_data"
    }
   ],
   "source": [
    "%%html\n",
    "<input type=\"button\" onclick=\"long3()\" value=\"Run Animation\">\n",
    "<div id=\"long3\"></div>\n",
    "\n",
    "<script type=\"text/javascript\">   \n",
    "    function long3() {\n",
    "        var width = 600\n",
    "        var height = 300\n",
    "        var margin = 55\n",
    "        var radius = 200\n",
    "        \n",
    "        d3.select(\"div#long3\").select(\"svg\").remove()\n",
    "        var svg14 = d3.select(\"div#long3\").append(\"svg\")\n",
    "            .attr(\"width\", width)\n",
    "            .attr(\"height\", height)\n",
    "\n",
    "        var x = d3.scaleLinear().domain([0,d3.range(5).length-1]).range([Math.PI, 2*Math.PI])\n",
    "\n",
    "        svg14.selectAll(\"line\")\n",
    "            .data(d3.range(3))\n",
    "            .join(\"line\")\n",
    "            .attr(\"x1\", (d,i)=> ((0) * Math.cos(x(i))) + (width/2))\n",
    "            .attr(\"y1\", (d,i)=> ((0) * Math.sin(x(i))) + (height-margin))  \n",
    "            .attr(\"x2\", (d,i)=> ((0) * Math.cos(x(i))) + (width/2))\n",
    "            .attr(\"y2\", (d,i)=> ((0) * Math.sin(x(i))) + (height-margin)) \n",
    "            .style(\"stroke\",\"darkgrey\")\n",
    "            .style(\"stroke-width\", \"10px\")\n",
    "            .style(\"stroke-linecap\",\"round\")\n",
    "            .transition(\"line\")\n",
    "            .duration(1000)\n",
    "            .delay((d,i)=> i * 100)\n",
    "            .attr(\"x2\", (d,i)=> ((radius) * Math.cos(x(i))) + (width/2))\n",
    "            .attr(\"y2\", (d,i)=> ((radius) * Math.sin(x(i))) + (height-margin))    \n",
    "\n",
    "        svg14.selectAll(\"circle\")\n",
    "            // Collect\n",
    "            .data(d3.range(5))\n",
    "            // Update\n",
    "            .join(\"circle\")\n",
    "            .attr(\"cx\", (d,i)=> ((0) * Math.cos(x(i))) + (width/2))\n",
    "            .attr(\"cy\", (d,i)=> ((0) * Math.sin(x(i))) + (height-margin))  \n",
    "            .attr(\"r\", (d,i)=> 30)\n",
    "            .style(\"fill\", (d,i)=> (i<=2)?\"white\":\"black\")\n",
    "            .style(\"stroke\", \"black\")\n",
    "            .style(\"stroke-width\", \"1px\")\n",
    "            .transition(\"circle\")\n",
    "            .duration(1000)\n",
    "            .delay((d,i)=> i * 100)\n",
    "            .attr(\"cx\", (d,i)=> ((radius) * Math.cos(x(i))) + (width/2))\n",
    "            .attr(\"cy\", (d,i)=> ((radius) * Math.sin(x(i))) + (height-margin))\n",
    "\n",
    "        fractions = [\"0\",\"0\",\"2/2\",\"0\",\"0\"]\n",
    "        svg14.selectAll(\"text.perc\")\n",
    "            // Collect\n",
    "            .data(fractions)\n",
    "            // Update\n",
    "            .join(\"text\")\n",
    "            .attr(\"class\",\"perc\")\n",
    "            .attr(\"x\", (d,i)=> ((0) * Math.cos(x(i))) + (width/2))\n",
    "            .attr(\"y\", (d,i)=> ((0) * Math.sin(x(i))) + (height-margin))  \n",
    "            .style(\"font-size\",\"30px\")\n",
    "            .style(\"text-anchor\", \"middle\")\n",
    "            .style(\"alignment-baseline\",\"middle\")\n",
    "            .text(d=>d)\n",
    "            .transition(\"text\")\n",
    "            .duration(1000)\n",
    "            .delay((d,i)=> i * 100)\n",
    "            .attr(\"x\", (d,i)=> ((radius) * Math.cos(x(i))) + (width/2))\n",
    "            .attr(\"y\", (d,i)=> ((radius) * Math.sin(x(i))) + (height-margin))\n",
    "        \n",
    "        \n",
    "        \n",
    "        svg14.append(\"text\")\n",
    "            .attr(\"class\",\"hungry\")\n",
    "            .attr(\"x\", width/2)\n",
    "            .attr(\"y\", (height-margin))\n",
    "            .style(\"font-size\",\"50px\")\n",
    "            .style(\"text-anchor\", \"middle\")\n",
    "            .style(\"alignment-baseline\",\"middle\")\n",
    "            .text(\"🤔\")\n",
    "        \n",
    "        function addPeople(cx,cy,e,s,c) {\n",
    "            var xc = d3.scaleLinear().domain([0,d3.range(e).length]).range([Math.PI, 3*Math.PI])\n",
    "            s.selectAll(\"text.feed_\"+c)\n",
    "                // Collect\n",
    "                .data(d3.range(e))\n",
    "                // Update\n",
    "                .join(\"text\")\n",
    "                .attr(\"class\",\"feed_\"+c)\n",
    "                .attr(\"x\", cx)\n",
    "                .attr(\"y\", cy)  \n",
    "                .style(\"font-size\",\"30px\")\n",
    "                .style(\"text-anchor\", \"middle\")\n",
    "                .style(\"alignment-baseline\",\"middle\")\n",
    "                .text(d=>\"😃\")\n",
    "                .transition(\"text2\")\n",
    "                .duration(1000)\n",
    "                .delay((d,i)=> i * 100)\n",
    "                .attr(\"x\", (d,i)=> ((40) * Math.cos(xc(i))) + cx)\n",
    "                .attr(\"y\", (d,i)=> ((40) * Math.sin(xc(i))) + cy)\n",
    "        \n",
    "            \n",
    "        }\n",
    "        var cx = ((radius) * Math.cos(x(0))) + (width/2)\n",
    "        var cy = ((radius) * Math.sin(x(0))) + (height-margin)\n",
    "        addPeople(cx,cy,1,svg14,0)\n",
    "        var cx = ((radius) * Math.cos(x(1))) + (width/2)\n",
    "        var cy = ((radius) * Math.sin(x(1))) + (height-margin)\n",
    "        addPeople(cx,cy,1,svg14,1)\n",
    "\n",
    "    }\n",
    "    long3()\n",
    "</script>"
   ]
  },
  {
   "cell_type": "code",
   "execution_count": 381,
   "id": "e98f7af7-0f19-4792-998e-b6794d6a77a6",
   "metadata": {
    "jupyter": {
     "source_hidden": true
    },
    "tags": [
     "hide-input"
    ]
   },
   "outputs": [
    {
     "data": {
      "text/html": [
       "<script src='https://d3js.org/d3.v6.min.js'></script>"
      ],
      "text/plain": [
       "<IPython.core.display.HTML object>"
      ]
     },
     "metadata": {},
     "output_type": "display_data"
    },
    {
     "data": {
      "text/html": [
       "<script src='https://d3js.org/d3.v6.min.js'></script>"
      ],
      "text/plain": [
       "<IPython.core.display.HTML object>"
      ]
     },
     "metadata": {},
     "output_type": "display_data"
    },
    {
     "data": {
      "text/html": [
       "<script src='https://d3js.org/d3.v6.min.js'></script>"
      ],
      "text/plain": [
       "<IPython.core.display.HTML object>"
      ]
     },
     "metadata": {},
     "output_type": "display_data"
    },
    {
     "data": {
      "text/html": [
       "<script src='https://d3js.org/d3.v6.min.js'></script>"
      ],
      "text/plain": [
       "<IPython.core.display.HTML object>"
      ]
     },
     "metadata": {},
     "output_type": "display_data"
    },
    {
     "data": {
      "text/html": [
       "<script src='https://d3js.org/d3.v6.min.js'></script>"
      ],
      "text/plain": [
       "<IPython.core.display.HTML object>"
      ]
     },
     "metadata": {},
     "output_type": "display_data"
    },
    {
     "data": {
      "text/html": [
       "<script src='https://d3js.org/d3.v6.min.js'></script>"
      ],
      "text/plain": [
       "<IPython.core.display.HTML object>"
      ]
     },
     "metadata": {},
     "output_type": "display_data"
    },
    {
     "data": {
      "text/html": [
       "<script src='https://d3js.org/d3.v6.min.js'></script>"
      ],
      "text/plain": [
       "<IPython.core.display.HTML object>"
      ]
     },
     "metadata": {},
     "output_type": "display_data"
    },
    {
     "data": {
      "text/html": [
       "<script src='https://d3js.org/d3.v6.min.js'></script>"
      ],
      "text/plain": [
       "<IPython.core.display.HTML object>"
      ]
     },
     "metadata": {},
     "output_type": "display_data"
    },
    {
     "data": {
      "text/html": [
       "<input type=\"button\" onclick=\"long4()\" value=\"Run Animation\">\n",
       "<div id=\"long4\"></div>\n",
       "\n",
       "<script type=\"text/javascript\">   \n",
       "    function long4() {\n",
       "        var width = 600\n",
       "        var height = 300\n",
       "        var margin = 55\n",
       "        var radius = 200\n",
       "        \n",
       "        d3.select(\"div#long4\").select(\"svg\").remove()\n",
       "        var svg15 = d3.select(\"div#long4\").append(\"svg\")\n",
       "            .attr(\"width\", width)\n",
       "            .attr(\"height\", height)\n",
       "\n",
       "        var x = d3.scaleLinear().domain([0,d3.range(5).length-1]).range([Math.PI, 2*Math.PI])\n",
       "\n",
       "        svg15.selectAll(\"line\")\n",
       "            .data(d3.range(4))\n",
       "            .join(\"line\")\n",
       "            .attr(\"x1\", (d,i)=> ((0) * Math.cos(x(i))) + (width/2))\n",
       "            .attr(\"y1\", (d,i)=> ((0) * Math.sin(x(i))) + (height-margin))  \n",
       "            .attr(\"x2\", (d,i)=> ((0) * Math.cos(x(i))) + (width/2))\n",
       "            .attr(\"y2\", (d,i)=> ((0) * Math.sin(x(i))) + (height-margin)) \n",
       "            .style(\"stroke\",\"darkgrey\")\n",
       "            .style(\"stroke-width\", \"10px\")\n",
       "            .style(\"stroke-linecap\",\"round\")\n",
       "            .transition(\"line\")\n",
       "            .duration(1000)\n",
       "            .delay((d,i)=> i * 100)\n",
       "            .attr(\"x2\", (d,i)=> ((radius) * Math.cos(x(i))) + (width/2))\n",
       "            .attr(\"y2\", (d,i)=> ((radius) * Math.sin(x(i))) + (height-margin))    \n",
       "\n",
       "        svg15.selectAll(\"circle\")\n",
       "            // Collect\n",
       "            .data(d3.range(5))\n",
       "            // Update\n",
       "            .join(\"circle\")\n",
       "            .attr(\"cx\", (d,i)=> ((0) * Math.cos(x(i))) + (width/2))\n",
       "            .attr(\"cy\", (d,i)=> ((0) * Math.sin(x(i))) + (height-margin))  \n",
       "            .attr(\"r\", (d,i)=> 30)\n",
       "            .style(\"fill\", (d,i)=> (i<=3)?\"white\":\"black\")\n",
       "            .style(\"stroke\", \"black\")\n",
       "            .style(\"stroke-width\", \"1px\")\n",
       "            .transition(\"circle\")\n",
       "            .duration(1000)\n",
       "            .delay((d,i)=> i * 100)\n",
       "            .attr(\"cx\", (d,i)=> ((radius) * Math.cos(x(i))) + (width/2))\n",
       "            .attr(\"cy\", (d,i)=> ((radius) * Math.sin(x(i))) + (height-margin))\n",
       "\n",
       "        fractions = [\"0\",\"0\",\"0\",\"1\",\"0\"]\n",
       "        svg15.selectAll(\"text.perc\")\n",
       "            // Collect\n",
       "            .data(fractions)\n",
       "            // Update\n",
       "            .join(\"text\")\n",
       "            .attr(\"class\",\"perc\")\n",
       "            .attr(\"x\", (d,i)=> ((0) * Math.cos(x(i))) + (width/2))\n",
       "            .attr(\"y\", (d,i)=> ((0) * Math.sin(x(i))) + (height-margin))  \n",
       "            .style(\"font-size\",\"30px\")\n",
       "            .style(\"text-anchor\", \"middle\")\n",
       "            .style(\"alignment-baseline\",\"middle\")\n",
       "            .text(d=>d)\n",
       "            .transition(\"text\")\n",
       "            .duration(1000)\n",
       "            .delay((d,i)=> i * 100)\n",
       "            .attr(\"x\", (d,i)=> ((radius) * Math.cos(x(i))) + (width/2))\n",
       "            .attr(\"y\", (d,i)=> ((radius) * Math.sin(x(i))) + (height-margin))\n",
       "        \n",
       "        \n",
       "        \n",
       "        svg15.append(\"text\")\n",
       "            .attr(\"class\",\"hungry\")\n",
       "            .attr(\"x\", width/2)\n",
       "            .attr(\"y\", (height-margin))\n",
       "            .style(\"font-size\",\"50px\")\n",
       "            .style(\"text-anchor\", \"middle\")\n",
       "            .style(\"alignment-baseline\",\"middle\")\n",
       "            .text(\"🤔\")\n",
       "        \n",
       "        function addPeople(cx,cy,e,s,c) {\n",
       "            var xc = d3.scaleLinear().domain([0,d3.range(e).length]).range([Math.PI, 3*Math.PI])\n",
       "            s.selectAll(\"text.feed_\"+c)\n",
       "                // Collect\n",
       "                .data(d3.range(e))\n",
       "                // Update\n",
       "                .join(\"text\")\n",
       "                .attr(\"class\",\"feed_\"+c)\n",
       "                .attr(\"x\", cx)\n",
       "                .attr(\"y\", cy)  \n",
       "                .style(\"font-size\",\"30px\")\n",
       "                .style(\"text-anchor\", \"middle\")\n",
       "                .style(\"alignment-baseline\",\"middle\")\n",
       "                .text(d=>\"😃\")\n",
       "                .transition(\"text2\")\n",
       "                .duration(1000)\n",
       "                .delay((d,i)=> i * 100)\n",
       "                .attr(\"x\", (d,i)=> ((40) * Math.cos(xc(i))) + cx)\n",
       "                .attr(\"y\", (d,i)=> ((40) * Math.sin(xc(i))) + cy)\n",
       "        \n",
       "            \n",
       "        }\n",
       "        var cx = ((radius) * Math.cos(x(0))) + (width/2)\n",
       "        var cy = ((radius) * Math.sin(x(0))) + (height-margin)\n",
       "        addPeople(cx,cy,1,svg15,0)\n",
       "        var cx = ((radius) * Math.cos(x(1))) + (width/2)\n",
       "        var cy = ((radius) * Math.sin(x(1))) + (height-margin)\n",
       "        addPeople(cx,cy,1,svg15,1)\n",
       "        var cx = ((radius) * Math.cos(x(2))) + (width/2)\n",
       "        var cy = ((radius) * Math.sin(x(2))) + (height-margin)\n",
       "        addPeople(cx,cy,1,svg15,2)\n",
       "\n",
       "    }\n",
       "    long4()\n",
       "</script>\n"
      ],
      "text/plain": [
       "<IPython.core.display.HTML object>"
      ]
     },
     "metadata": {},
     "output_type": "display_data"
    }
   ],
   "source": [
    "%%html\n",
    "<input type=\"button\" onclick=\"long4()\" value=\"Run Animation\">\n",
    "<div id=\"long4\"></div>\n",
    "\n",
    "<script type=\"text/javascript\">   \n",
    "    function long4() {\n",
    "        var width = 600\n",
    "        var height = 300\n",
    "        var margin = 55\n",
    "        var radius = 200\n",
    "        \n",
    "        d3.select(\"div#long4\").select(\"svg\").remove()\n",
    "        var svg15 = d3.select(\"div#long4\").append(\"svg\")\n",
    "            .attr(\"width\", width)\n",
    "            .attr(\"height\", height)\n",
    "\n",
    "        var x = d3.scaleLinear().domain([0,d3.range(5).length-1]).range([Math.PI, 2*Math.PI])\n",
    "\n",
    "        svg15.selectAll(\"line\")\n",
    "            .data(d3.range(4))\n",
    "            .join(\"line\")\n",
    "            .attr(\"x1\", (d,i)=> ((0) * Math.cos(x(i))) + (width/2))\n",
    "            .attr(\"y1\", (d,i)=> ((0) * Math.sin(x(i))) + (height-margin))  \n",
    "            .attr(\"x2\", (d,i)=> ((0) * Math.cos(x(i))) + (width/2))\n",
    "            .attr(\"y2\", (d,i)=> ((0) * Math.sin(x(i))) + (height-margin)) \n",
    "            .style(\"stroke\",\"darkgrey\")\n",
    "            .style(\"stroke-width\", \"10px\")\n",
    "            .style(\"stroke-linecap\",\"round\")\n",
    "            .transition(\"line\")\n",
    "            .duration(1000)\n",
    "            .delay((d,i)=> i * 100)\n",
    "            .attr(\"x2\", (d,i)=> ((radius) * Math.cos(x(i))) + (width/2))\n",
    "            .attr(\"y2\", (d,i)=> ((radius) * Math.sin(x(i))) + (height-margin))    \n",
    "\n",
    "        svg15.selectAll(\"circle\")\n",
    "            // Collect\n",
    "            .data(d3.range(5))\n",
    "            // Update\n",
    "            .join(\"circle\")\n",
    "            .attr(\"cx\", (d,i)=> ((0) * Math.cos(x(i))) + (width/2))\n",
    "            .attr(\"cy\", (d,i)=> ((0) * Math.sin(x(i))) + (height-margin))  \n",
    "            .attr(\"r\", (d,i)=> 30)\n",
    "            .style(\"fill\", (d,i)=> (i<=3)?\"white\":\"black\")\n",
    "            .style(\"stroke\", \"black\")\n",
    "            .style(\"stroke-width\", \"1px\")\n",
    "            .transition(\"circle\")\n",
    "            .duration(1000)\n",
    "            .delay((d,i)=> i * 100)\n",
    "            .attr(\"cx\", (d,i)=> ((radius) * Math.cos(x(i))) + (width/2))\n",
    "            .attr(\"cy\", (d,i)=> ((radius) * Math.sin(x(i))) + (height-margin))\n",
    "\n",
    "        fractions = [\"0\",\"0\",\"0\",\"1\",\"0\"]\n",
    "        svg15.selectAll(\"text.perc\")\n",
    "            // Collect\n",
    "            .data(fractions)\n",
    "            // Update\n",
    "            .join(\"text\")\n",
    "            .attr(\"class\",\"perc\")\n",
    "            .attr(\"x\", (d,i)=> ((0) * Math.cos(x(i))) + (width/2))\n",
    "            .attr(\"y\", (d,i)=> ((0) * Math.sin(x(i))) + (height-margin))  \n",
    "            .style(\"font-size\",\"30px\")\n",
    "            .style(\"text-anchor\", \"middle\")\n",
    "            .style(\"alignment-baseline\",\"middle\")\n",
    "            .text(d=>d)\n",
    "            .transition(\"text\")\n",
    "            .duration(1000)\n",
    "            .delay((d,i)=> i * 100)\n",
    "            .attr(\"x\", (d,i)=> ((radius) * Math.cos(x(i))) + (width/2))\n",
    "            .attr(\"y\", (d,i)=> ((radius) * Math.sin(x(i))) + (height-margin))\n",
    "        \n",
    "        \n",
    "        \n",
    "        svg15.append(\"text\")\n",
    "            .attr(\"class\",\"hungry\")\n",
    "            .attr(\"x\", width/2)\n",
    "            .attr(\"y\", (height-margin))\n",
    "            .style(\"font-size\",\"50px\")\n",
    "            .style(\"text-anchor\", \"middle\")\n",
    "            .style(\"alignment-baseline\",\"middle\")\n",
    "            .text(\"🤔\")\n",
    "        \n",
    "        function addPeople(cx,cy,e,s,c) {\n",
    "            var xc = d3.scaleLinear().domain([0,d3.range(e).length]).range([Math.PI, 3*Math.PI])\n",
    "            s.selectAll(\"text.feed_\"+c)\n",
    "                // Collect\n",
    "                .data(d3.range(e))\n",
    "                // Update\n",
    "                .join(\"text\")\n",
    "                .attr(\"class\",\"feed_\"+c)\n",
    "                .attr(\"x\", cx)\n",
    "                .attr(\"y\", cy)  \n",
    "                .style(\"font-size\",\"30px\")\n",
    "                .style(\"text-anchor\", \"middle\")\n",
    "                .style(\"alignment-baseline\",\"middle\")\n",
    "                .text(d=>\"😃\")\n",
    "                .transition(\"text2\")\n",
    "                .duration(1000)\n",
    "                .delay((d,i)=> i * 100)\n",
    "                .attr(\"x\", (d,i)=> ((40) * Math.cos(xc(i))) + cx)\n",
    "                .attr(\"y\", (d,i)=> ((40) * Math.sin(xc(i))) + cy)\n",
    "        \n",
    "            \n",
    "        }\n",
    "        var cx = ((radius) * Math.cos(x(0))) + (width/2)\n",
    "        var cy = ((radius) * Math.sin(x(0))) + (height-margin)\n",
    "        addPeople(cx,cy,1,svg15,0)\n",
    "        var cx = ((radius) * Math.cos(x(1))) + (width/2)\n",
    "        var cy = ((radius) * Math.sin(x(1))) + (height-margin)\n",
    "        addPeople(cx,cy,1,svg15,1)\n",
    "        var cx = ((radius) * Math.cos(x(2))) + (width/2)\n",
    "        var cy = ((radius) * Math.sin(x(2))) + (height-margin)\n",
    "        addPeople(cx,cy,1,svg15,2)\n",
    "\n",
    "    }\n",
    "    long4()\n",
    "</script>"
   ]
  },
  {
   "cell_type": "code",
   "execution_count": 382,
   "id": "8f51be78-d665-4494-990f-3724d3f18362",
   "metadata": {
    "jupyter": {
     "source_hidden": true
    },
    "tags": [
     "hide-input"
    ]
   },
   "outputs": [
    {
     "data": {
      "text/html": [
       "<script src='https://d3js.org/d3.v6.min.js'></script>"
      ],
      "text/plain": [
       "<IPython.core.display.HTML object>"
      ]
     },
     "metadata": {},
     "output_type": "display_data"
    },
    {
     "data": {
      "text/html": [
       "<script src='https://d3js.org/d3.v6.min.js'></script>"
      ],
      "text/plain": [
       "<IPython.core.display.HTML object>"
      ]
     },
     "metadata": {},
     "output_type": "display_data"
    },
    {
     "data": {
      "text/html": [
       "<script src='https://d3js.org/d3.v6.min.js'></script>"
      ],
      "text/plain": [
       "<IPython.core.display.HTML object>"
      ]
     },
     "metadata": {},
     "output_type": "display_data"
    },
    {
     "data": {
      "text/html": [
       "<script src='https://d3js.org/d3.v6.min.js'></script>"
      ],
      "text/plain": [
       "<IPython.core.display.HTML object>"
      ]
     },
     "metadata": {},
     "output_type": "display_data"
    },
    {
     "data": {
      "text/html": [
       "<script src='https://d3js.org/d3.v6.min.js'></script>"
      ],
      "text/plain": [
       "<IPython.core.display.HTML object>"
      ]
     },
     "metadata": {},
     "output_type": "display_data"
    },
    {
     "data": {
      "text/html": [
       "<script src='https://d3js.org/d3.v6.min.js'></script>"
      ],
      "text/plain": [
       "<IPython.core.display.HTML object>"
      ]
     },
     "metadata": {},
     "output_type": "display_data"
    },
    {
     "data": {
      "text/html": [
       "<script src='https://d3js.org/d3.v6.min.js'></script>"
      ],
      "text/plain": [
       "<IPython.core.display.HTML object>"
      ]
     },
     "metadata": {},
     "output_type": "display_data"
    },
    {
     "data": {
      "text/html": [
       "<script src='https://d3js.org/d3.v6.min.js'></script>"
      ],
      "text/plain": [
       "<IPython.core.display.HTML object>"
      ]
     },
     "metadata": {},
     "output_type": "display_data"
    },
    {
     "data": {
      "text/html": [
       "<input type=\"button\" onclick=\"long5()\" value=\"Run Animation\">\n",
       "<div id=\"long5\"></div>\n",
       "\n",
       "<script type=\"text/javascript\">   \n",
       "    function long5() {\n",
       "        var width = 600\n",
       "        var height = 300\n",
       "        var margin = 55\n",
       "        var radius = 200\n",
       "        \n",
       "        d3.select(\"div#long5\").select(\"svg\").remove()\n",
       "        var svg16 = d3.select(\"div#long5\").append(\"svg\")\n",
       "            .attr(\"width\", width)\n",
       "            .attr(\"height\", height)\n",
       "\n",
       "        var x = d3.scaleLinear().domain([0,d3.range(5).length-1]).range([Math.PI, 2*Math.PI])\n",
       "\n",
       "        svg16.selectAll(\"line\")\n",
       "            .data(d3.range(5))\n",
       "            .join(\"line\")\n",
       "            .attr(\"x1\", (d,i)=> ((0) * Math.cos(x(i))) + (width/2))\n",
       "            .attr(\"y1\", (d,i)=> ((0) * Math.sin(x(i))) + (height-margin))  \n",
       "            .attr(\"x2\", (d,i)=> ((0) * Math.cos(x(i))) + (width/2))\n",
       "            .attr(\"y2\", (d,i)=> ((0) * Math.sin(x(i))) + (height-margin)) \n",
       "            .style(\"stroke\",\"darkgrey\")\n",
       "            .style(\"stroke-width\", \"10px\")\n",
       "            .style(\"stroke-linecap\",\"round\")\n",
       "            .transition(\"line\")\n",
       "            .duration(1000)\n",
       "            .delay((d,i)=> i * 100)\n",
       "            .attr(\"x2\", (d,i)=> ((radius) * Math.cos(x(i))) + (width/2))\n",
       "            .attr(\"y2\", (d,i)=> ((radius) * Math.sin(x(i))) + (height-margin))    \n",
       "\n",
       "        svg16.selectAll(\"circle\")\n",
       "            // Collect\n",
       "            .data(d3.range(5))\n",
       "            // Update\n",
       "            .join(\"circle\")\n",
       "            .attr(\"cx\", (d,i)=> ((0) * Math.cos(x(i))) + (width/2))\n",
       "            .attr(\"cy\", (d,i)=> ((0) * Math.sin(x(i))) + (height-margin))  \n",
       "            .attr(\"r\", (d,i)=> 30)\n",
       "            .style(\"fill\", (d,i)=> (i<=4)?\"white\":\"black\")\n",
       "            .style(\"stroke\", \"black\")\n",
       "            .style(\"stroke-width\", \"1px\")\n",
       "            .transition(\"circle\")\n",
       "            .duration(1000)\n",
       "            .delay((d,i)=> i * 100)\n",
       "            .attr(\"cx\", (d,i)=> ((radius) * Math.cos(x(i))) + (width/2))\n",
       "            .attr(\"cy\", (d,i)=> ((radius) * Math.sin(x(i))) + (height-margin))\n",
       "\n",
       "        fractions = [\"0\",\"0\",\"0\",\"0\",\"1\"]\n",
       "        svg16.selectAll(\"text.perc\")\n",
       "            // Collect\n",
       "            .data(fractions)\n",
       "            // Update\n",
       "            .join(\"text\")\n",
       "            .attr(\"class\",\"perc\")\n",
       "            .attr(\"x\", (d,i)=> ((0) * Math.cos(x(i))) + (width/2))\n",
       "            .attr(\"y\", (d,i)=> ((0) * Math.sin(x(i))) + (height-margin))  \n",
       "            .style(\"font-size\",\"30px\")\n",
       "            .style(\"text-anchor\", \"middle\")\n",
       "            .style(\"alignment-baseline\",\"middle\")\n",
       "            .text(d=>d)\n",
       "            .transition(\"text\")\n",
       "            .duration(1000)\n",
       "            .delay((d,i)=> i * 100)\n",
       "            .attr(\"x\", (d,i)=> ((radius) * Math.cos(x(i))) + (width/2))\n",
       "            .attr(\"y\", (d,i)=> ((radius) * Math.sin(x(i))) + (height-margin))\n",
       "        \n",
       "        \n",
       "        \n",
       "        svg16.append(\"text\")\n",
       "            .attr(\"class\",\"hungry\")\n",
       "            .attr(\"x\", width/2)\n",
       "            .attr(\"y\", (height-margin))\n",
       "            .style(\"font-size\",\"50px\")\n",
       "            .style(\"text-anchor\", \"middle\")\n",
       "            .style(\"alignment-baseline\",\"middle\")\n",
       "            .text(\"🤔\")\n",
       "        \n",
       "        function addPeople(cx,cy,e,s,c) {\n",
       "            var xc = d3.scaleLinear().domain([0,d3.range(e).length]).range([Math.PI, 3*Math.PI])\n",
       "            s.selectAll(\"text.feed_\"+c)\n",
       "                // Collect\n",
       "                .data(d3.range(e))\n",
       "                // Update\n",
       "                .join(\"text\")\n",
       "                .attr(\"class\",\"feed_\"+c)\n",
       "                .attr(\"x\", cx)\n",
       "                .attr(\"y\", cy)  \n",
       "                .style(\"font-size\",\"30px\")\n",
       "                .style(\"text-anchor\", \"middle\")\n",
       "                .style(\"alignment-baseline\",\"middle\")\n",
       "                .text(d=>\"😃\")\n",
       "                .transition(\"text2\")\n",
       "                .duration(1000)\n",
       "                .delay((d,i)=> i * 100)\n",
       "                .attr(\"x\", (d,i)=> ((40) * Math.cos(xc(i))) + cx)\n",
       "                .attr(\"y\", (d,i)=> ((40) * Math.sin(xc(i))) + cy)\n",
       "        \n",
       "            \n",
       "        }\n",
       "        var cx = ((radius) * Math.cos(x(0))) + (width/2)\n",
       "        var cy = ((radius) * Math.sin(x(0))) + (height-margin)\n",
       "        addPeople(cx,cy,1,svg16,0)\n",
       "        var cx = ((radius) * Math.cos(x(1))) + (width/2)\n",
       "        var cy = ((radius) * Math.sin(x(1))) + (height-margin)\n",
       "        addPeople(cx,cy,1,svg16,1)\n",
       "        var cx = ((radius) * Math.cos(x(2))) + (width/2)\n",
       "        var cy = ((radius) * Math.sin(x(2))) + (height-margin)\n",
       "        addPeople(cx,cy,1,svg16,2)\n",
       "        var cx = ((radius) * Math.cos(x(3))) + (width/2)\n",
       "        var cy = ((radius) * Math.sin(x(3))) + (height-margin)\n",
       "        addPeople(cx,cy,1,svg16,3)\n",
       "\n",
       "    }\n",
       "    long5()\n",
       "</script>\n"
      ],
      "text/plain": [
       "<IPython.core.display.HTML object>"
      ]
     },
     "metadata": {},
     "output_type": "display_data"
    }
   ],
   "source": [
    "%%html\n",
    "<input type=\"button\" onclick=\"long5()\" value=\"Run Animation\">\n",
    "<div id=\"long5\"></div>\n",
    "\n",
    "<script type=\"text/javascript\">   \n",
    "    function long5() {\n",
    "        var width = 600\n",
    "        var height = 300\n",
    "        var margin = 55\n",
    "        var radius = 200\n",
    "        \n",
    "        d3.select(\"div#long5\").select(\"svg\").remove()\n",
    "        var svg16 = d3.select(\"div#long5\").append(\"svg\")\n",
    "            .attr(\"width\", width)\n",
    "            .attr(\"height\", height)\n",
    "\n",
    "        var x = d3.scaleLinear().domain([0,d3.range(5).length-1]).range([Math.PI, 2*Math.PI])\n",
    "\n",
    "        svg16.selectAll(\"line\")\n",
    "            .data(d3.range(5))\n",
    "            .join(\"line\")\n",
    "            .attr(\"x1\", (d,i)=> ((0) * Math.cos(x(i))) + (width/2))\n",
    "            .attr(\"y1\", (d,i)=> ((0) * Math.sin(x(i))) + (height-margin))  \n",
    "            .attr(\"x2\", (d,i)=> ((0) * Math.cos(x(i))) + (width/2))\n",
    "            .attr(\"y2\", (d,i)=> ((0) * Math.sin(x(i))) + (height-margin)) \n",
    "            .style(\"stroke\",\"darkgrey\")\n",
    "            .style(\"stroke-width\", \"10px\")\n",
    "            .style(\"stroke-linecap\",\"round\")\n",
    "            .transition(\"line\")\n",
    "            .duration(1000)\n",
    "            .delay((d,i)=> i * 100)\n",
    "            .attr(\"x2\", (d,i)=> ((radius) * Math.cos(x(i))) + (width/2))\n",
    "            .attr(\"y2\", (d,i)=> ((radius) * Math.sin(x(i))) + (height-margin))    \n",
    "\n",
    "        svg16.selectAll(\"circle\")\n",
    "            // Collect\n",
    "            .data(d3.range(5))\n",
    "            // Update\n",
    "            .join(\"circle\")\n",
    "            .attr(\"cx\", (d,i)=> ((0) * Math.cos(x(i))) + (width/2))\n",
    "            .attr(\"cy\", (d,i)=> ((0) * Math.sin(x(i))) + (height-margin))  \n",
    "            .attr(\"r\", (d,i)=> 30)\n",
    "            .style(\"fill\", (d,i)=> (i<=4)?\"white\":\"black\")\n",
    "            .style(\"stroke\", \"black\")\n",
    "            .style(\"stroke-width\", \"1px\")\n",
    "            .transition(\"circle\")\n",
    "            .duration(1000)\n",
    "            .delay((d,i)=> i * 100)\n",
    "            .attr(\"cx\", (d,i)=> ((radius) * Math.cos(x(i))) + (width/2))\n",
    "            .attr(\"cy\", (d,i)=> ((radius) * Math.sin(x(i))) + (height-margin))\n",
    "\n",
    "        fractions = [\"0\",\"0\",\"0\",\"0\",\"1\"]\n",
    "        svg16.selectAll(\"text.perc\")\n",
    "            // Collect\n",
    "            .data(fractions)\n",
    "            // Update\n",
    "            .join(\"text\")\n",
    "            .attr(\"class\",\"perc\")\n",
    "            .attr(\"x\", (d,i)=> ((0) * Math.cos(x(i))) + (width/2))\n",
    "            .attr(\"y\", (d,i)=> ((0) * Math.sin(x(i))) + (height-margin))  \n",
    "            .style(\"font-size\",\"30px\")\n",
    "            .style(\"text-anchor\", \"middle\")\n",
    "            .style(\"alignment-baseline\",\"middle\")\n",
    "            .text(d=>d)\n",
    "            .transition(\"text\")\n",
    "            .duration(1000)\n",
    "            .delay((d,i)=> i * 100)\n",
    "            .attr(\"x\", (d,i)=> ((radius) * Math.cos(x(i))) + (width/2))\n",
    "            .attr(\"y\", (d,i)=> ((radius) * Math.sin(x(i))) + (height-margin))\n",
    "        \n",
    "        \n",
    "        \n",
    "        svg16.append(\"text\")\n",
    "            .attr(\"class\",\"hungry\")\n",
    "            .attr(\"x\", width/2)\n",
    "            .attr(\"y\", (height-margin))\n",
    "            .style(\"font-size\",\"50px\")\n",
    "            .style(\"text-anchor\", \"middle\")\n",
    "            .style(\"alignment-baseline\",\"middle\")\n",
    "            .text(\"🤔\")\n",
    "        \n",
    "        function addPeople(cx,cy,e,s,c) {\n",
    "            var xc = d3.scaleLinear().domain([0,d3.range(e).length]).range([Math.PI, 3*Math.PI])\n",
    "            s.selectAll(\"text.feed_\"+c)\n",
    "                // Collect\n",
    "                .data(d3.range(e))\n",
    "                // Update\n",
    "                .join(\"text\")\n",
    "                .attr(\"class\",\"feed_\"+c)\n",
    "                .attr(\"x\", cx)\n",
    "                .attr(\"y\", cy)  \n",
    "                .style(\"font-size\",\"30px\")\n",
    "                .style(\"text-anchor\", \"middle\")\n",
    "                .style(\"alignment-baseline\",\"middle\")\n",
    "                .text(d=>\"😃\")\n",
    "                .transition(\"text2\")\n",
    "                .duration(1000)\n",
    "                .delay((d,i)=> i * 100)\n",
    "                .attr(\"x\", (d,i)=> ((40) * Math.cos(xc(i))) + cx)\n",
    "                .attr(\"y\", (d,i)=> ((40) * Math.sin(xc(i))) + cy)\n",
    "        \n",
    "            \n",
    "        }\n",
    "        var cx = ((radius) * Math.cos(x(0))) + (width/2)\n",
    "        var cy = ((radius) * Math.sin(x(0))) + (height-margin)\n",
    "        addPeople(cx,cy,1,svg16,0)\n",
    "        var cx = ((radius) * Math.cos(x(1))) + (width/2)\n",
    "        var cy = ((radius) * Math.sin(x(1))) + (height-margin)\n",
    "        addPeople(cx,cy,1,svg16,1)\n",
    "        var cx = ((radius) * Math.cos(x(2))) + (width/2)\n",
    "        var cy = ((radius) * Math.sin(x(2))) + (height-margin)\n",
    "        addPeople(cx,cy,1,svg16,2)\n",
    "        var cx = ((radius) * Math.cos(x(3))) + (width/2)\n",
    "        var cy = ((radius) * Math.sin(x(3))) + (height-margin)\n",
    "        addPeople(cx,cy,1,svg16,3)\n",
    "\n",
    "    }\n",
    "    long5()\n",
    "</script>"
   ]
  },
  {
   "cell_type": "code",
   "execution_count": null,
   "id": "3e4de183-22d4-438c-9d5f-5b7d952ea9ec",
   "metadata": {},
   "outputs": [],
   "source": []
  },
  {
   "cell_type": "markdown",
   "id": "230ae6ae-3ab8-4633-accd-e0dd4540c437",
   "metadata": {},
   "source": [
    "## The Conclusions\n",
    "\n",
    "### ✨1st Conclusion✨\n",
    "\n",
    "So, let's take a look at all three of these scenario results."
   ]
  },
  {
   "cell_type": "code",
   "execution_count": 396,
   "id": "d421d13c-b5e2-4751-b13d-7bd157053218",
   "metadata": {
    "jupyter": {
     "source_hidden": true
    },
    "tags": [
     "hide-input"
    ]
   },
   "outputs": [
    {
     "data": {
      "text/html": [
       "<script src='https://d3js.org/d3.v6.min.js'></script>"
      ],
      "text/plain": [
       "<IPython.core.display.HTML object>"
      ]
     },
     "metadata": {},
     "output_type": "display_data"
    },
    {
     "data": {
      "text/html": [
       "<script src='https://d3js.org/d3.v6.min.js'></script>"
      ],
      "text/plain": [
       "<IPython.core.display.HTML object>"
      ]
     },
     "metadata": {},
     "output_type": "display_data"
    },
    {
     "data": {
      "text/html": [
       "<script src='https://d3js.org/d3.v6.min.js'></script>"
      ],
      "text/plain": [
       "<IPython.core.display.HTML object>"
      ]
     },
     "metadata": {},
     "output_type": "display_data"
    },
    {
     "data": {
      "text/html": [
       "<script src='https://d3js.org/d3.v6.min.js'></script>"
      ],
      "text/plain": [
       "<IPython.core.display.HTML object>"
      ]
     },
     "metadata": {},
     "output_type": "display_data"
    },
    {
     "data": {
      "text/html": [
       "<script src='https://d3js.org/d3.v6.min.js'></script>"
      ],
      "text/plain": [
       "<IPython.core.display.HTML object>"
      ]
     },
     "metadata": {},
     "output_type": "display_data"
    },
    {
     "data": {
      "text/html": [
       "<script src='https://d3js.org/d3.v6.min.js'></script>"
      ],
      "text/plain": [
       "<IPython.core.display.HTML object>"
      ]
     },
     "metadata": {},
     "output_type": "display_data"
    },
    {
     "data": {
      "text/html": [
       "<script src='https://d3js.org/d3.v6.min.js'></script>"
      ],
      "text/plain": [
       "<IPython.core.display.HTML object>"
      ]
     },
     "metadata": {},
     "output_type": "display_data"
    },
    {
     "data": {
      "text/html": [
       "<script src='https://d3js.org/d3.v6.min.js'></script>"
      ],
      "text/plain": [
       "<IPython.core.display.HTML object>"
      ]
     },
     "metadata": {},
     "output_type": "display_data"
    },
    {
     "data": {
      "text/html": [
       "<input type=\"button\" value=\"✨1st Conclusion✨\" style=\"font-size:20px\" onclick=\"conclusion1()\">\n",
       "<div id=\"conc\"></div>\n",
       "\n",
       "<script type=\"text/javascript\">   \n",
       "    var svg17, x, y\n",
       "    function conclusion1() {\n",
       "        var equation = [\"+\",\"+\",\"+\",\"+\",\"= 1\"]\n",
       "        d3.range(3).forEach((d,row)=>{\n",
       "            svg17.selectAll(\"text.equ_\"+row)\n",
       "                // Collect\n",
       "                .data(equation)\n",
       "                // Update\n",
       "                .join(\"text\")\n",
       "                .attr(\"class\",\"equ_\"+row)\n",
       "                .attr(\"x\", 0)\n",
       "                .attr(\"y\", y(row))  \n",
       "                .style(\"font-size\",\"20px\")\n",
       "                .style(\"text-anchor\", \"middle\")\n",
       "                .style(\"alignment-baseline\",\"middle\")\n",
       "                .text(d=>d) \n",
       "                .transition(\"text2\")\n",
       "                .duration(1000)\n",
       "                .delay((d,i)=> (5-i) * 100)\n",
       "                .attr(\"x\", (d,i)=> (i==4) ? (x(i+1)) : (x(i)+x(i+1))/2)\n",
       "            \n",
       "        })\n",
       "\n",
       "\n",
       "    }\n",
       "    function conc() {\n",
       "        var width = 600\n",
       "        var height = 400\n",
       "        var margin = 65\n",
       "        var radius = 200\n",
       "        \n",
       "        d3.select(\"div#conc\").select(\"svg\").remove()\n",
       "        svg17 = d3.select(\"div#conc\").append(\"svg\")\n",
       "            .attr(\"width\", width)\n",
       "            .attr(\"height\", height)\n",
       "\n",
       "        x = d3.scaleLinear().range([margin,width-margin]).domain([0,6])\n",
       "        y = d3.scaleLinear().range([margin,height-margin]).domain([0,2])\n",
       "        \n",
       "        fractions = [\"1\",\"0\",\"0\",\"0\",\"0\"]\n",
       "        svg17.selectAll(\"circle.row1\")\n",
       "            .data(fractions)\n",
       "            .join(\"circle\")\n",
       "            .attr(\"class\",\"row1\")\n",
       "            .attr(\"cx\", (d,i)=> x(i))\n",
       "            .attr(\"cy\", y(0))  \n",
       "            .attr(\"r\", 20)\n",
       "            .style(\"fill\", \"white\")\n",
       "            .style(\"stroke\", \"black\")\n",
       "            .style(\"stroke-width\", \"1px\")\n",
       "            \n",
       "        svg17.selectAll(\"text.perc1\")\n",
       "            // Collect\n",
       "            .data(fractions)\n",
       "            // Update\n",
       "            .join(\"text\")\n",
       "            .attr(\"class\",\"perc1\")\n",
       "            .attr(\"x\", (d,i)=> x(i))\n",
       "            .attr(\"y\", y(0))  \n",
       "            .style(\"font-size\",\"20px\")\n",
       "            .style(\"text-anchor\", \"middle\")\n",
       "            .style(\"alignment-baseline\",\"middle\")\n",
       "            .text(d=>d)\n",
       "\n",
       "        \n",
       "        fractions = [\"1/5\",\"1/5\",\"1/5\",\"1/5\",\"1/5\"]\n",
       "        svg17.selectAll(\"circle.row2\")\n",
       "            .data(fractions)\n",
       "            .join(\"circle\")\n",
       "            .attr(\"class\",\"row2\")\n",
       "            .attr(\"cx\", (d,i)=> x(i))\n",
       "            .attr(\"cy\", y(1))  \n",
       "            .attr(\"r\", 20)\n",
       "            .style(\"fill\", \"white\")\n",
       "            .style(\"stroke\", \"black\")\n",
       "            .style(\"stroke-width\", \"1px\")\n",
       "\n",
       "        svg17.selectAll(\"text.perc2\")\n",
       "            // Collect\n",
       "            .data(fractions)\n",
       "            // Update\n",
       "            .join(\"text\")\n",
       "            .attr(\"class\",\"perc2\")\n",
       "            .attr(\"x\", (d,i)=> x(i))\n",
       "            .attr(\"y\", y(1))  \n",
       "            .style(\"font-size\",\"20px\")\n",
       "            .style(\"text-anchor\", \"middle\")\n",
       "            .style(\"alignment-baseline\",\"middle\")\n",
       "            .text(d=>d)\n",
       "\n",
       "        \n",
       "        fractions = [\"0\",\"0\",\"0\",\"0\",\"1\"]\n",
       "        svg17.selectAll(\"circle.row3\")\n",
       "            .data(fractions)\n",
       "            .join(\"circle\")\n",
       "            .attr(\"class\",\"row3\")\n",
       "            .attr(\"cx\", (d,i)=> x(i))\n",
       "            .attr(\"cy\", y(2))  \n",
       "            .attr(\"r\", 20)\n",
       "            .style(\"fill\", \"white\")\n",
       "            .style(\"stroke\", \"black\")\n",
       "            .style(\"stroke-width\", \"1px\")\n",
       "\n",
       "        svg17.selectAll(\"text.perc3\")\n",
       "            // Collect\n",
       "            .data(fractions)\n",
       "            // Update\n",
       "            .join(\"text\")\n",
       "            .attr(\"class\",\"perc3\")\n",
       "            .attr(\"x\", (d,i)=> x(i))\n",
       "            .attr(\"y\", y(2))  \n",
       "            .style(\"font-size\",\"20px\")\n",
       "            .style(\"text-anchor\", \"middle\")\n",
       "            .style(\"alignment-baseline\",\"middle\")\n",
       "            .text(d=>d)\n",
       "\n",
       "        \n",
       "        svg17.append(\"text\")\n",
       "            .attr(\"class\",\"title1\")\n",
       "            .attr(\"x\", 20)\n",
       "            .attr(\"y\", y(0)-45)  \n",
       "            .style(\"font-size\",\"20px\")\n",
       "            .style(\"alignment-baseline\",\"middle\")\n",
       "            .text(\"The Social Butterfly\")     \n",
       "        \n",
       "        svg17.append(\"text\")\n",
       "            .attr(\"class\",\"title1\")\n",
       "            .attr(\"x\", 20)\n",
       "            .attr(\"y\", y(1)-45)  \n",
       "            .style(\"font-size\",\"20px\")\n",
       "            .style(\"alignment-baseline\",\"middle\")\n",
       "            .text(\"The Gambler\") \n",
       "\n",
       "        svg17.append(\"text\")\n",
       "            .attr(\"class\",\"title1\")\n",
       "            .attr(\"x\", 20)\n",
       "            .attr(\"y\", y(2)-45)  \n",
       "            .style(\"font-size\",\"20px\")\n",
       "            .style(\"alignment-baseline\",\"middle\")\n",
       "            .text(\"The Long Day\") \n",
       "        \n",
       "        function addPeople(cx,cy,e,s,c) {\n",
       "            var xc = d3.scaleLinear().domain([0,d3.range(e).length]).range([Math.PI, 3*Math.PI])\n",
       "            s.selectAll(\"text.feed_\"+c)\n",
       "                // Collect\n",
       "                .data(d3.range(e))\n",
       "                // Update\n",
       "                .join(\"text\")\n",
       "                .attr(\"class\",\"feed_\"+c)\n",
       "                .attr(\"x\", (d,i)=> ((20) * Math.cos(xc(i))) + cx)\n",
       "                .attr(\"y\", (d,i)=> ((20) * Math.sin(xc(i))) + cy)\n",
       "                .style(\"text-anchor\", \"middle\")\n",
       "                .style(\"alignment-baseline\",\"middle\")\n",
       "                .text(d=>\"😃\")\n",
       "\n",
       "        \n",
       "            \n",
       "        }\n",
       "        var cx = x(0)\n",
       "        var cy = y(0)\n",
       "        addPeople(cx,cy,4,svg17,0)\n",
       "        \n",
       "        d3.range(4).forEach((d,i) => {\n",
       "            var cx = x(i)\n",
       "            var cy = y(1)\n",
       "            addPeople(cx,cy,1,svg17,i+1)\n",
       "            \n",
       "        })\n",
       "\n",
       "        d3.range(4).forEach((d,i) => {\n",
       "            var cx = x(i)\n",
       "            var cy = y(2)\n",
       "            addPeople(cx,cy,1,svg17,i+6)\n",
       "            \n",
       "        })\n",
       "\n",
       "    }\n",
       "    conc()\n",
       "</script>\n"
      ],
      "text/plain": [
       "<IPython.core.display.HTML object>"
      ]
     },
     "metadata": {},
     "output_type": "display_data"
    }
   ],
   "source": [
    "%%html\n",
    "<input type=\"button\" value=\"✨1st Conclusion✨\" style=\"font-size:20px\" onclick=\"conclusion1()\">\n",
    "<div id=\"conc\"></div>\n",
    "\n",
    "<script type=\"text/javascript\">   \n",
    "    var svg17, x, y\n",
    "    function conclusion1() {\n",
    "        var equation = [\"+\",\"+\",\"+\",\"+\",\"= 1\"]\n",
    "        d3.range(3).forEach((d,row)=>{\n",
    "            svg17.selectAll(\"text.equ_\"+row)\n",
    "                // Collect\n",
    "                .data(equation)\n",
    "                // Update\n",
    "                .join(\"text\")\n",
    "                .attr(\"class\",\"equ_\"+row)\n",
    "                .attr(\"x\", 0)\n",
    "                .attr(\"y\", y(row))  \n",
    "                .style(\"font-size\",\"20px\")\n",
    "                .style(\"text-anchor\", \"middle\")\n",
    "                .style(\"alignment-baseline\",\"middle\")\n",
    "                .text(d=>d) \n",
    "                .transition(\"text2\")\n",
    "                .duration(1000)\n",
    "                .delay((d,i)=> (5-i) * 100)\n",
    "                .attr(\"x\", (d,i)=> (i==4) ? (x(i+1)) : (x(i)+x(i+1))/2)\n",
    "            \n",
    "        })\n",
    "\n",
    "\n",
    "    }\n",
    "    function conc() {\n",
    "        var width = 600\n",
    "        var height = 400\n",
    "        var margin = 65\n",
    "        var radius = 200\n",
    "        \n",
    "        d3.select(\"div#conc\").select(\"svg\").remove()\n",
    "        svg17 = d3.select(\"div#conc\").append(\"svg\")\n",
    "            .attr(\"width\", width)\n",
    "            .attr(\"height\", height)\n",
    "\n",
    "        x = d3.scaleLinear().range([margin,width-margin]).domain([0,6])\n",
    "        y = d3.scaleLinear().range([margin,height-margin]).domain([0,2])\n",
    "        \n",
    "        fractions = [\"1\",\"0\",\"0\",\"0\",\"0\"]\n",
    "        svg17.selectAll(\"circle.row1\")\n",
    "            .data(fractions)\n",
    "            .join(\"circle\")\n",
    "            .attr(\"class\",\"row1\")\n",
    "            .attr(\"cx\", (d,i)=> x(i))\n",
    "            .attr(\"cy\", y(0))  \n",
    "            .attr(\"r\", 20)\n",
    "            .style(\"fill\", \"white\")\n",
    "            .style(\"stroke\", \"black\")\n",
    "            .style(\"stroke-width\", \"1px\")\n",
    "            \n",
    "        svg17.selectAll(\"text.perc1\")\n",
    "            // Collect\n",
    "            .data(fractions)\n",
    "            // Update\n",
    "            .join(\"text\")\n",
    "            .attr(\"class\",\"perc1\")\n",
    "            .attr(\"x\", (d,i)=> x(i))\n",
    "            .attr(\"y\", y(0))  \n",
    "            .style(\"font-size\",\"20px\")\n",
    "            .style(\"text-anchor\", \"middle\")\n",
    "            .style(\"alignment-baseline\",\"middle\")\n",
    "            .text(d=>d)\n",
    "\n",
    "        \n",
    "        fractions = [\"1/5\",\"1/5\",\"1/5\",\"1/5\",\"1/5\"]\n",
    "        svg17.selectAll(\"circle.row2\")\n",
    "            .data(fractions)\n",
    "            .join(\"circle\")\n",
    "            .attr(\"class\",\"row2\")\n",
    "            .attr(\"cx\", (d,i)=> x(i))\n",
    "            .attr(\"cy\", y(1))  \n",
    "            .attr(\"r\", 20)\n",
    "            .style(\"fill\", \"white\")\n",
    "            .style(\"stroke\", \"black\")\n",
    "            .style(\"stroke-width\", \"1px\")\n",
    "\n",
    "        svg17.selectAll(\"text.perc2\")\n",
    "            // Collect\n",
    "            .data(fractions)\n",
    "            // Update\n",
    "            .join(\"text\")\n",
    "            .attr(\"class\",\"perc2\")\n",
    "            .attr(\"x\", (d,i)=> x(i))\n",
    "            .attr(\"y\", y(1))  \n",
    "            .style(\"font-size\",\"20px\")\n",
    "            .style(\"text-anchor\", \"middle\")\n",
    "            .style(\"alignment-baseline\",\"middle\")\n",
    "            .text(d=>d)\n",
    "\n",
    "        \n",
    "        fractions = [\"0\",\"0\",\"0\",\"0\",\"1\"]\n",
    "        svg17.selectAll(\"circle.row3\")\n",
    "            .data(fractions)\n",
    "            .join(\"circle\")\n",
    "            .attr(\"class\",\"row3\")\n",
    "            .attr(\"cx\", (d,i)=> x(i))\n",
    "            .attr(\"cy\", y(2))  \n",
    "            .attr(\"r\", 20)\n",
    "            .style(\"fill\", \"white\")\n",
    "            .style(\"stroke\", \"black\")\n",
    "            .style(\"stroke-width\", \"1px\")\n",
    "\n",
    "        svg17.selectAll(\"text.perc3\")\n",
    "            // Collect\n",
    "            .data(fractions)\n",
    "            // Update\n",
    "            .join(\"text\")\n",
    "            .attr(\"class\",\"perc3\")\n",
    "            .attr(\"x\", (d,i)=> x(i))\n",
    "            .attr(\"y\", y(2))  \n",
    "            .style(\"font-size\",\"20px\")\n",
    "            .style(\"text-anchor\", \"middle\")\n",
    "            .style(\"alignment-baseline\",\"middle\")\n",
    "            .text(d=>d)\n",
    "\n",
    "        \n",
    "        svg17.append(\"text\")\n",
    "            .attr(\"class\",\"title1\")\n",
    "            .attr(\"x\", 20)\n",
    "            .attr(\"y\", y(0)-45)  \n",
    "            .style(\"font-size\",\"20px\")\n",
    "            .style(\"alignment-baseline\",\"middle\")\n",
    "            .text(\"The Social Butterfly\")     \n",
    "        \n",
    "        svg17.append(\"text\")\n",
    "            .attr(\"class\",\"title1\")\n",
    "            .attr(\"x\", 20)\n",
    "            .attr(\"y\", y(1)-45)  \n",
    "            .style(\"font-size\",\"20px\")\n",
    "            .style(\"alignment-baseline\",\"middle\")\n",
    "            .text(\"The Gambler\") \n",
    "\n",
    "        svg17.append(\"text\")\n",
    "            .attr(\"class\",\"title1\")\n",
    "            .attr(\"x\", 20)\n",
    "            .attr(\"y\", y(2)-45)  \n",
    "            .style(\"font-size\",\"20px\")\n",
    "            .style(\"alignment-baseline\",\"middle\")\n",
    "            .text(\"The Long Day\") \n",
    "        \n",
    "        function addPeople(cx,cy,e,s,c) {\n",
    "            var xc = d3.scaleLinear().domain([0,d3.range(e).length]).range([Math.PI, 3*Math.PI])\n",
    "            s.selectAll(\"text.feed_\"+c)\n",
    "                // Collect\n",
    "                .data(d3.range(e))\n",
    "                // Update\n",
    "                .join(\"text\")\n",
    "                .attr(\"class\",\"feed_\"+c)\n",
    "                .attr(\"x\", (d,i)=> ((20) * Math.cos(xc(i))) + cx)\n",
    "                .attr(\"y\", (d,i)=> ((20) * Math.sin(xc(i))) + cy)\n",
    "                .style(\"text-anchor\", \"middle\")\n",
    "                .style(\"alignment-baseline\",\"middle\")\n",
    "                .text(d=>\"😃\")\n",
    "\n",
    "        \n",
    "            \n",
    "        }\n",
    "        var cx = x(0)\n",
    "        var cy = y(0)\n",
    "        addPeople(cx,cy,4,svg17,0)\n",
    "        \n",
    "        d3.range(4).forEach((d,i) => {\n",
    "            var cx = x(i)\n",
    "            var cy = y(1)\n",
    "            addPeople(cx,cy,1,svg17,i+1)\n",
    "            \n",
    "        })\n",
    "\n",
    "        d3.range(4).forEach((d,i) => {\n",
    "            var cx = x(i)\n",
    "            var cy = y(2)\n",
    "            addPeople(cx,cy,1,svg17,i+6)\n",
    "            \n",
    "        })\n",
    "\n",
    "    }\n",
    "    conc()\n",
    "</script>"
   ]
  },
  {
   "cell_type": "markdown",
   "id": "9a29dac2-de22-481a-944e-882d1d14ea70",
   "metadata": {},
   "source": [
    "Our ✨1st Conclusion✨ is that for each scenerio, the total probablities (when added together), equal 1. This is our first connection the *Dirichlet Distribution*. "
   ]
  },
  {
   "cell_type": "markdown",
   "id": "15369812-5388-47d2-bd4a-fe5de80e8c81",
   "metadata": {},
   "source": [
    "```{admonition} Dirichlet Distribution Always Sum to 1\n",
    ":class: tip\n",
    "Regardless of the number of tables (⚪), the number of people at the tables (😃), or a hungry persons' (🤔) strategy. The total probability will be 1. This is also consider to be a *probability mass function* or PMF property. \n",
    "```"
   ]
  },
  {
   "cell_type": "markdown",
   "id": "4e850ab8-697d-4ffd-9c02-0be4485080aa",
   "metadata": {
    "tags": []
   },
   "source": [
    "### ✨2nd Conclusion✨\n",
    "\n",
    "This easiest to see with our \"The Gambler\" scenerio. "
   ]
  },
  {
   "cell_type": "code",
   "execution_count": 384,
   "id": "7f436473-c6e6-4ede-83b7-846979cff2cf",
   "metadata": {
    "collapsed": true,
    "jupyter": {
     "outputs_hidden": true,
     "source_hidden": true
    },
    "tags": [
     "hide-input"
    ]
   },
   "outputs": [
    {
     "data": {
      "text/html": [
       "<script src='https://d3js.org/d3.v6.min.js'></script>"
      ],
      "text/plain": [
       "<IPython.core.display.HTML object>"
      ]
     },
     "metadata": {},
     "output_type": "display_data"
    },
    {
     "data": {
      "text/html": [
       "<script src='https://d3js.org/d3.v6.min.js'></script>"
      ],
      "text/plain": [
       "<IPython.core.display.HTML object>"
      ]
     },
     "metadata": {},
     "output_type": "display_data"
    },
    {
     "data": {
      "text/html": [
       "<script src='https://d3js.org/d3.v6.min.js'></script>"
      ],
      "text/plain": [
       "<IPython.core.display.HTML object>"
      ]
     },
     "metadata": {},
     "output_type": "display_data"
    },
    {
     "data": {
      "text/html": [
       "<script src='https://d3js.org/d3.v6.min.js'></script>"
      ],
      "text/plain": [
       "<IPython.core.display.HTML object>"
      ]
     },
     "metadata": {},
     "output_type": "display_data"
    },
    {
     "data": {
      "text/html": [
       "<script src='https://d3js.org/d3.v6.min.js'></script>"
      ],
      "text/plain": [
       "<IPython.core.display.HTML object>"
      ]
     },
     "metadata": {},
     "output_type": "display_data"
    },
    {
     "data": {
      "text/html": [
       "<script src='https://d3js.org/d3.v6.min.js'></script>"
      ],
      "text/plain": [
       "<IPython.core.display.HTML object>"
      ]
     },
     "metadata": {},
     "output_type": "display_data"
    },
    {
     "data": {
      "text/html": [
       "<script src='https://d3js.org/d3.v6.min.js'></script>"
      ],
      "text/plain": [
       "<IPython.core.display.HTML object>"
      ]
     },
     "metadata": {},
     "output_type": "display_data"
    },
    {
     "data": {
      "text/html": [
       "<script src='https://d3js.org/d3.v6.min.js'></script>"
      ],
      "text/plain": [
       "<IPython.core.display.HTML object>"
      ]
     },
     "metadata": {},
     "output_type": "display_data"
    },
    {
     "data": {
      "text/html": [
       "<input type=\"button\" value=\"✨2nd Conclusion✨\" style=\"font-size:20px\" onclick=\"conclusion2()\">\n",
       "<div id=\"conc2\"></div>\n",
       "\n",
       "<script type=\"text/javascript\">   \n",
       "    var svg18, x, y\n",
       "    var width = 600\n",
       "    var height = 300\n",
       "    var margin = 65\n",
       "    var radius = 200\n",
       "    function conclusion2() {\n",
       "        conc2()\n",
       "        svg18.selectAll(\"circle#face_4\")\n",
       "            .transition(\"move1\")\n",
       "            .duration(1000)\n",
       "            .attr(\"cx\", (d,i)=> x(5))\n",
       "        \n",
       "        svg18.selectAll(\"text#face_4\")\n",
       "            .transition(\"move2\")\n",
       "            .duration(1000)\n",
       "            .attr(\"x\", (d,i)=> x(5))\n",
       "        \n",
       "        svg18.selectAll(\"text#feed_5\")\n",
       "            .transition(\"move2b\")\n",
       "            .duration(1000)\n",
       "            .attr(\"x\", (d,i)=> x(5)-20)\n",
       "        \n",
       "        svg18.append(\"line\")\n",
       "            .attr(\"id\",\"join\")\n",
       "            .attr(\"x1\", (x(3) + x(0))/2)\n",
       "            .attr(\"y1\", (y(1)+y(0))/2)\n",
       "            .attr(\"x2\", (x(3) + x(0))/2)\n",
       "            .attr(\"y2\", (y(1)+y(0))/2)\n",
       "            .style(\"stroke\", \"purple\")\n",
       "            .style(\"stroke-width\", \"3px\")\n",
       "            .transition(\"move3\")\n",
       "            .duration(1000)\n",
       "            .attr(\"x1\", x(0) - 10)\n",
       "            .attr(\"x2\", x(3) + 10)\n",
       "        \n",
       "        svg18.append(\"line\")\n",
       "            .attr(\"id\",\"join\")\n",
       "            .attr(\"x1\", (x(6) + x(4))/2)\n",
       "            .attr(\"y1\", (y(1)+y(0))/2)\n",
       "            .attr(\"x2\", (x(6) + x(4))/2)\n",
       "            .attr(\"y2\", (y(1)+y(0))/2)\n",
       "            .style(\"stroke\", \"steelblue\")\n",
       "            .style(\"stroke-width\", \"3px\")\n",
       "            .transition(\"move4\")\n",
       "            .duration(1000)\n",
       "            .attr(\"x1\", x(4) - 10)\n",
       "            .attr(\"x2\", x(6) + 10)\n",
       "        \n",
       "        svg18.append(\"text\")\n",
       "            .attr(\"id\",\"join\")\n",
       "            .attr(\"x\", (d,i)=> - 10)\n",
       "            .attr(\"y\", y(1))  \n",
       "            .style(\"font-size\",\"20px\")\n",
       "            .style(\"text-anchor\", \"middle\")\n",
       "            .style(\"alignment-baseline\",\"middle\")\n",
       "            .text(\"To Join\")\n",
       "            .transition(\"move5\")\n",
       "            .duration(1000)\n",
       "            .attr(\"x\", (x(3) + x(0))/2) \n",
       "        \n",
       "        svg18.append(\"text\")\n",
       "            .attr(\"id\",\"join\")\n",
       "            .attr(\"x\", (d,i)=> width + 10)\n",
       "            .attr(\"y\", y(1))  \n",
       "            .style(\"font-size\",\"20px\")\n",
       "            .style(\"text-anchor\", \"middle\")\n",
       "            .style(\"alignment-baseline\",\"middle\")\n",
       "            .text(\"Or Not To Join\")\n",
       "            .transition(\"move6\")\n",
       "            .duration(1000)\n",
       "            .attr(\"x\", (x(6) + x(4))/2) \n",
       "        \n",
       "        svg18.append(\"text\")\n",
       "            .attr(\"id\",\"join\")\n",
       "            .attr(\"x\", (d,i)=> ((x(4) - 10)+(x(3) + 10))/2)\n",
       "            .attr(\"y\", -10)  \n",
       "            .style(\"font-size\",\"20px\")\n",
       "            .style(\"text-anchor\", \"middle\")\n",
       "            .style(\"alignment-baseline\",\"middle\")\n",
       "            .text(\"+\")\n",
       "            .transition(\"move6\")\n",
       "            .duration(1000)\n",
       "            .attr(\"y\", (y(1)+y(0))/2)\n",
       "        \n",
       "        \n",
       "        function createEquation1(cx,cy,top) {\n",
       "            svg18.append(\"text\")\n",
       "                .attr(\"x\", cx)\n",
       "                .attr(\"y\", height+10)  \n",
       "                .style(\"font-size\",\"20px\")\n",
       "                .style(\"text-anchor\", \"middle\")\n",
       "                .style(\"alignment-baseline\",\"middle\")\n",
       "                .text(top)\n",
       "                .transition(\"move6\")\n",
       "                .duration(1000)\n",
       "                .attr(\"y\", y(2)-15)\n",
       "            \n",
       "            svg18.append(\"line\")\n",
       "                .attr(\"x1\", cx)\n",
       "                .attr(\"y1\", 0)  \n",
       "                .attr(\"x2\", cx)\n",
       "                .attr(\"y2\", 0)\n",
       "                .style(\"stroke\", (top == \"🤔\") ? \"steelblue\" : \"purple\")\n",
       "                .style(\"stroke-width\", \"3px\")\n",
       "                .transition(\"move7\")\n",
       "                .duration(1000)\n",
       "                .attr(\"y1\", cy)\n",
       "                .attr(\"y2\", cy)\n",
       "                .transition(\"move8\")\n",
       "                .duration(1000)\n",
       "                .attr(\"x1\", cx-20)\n",
       "                .attr(\"x2\", cx+20)\n",
       "            \n",
       "            svg18.append(\"text\")\n",
       "                .attr(\"x\", cx)\n",
       "                .attr(\"y\", height+10)  \n",
       "                .style(\"font-size\",\"10px\")\n",
       "                .style(\"text-anchor\", \"middle\")\n",
       "                .style(\"alignment-baseline\",\"middle\")\n",
       "                .text(\"😃😃😃😃🤔\")\n",
       "                .transition(\"move8\")\n",
       "                .duration(1000)\n",
       "                .attr(\"y\", y(2)+15)\n",
       "            \n",
       "        }\n",
       "        function createEquation2(cx,top) {\n",
       "            svg18.append(\"text\")\n",
       "                .attr(\"x\", cx)\n",
       "                .attr(\"y\", height+10)  \n",
       "                .style(\"font-size\",(top==\"= 1\") ? \"30px\" : \"20px\")\n",
       "                .style(\"text-anchor\", \"middle\")\n",
       "                .style(\"alignment-baseline\",\"middle\")\n",
       "                .text(top)\n",
       "                .transition(\"move6\")\n",
       "                .duration(1000)\n",
       "                .attr(\"y\", y(2))\n",
       "\n",
       "        }\n",
       "        createEquation1(x(0),y(2),\"😃\")\n",
       "        createEquation2((x(0)+x(1))/2,\"+\")\n",
       "        \n",
       "        createEquation1(x(1),y(2),\"😃\")\n",
       "        createEquation2((x(1)+x(2))/2,\"+\")        \n",
       "        \n",
       "        createEquation1(x(2),y(2),\"😃\")\n",
       "        createEquation2((x(2)+x(3))/2,\"+\")\n",
       "        \n",
       "        createEquation1(x(3),y(2),\"😃\")\n",
       "        createEquation2((x(3)+x(4))/2,\"+\")\n",
       "        \n",
       "        createEquation1(x(5),y(2),\"🤔\")\n",
       "        createEquation2((x(6)),\"= 1\")\n",
       "    }\n",
       "    function conc2() {\n",
       "        \n",
       "        d3.select(\"div#conc2\").select(\"svg\").remove()\n",
       "        svg18 = d3.select(\"div#conc2\").append(\"svg\")\n",
       "            .attr(\"width\", width)\n",
       "            .attr(\"height\", height)\n",
       "\n",
       "        x = d3.scaleLinear().range([margin,width-margin]).domain([0,6])\n",
       "        y = d3.scaleLinear().range([margin,height-margin]).domain([0,2])\n",
       "        \n",
       "\n",
       "        \n",
       "        fractions = [\"1/5\",\"1/5\",\"1/5\",\"1/5\",\"1/5\"]\n",
       "        svg18.selectAll(\"circle.row2\")\n",
       "            .data(fractions)\n",
       "            .join(\"circle\")\n",
       "            .attr(\"id\",(d,i)=> \"face_\"+i)\n",
       "            .attr(\"class\",\"row2\")\n",
       "            .attr(\"cx\", (d,i)=> x(i))\n",
       "            .attr(\"cy\", y(0))  \n",
       "            .attr(\"r\", 20)\n",
       "            .style(\"fill\", \"white\")\n",
       "            .style(\"stroke\", \"black\")\n",
       "            .style(\"stroke-width\", \"1px\")\n",
       "\n",
       "        svg18.selectAll(\"text.perc2\")\n",
       "            // Collect\n",
       "            .data(fractions)\n",
       "            // Update\n",
       "            .join(\"text\")\n",
       "            .attr(\"id\",(d,i)=> \"face_\"+i)\n",
       "            .attr(\"class\",\"perc2\")\n",
       "            .attr(\"x\", (d,i)=> x(i))\n",
       "            .attr(\"y\", y(0))  \n",
       "            .style(\"font-size\",\"20px\")\n",
       "            .style(\"text-anchor\", \"middle\")\n",
       "            .style(\"alignment-baseline\",\"middle\")\n",
       "            .text(d=>d)\n",
       "        \n",
       "\n",
       "        \n",
       "\n",
       "\n",
       "\n",
       "        \n",
       "        function addPeople(cx,cy,e,s,c) {\n",
       "            var xc = d3.scaleLinear().domain([0,d3.range(e).length]).range([Math.PI, 3*Math.PI])\n",
       "            s.selectAll(\"text.feed_\"+c)\n",
       "                // Collect\n",
       "                .data(d3.range(e))\n",
       "                // Update\n",
       "                .join(\"text\")\n",
       "                .attr(\"class\",\"feed_\"+c)\n",
       "                .attr(\"id\",\"feed_\"+c)\n",
       "                .attr(\"x\", (d,i)=> ((20) * Math.cos(xc(i))) + cx)\n",
       "                .attr(\"y\", (d,i)=> ((20) * Math.sin(xc(i))) + cy)\n",
       "                .style(\"text-anchor\", \"middle\")\n",
       "                .style(\"alignment-baseline\",\"middle\")\n",
       "                .text(d=>(c==5)?\"🤔\":\"😃\")\n",
       "\n",
       "        \n",
       "            \n",
       "        }\n",
       "\n",
       "        \n",
       "        d3.range(5).forEach((d,i) => {\n",
       "            var cx = x(i)\n",
       "            var cy = y(0)\n",
       "            addPeople(cx,cy,1,svg18,i+1)\n",
       "            \n",
       "        })\n",
       "\n",
       "\n",
       "\n",
       "    }\n",
       "    conc2()\n",
       "</script>\n"
      ],
      "text/plain": [
       "<IPython.core.display.HTML object>"
      ]
     },
     "metadata": {},
     "output_type": "display_data"
    }
   ],
   "source": [
    "%%html\n",
    "<input type=\"button\" value=\"✨2nd Conclusion✨\" style=\"font-size:20px\" onclick=\"conclusion2()\">\n",
    "<div id=\"conc2\"></div>\n",
    "\n",
    "<script type=\"text/javascript\">   \n",
    "    var svg18, x, y\n",
    "    var width = 600\n",
    "    var height = 300\n",
    "    var margin = 65\n",
    "    var radius = 200\n",
    "    function conclusion2() {\n",
    "        conc2()\n",
    "        svg18.selectAll(\"circle#face_4\")\n",
    "            .transition(\"move1\")\n",
    "            .duration(1000)\n",
    "            .attr(\"cx\", (d,i)=> x(5))\n",
    "        \n",
    "        svg18.selectAll(\"text#face_4\")\n",
    "            .transition(\"move2\")\n",
    "            .duration(1000)\n",
    "            .attr(\"x\", (d,i)=> x(5))\n",
    "        \n",
    "        svg18.selectAll(\"text#feed_5\")\n",
    "            .transition(\"move2b\")\n",
    "            .duration(1000)\n",
    "            .attr(\"x\", (d,i)=> x(5)-20)\n",
    "        \n",
    "        svg18.append(\"line\")\n",
    "            .attr(\"id\",\"join\")\n",
    "            .attr(\"x1\", (x(3) + x(0))/2)\n",
    "            .attr(\"y1\", (y(1)+y(0))/2)\n",
    "            .attr(\"x2\", (x(3) + x(0))/2)\n",
    "            .attr(\"y2\", (y(1)+y(0))/2)\n",
    "            .style(\"stroke\", \"purple\")\n",
    "            .style(\"stroke-width\", \"3px\")\n",
    "            .transition(\"move3\")\n",
    "            .duration(1000)\n",
    "            .attr(\"x1\", x(0) - 10)\n",
    "            .attr(\"x2\", x(3) + 10)\n",
    "        \n",
    "        svg18.append(\"line\")\n",
    "            .attr(\"id\",\"join\")\n",
    "            .attr(\"x1\", (x(6) + x(4))/2)\n",
    "            .attr(\"y1\", (y(1)+y(0))/2)\n",
    "            .attr(\"x2\", (x(6) + x(4))/2)\n",
    "            .attr(\"y2\", (y(1)+y(0))/2)\n",
    "            .style(\"stroke\", \"steelblue\")\n",
    "            .style(\"stroke-width\", \"3px\")\n",
    "            .transition(\"move4\")\n",
    "            .duration(1000)\n",
    "            .attr(\"x1\", x(4) - 10)\n",
    "            .attr(\"x2\", x(6) + 10)\n",
    "        \n",
    "        svg18.append(\"text\")\n",
    "            .attr(\"id\",\"join\")\n",
    "            .attr(\"x\", (d,i)=> - 10)\n",
    "            .attr(\"y\", y(1))  \n",
    "            .style(\"font-size\",\"20px\")\n",
    "            .style(\"text-anchor\", \"middle\")\n",
    "            .style(\"alignment-baseline\",\"middle\")\n",
    "            .text(\"To Join\")\n",
    "            .transition(\"move5\")\n",
    "            .duration(1000)\n",
    "            .attr(\"x\", (x(3) + x(0))/2) \n",
    "        \n",
    "        svg18.append(\"text\")\n",
    "            .attr(\"id\",\"join\")\n",
    "            .attr(\"x\", (d,i)=> width + 10)\n",
    "            .attr(\"y\", y(1))  \n",
    "            .style(\"font-size\",\"20px\")\n",
    "            .style(\"text-anchor\", \"middle\")\n",
    "            .style(\"alignment-baseline\",\"middle\")\n",
    "            .text(\"Or Not To Join\")\n",
    "            .transition(\"move6\")\n",
    "            .duration(1000)\n",
    "            .attr(\"x\", (x(6) + x(4))/2) \n",
    "        \n",
    "        svg18.append(\"text\")\n",
    "            .attr(\"id\",\"join\")\n",
    "            .attr(\"x\", (d,i)=> ((x(4) - 10)+(x(3) + 10))/2)\n",
    "            .attr(\"y\", -10)  \n",
    "            .style(\"font-size\",\"20px\")\n",
    "            .style(\"text-anchor\", \"middle\")\n",
    "            .style(\"alignment-baseline\",\"middle\")\n",
    "            .text(\"+\")\n",
    "            .transition(\"move6\")\n",
    "            .duration(1000)\n",
    "            .attr(\"y\", (y(1)+y(0))/2)\n",
    "        \n",
    "        \n",
    "        function createEquation1(cx,cy,top) {\n",
    "            svg18.append(\"text\")\n",
    "                .attr(\"x\", cx)\n",
    "                .attr(\"y\", height+10)  \n",
    "                .style(\"font-size\",\"20px\")\n",
    "                .style(\"text-anchor\", \"middle\")\n",
    "                .style(\"alignment-baseline\",\"middle\")\n",
    "                .text(top)\n",
    "                .transition(\"move6\")\n",
    "                .duration(1000)\n",
    "                .attr(\"y\", y(2)-15)\n",
    "            \n",
    "            svg18.append(\"line\")\n",
    "                .attr(\"x1\", cx)\n",
    "                .attr(\"y1\", 0)  \n",
    "                .attr(\"x2\", cx)\n",
    "                .attr(\"y2\", 0)\n",
    "                .style(\"stroke\", (top == \"🤔\") ? \"steelblue\" : \"purple\")\n",
    "                .style(\"stroke-width\", \"3px\")\n",
    "                .transition(\"move7\")\n",
    "                .duration(1000)\n",
    "                .attr(\"y1\", cy)\n",
    "                .attr(\"y2\", cy)\n",
    "                .transition(\"move8\")\n",
    "                .duration(1000)\n",
    "                .attr(\"x1\", cx-20)\n",
    "                .attr(\"x2\", cx+20)\n",
    "            \n",
    "            svg18.append(\"text\")\n",
    "                .attr(\"x\", cx)\n",
    "                .attr(\"y\", height+10)  \n",
    "                .style(\"font-size\",\"10px\")\n",
    "                .style(\"text-anchor\", \"middle\")\n",
    "                .style(\"alignment-baseline\",\"middle\")\n",
    "                .text(\"😃😃😃😃🤔\")\n",
    "                .transition(\"move8\")\n",
    "                .duration(1000)\n",
    "                .attr(\"y\", y(2)+15)\n",
    "            \n",
    "        }\n",
    "        function createEquation2(cx,top) {\n",
    "            svg18.append(\"text\")\n",
    "                .attr(\"x\", cx)\n",
    "                .attr(\"y\", height+10)  \n",
    "                .style(\"font-size\",(top==\"= 1\") ? \"30px\" : \"20px\")\n",
    "                .style(\"text-anchor\", \"middle\")\n",
    "                .style(\"alignment-baseline\",\"middle\")\n",
    "                .text(top)\n",
    "                .transition(\"move6\")\n",
    "                .duration(1000)\n",
    "                .attr(\"y\", y(2))\n",
    "\n",
    "        }\n",
    "        createEquation1(x(0),y(2),\"😃\")\n",
    "        createEquation2((x(0)+x(1))/2,\"+\")\n",
    "        \n",
    "        createEquation1(x(1),y(2),\"😃\")\n",
    "        createEquation2((x(1)+x(2))/2,\"+\")        \n",
    "        \n",
    "        createEquation1(x(2),y(2),\"😃\")\n",
    "        createEquation2((x(2)+x(3))/2,\"+\")\n",
    "        \n",
    "        createEquation1(x(3),y(2),\"😃\")\n",
    "        createEquation2((x(3)+x(4))/2,\"+\")\n",
    "        \n",
    "        createEquation1(x(5),y(2),\"🤔\")\n",
    "        createEquation2((x(6)),\"= 1\")\n",
    "    }\n",
    "    function conc2() {\n",
    "        \n",
    "        d3.select(\"div#conc2\").select(\"svg\").remove()\n",
    "        svg18 = d3.select(\"div#conc2\").append(\"svg\")\n",
    "            .attr(\"width\", width)\n",
    "            .attr(\"height\", height)\n",
    "\n",
    "        x = d3.scaleLinear().range([margin,width-margin]).domain([0,6])\n",
    "        y = d3.scaleLinear().range([margin,height-margin]).domain([0,2])\n",
    "        \n",
    "\n",
    "        \n",
    "        fractions = [\"1/5\",\"1/5\",\"1/5\",\"1/5\",\"1/5\"]\n",
    "        svg18.selectAll(\"circle.row2\")\n",
    "            .data(fractions)\n",
    "            .join(\"circle\")\n",
    "            .attr(\"id\",(d,i)=> \"face_\"+i)\n",
    "            .attr(\"class\",\"row2\")\n",
    "            .attr(\"cx\", (d,i)=> x(i))\n",
    "            .attr(\"cy\", y(0))  \n",
    "            .attr(\"r\", 20)\n",
    "            .style(\"fill\", \"white\")\n",
    "            .style(\"stroke\", \"black\")\n",
    "            .style(\"stroke-width\", \"1px\")\n",
    "\n",
    "        svg18.selectAll(\"text.perc2\")\n",
    "            // Collect\n",
    "            .data(fractions)\n",
    "            // Update\n",
    "            .join(\"text\")\n",
    "            .attr(\"id\",(d,i)=> \"face_\"+i)\n",
    "            .attr(\"class\",\"perc2\")\n",
    "            .attr(\"x\", (d,i)=> x(i))\n",
    "            .attr(\"y\", y(0))  \n",
    "            .style(\"font-size\",\"20px\")\n",
    "            .style(\"text-anchor\", \"middle\")\n",
    "            .style(\"alignment-baseline\",\"middle\")\n",
    "            .text(d=>d)\n",
    "        \n",
    "\n",
    "        \n",
    "\n",
    "\n",
    "\n",
    "        \n",
    "        function addPeople(cx,cy,e,s,c) {\n",
    "            var xc = d3.scaleLinear().domain([0,d3.range(e).length]).range([Math.PI, 3*Math.PI])\n",
    "            s.selectAll(\"text.feed_\"+c)\n",
    "                // Collect\n",
    "                .data(d3.range(e))\n",
    "                // Update\n",
    "                .join(\"text\")\n",
    "                .attr(\"class\",\"feed_\"+c)\n",
    "                .attr(\"id\",\"feed_\"+c)\n",
    "                .attr(\"x\", (d,i)=> ((20) * Math.cos(xc(i))) + cx)\n",
    "                .attr(\"y\", (d,i)=> ((20) * Math.sin(xc(i))) + cy)\n",
    "                .style(\"text-anchor\", \"middle\")\n",
    "                .style(\"alignment-baseline\",\"middle\")\n",
    "                .text(d=>(c==5)?\"🤔\":\"😃\")\n",
    "\n",
    "        \n",
    "            \n",
    "        }\n",
    "\n",
    "        \n",
    "        d3.range(5).forEach((d,i) => {\n",
    "            var cx = x(i)\n",
    "            var cy = y(0)\n",
    "            addPeople(cx,cy,1,svg18,i+1)\n",
    "            \n",
    "        })\n",
    "\n",
    "\n",
    "\n",
    "    }\n",
    "    conc2()\n",
    "</script>"
   ]
  },
  {
   "cell_type": "markdown",
   "id": "f7e61d25-5eff-4691-a9cd-ab374f226abf",
   "metadata": {
    "tags": []
   },
   "source": [
    "```{admonition} When All Possibility Are Equally Likely\n",
    ":class: tip\n",
    "In situations where are all possibility are equally likely (equally likely to sit at a table with someone else (⚪&😃) or sit at a new table (⚪)), we can abbreviate this to a simple probablity:\n",
    "\n",
    "$\\frac{😃}{😃😃😃😃🤔}$ \n",
    "$ = $\n",
    "$\\frac{\\text{Number of people sitting at table (⚪&😃)}}{\\text{All people (😃😃😃😃🤔)}}$ \n",
    "$ = $\n",
    "$\\frac{N_j}{N}$\n",
    "\n",
    "AND \n",
    "\n",
    "$\\frac{🤔}{😃😃😃😃🤔}$ \n",
    "$ = $\n",
    "$\\frac{\\text{Number of new tables (⚪)}}{\\text{All people (😃😃😃😃🤔)}}$ \n",
    "$ = $\n",
    "$\\frac{N_j}{N}$\n",
    "```"
   ]
  },
  {
   "cell_type": "markdown",
   "id": "f51f26f7-cf6c-42d1-bdb1-762a4f49fc52",
   "metadata": {},
   "source": [
    "For our last conclusion, we need to slight change our two scenerios for \"The Social Butterfly\" and \"The Long Day.\" Basically, loosen the strictness of these two ideas. So, instead we are going to define them as:\n",
    "\n",
    "> *The Social Butterfly* - When entering the restaurant will *MOSTLY* sit at the table with the most people (⚪&😃) and *MOSTLY NOT* sit at a new table (⚪). \n",
    "\n",
    "> *The Long Day*- When entering the restaurant will *MOSTLY* sit at a new table (⚪) and *MOSTLY NOT* sit with the most people (⚪&😃).\n"
   ]
  },
  {
   "cell_type": "code",
   "execution_count": 410,
   "id": "2f99db35-11fb-498c-bdba-9cc12a23a1e7",
   "metadata": {
    "jupyter": {
     "source_hidden": true
    },
    "tags": []
   },
   "outputs": [
    {
     "data": {
      "text/html": [
       "<script src='https://d3js.org/d3.v6.min.js'></script>"
      ],
      "text/plain": [
       "<IPython.core.display.HTML object>"
      ]
     },
     "metadata": {},
     "output_type": "display_data"
    },
    {
     "data": {
      "text/html": [
       "<script src='https://d3js.org/d3.v6.min.js'></script>"
      ],
      "text/plain": [
       "<IPython.core.display.HTML object>"
      ]
     },
     "metadata": {},
     "output_type": "display_data"
    },
    {
     "data": {
      "text/html": [
       "<script src='https://d3js.org/d3.v6.min.js'></script>"
      ],
      "text/plain": [
       "<IPython.core.display.HTML object>"
      ]
     },
     "metadata": {},
     "output_type": "display_data"
    },
    {
     "data": {
      "text/html": [
       "<script src='https://d3js.org/d3.v6.min.js'></script>"
      ],
      "text/plain": [
       "<IPython.core.display.HTML object>"
      ]
     },
     "metadata": {},
     "output_type": "display_data"
    },
    {
     "data": {
      "text/html": [
       "<script src='https://d3js.org/d3.v6.min.js'></script>"
      ],
      "text/plain": [
       "<IPython.core.display.HTML object>"
      ]
     },
     "metadata": {},
     "output_type": "display_data"
    },
    {
     "data": {
      "text/html": [
       "<script src='https://d3js.org/d3.v6.min.js'></script>"
      ],
      "text/plain": [
       "<IPython.core.display.HTML object>"
      ]
     },
     "metadata": {},
     "output_type": "display_data"
    },
    {
     "data": {
      "text/html": [
       "<script src='https://d3js.org/d3.v6.min.js'></script>"
      ],
      "text/plain": [
       "<IPython.core.display.HTML object>"
      ]
     },
     "metadata": {},
     "output_type": "display_data"
    },
    {
     "data": {
      "text/html": [
       "<script src='https://d3js.org/d3.v6.min.js'></script>"
      ],
      "text/plain": [
       "<IPython.core.display.HTML object>"
      ]
     },
     "metadata": {},
     "output_type": "display_data"
    },
    {
     "data": {
      "text/html": [
       "<input type=\"button\" value=\"✨3rd Conclusion✨\" style=\"font-size:20px\" onclick=\"conclusion3()\">\n",
       "<div id=\"conc3\"></div>\n",
       "\n",
       "<script type=\"text/javascript\">   \n",
       "    var svg19, x, y\n",
       "    function conclusion3() {\n",
       "        var equation = [\"+\",\"+\",\"+\",\"+\",\"= 1\"]\n",
       "        d3.range(3).forEach((d,row)=>{\n",
       "            svg19.selectAll(\"text.equ_\"+row)\n",
       "                // Collect\n",
       "                .data(equation)\n",
       "                // Update\n",
       "                .join(\"text\")\n",
       "                .attr(\"class\",\"equ_\"+row)\n",
       "                .attr(\"x\", 0)\n",
       "                .attr(\"y\", y(row))  \n",
       "                .style(\"font-size\",\"20px\")\n",
       "                .style(\"text-anchor\", \"middle\")\n",
       "                .style(\"alignment-baseline\",\"middle\")\n",
       "                .text(d=>d) \n",
       "                .transition(\"text2\")\n",
       "                .duration(1000)\n",
       "                .delay((d,i)=> (5-i) * 100)\n",
       "                .attr(\"x\", (d,i)=> (i==4) ? (x(i+1)) : (x(i)+x(i+1))/2)\n",
       "            \n",
       "        })\n",
       "\n",
       "\n",
       "    }\n",
       "    function conc3() {\n",
       "        var width = 600\n",
       "        var height = 400\n",
       "        var margin = 65\n",
       "        var radius = 200\n",
       "        \n",
       "        d3.select(\"div#conc3\").select(\"svg\").remove()\n",
       "        svg19 = d3.select(\"div#conc3\").append(\"svg\")\n",
       "            .attr(\"width\", width)\n",
       "            .attr(\"height\", height)\n",
       "\n",
       "        x = d3.scaleLinear().range([margin,width-margin]).domain([0,6])\n",
       "        y = d3.scaleLinear().range([margin,height-margin]).domain([0,2])\n",
       "        \n",
       "        fractions = [\"9/10\",\"1/10\",\"0\",\"0\",\"0\"]\n",
       "        svg19.selectAll(\"circle.row1\")\n",
       "            .data(fractions)\n",
       "            .join(\"circle\")\n",
       "            .attr(\"class\",\"row1\")\n",
       "            .attr(\"cx\", (d,i)=> x(i))\n",
       "            .attr(\"cy\", y(.25))  \n",
       "            .attr(\"r\", 30)\n",
       "            .style(\"fill\", \"white\")\n",
       "            .style(\"stroke\", \"black\")\n",
       "            .style(\"stroke-width\", \"1px\")\n",
       "            \n",
       "        svg19.selectAll(\"text.perc1\")\n",
       "            // Collect\n",
       "            .data(fractions)\n",
       "            // Update\n",
       "            .join(\"text\")\n",
       "            .attr(\"class\",\"perc1\")\n",
       "            .attr(\"x\", (d,i)=> x(i))\n",
       "            .attr(\"y\", y(.25))  \n",
       "            .style(\"font-size\",\"20px\")\n",
       "            .style(\"text-anchor\", \"middle\")\n",
       "            .style(\"alignment-baseline\",\"middle\")\n",
       "            .text(d=>d)\n",
       "\n",
       "        \n",
       "    \n",
       "\n",
       "        \n",
       "        fractions = [\"0\",\"0\",\"0\",\"0\",\"1\"]\n",
       "        svg19.selectAll(\"circle.row3\")\n",
       "            .data(fractions)\n",
       "            .join(\"circle\")\n",
       "            .attr(\"class\",\"row3\")\n",
       "            .attr(\"cx\", (d,i)=> x(i))\n",
       "            .attr(\"cy\", y(2))  \n",
       "            .attr(\"r\", 20)\n",
       "            .style(\"fill\", \"white\")\n",
       "            .style(\"stroke\", \"black\")\n",
       "            .style(\"stroke-width\", \"1px\")\n",
       "\n",
       "        svg19.selectAll(\"text.perc3\")\n",
       "            // Collect\n",
       "            .data(fractions)\n",
       "            // Update\n",
       "            .join(\"text\")\n",
       "            .attr(\"class\",\"perc3\")\n",
       "            .attr(\"x\", (d,i)=> x(i))\n",
       "            .attr(\"y\", y(2))  \n",
       "            .style(\"font-size\",\"20px\")\n",
       "            .style(\"text-anchor\", \"middle\")\n",
       "            .style(\"alignment-baseline\",\"middle\")\n",
       "            .text(d=>d)\n",
       "\n",
       "        \n",
       "        svg19.append(\"text\")\n",
       "            .attr(\"class\",\"title1\")\n",
       "            .attr(\"x\", 20)\n",
       "            .attr(\"y\", y(0)-45)  \n",
       "            .style(\"font-size\",\"20px\")\n",
       "            .style(\"alignment-baseline\",\"middle\")\n",
       "            .text(\"The Social Butterfly\")     \n",
       "        \n",
       "        svg19.append(\"text\")\n",
       "            .attr(\"class\",\"title1\")\n",
       "            .attr(\"x\", 20)\n",
       "            .attr(\"y\", y(1)-45)  \n",
       "            .style(\"font-size\",\"20px\")\n",
       "            .style(\"alignment-baseline\",\"middle\")\n",
       "            .text(\"The Gambler\") \n",
       "\n",
       "        svg19.append(\"text\")\n",
       "            .attr(\"class\",\"title1\")\n",
       "            .attr(\"x\", 20)\n",
       "            .attr(\"y\", y(2)-45)  \n",
       "            .style(\"font-size\",\"20px\")\n",
       "            .style(\"alignment-baseline\",\"middle\")\n",
       "            .text(\"The Long Day\") \n",
       "        \n",
       "        function addPeople(cx,cy,e,s,c) {\n",
       "            var xc = d3.scaleLinear().domain([0,d3.range(e).length]).range([Math.PI, 3*Math.PI])\n",
       "            s.selectAll(\"text.feed_\"+c)\n",
       "                // Collect\n",
       "                .data(d3.range(e))\n",
       "                // Update\n",
       "                .join(\"text\")\n",
       "                .attr(\"class\",\"feed_\"+c)\n",
       "                .attr(\"x\", (d,i)=> ((30) * Math.cos(xc(i))) + cx)\n",
       "                .attr(\"y\", (d,i)=> ((30) * Math.sin(xc(i))) + cy)\n",
       "                .style(\"text-anchor\", \"middle\")\n",
       "                .style(\"alignment-baseline\",\"middle\")\n",
       "                .text(d=>\"😃\")\n",
       "\n",
       "        \n",
       "            \n",
       "        }\n",
       "        var cx = x(0)\n",
       "        var cy = y(.25)\n",
       "        addPeople(cx,cy,9,svg19,0)\n",
       "        var cx = x(1)\n",
       "        var cy = y(.25)\n",
       "        addPeople(cx,cy,1,svg19,1)\n",
       "        d3.range(4).forEach((d,i) => {\n",
       "            var cx = x(i)\n",
       "            var cy = y(1)\n",
       "            addPeople(cx,cy,1,svg19,i+2)\n",
       "            \n",
       "        })\n",
       "\n",
       "        d3.range(4).forEach((d,i) => {\n",
       "            var cx = x(i)\n",
       "            var cy = y(2)\n",
       "            addPeople(cx,cy,1,svg19,i+6)\n",
       "            \n",
       "        })\n",
       "\n",
       "    }\n",
       "    conc3()\n",
       "</script>\n"
      ],
      "text/plain": [
       "<IPython.core.display.HTML object>"
      ]
     },
     "metadata": {},
     "output_type": "display_data"
    }
   ],
   "source": [
    "%%html\n",
    "<input type=\"button\" value=\"✨3rd Conclusion✨\" style=\"font-size:20px\" onclick=\"conclusion3()\">\n",
    "<div id=\"conc3\"></div>\n",
    "\n",
    "<script type=\"text/javascript\">   \n",
    "    var svg19, x, y\n",
    "    function conclusion3() {\n",
    "        var equation = [\"+\",\"+\",\"+\",\"+\",\"= 1\"]\n",
    "        d3.range(3).forEach((d,row)=>{\n",
    "            svg19.selectAll(\"text.equ_\"+row)\n",
    "                // Collect\n",
    "                .data(equation)\n",
    "                // Update\n",
    "                .join(\"text\")\n",
    "                .attr(\"class\",\"equ_\"+row)\n",
    "                .attr(\"x\", 0)\n",
    "                .attr(\"y\", y(row))  \n",
    "                .style(\"font-size\",\"20px\")\n",
    "                .style(\"text-anchor\", \"middle\")\n",
    "                .style(\"alignment-baseline\",\"middle\")\n",
    "                .text(d=>d) \n",
    "                .transition(\"text2\")\n",
    "                .duration(1000)\n",
    "                .delay((d,i)=> (5-i) * 100)\n",
    "                .attr(\"x\", (d,i)=> (i==4) ? (x(i+1)) : (x(i)+x(i+1))/2)\n",
    "            \n",
    "        })\n",
    "\n",
    "\n",
    "    }\n",
    "    function conc3() {\n",
    "        var width = 600\n",
    "        var height = 400\n",
    "        var margin = 65\n",
    "        var radius = 200\n",
    "        \n",
    "        d3.select(\"div#conc3\").select(\"svg\").remove()\n",
    "        svg19 = d3.select(\"div#conc3\").append(\"svg\")\n",
    "            .attr(\"width\", width)\n",
    "            .attr(\"height\", height)\n",
    "\n",
    "        x = d3.scaleLinear().range([margin,width-margin]).domain([0,6])\n",
    "        y = d3.scaleLinear().range([margin,height-margin]).domain([0,2])\n",
    "        \n",
    "        fractions = [\"9/10\",\"1/10\",\"0\",\"0\",\"0\"]\n",
    "        svg19.selectAll(\"circle.row1\")\n",
    "            .data(fractions)\n",
    "            .join(\"circle\")\n",
    "            .attr(\"class\",\"row1\")\n",
    "            .attr(\"cx\", (d,i)=> x(i))\n",
    "            .attr(\"cy\", y(.25))  \n",
    "            .attr(\"r\", 30)\n",
    "            .style(\"fill\", \"white\")\n",
    "            .style(\"stroke\", \"black\")\n",
    "            .style(\"stroke-width\", \"1px\")\n",
    "            \n",
    "        svg19.selectAll(\"text.perc1\")\n",
    "            // Collect\n",
    "            .data(fractions)\n",
    "            // Update\n",
    "            .join(\"text\")\n",
    "            .attr(\"class\",\"perc1\")\n",
    "            .attr(\"x\", (d,i)=> x(i))\n",
    "            .attr(\"y\", y(.25))  \n",
    "            .style(\"font-size\",\"20px\")\n",
    "            .style(\"text-anchor\", \"middle\")\n",
    "            .style(\"alignment-baseline\",\"middle\")\n",
    "            .text(d=>d)\n",
    "\n",
    "        \n",
    "    \n",
    "\n",
    "        \n",
    "        fractions = [\"0\",\"0\",\"0\",\"0\",\"1\"]\n",
    "        svg19.selectAll(\"circle.row3\")\n",
    "            .data(fractions)\n",
    "            .join(\"circle\")\n",
    "            .attr(\"class\",\"row3\")\n",
    "            .attr(\"cx\", (d,i)=> x(i))\n",
    "            .attr(\"cy\", y(2))  \n",
    "            .attr(\"r\", 20)\n",
    "            .style(\"fill\", \"white\")\n",
    "            .style(\"stroke\", \"black\")\n",
    "            .style(\"stroke-width\", \"1px\")\n",
    "\n",
    "        svg19.selectAll(\"text.perc3\")\n",
    "            // Collect\n",
    "            .data(fractions)\n",
    "            // Update\n",
    "            .join(\"text\")\n",
    "            .attr(\"class\",\"perc3\")\n",
    "            .attr(\"x\", (d,i)=> x(i))\n",
    "            .attr(\"y\", y(2))  \n",
    "            .style(\"font-size\",\"20px\")\n",
    "            .style(\"text-anchor\", \"middle\")\n",
    "            .style(\"alignment-baseline\",\"middle\")\n",
    "            .text(d=>d)\n",
    "\n",
    "        \n",
    "        svg19.append(\"text\")\n",
    "            .attr(\"class\",\"title1\")\n",
    "            .attr(\"x\", 20)\n",
    "            .attr(\"y\", y(0)-45)  \n",
    "            .style(\"font-size\",\"20px\")\n",
    "            .style(\"alignment-baseline\",\"middle\")\n",
    "            .text(\"The Social Butterfly\")     \n",
    "        \n",
    "        svg19.append(\"text\")\n",
    "            .attr(\"class\",\"title1\")\n",
    "            .attr(\"x\", 20)\n",
    "            .attr(\"y\", y(1)-45)  \n",
    "            .style(\"font-size\",\"20px\")\n",
    "            .style(\"alignment-baseline\",\"middle\")\n",
    "            .text(\"The Gambler\") \n",
    "\n",
    "        svg19.append(\"text\")\n",
    "            .attr(\"class\",\"title1\")\n",
    "            .attr(\"x\", 20)\n",
    "            .attr(\"y\", y(2)-45)  \n",
    "            .style(\"font-size\",\"20px\")\n",
    "            .style(\"alignment-baseline\",\"middle\")\n",
    "            .text(\"The Long Day\") \n",
    "        \n",
    "        function addPeople(cx,cy,e,s,c) {\n",
    "            var xc = d3.scaleLinear().domain([0,d3.range(e).length]).range([Math.PI, 3*Math.PI])\n",
    "            s.selectAll(\"text.feed_\"+c)\n",
    "                // Collect\n",
    "                .data(d3.range(e))\n",
    "                // Update\n",
    "                .join(\"text\")\n",
    "                .attr(\"class\",\"feed_\"+c)\n",
    "                .attr(\"x\", (d,i)=> ((30) * Math.cos(xc(i))) + cx)\n",
    "                .attr(\"y\", (d,i)=> ((30) * Math.sin(xc(i))) + cy)\n",
    "                .style(\"text-anchor\", \"middle\")\n",
    "                .style(\"alignment-baseline\",\"middle\")\n",
    "                .text(d=>\"😃\")\n",
    "\n",
    "        \n",
    "            \n",
    "        }\n",
    "        var cx = x(0)\n",
    "        var cy = y(.25)\n",
    "        addPeople(cx,cy,9,svg19,0)\n",
    "        var cx = x(1)\n",
    "        var cy = y(.25)\n",
    "        addPeople(cx,cy,1,svg19,1)\n",
    "        d3.range(4).forEach((d,i) => {\n",
    "            var cx = x(i)\n",
    "            var cy = y(1)\n",
    "            addPeople(cx,cy,1,svg19,i+2)\n",
    "            \n",
    "        })\n",
    "\n",
    "        d3.range(4).forEach((d,i) => {\n",
    "            var cx = x(i)\n",
    "            var cy = y(2)\n",
    "            addPeople(cx,cy,1,svg19,i+6)\n",
    "            \n",
    "        })\n",
    "\n",
    "    }\n",
    "    conc3()\n",
    "</script>"
   ]
  },
  {
   "cell_type": "markdown",
   "id": "71ce6c84-ffa5-4c75-aa74-7604408d39f6",
   "metadata": {},
   "source": [
    "## Actual Data\n",
    "\n",
    "To see some actual data, we will be using scipy for five topics and five documents.\n",
    "\n",
    "Note to print these 5 x 5 tables, we used code from SlackOverflow {cite:p}`table_jupyter_stackoverflow`.\n"
   ]
  },
  {
   "cell_type": "code",
   "execution_count": 386,
   "id": "5285ec9d-a50e-428a-8a79-a287d0ec84b9",
   "metadata": {
    "tags": []
   },
   "outputs": [
    {
     "data": {
      "text/html": [
       "<script src='https://d3js.org/d3.v6.min.js'></script>"
      ],
      "text/plain": [
       "<IPython.core.display.HTML object>"
      ]
     },
     "metadata": {},
     "output_type": "display_data"
    },
    {
     "data": {
      "text/html": [
       "<script src='https://d3js.org/d3.v6.min.js'></script>"
      ],
      "text/plain": [
       "<IPython.core.display.HTML object>"
      ]
     },
     "metadata": {},
     "output_type": "display_data"
    },
    {
     "data": {
      "text/html": [
       "<script src='https://d3js.org/d3.v6.min.js'></script>"
      ],
      "text/plain": [
       "<IPython.core.display.HTML object>"
      ]
     },
     "metadata": {},
     "output_type": "display_data"
    },
    {
     "data": {
      "text/html": [
       "<script src='https://d3js.org/d3.v6.min.js'></script>"
      ],
      "text/plain": [
       "<IPython.core.display.HTML object>"
      ]
     },
     "metadata": {},
     "output_type": "display_data"
    },
    {
     "data": {
      "text/html": [
       "<script src='https://d3js.org/d3.v6.min.js'></script>"
      ],
      "text/plain": [
       "<IPython.core.display.HTML object>"
      ]
     },
     "metadata": {},
     "output_type": "display_data"
    },
    {
     "data": {
      "text/html": [
       "<script src='https://d3js.org/d3.v6.min.js'></script>"
      ],
      "text/plain": [
       "<IPython.core.display.HTML object>"
      ]
     },
     "metadata": {},
     "output_type": "display_data"
    },
    {
     "data": {
      "text/html": [
       "<script src='https://d3js.org/d3.v6.min.js'></script>"
      ],
      "text/plain": [
       "<IPython.core.display.HTML object>"
      ]
     },
     "metadata": {},
     "output_type": "display_data"
    },
    {
     "data": {
      "text/html": [
       "<script src='https://d3js.org/d3.v6.min.js'></script>"
      ],
      "text/plain": [
       "<IPython.core.display.HTML object>"
      ]
     },
     "metadata": {},
     "output_type": "display_data"
    }
   ],
   "source": [
    "from scipy.stats import dirichlet\n",
    "import numpy as np"
   ]
  },
  {
   "cell_type": "markdown",
   "id": "7e3ecbad-506f-4a3e-95cf-76b8cf23b256",
   "metadata": {},
   "source": [
    "### alpha = .01"
   ]
  },
  {
   "cell_type": "code",
   "execution_count": null,
   "id": "01cd2ae7-5dfc-4258-9e0e-2b3d237e7364",
   "metadata": {},
   "outputs": [],
   "source": []
  },
  {
   "cell_type": "code",
   "execution_count": 387,
   "id": "059d724c-b5c4-4b76-b91e-0b461898d552",
   "metadata": {},
   "outputs": [
    {
     "data": {
      "text/html": [
       "<script src='https://d3js.org/d3.v6.min.js'></script>"
      ],
      "text/plain": [
       "<IPython.core.display.HTML object>"
      ]
     },
     "metadata": {},
     "output_type": "display_data"
    },
    {
     "data": {
      "text/html": [
       "<script src='https://d3js.org/d3.v6.min.js'></script>"
      ],
      "text/plain": [
       "<IPython.core.display.HTML object>"
      ]
     },
     "metadata": {},
     "output_type": "display_data"
    },
    {
     "data": {
      "text/html": [
       "<script src='https://d3js.org/d3.v6.min.js'></script>"
      ],
      "text/plain": [
       "<IPython.core.display.HTML object>"
      ]
     },
     "metadata": {},
     "output_type": "display_data"
    },
    {
     "data": {
      "text/html": [
       "<script src='https://d3js.org/d3.v6.min.js'></script>"
      ],
      "text/plain": [
       "<IPython.core.display.HTML object>"
      ]
     },
     "metadata": {},
     "output_type": "display_data"
    },
    {
     "data": {
      "text/html": [
       "<script src='https://d3js.org/d3.v6.min.js'></script>"
      ],
      "text/plain": [
       "<IPython.core.display.HTML object>"
      ]
     },
     "metadata": {},
     "output_type": "display_data"
    },
    {
     "data": {
      "text/html": [
       "<script src='https://d3js.org/d3.v6.min.js'></script>"
      ],
      "text/plain": [
       "<IPython.core.display.HTML object>"
      ]
     },
     "metadata": {},
     "output_type": "display_data"
    },
    {
     "data": {
      "text/html": [
       "<script src='https://d3js.org/d3.v6.min.js'></script>"
      ],
      "text/plain": [
       "<IPython.core.display.HTML object>"
      ]
     },
     "metadata": {},
     "output_type": "display_data"
    },
    {
     "data": {
      "text/html": [
       "<script src='https://d3js.org/d3.v6.min.js'></script>"
      ],
      "text/plain": [
       "<IPython.core.display.HTML object>"
      ]
     },
     "metadata": {},
     "output_type": "display_data"
    },
    {
     "data": {
      "text/plain": [
       "array([[1., 0., 0., 0., 0.],\n",
       "       [1., 0., 0., 0., 0.],\n",
       "       [1., 0., 0., 0., 0.],\n",
       "       [0., 0., 0., 0., 1.],\n",
       "       [0., 0., 1., 0., 0.]])"
      ]
     },
     "execution_count": 387,
     "metadata": {},
     "output_type": "execute_result"
    }
   ],
   "source": []
  },
  {
   "cell_type": "code",
   "execution_count": 431,
   "id": "e3f81948-bc89-4701-91cf-487011a06668",
   "metadata": {},
   "outputs": [
    {
     "data": {
      "text/html": [
       "<script src='https://d3js.org/d3.v6.min.js'></script>"
      ],
      "text/plain": [
       "<IPython.core.display.HTML object>"
      ]
     },
     "metadata": {},
     "output_type": "display_data"
    },
    {
     "data": {
      "text/html": [
       "<script src='https://d3js.org/d3.v6.min.js'></script>"
      ],
      "text/plain": [
       "<IPython.core.display.HTML object>"
      ]
     },
     "metadata": {},
     "output_type": "display_data"
    },
    {
     "data": {
      "text/html": [
       "<script src='https://d3js.org/d3.v6.min.js'></script>"
      ],
      "text/plain": [
       "<IPython.core.display.HTML object>"
      ]
     },
     "metadata": {},
     "output_type": "display_data"
    },
    {
     "data": {
      "text/html": [
       "<script src='https://d3js.org/d3.v6.min.js'></script>"
      ],
      "text/plain": [
       "<IPython.core.display.HTML object>"
      ]
     },
     "metadata": {},
     "output_type": "display_data"
    },
    {
     "data": {
      "text/html": [
       "<script src='https://d3js.org/d3.v6.min.js'></script>"
      ],
      "text/plain": [
       "<IPython.core.display.HTML object>"
      ]
     },
     "metadata": {},
     "output_type": "display_data"
    },
    {
     "data": {
      "text/html": [
       "<script src='https://d3js.org/d3.v6.min.js'></script>"
      ],
      "text/plain": [
       "<IPython.core.display.HTML object>"
      ]
     },
     "metadata": {},
     "output_type": "display_data"
    },
    {
     "data": {
      "text/html": [
       "<script src='https://d3js.org/d3.v6.min.js'></script>"
      ],
      "text/plain": [
       "<IPython.core.display.HTML object>"
      ]
     },
     "metadata": {},
     "output_type": "display_data"
    },
    {
     "data": {
      "text/html": [
       "<script src='https://d3js.org/d3.v6.min.js'></script>"
      ],
      "text/plain": [
       "<IPython.core.display.HTML object>"
      ]
     },
     "metadata": {},
     "output_type": "display_data"
    },
    {
     "data": {
      "text/html": [
       "<table><tr><td></td><td><em>topic 0</em></td><td><em>topic 1</em></td><td><em>topic 2</em></td><td><em>topic 3</em></td><td><em>topic 4</em></td></tr><tr><td><em>document 0</em></td><td>0.9</td><td>0.0</td><td>0.0</td><td>0.1</td><td>0.0</td></tr><tr><td><em>document 1</em></td><td>0.0</td><td>1.0</td><td>0.0</td><td>0.0</td><td>0.0</td></tr><tr><td><em>document 2</em></td><td>0.0</td><td>0.0</td><td>1.0</td><td>0.0</td><td>0.0</td></tr><tr><td><em>document 3</em></td><td>0.0</td><td>1.0</td><td>0.0</td><td>0.0</td><td>0.0</td></tr><tr><td><em>document 4</em></td><td>0.0</td><td>0.0</td><td>1.0</td><td>0.0</td><td>0.0</td></tr></table>"
      ],
      "text/plain": [
       "<IPython.core.display.HTML object>"
      ]
     },
     "metadata": {},
     "output_type": "display_data"
    }
   ],
   "source": [
    "from IPython.display import HTML, display\n",
    "\n",
    "alpha = np.array([0.01, 0.01, 0.01, 0.01, 0.01])\n",
    "data_from_dirichlet = np.around(dirichlet.rvs(alpha, size=5), decimals=1).tolist()\n",
    "data_for_output = []\n",
    "\n",
    "temp = []\n",
    "temp.append(\"\")\n",
    "\n",
    "for i in range(5):\n",
    "    temp.append(\"<em>topic %s</em>\" % (i))\n",
    "\n",
    "data_for_output.append(temp)    \n",
    "for i in range(len(data_from_dirichlet)):\n",
    "    temp = []\n",
    "    temp.append(\"<em>document %s</em>\" % (i))\n",
    "    for j in data_from_dirichlet[i]:\n",
    "        temp.append(j)\n",
    "    data_for_output.append(temp)\n",
    "\n",
    "display(HTML(\n",
    "   '<table><tr>{}</tr></table>'.format(\n",
    "       '</tr><tr>'.join(\n",
    "           '<td>{}</td>'.format('</td><td>'.join(str(_) for _ in row)) for row in data_for_output)\n",
    "       )\n",
    "))"
   ]
  },
  {
   "cell_type": "markdown",
   "id": "c53afdb1-6dc7-42a4-8264-664a9edc8068",
   "metadata": {},
   "source": [
    "### alpha = .1"
   ]
  },
  {
   "cell_type": "code",
   "execution_count": 432,
   "id": "ed00b52a-908a-4657-a2bf-eb413224f59b",
   "metadata": {},
   "outputs": [
    {
     "data": {
      "text/html": [
       "<script src='https://d3js.org/d3.v6.min.js'></script>"
      ],
      "text/plain": [
       "<IPython.core.display.HTML object>"
      ]
     },
     "metadata": {},
     "output_type": "display_data"
    },
    {
     "data": {
      "text/html": [
       "<script src='https://d3js.org/d3.v6.min.js'></script>"
      ],
      "text/plain": [
       "<IPython.core.display.HTML object>"
      ]
     },
     "metadata": {},
     "output_type": "display_data"
    },
    {
     "data": {
      "text/html": [
       "<script src='https://d3js.org/d3.v6.min.js'></script>"
      ],
      "text/plain": [
       "<IPython.core.display.HTML object>"
      ]
     },
     "metadata": {},
     "output_type": "display_data"
    },
    {
     "data": {
      "text/html": [
       "<script src='https://d3js.org/d3.v6.min.js'></script>"
      ],
      "text/plain": [
       "<IPython.core.display.HTML object>"
      ]
     },
     "metadata": {},
     "output_type": "display_data"
    },
    {
     "data": {
      "text/html": [
       "<script src='https://d3js.org/d3.v6.min.js'></script>"
      ],
      "text/plain": [
       "<IPython.core.display.HTML object>"
      ]
     },
     "metadata": {},
     "output_type": "display_data"
    },
    {
     "data": {
      "text/html": [
       "<script src='https://d3js.org/d3.v6.min.js'></script>"
      ],
      "text/plain": [
       "<IPython.core.display.HTML object>"
      ]
     },
     "metadata": {},
     "output_type": "display_data"
    },
    {
     "data": {
      "text/html": [
       "<script src='https://d3js.org/d3.v6.min.js'></script>"
      ],
      "text/plain": [
       "<IPython.core.display.HTML object>"
      ]
     },
     "metadata": {},
     "output_type": "display_data"
    },
    {
     "data": {
      "text/html": [
       "<script src='https://d3js.org/d3.v6.min.js'></script>"
      ],
      "text/plain": [
       "<IPython.core.display.HTML object>"
      ]
     },
     "metadata": {},
     "output_type": "display_data"
    },
    {
     "data": {
      "text/html": [
       "<table><tr><td></td><td><em>topic 0</em></td><td><em>topic 1</em></td><td><em>topic 2</em></td><td><em>topic 3</em></td><td><em>topic 4</em></td></tr><tr><td><em>document 0</em></td><td>0.0</td><td>0.0</td><td>0.5</td><td>0.0</td><td>0.5</td></tr><tr><td><em>document 1</em></td><td>0.4</td><td>0.6</td><td>0.0</td><td>0.0</td><td>0.0</td></tr><tr><td><em>document 2</em></td><td>0.8</td><td>0.2</td><td>0.0</td><td>0.0</td><td>0.0</td></tr><tr><td><em>document 3</em></td><td>0.0</td><td>0.0</td><td>0.0</td><td>1.0</td><td>0.0</td></tr><tr><td><em>document 4</em></td><td>0.4</td><td>0.6</td><td>0.0</td><td>0.0</td><td>0.0</td></tr></table>"
      ],
      "text/plain": [
       "<IPython.core.display.HTML object>"
      ]
     },
     "metadata": {},
     "output_type": "display_data"
    }
   ],
   "source": [
    "alpha = np.array([0.1, 0.1, 0.1, 0.1, 0.1])\n",
    "\n",
    "data_from_dirichlet = np.around(dirichlet.rvs(alpha, size=5), decimals=1).tolist()\n",
    "data_for_output = []\n",
    "\n",
    "temp = []\n",
    "temp.append(\"\")\n",
    "\n",
    "for i in range(5):\n",
    "    temp.append(\"<em>topic %s</em>\" % (i))\n",
    "\n",
    "data_for_output.append(temp)    \n",
    "for i in range(len(data_from_dirichlet)):\n",
    "    temp = []\n",
    "    temp.append(\"<em>document %s</em>\" % (i))\n",
    "    for j in data_from_dirichlet[i]:\n",
    "        temp.append(j)\n",
    "    data_for_output.append(temp)\n",
    "\n",
    "display(HTML(\n",
    "   '<table><tr>{}</tr></table>'.format(\n",
    "       '</tr><tr>'.join(\n",
    "           '<td>{}</td>'.format('</td><td>'.join(str(_) for _ in row)) for row in data_for_output)\n",
    "       )\n",
    "))"
   ]
  },
  {
   "cell_type": "markdown",
   "id": "2fbe7fbd-7d41-4444-807d-620dae4c60f2",
   "metadata": {},
   "source": [
    "### alpha = 1"
   ]
  },
  {
   "cell_type": "code",
   "execution_count": 433,
   "id": "70c95cc5-8748-4b54-8d39-821e662249cf",
   "metadata": {},
   "outputs": [
    {
     "data": {
      "text/html": [
       "<script src='https://d3js.org/d3.v6.min.js'></script>"
      ],
      "text/plain": [
       "<IPython.core.display.HTML object>"
      ]
     },
     "metadata": {},
     "output_type": "display_data"
    },
    {
     "data": {
      "text/html": [
       "<script src='https://d3js.org/d3.v6.min.js'></script>"
      ],
      "text/plain": [
       "<IPython.core.display.HTML object>"
      ]
     },
     "metadata": {},
     "output_type": "display_data"
    },
    {
     "data": {
      "text/html": [
       "<script src='https://d3js.org/d3.v6.min.js'></script>"
      ],
      "text/plain": [
       "<IPython.core.display.HTML object>"
      ]
     },
     "metadata": {},
     "output_type": "display_data"
    },
    {
     "data": {
      "text/html": [
       "<script src='https://d3js.org/d3.v6.min.js'></script>"
      ],
      "text/plain": [
       "<IPython.core.display.HTML object>"
      ]
     },
     "metadata": {},
     "output_type": "display_data"
    },
    {
     "data": {
      "text/html": [
       "<script src='https://d3js.org/d3.v6.min.js'></script>"
      ],
      "text/plain": [
       "<IPython.core.display.HTML object>"
      ]
     },
     "metadata": {},
     "output_type": "display_data"
    },
    {
     "data": {
      "text/html": [
       "<script src='https://d3js.org/d3.v6.min.js'></script>"
      ],
      "text/plain": [
       "<IPython.core.display.HTML object>"
      ]
     },
     "metadata": {},
     "output_type": "display_data"
    },
    {
     "data": {
      "text/html": [
       "<script src='https://d3js.org/d3.v6.min.js'></script>"
      ],
      "text/plain": [
       "<IPython.core.display.HTML object>"
      ]
     },
     "metadata": {},
     "output_type": "display_data"
    },
    {
     "data": {
      "text/html": [
       "<script src='https://d3js.org/d3.v6.min.js'></script>"
      ],
      "text/plain": [
       "<IPython.core.display.HTML object>"
      ]
     },
     "metadata": {},
     "output_type": "display_data"
    },
    {
     "data": {
      "text/html": [
       "<table><tr><td></td><td><em>topic 0</em></td><td><em>topic 1</em></td><td><em>topic 2</em></td><td><em>topic 3</em></td><td><em>topic 4</em></td></tr><tr><td><em>document 0</em></td><td>0.4</td><td>0.2</td><td>0.1</td><td>0.1</td><td>0.2</td></tr><tr><td><em>document 1</em></td><td>0.2</td><td>0.7</td><td>0.0</td><td>0.0</td><td>0.0</td></tr><tr><td><em>document 2</em></td><td>0.1</td><td>0.3</td><td>0.3</td><td>0.1</td><td>0.2</td></tr><tr><td><em>document 3</em></td><td>0.3</td><td>0.2</td><td>0.1</td><td>0.2</td><td>0.2</td></tr><tr><td><em>document 4</em></td><td>0.0</td><td>0.1</td><td>0.8</td><td>0.0</td><td>0.1</td></tr></table>"
      ],
      "text/plain": [
       "<IPython.core.display.HTML object>"
      ]
     },
     "metadata": {},
     "output_type": "display_data"
    }
   ],
   "source": [
    "alpha = np.array([1, 1, 1, 1, 1])\n",
    "\n",
    "data_from_dirichlet = np.around(dirichlet.rvs(alpha, size=5), decimals=1).tolist()\n",
    "data_for_output = []\n",
    "\n",
    "temp = []\n",
    "temp.append(\"\")\n",
    "\n",
    "for i in range(5):\n",
    "    temp.append(\"<em>topic %s</em>\" % (i))\n",
    "\n",
    "data_for_output.append(temp)    \n",
    "for i in range(len(data_from_dirichlet)):\n",
    "    temp = []\n",
    "    temp.append(\"<em>document %s</em>\" % (i))\n",
    "    for j in data_from_dirichlet[i]:\n",
    "        temp.append(j)\n",
    "    data_for_output.append(temp)\n",
    "\n",
    "display(HTML(\n",
    "   '<table><tr>{}</tr></table>'.format(\n",
    "       '</tr><tr>'.join(\n",
    "           '<td>{}</td>'.format('</td><td>'.join(str(_) for _ in row)) for row in data_for_output)\n",
    "       )\n",
    "))\n"
   ]
  },
  {
   "cell_type": "markdown",
   "id": "5fc6c589-007c-4dc8-9d92-273481115601",
   "metadata": {},
   "source": [
    "### alpha = 10"
   ]
  },
  {
   "cell_type": "code",
   "execution_count": 435,
   "id": "a13d4256-d8fe-41ff-9c07-ef7b7c6ed07a",
   "metadata": {},
   "outputs": [
    {
     "data": {
      "text/html": [
       "<script src='https://d3js.org/d3.v6.min.js'></script>"
      ],
      "text/plain": [
       "<IPython.core.display.HTML object>"
      ]
     },
     "metadata": {},
     "output_type": "display_data"
    },
    {
     "data": {
      "text/html": [
       "<script src='https://d3js.org/d3.v6.min.js'></script>"
      ],
      "text/plain": [
       "<IPython.core.display.HTML object>"
      ]
     },
     "metadata": {},
     "output_type": "display_data"
    },
    {
     "data": {
      "text/html": [
       "<script src='https://d3js.org/d3.v6.min.js'></script>"
      ],
      "text/plain": [
       "<IPython.core.display.HTML object>"
      ]
     },
     "metadata": {},
     "output_type": "display_data"
    },
    {
     "data": {
      "text/html": [
       "<script src='https://d3js.org/d3.v6.min.js'></script>"
      ],
      "text/plain": [
       "<IPython.core.display.HTML object>"
      ]
     },
     "metadata": {},
     "output_type": "display_data"
    },
    {
     "data": {
      "text/html": [
       "<script src='https://d3js.org/d3.v6.min.js'></script>"
      ],
      "text/plain": [
       "<IPython.core.display.HTML object>"
      ]
     },
     "metadata": {},
     "output_type": "display_data"
    },
    {
     "data": {
      "text/html": [
       "<script src='https://d3js.org/d3.v6.min.js'></script>"
      ],
      "text/plain": [
       "<IPython.core.display.HTML object>"
      ]
     },
     "metadata": {},
     "output_type": "display_data"
    },
    {
     "data": {
      "text/html": [
       "<script src='https://d3js.org/d3.v6.min.js'></script>"
      ],
      "text/plain": [
       "<IPython.core.display.HTML object>"
      ]
     },
     "metadata": {},
     "output_type": "display_data"
    },
    {
     "data": {
      "text/html": [
       "<script src='https://d3js.org/d3.v6.min.js'></script>"
      ],
      "text/plain": [
       "<IPython.core.display.HTML object>"
      ]
     },
     "metadata": {},
     "output_type": "display_data"
    },
    {
     "data": {
      "text/html": [
       "<table><tr><td></td><td><em>topic 0</em></td><td><em>topic 1</em></td><td><em>topic 2</em></td><td><em>topic 3</em></td><td><em>topic 4</em></td></tr><tr><td><em>document 0</em></td><td>0.3</td><td>0.2</td><td>0.3</td><td>0.1</td><td>0.2</td></tr><tr><td><em>document 1</em></td><td>0.2</td><td>0.2</td><td>0.1</td><td>0.3</td><td>0.2</td></tr><tr><td><em>document 2</em></td><td>0.2</td><td>0.2</td><td>0.2</td><td>0.1</td><td>0.2</td></tr><tr><td><em>document 3</em></td><td>0.2</td><td>0.2</td><td>0.2</td><td>0.2</td><td>0.1</td></tr><tr><td><em>document 4</em></td><td>0.1</td><td>0.2</td><td>0.3</td><td>0.2</td><td>0.1</td></tr></table>"
      ],
      "text/plain": [
       "<IPython.core.display.HTML object>"
      ]
     },
     "metadata": {},
     "output_type": "display_data"
    }
   ],
   "source": [
    "alpha = np.array([10, 10, 10, 10, 10])\n",
    "\n",
    "data_from_dirichlet = np.around(dirichlet.rvs(alpha, size=5), decimals=1).tolist()\n",
    "data_for_output = []\n",
    "\n",
    "temp = []\n",
    "temp.append(\"\")\n",
    "\n",
    "for i in range(5):\n",
    "    temp.append(\"<em>topic %s</em>\" % (i))\n",
    "\n",
    "data_for_output.append(temp)    \n",
    "for i in range(len(data_from_dirichlet)):\n",
    "    temp = []\n",
    "    temp.append(\"<em>document %s</em>\" % (i))\n",
    "    for j in data_from_dirichlet[i]:\n",
    "        temp.append(j)\n",
    "    data_for_output.append(temp)\n",
    "\n",
    "display(HTML(\n",
    "   '<table><tr>{}</tr></table>'.format(\n",
    "       '</tr><tr>'.join(\n",
    "           '<td>{}</td>'.format('</td><td>'.join(str(_) for _ in row)) for row in data_for_output)\n",
    "       )\n",
    "))\n"
   ]
  },
  {
   "cell_type": "markdown",
   "id": "a925ea02-8f5a-4121-b2fe-3512535f0674",
   "metadata": {},
   "source": [
    "### alpha = 100"
   ]
  },
  {
   "cell_type": "code",
   "execution_count": 436,
   "id": "69a06ed2-d7e1-4e2b-a7e2-d40d502cf516",
   "metadata": {},
   "outputs": [
    {
     "data": {
      "text/html": [
       "<script src='https://d3js.org/d3.v6.min.js'></script>"
      ],
      "text/plain": [
       "<IPython.core.display.HTML object>"
      ]
     },
     "metadata": {},
     "output_type": "display_data"
    },
    {
     "data": {
      "text/html": [
       "<script src='https://d3js.org/d3.v6.min.js'></script>"
      ],
      "text/plain": [
       "<IPython.core.display.HTML object>"
      ]
     },
     "metadata": {},
     "output_type": "display_data"
    },
    {
     "data": {
      "text/html": [
       "<script src='https://d3js.org/d3.v6.min.js'></script>"
      ],
      "text/plain": [
       "<IPython.core.display.HTML object>"
      ]
     },
     "metadata": {},
     "output_type": "display_data"
    },
    {
     "data": {
      "text/html": [
       "<script src='https://d3js.org/d3.v6.min.js'></script>"
      ],
      "text/plain": [
       "<IPython.core.display.HTML object>"
      ]
     },
     "metadata": {},
     "output_type": "display_data"
    },
    {
     "data": {
      "text/html": [
       "<script src='https://d3js.org/d3.v6.min.js'></script>"
      ],
      "text/plain": [
       "<IPython.core.display.HTML object>"
      ]
     },
     "metadata": {},
     "output_type": "display_data"
    },
    {
     "data": {
      "text/html": [
       "<script src='https://d3js.org/d3.v6.min.js'></script>"
      ],
      "text/plain": [
       "<IPython.core.display.HTML object>"
      ]
     },
     "metadata": {},
     "output_type": "display_data"
    },
    {
     "data": {
      "text/html": [
       "<script src='https://d3js.org/d3.v6.min.js'></script>"
      ],
      "text/plain": [
       "<IPython.core.display.HTML object>"
      ]
     },
     "metadata": {},
     "output_type": "display_data"
    },
    {
     "data": {
      "text/html": [
       "<script src='https://d3js.org/d3.v6.min.js'></script>"
      ],
      "text/plain": [
       "<IPython.core.display.HTML object>"
      ]
     },
     "metadata": {},
     "output_type": "display_data"
    },
    {
     "data": {
      "text/html": [
       "<table><tr><td></td><td><em>topic 0</em></td><td><em>topic 1</em></td><td><em>topic 2</em></td><td><em>topic 3</em></td><td><em>topic 4</em></td></tr><tr><td><em>document 0</em></td><td>0.2</td><td>0.2</td><td>0.2</td><td>0.2</td><td>0.2</td></tr><tr><td><em>document 1</em></td><td>0.2</td><td>0.2</td><td>0.2</td><td>0.2</td><td>0.2</td></tr><tr><td><em>document 2</em></td><td>0.2</td><td>0.2</td><td>0.2</td><td>0.2</td><td>0.2</td></tr><tr><td><em>document 3</em></td><td>0.2</td><td>0.2</td><td>0.2</td><td>0.2</td><td>0.2</td></tr><tr><td><em>document 4</em></td><td>0.2</td><td>0.2</td><td>0.2</td><td>0.2</td><td>0.2</td></tr></table>"
      ],
      "text/plain": [
       "<IPython.core.display.HTML object>"
      ]
     },
     "metadata": {},
     "output_type": "display_data"
    }
   ],
   "source": [
    "alpha = np.array([100, 100, 100, 100, 100])\n",
    "\n",
    "data_from_dirichlet = np.around(dirichlet.rvs(alpha, size=5), decimals=1).tolist()\n",
    "data_for_output = []\n",
    "\n",
    "temp = []\n",
    "temp.append(\"\")\n",
    "\n",
    "for i in range(5):\n",
    "    temp.append(\"<em>topic %s</em>\" % (i))\n",
    "\n",
    "data_for_output.append(temp)    \n",
    "for i in range(len(data_from_dirichlet)):\n",
    "    temp = []\n",
    "    temp.append(\"<em>document %s</em>\" % (i))\n",
    "    for j in data_from_dirichlet[i]:\n",
    "        temp.append(j)\n",
    "    data_for_output.append(temp)\n",
    "\n",
    "display(HTML(\n",
    "   '<table><tr>{}</tr></table>'.format(\n",
    "       '</tr><tr>'.join(\n",
    "           '<td>{}</td>'.format('</td><td>'.join(str(_) for _ in row)) for row in data_for_output)\n",
    "       )\n",
    "))\n"
   ]
  },
  {
   "cell_type": "code",
   "execution_count": 440,
   "id": "e4b382cf-6a53-4d8d-acdf-0830cc2879c2",
   "metadata": {},
   "outputs": [
    {
     "data": {
      "text/html": [
       "<script src='https://d3js.org/d3.v6.min.js'></script>"
      ],
      "text/plain": [
       "<IPython.core.display.HTML object>"
      ]
     },
     "metadata": {},
     "output_type": "display_data"
    },
    {
     "data": {
      "text/html": [
       "<script src='https://d3js.org/d3.v6.min.js'></script>"
      ],
      "text/plain": [
       "<IPython.core.display.HTML object>"
      ]
     },
     "metadata": {},
     "output_type": "display_data"
    },
    {
     "data": {
      "text/html": [
       "<script src='https://d3js.org/d3.v6.min.js'></script>"
      ],
      "text/plain": [
       "<IPython.core.display.HTML object>"
      ]
     },
     "metadata": {},
     "output_type": "display_data"
    },
    {
     "data": {
      "text/html": [
       "<script src='https://d3js.org/d3.v6.min.js'></script>"
      ],
      "text/plain": [
       "<IPython.core.display.HTML object>"
      ]
     },
     "metadata": {},
     "output_type": "display_data"
    },
    {
     "data": {
      "text/html": [
       "<script src='https://d3js.org/d3.v6.min.js'></script>"
      ],
      "text/plain": [
       "<IPython.core.display.HTML object>"
      ]
     },
     "metadata": {},
     "output_type": "display_data"
    },
    {
     "data": {
      "text/html": [
       "<script src='https://d3js.org/d3.v6.min.js'></script>"
      ],
      "text/plain": [
       "<IPython.core.display.HTML object>"
      ]
     },
     "metadata": {},
     "output_type": "display_data"
    },
    {
     "data": {
      "text/html": [
       "<script src='https://d3js.org/d3.v6.min.js'></script>"
      ],
      "text/plain": [
       "<IPython.core.display.HTML object>"
      ]
     },
     "metadata": {},
     "output_type": "display_data"
    },
    {
     "data": {
      "text/html": [
       "<script src='https://d3js.org/d3.v6.min.js'></script>"
      ],
      "text/plain": [
       "<IPython.core.display.HTML object>"
      ]
     },
     "metadata": {},
     "output_type": "display_data"
    }
   ],
   "source": [
    "import json\n",
    "\n",
    "alphas = [.001,.005,.01,.05,.1,.5,1,1.5,5,10,100]\n",
    "\n",
    "output = {}\n",
    "\n",
    "for a in alphas:\n",
    "    b = [a] * 10\n",
    "    alpha = np.array(b)\n",
    "    data_from_dirichlet = dirichlet.rvs(alpha, size=10, random_state=53155618)\n",
    "    data_from_dirichlet = np.around(data_from_dirichlet, decimals=3).tolist()\n",
    "    output[a] = data_from_dirichlet\n",
    "    \n",
    "    \n",
    "with open('dirichlet.json', 'w') as outfile:\n",
    "    json.dump(output, outfile)\n",
    "    "
   ]
  },
  {
   "cell_type": "code",
   "execution_count": null,
   "id": "7d771505-9ded-4951-b77c-40b6abb5d6b5",
   "metadata": {},
   "outputs": [],
   "source": []
  }
 ],
 "metadata": {
  "kernelspec": {
   "display_name": "Python 3",
   "language": "python",
   "name": "python3"
  },
  "language_info": {
   "codemirror_mode": {
    "name": "ipython",
    "version": 3
   },
   "file_extension": ".py",
   "mimetype": "text/x-python",
   "name": "python",
   "nbconvert_exporter": "python",
   "pygments_lexer": "ipython3",
   "version": "3.8.5"
  }
 },
 "nbformat": 4,
 "nbformat_minor": 5
}
