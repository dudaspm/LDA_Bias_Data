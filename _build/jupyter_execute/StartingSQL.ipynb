{
 "cells": [
  {
   "cell_type": "markdown",
   "metadata": {
    "colab_type": "text",
    "id": "view-in-github"
   },
   "source": [
    "<a href=\"https://colab.research.google.com/github/dudaspm/Fall2020/blob/master/Org%20Data/SQL/StartingSQL.ipynb\" target=\"_parent\"><img src=\"https://colab.research.google.com/assets/colab-badge.svg\" alt=\"Open In Colab\"/></a>"
   ]
  },
  {
   "cell_type": "markdown",
   "metadata": {
    "id": "jniTtbYfSIC4"
   },
   "source": [
    "# Start learning SQL in Google Colab"
   ]
  },
  {
   "cell_type": "markdown",
   "metadata": {
    "id": "-POd2XTsSNQw"
   },
   "source": [
    "## Introduction"
   ]
  },
  {
   "cell_type": "markdown",
   "metadata": {
    "id": "LLs_Ln_iR69Q"
   },
   "source": [
    "In this example, we will start using SQL in Google Colab Notebook.\n",
    "\n",
    "But first, let's just remind ourselves some of the basics of Google Colab."
   ]
  },
  {
   "cell_type": "markdown",
   "metadata": {
    "id": "F-AlbjFISdNv"
   },
   "source": [
    "Let's start with just running a bit of \"code.\" The cell I am currently is a \"Text\" cell (using +Text). For code, we want to use a \"code\" cell (+Code). The below statement will just add two numbers together, nothing too fancy. "
   ]
  },
  {
   "cell_type": "code",
   "execution_count": 1,
   "metadata": {
    "colab": {
     "base_uri": "https://localhost:8080/",
     "height": 35
    },
    "id": "uASJ6rvGS4yz",
    "outputId": "48817f38-3fdb-41b0-8ee9-9dace13819ce"
   },
   "outputs": [
    {
     "data": {
      "text/plain": [
       "4"
      ]
     },
     "execution_count": 1,
     "metadata": {},
     "output_type": "execute_result"
    }
   ],
   "source": [
    "2 + 2"
   ]
  },
  {
   "cell_type": "markdown",
   "metadata": {
    "id": "Y_CoWXoMS6WU"
   },
   "source": [
    "Your turn! \n",
    "\n",
    "\n",
    "1.   Click on the \"+Code\" button in the top-left corner. \n",
    "2.   Figure out the answer for the following math problem.\n",
    "\\begin{equation*}\n",
    "(102939129381 / 231)  + 12300\n",
    "\\end{equation*}\n"
   ]
  },
  {
   "cell_type": "markdown",
   "metadata": {
    "id": "FmcwLjgLUEs3"
   },
   "source": [
    "Pretty easy so far, huh?\n",
    "\n",
    "OK, next to the SQL. "
   ]
  },
  {
   "cell_type": "markdown",
   "metadata": {
    "id": "FFWLk3T4XZL_"
   },
   "source": [
    "## SQL Start"
   ]
  },
  {
   "cell_type": "markdown",
   "metadata": {
    "id": "mcgfwx_zSQtf"
   },
   "source": [
    "One of the cool tricks you can do in Jupyter Notebooks is something so amazing, you might even think its magic! Well, it technically is. \n",
    "\n",
    "Jupyter has a number of built in utilities, which they call [magic](https://ipython.readthedocs.io/en/stable/interactive/magics.html). Don't worry about trying to learn them all, and we only need one specific type of magic. SQL magic. Actually, we technically need %load_ext magic, but this will load SQL for us."
   ]
  },
  {
   "cell_type": "code",
   "execution_count": 2,
   "metadata": {
    "id": "UW-e9DxJQyFM"
   },
   "outputs": [
    {
     "ename": "ModuleNotFoundError",
     "evalue": "No module named 'sql'",
     "output_type": "error",
     "traceback": [
      "\u001b[1;31m---------------------------------------------------------------------------\u001b[0m",
      "\u001b[1;31mModuleNotFoundError\u001b[0m                       Traceback (most recent call last)",
      "\u001b[1;32m<ipython-input-2-7600c8b786e3>\u001b[0m in \u001b[0;36m<module>\u001b[1;34m\u001b[0m\n\u001b[1;32m----> 1\u001b[1;33m \u001b[0mget_ipython\u001b[0m\u001b[1;33m(\u001b[0m\u001b[1;33m)\u001b[0m\u001b[1;33m.\u001b[0m\u001b[0mrun_line_magic\u001b[0m\u001b[1;33m(\u001b[0m\u001b[1;34m'load_ext'\u001b[0m\u001b[1;33m,\u001b[0m \u001b[1;34m'sql'\u001b[0m\u001b[1;33m)\u001b[0m\u001b[1;33m\u001b[0m\u001b[1;33m\u001b[0m\u001b[0m\n\u001b[0m",
      "\u001b[1;32mc:\\users\\dudas\\anaconda3\\envs\\wintest\\lib\\site-packages\\IPython\\core\\interactiveshell.py\u001b[0m in \u001b[0;36mrun_line_magic\u001b[1;34m(self, magic_name, line, _stack_depth)\u001b[0m\n\u001b[0;32m   2346\u001b[0m                 \u001b[0mkwargs\u001b[0m\u001b[1;33m[\u001b[0m\u001b[1;34m'local_ns'\u001b[0m\u001b[1;33m]\u001b[0m \u001b[1;33m=\u001b[0m \u001b[0mself\u001b[0m\u001b[1;33m.\u001b[0m\u001b[0mget_local_scope\u001b[0m\u001b[1;33m(\u001b[0m\u001b[0mstack_depth\u001b[0m\u001b[1;33m)\u001b[0m\u001b[1;33m\u001b[0m\u001b[1;33m\u001b[0m\u001b[0m\n\u001b[0;32m   2347\u001b[0m             \u001b[1;32mwith\u001b[0m \u001b[0mself\u001b[0m\u001b[1;33m.\u001b[0m\u001b[0mbuiltin_trap\u001b[0m\u001b[1;33m:\u001b[0m\u001b[1;33m\u001b[0m\u001b[1;33m\u001b[0m\u001b[0m\n\u001b[1;32m-> 2348\u001b[1;33m                 \u001b[0mresult\u001b[0m \u001b[1;33m=\u001b[0m \u001b[0mfn\u001b[0m\u001b[1;33m(\u001b[0m\u001b[1;33m*\u001b[0m\u001b[0margs\u001b[0m\u001b[1;33m,\u001b[0m \u001b[1;33m**\u001b[0m\u001b[0mkwargs\u001b[0m\u001b[1;33m)\u001b[0m\u001b[1;33m\u001b[0m\u001b[1;33m\u001b[0m\u001b[0m\n\u001b[0m\u001b[0;32m   2349\u001b[0m             \u001b[1;32mreturn\u001b[0m \u001b[0mresult\u001b[0m\u001b[1;33m\u001b[0m\u001b[1;33m\u001b[0m\u001b[0m\n\u001b[0;32m   2350\u001b[0m \u001b[1;33m\u001b[0m\u001b[0m\n",
      "\u001b[1;32m<decorator-gen-58>\u001b[0m in \u001b[0;36mload_ext\u001b[1;34m(self, module_str)\u001b[0m\n",
      "\u001b[1;32mc:\\users\\dudas\\anaconda3\\envs\\wintest\\lib\\site-packages\\IPython\\core\\magic.py\u001b[0m in \u001b[0;36m<lambda>\u001b[1;34m(f, *a, **k)\u001b[0m\n\u001b[0;32m    185\u001b[0m     \u001b[1;31m# but it's overkill for just that one bit of state.\u001b[0m\u001b[1;33m\u001b[0m\u001b[1;33m\u001b[0m\u001b[1;33m\u001b[0m\u001b[0m\n\u001b[0;32m    186\u001b[0m     \u001b[1;32mdef\u001b[0m \u001b[0mmagic_deco\u001b[0m\u001b[1;33m(\u001b[0m\u001b[0marg\u001b[0m\u001b[1;33m)\u001b[0m\u001b[1;33m:\u001b[0m\u001b[1;33m\u001b[0m\u001b[1;33m\u001b[0m\u001b[0m\n\u001b[1;32m--> 187\u001b[1;33m         \u001b[0mcall\u001b[0m \u001b[1;33m=\u001b[0m \u001b[1;32mlambda\u001b[0m \u001b[0mf\u001b[0m\u001b[1;33m,\u001b[0m \u001b[1;33m*\u001b[0m\u001b[0ma\u001b[0m\u001b[1;33m,\u001b[0m \u001b[1;33m**\u001b[0m\u001b[0mk\u001b[0m\u001b[1;33m:\u001b[0m \u001b[0mf\u001b[0m\u001b[1;33m(\u001b[0m\u001b[1;33m*\u001b[0m\u001b[0ma\u001b[0m\u001b[1;33m,\u001b[0m \u001b[1;33m**\u001b[0m\u001b[0mk\u001b[0m\u001b[1;33m)\u001b[0m\u001b[1;33m\u001b[0m\u001b[1;33m\u001b[0m\u001b[0m\n\u001b[0m\u001b[0;32m    188\u001b[0m \u001b[1;33m\u001b[0m\u001b[0m\n\u001b[0;32m    189\u001b[0m         \u001b[1;32mif\u001b[0m \u001b[0mcallable\u001b[0m\u001b[1;33m(\u001b[0m\u001b[0marg\u001b[0m\u001b[1;33m)\u001b[0m\u001b[1;33m:\u001b[0m\u001b[1;33m\u001b[0m\u001b[1;33m\u001b[0m\u001b[0m\n",
      "\u001b[1;32mc:\\users\\dudas\\anaconda3\\envs\\wintest\\lib\\site-packages\\IPython\\core\\magics\\extension.py\u001b[0m in \u001b[0;36mload_ext\u001b[1;34m(self, module_str)\u001b[0m\n\u001b[0;32m     31\u001b[0m         \u001b[1;32mif\u001b[0m \u001b[1;32mnot\u001b[0m \u001b[0mmodule_str\u001b[0m\u001b[1;33m:\u001b[0m\u001b[1;33m\u001b[0m\u001b[1;33m\u001b[0m\u001b[0m\n\u001b[0;32m     32\u001b[0m             \u001b[1;32mraise\u001b[0m \u001b[0mUsageError\u001b[0m\u001b[1;33m(\u001b[0m\u001b[1;34m'Missing module name.'\u001b[0m\u001b[1;33m)\u001b[0m\u001b[1;33m\u001b[0m\u001b[1;33m\u001b[0m\u001b[0m\n\u001b[1;32m---> 33\u001b[1;33m         \u001b[0mres\u001b[0m \u001b[1;33m=\u001b[0m \u001b[0mself\u001b[0m\u001b[1;33m.\u001b[0m\u001b[0mshell\u001b[0m\u001b[1;33m.\u001b[0m\u001b[0mextension_manager\u001b[0m\u001b[1;33m.\u001b[0m\u001b[0mload_extension\u001b[0m\u001b[1;33m(\u001b[0m\u001b[0mmodule_str\u001b[0m\u001b[1;33m)\u001b[0m\u001b[1;33m\u001b[0m\u001b[1;33m\u001b[0m\u001b[0m\n\u001b[0m\u001b[0;32m     34\u001b[0m \u001b[1;33m\u001b[0m\u001b[0m\n\u001b[0;32m     35\u001b[0m         \u001b[1;32mif\u001b[0m \u001b[0mres\u001b[0m \u001b[1;33m==\u001b[0m \u001b[1;34m'already loaded'\u001b[0m\u001b[1;33m:\u001b[0m\u001b[1;33m\u001b[0m\u001b[1;33m\u001b[0m\u001b[0m\n",
      "\u001b[1;32mc:\\users\\dudas\\anaconda3\\envs\\wintest\\lib\\site-packages\\IPython\\core\\extensions.py\u001b[0m in \u001b[0;36mload_extension\u001b[1;34m(self, module_str)\u001b[0m\n\u001b[0;32m     78\u001b[0m             \u001b[1;32mif\u001b[0m \u001b[0mmodule_str\u001b[0m \u001b[1;32mnot\u001b[0m \u001b[1;32min\u001b[0m \u001b[0msys\u001b[0m\u001b[1;33m.\u001b[0m\u001b[0mmodules\u001b[0m\u001b[1;33m:\u001b[0m\u001b[1;33m\u001b[0m\u001b[1;33m\u001b[0m\u001b[0m\n\u001b[0;32m     79\u001b[0m                 \u001b[1;32mwith\u001b[0m \u001b[0mprepended_to_syspath\u001b[0m\u001b[1;33m(\u001b[0m\u001b[0mself\u001b[0m\u001b[1;33m.\u001b[0m\u001b[0mipython_extension_dir\u001b[0m\u001b[1;33m)\u001b[0m\u001b[1;33m:\u001b[0m\u001b[1;33m\u001b[0m\u001b[1;33m\u001b[0m\u001b[0m\n\u001b[1;32m---> 80\u001b[1;33m                     \u001b[0mmod\u001b[0m \u001b[1;33m=\u001b[0m \u001b[0mimport_module\u001b[0m\u001b[1;33m(\u001b[0m\u001b[0mmodule_str\u001b[0m\u001b[1;33m)\u001b[0m\u001b[1;33m\u001b[0m\u001b[1;33m\u001b[0m\u001b[0m\n\u001b[0m\u001b[0;32m     81\u001b[0m                     \u001b[1;32mif\u001b[0m \u001b[0mmod\u001b[0m\u001b[1;33m.\u001b[0m\u001b[0m__file__\u001b[0m\u001b[1;33m.\u001b[0m\u001b[0mstartswith\u001b[0m\u001b[1;33m(\u001b[0m\u001b[0mself\u001b[0m\u001b[1;33m.\u001b[0m\u001b[0mipython_extension_dir\u001b[0m\u001b[1;33m)\u001b[0m\u001b[1;33m:\u001b[0m\u001b[1;33m\u001b[0m\u001b[1;33m\u001b[0m\u001b[0m\n\u001b[0;32m     82\u001b[0m                         print((\"Loading extensions from {dir} is deprecated. \"\n",
      "\u001b[1;32mc:\\users\\dudas\\anaconda3\\envs\\wintest\\lib\\importlib\\__init__.py\u001b[0m in \u001b[0;36mimport_module\u001b[1;34m(name, package)\u001b[0m\n\u001b[0;32m    125\u001b[0m                 \u001b[1;32mbreak\u001b[0m\u001b[1;33m\u001b[0m\u001b[1;33m\u001b[0m\u001b[0m\n\u001b[0;32m    126\u001b[0m             \u001b[0mlevel\u001b[0m \u001b[1;33m+=\u001b[0m \u001b[1;36m1\u001b[0m\u001b[1;33m\u001b[0m\u001b[1;33m\u001b[0m\u001b[0m\n\u001b[1;32m--> 127\u001b[1;33m     \u001b[1;32mreturn\u001b[0m \u001b[0m_bootstrap\u001b[0m\u001b[1;33m.\u001b[0m\u001b[0m_gcd_import\u001b[0m\u001b[1;33m(\u001b[0m\u001b[0mname\u001b[0m\u001b[1;33m[\u001b[0m\u001b[0mlevel\u001b[0m\u001b[1;33m:\u001b[0m\u001b[1;33m]\u001b[0m\u001b[1;33m,\u001b[0m \u001b[0mpackage\u001b[0m\u001b[1;33m,\u001b[0m \u001b[0mlevel\u001b[0m\u001b[1;33m)\u001b[0m\u001b[1;33m\u001b[0m\u001b[1;33m\u001b[0m\u001b[0m\n\u001b[0m\u001b[0;32m    128\u001b[0m \u001b[1;33m\u001b[0m\u001b[0m\n\u001b[0;32m    129\u001b[0m \u001b[1;33m\u001b[0m\u001b[0m\n",
      "\u001b[1;32mc:\\users\\dudas\\anaconda3\\envs\\wintest\\lib\\importlib\\_bootstrap.py\u001b[0m in \u001b[0;36m_gcd_import\u001b[1;34m(name, package, level)\u001b[0m\n",
      "\u001b[1;32mc:\\users\\dudas\\anaconda3\\envs\\wintest\\lib\\importlib\\_bootstrap.py\u001b[0m in \u001b[0;36m_find_and_load\u001b[1;34m(name, import_)\u001b[0m\n",
      "\u001b[1;32mc:\\users\\dudas\\anaconda3\\envs\\wintest\\lib\\importlib\\_bootstrap.py\u001b[0m in \u001b[0;36m_find_and_load_unlocked\u001b[1;34m(name, import_)\u001b[0m\n",
      "\u001b[1;31mModuleNotFoundError\u001b[0m: No module named 'sql'"
     ]
    }
   ],
   "source": [
    "%load_ext sql"
   ]
  },
  {
   "cell_type": "markdown",
   "metadata": {
    "id": "K6u7tiThWuWl"
   },
   "source": [
    "This is a built-in Python SQL toolkit provide by (another magic reference) [SQL Alchemy](https://www.sqlalchemy.org/). Again, you don't need to worry too much about SQL Alchemy, only that we can now use SQL code in our notebook."
   ]
  },
  {
   "cell_type": "markdown",
   "metadata": {
    "id": "GYbInwgGZR2y"
   },
   "source": [
    "The next step is to create a database, so in this case we use the following command. Note: we will be expanding on this through-out the semester, but for now... it creates a single, SQLite database for this notebook. Also, if the command runs *successfully*, you should see \" 'Connected: @studentDatabase.db' \""
   ]
  },
  {
   "cell_type": "code",
   "execution_count": 6,
   "metadata": {
    "colab": {
     "base_uri": "https://localhost:8080/",
     "height": 35
    },
    "id": "g7deuOfwQ0-K",
    "outputId": "91ce629c-74d9-4af4-da3d-1279fa8a1558"
   },
   "outputs": [
    {
     "data": {
      "application/vnd.google.colaboratory.intrinsic+json": {
       "type": "string"
      },
      "text/plain": [
       "'Connected: @studentDatabase.db'"
      ]
     },
     "execution_count": 6,
     "metadata": {
      "tags": []
     },
     "output_type": "execute_result"
    }
   ],
   "source": [
    "%sql sqlite:///studentDatabase.db"
   ]
  },
  {
   "cell_type": "markdown",
   "metadata": {
    "id": "IwXSho6d4_Io"
   },
   "source": [
    "this is your database to add tables and insert data, BUT this is temporary. So, do not assume that this will save between sessions. If you want to save this database for later, go to left (where the folder is), select the folder, and then download the database (right click on the database). "
   ]
  },
  {
   "cell_type": "markdown",
   "metadata": {
    "id": "mZovxWDS5gW1"
   },
   "source": [
    "###Types of SQL Interactions"
   ]
  },
  {
   "cell_type": "markdown",
   "metadata": {
    "id": "IRVAYqhV5tFM"
   },
   "source": [
    "Here is a list of common interactions with database.\n",
    "\n",
    "![SQL Command Types](https://raw.githubusercontent.com/dudaspm/IST210-Spring2020/master/SQL/images/SQLCommandTypes.png)"
   ]
  },
  {
   "cell_type": "markdown",
   "metadata": {
    "id": "zkZE0zVOZlNA"
   },
   "source": [
    "Now it is time to create our first table. This is where the SQL commands become available to us. The first command is..."
   ]
  },
  {
   "cell_type": "markdown",
   "metadata": {
    "id": "iyBW0AaaaE7Z"
   },
   "source": [
    "### CREATE (DDL - Data Definition Language)"
   ]
  },
  {
   "cell_type": "markdown",
   "metadata": {
    "id": "P_s1tHNeaJvH"
   },
   "source": [
    "Create will create a table. In this case, we will call the table *Student* and we will need to tell the table the names of the attributes and what *type* of attribute they are as well. For now, we will be using only using 3 types:\n",
    "\n",
    "\n",
    "*   INTEGER - whole numbers (example: 3)\n",
    "*   REAL - floats or real numbers (example: 3.14) \n",
    "*   TEXT - text information (example: \"hello world!\")\n",
    "\n",
    "For us, we need 6 attributes and all 6 will be text. \n",
    "\n"
   ]
  },
  {
   "cell_type": "markdown",
   "metadata": {
    "id": "TSWe0Xb6rSxa"
   },
   "source": [
    "Let's create 1 table for student information. \n",
    "\n",
    "![student table](https://raw.githubusercontent.com/dudaspm/Fall2020/master/Org%20Data/Images/studentER.png)\n",
    "\n"
   ]
  },
  {
   "cell_type": "code",
   "execution_count": 7,
   "metadata": {
    "colab": {
     "base_uri": "https://localhost:8080/",
     "height": 68
    },
    "id": "HOHGtO1WRvyI",
    "outputId": "80dcd424-f8c7-464c-8817-499da95edb54"
   },
   "outputs": [
    {
     "name": "stdout",
     "output_type": "stream",
     "text": [
      " * sqlite:///studentDatabase.db\n",
      "Done.\n"
     ]
    },
    {
     "data": {
      "text/plain": [
       "[]"
      ]
     },
     "execution_count": 7,
     "metadata": {
      "tags": []
     },
     "output_type": "execute_result"
    }
   ],
   "source": [
    "%%sql   \n",
    "CREATE TABLE Student(PSUID text primary key, firstName text, lastName text, streetAddress text, city text, state text, gpa real);"
   ]
  },
  {
   "cell_type": "markdown",
   "metadata": {
    "id": "zx0bPbo_gjcf"
   },
   "source": [
    "Now let's add some data to this table. In this case we use... "
   ]
  },
  {
   "cell_type": "markdown",
   "metadata": {
    "id": "DPOdrizjgqbu"
   },
   "source": [
    "### INSERT (DML - Data Manipulation Language)"
   ]
  },
  {
   "cell_type": "markdown",
   "metadata": {
    "id": "tIsadPjqgtBH"
   },
   "source": [
    "Insert does as it sounds. Insert data into the database. \n",
    "The syntax for this is:\n",
    "\n",
    "INSERT INTO *name of the table* VALUES (*data for PSUID*,*lastname*, *firstname*) \n",
    "\n",
    "For now, I will just make up a few tuples. \n",
    "\n",
    "Also, let's note something. When to use:\n",
    "\n",
    "\n",
    "*   %SQL\n",
    "*   %%SQL\n",
    "\n"
   ]
  },
  {
   "cell_type": "code",
   "execution_count": 8,
   "metadata": {
    "colab": {
     "base_uri": "https://localhost:8080/",
     "height": 102
    },
    "id": "O4KycpGPaT7v",
    "outputId": "99b5c10a-be26-4f3e-ae68-a0810bb9d471"
   },
   "outputs": [
    {
     "name": "stdout",
     "output_type": "stream",
     "text": [
      " * sqlite:///studentDatabase.db\n",
      "1 rows affected.\n",
      "1 rows affected.\n",
      "1 rows affected.\n"
     ]
    },
    {
     "data": {
      "text/plain": [
       "[]"
      ]
     },
     "execution_count": 8,
     "metadata": {
      "tags": []
     },
     "output_type": "execute_result"
    }
   ],
   "source": [
    "%%sql \n",
    "INSERT INTO Student VALUES('9139128181','David','Practice','123 Apple Street','State College','PA',3.78);\n",
    "INSERT INTO Student VALUES('9771271281','Susan','Practice','452 Banana Avenue','State College','PA',3.12);\n",
    "INSERT INTO Student VALUES('9383818823','Lee','Example','836 Carrot Circle','Cleveland','OH',2.68);"
   ]
  },
  {
   "cell_type": "markdown",
   "metadata": {
    "id": "V1IS8Q5khum8"
   },
   "source": [
    "OK, we have a Database. A table in this database. 3 tuples in our table. The last thing we need is a way to access this data, view the data, and do something with the data. That's where we use..."
   ]
  },
  {
   "cell_type": "markdown",
   "metadata": {
    "id": "v8rJE9NSh9kd"
   },
   "source": [
    "### SELECT (DQL - Data Query Language)"
   ]
  },
  {
   "cell_type": "markdown",
   "metadata": {
    "id": "OTwu3bakh_iJ"
   },
   "source": [
    "SELECT allows us to select all or part of the data. For now, all we want to do is get back from the table all the data in the table. For this we will use:\n",
    "\n",
    "SELECT  *(wildcard!)* FROM *table name*\n",
    "\n",
    "The wildcard basically means *All the Attributes* in the table"
   ]
  },
  {
   "cell_type": "markdown",
   "metadata": {
    "id": "mblYyuFXPBkS"
   },
   "source": [
    "We can also **limit** the number of tuples returned. "
   ]
  },
  {
   "cell_type": "code",
   "execution_count": null,
   "metadata": {
    "colab": {
     "base_uri": "https://localhost:8080/",
     "height": 116
    },
    "id": "kHgnlvL-PGSw",
    "outputId": "6201c8c7-5592-4c8d-e785-0a3ba2019fca"
   },
   "outputs": [
    {
     "name": "stdout",
     "output_type": "stream",
     "text": [
      " * sqlite:///studentDatabase.db\n",
      "Done.\n"
     ]
    },
    {
     "data": {
      "text/html": [
       "<table>\n",
       "    <tr>\n",
       "        <th>PSUID</th>\n",
       "        <th>firstName</th>\n",
       "        <th>lastName</th>\n",
       "        <th>streetAddress</th>\n",
       "        <th>city</th>\n",
       "        <th>state</th>\n",
       "        <th>gpa</th>\n",
       "    </tr>\n",
       "    <tr>\n",
       "        <td>9139128181</td>\n",
       "        <td>David</td>\n",
       "        <td>Practice</td>\n",
       "        <td>123 Apple Street</td>\n",
       "        <td>State College</td>\n",
       "        <td>PA</td>\n",
       "        <td>3.78</td>\n",
       "    </tr>\n",
       "    <tr>\n",
       "        <td>9771271281</td>\n",
       "        <td>Susan</td>\n",
       "        <td>Practice</td>\n",
       "        <td>452 Banana Avenue</td>\n",
       "        <td>State College</td>\n",
       "        <td>PA</td>\n",
       "        <td>3.12</td>\n",
       "    </tr>\n",
       "</table>"
      ],
      "text/plain": [
       "[('9139128181', 'David', 'Practice', '123 Apple Street', 'State College', 'PA', 3.78),\n",
       " ('9771271281', 'Susan', 'Practice', '452 Banana Avenue', 'State College', 'PA', 3.12)]"
      ]
     },
     "execution_count": 5,
     "metadata": {
      "tags": []
     },
     "output_type": "execute_result"
    }
   ],
   "source": [
    "%%sql \n",
    "SELECT * FROM Student limit 2;"
   ]
  },
  {
   "cell_type": "code",
   "execution_count": null,
   "metadata": {
    "colab": {
     "base_uri": "https://localhost:8080/",
     "height": 134
    },
    "id": "QtLFiEzThSdi",
    "outputId": "2803c1d0-704e-468c-af88-e38c3138a2d3"
   },
   "outputs": [
    {
     "name": "stdout",
     "output_type": "stream",
     "text": [
      " * sqlite:///studentDatabase.db\n",
      "Done.\n"
     ]
    },
    {
     "data": {
      "text/html": [
       "<table>\n",
       "    <tr>\n",
       "        <th>PSUID</th>\n",
       "        <th>firstName</th>\n",
       "        <th>lastName</th>\n",
       "        <th>streetAddress</th>\n",
       "        <th>city</th>\n",
       "        <th>state</th>\n",
       "    </tr>\n",
       "    <tr>\n",
       "        <td>9139128181</td>\n",
       "        <td>David</td>\n",
       "        <td>Practice</td>\n",
       "        <td>123 Apple Street</td>\n",
       "        <td>State College</td>\n",
       "        <td>PA</td>\n",
       "    </tr>\n",
       "    <tr>\n",
       "        <td>9771271281</td>\n",
       "        <td>Susan</td>\n",
       "        <td>Practice</td>\n",
       "        <td>452 Banana Avenue</td>\n",
       "        <td>State College</td>\n",
       "        <td>PA</td>\n",
       "    </tr>\n",
       "    <tr>\n",
       "        <td>9383818823</td>\n",
       "        <td>Lee</td>\n",
       "        <td>Example</td>\n",
       "        <td>836 Carrot Circle</td>\n",
       "        <td>Cleveland</td>\n",
       "        <td>OH</td>\n",
       "    </tr>\n",
       "</table>"
      ],
      "text/plain": [
       "[('9139128181', 'David', 'Practice', '123 Apple Street', 'State College', 'PA'),\n",
       " ('9771271281', 'Susan', 'Practice', '452 Banana Avenue', 'State College', 'PA'),\n",
       " ('9383818823', 'Lee', 'Example', '836 Carrot Circle', 'Cleveland', 'OH')]"
      ]
     },
     "execution_count": 7,
     "metadata": {
      "tags": []
     },
     "output_type": "execute_result"
    }
   ],
   "source": [
    "%%sql \n",
    "SELECT * FROM Student;"
   ]
  },
  {
   "cell_type": "markdown",
   "metadata": {
    "id": "YpTIlMQTjAdu"
   },
   "source": [
    "Other things we can do with SELECT.\n",
    "\n",
    "Let's say we want to know which database we are connected to and what tables we have created. We would use the following SQL."
   ]
  },
  {
   "cell_type": "code",
   "execution_count": null,
   "metadata": {
    "colab": {
     "base_uri": "https://localhost:8080/",
     "height": 114
    },
    "id": "lvY5xK518Ru4",
    "outputId": "a19aaf88-2d4d-4b5b-fa0a-46864ba90c2c"
   },
   "outputs": [
    {
     "name": "stdout",
     "output_type": "stream",
     "text": [
      " * sqlite:///studentDatabase.db\n",
      "Done.\n"
     ]
    },
    {
     "data": {
      "text/html": [
       "<table>\n",
       "    <tr>\n",
       "        <th>name</th>\n",
       "    </tr>\n",
       "    <tr>\n",
       "        <td>Student</td>\n",
       "    </tr>\n",
       "    <tr>\n",
       "        <td>sqlite_autoindex_Student_1</td>\n",
       "    </tr>\n",
       "</table>"
      ],
      "text/plain": [
       "[('Student',), ('sqlite_autoindex_Student_1',)]"
      ]
     },
     "execution_count": 8,
     "metadata": {
      "tags": []
     },
     "output_type": "execute_result"
    }
   ],
   "source": [
    "%sql SELECT name FROM sqlite_master;"
   ]
  },
  {
   "cell_type": "markdown",
   "metadata": {
    "id": "iJW3z13Z-ZZP"
   },
   "source": [
    "### DROP (DDL - Data Definition Language)"
   ]
  },
  {
   "cell_type": "markdown",
   "metadata": {
    "id": "dzT7q_tO_AuP"
   },
   "source": [
    "Great! We created a table and put some data into the table, but how do we... destroy it? \n",
    "\n",
    "DROP is used to \"delete\" the table and all tuples. \n",
    "\n",
    "** WARNING WARNING **\n",
    "\n",
    "A table that is dropped is completely deleted, including ALL DATA. Be careful with this."
   ]
  },
  {
   "cell_type": "code",
   "execution_count": null,
   "metadata": {
    "colab": {
     "base_uri": "https://localhost:8080/",
     "height": 70
    },
    "id": "L1-nUUrY_j5P",
    "outputId": "30b36a99-5813-496b-bbcd-ab4c576a6e0d"
   },
   "outputs": [
    {
     "name": "stdout",
     "output_type": "stream",
     "text": [
      " * sqlite:///studentDatabase.db\n",
      "Done.\n"
     ]
    },
    {
     "data": {
      "text/plain": [
       "[]"
      ]
     },
     "execution_count": 9,
     "metadata": {
      "tags": []
     },
     "output_type": "execute_result"
    }
   ],
   "source": [
    "%%sql \n",
    "DROP TABLE Student;"
   ]
  },
  {
   "cell_type": "markdown",
   "metadata": {
    "id": "atDuqEM7_m33"
   },
   "source": [
    "So, now we check all the tables we have... "
   ]
  },
  {
   "cell_type": "code",
   "execution_count": null,
   "metadata": {
    "colab": {
     "base_uri": "https://localhost:8080/",
     "height": 74
    },
    "id": "Z2SbKItQ_p5u",
    "outputId": "89674668-e7d5-4c34-84eb-fbf8112991c6"
   },
   "outputs": [
    {
     "name": "stdout",
     "output_type": "stream",
     "text": [
      " * sqlite:///studentDatabase.db\n",
      "Done.\n"
     ]
    },
    {
     "data": {
      "text/html": [
       "<table>\n",
       "    <tr>\n",
       "        <th>name</th>\n",
       "    </tr>\n",
       "</table>"
      ],
      "text/plain": [
       "[]"
      ]
     },
     "execution_count": 10,
     "metadata": {
      "tags": []
     },
     "output_type": "execute_result"
    }
   ],
   "source": [
    "%sql SELECT name FROM sqlite_master;"
   ]
  },
  {
   "cell_type": "markdown",
   "metadata": {
    "id": "_LbZg0Io_uoI"
   },
   "source": [
    "### Additional SQL"
   ]
  },
  {
   "cell_type": "markdown",
   "metadata": {
    "id": "ny6uSeeL97uh"
   },
   "source": [
    "Here are the additional commands will be learning about in the class (we will not cover all of these, but most)\n",
    "\n",
    "![Data Manipulation 1](https://raw.githubusercontent.com/dudaspm/IST210-Spring2020/master/SQL/images/SQLManipulation1.png)\n",
    "\n",
    "![Data Manipulation 2](https://raw.githubusercontent.com/dudaspm/IST210-Spring2020/master/SQL/images/SQLManipulation2.png)"
   ]
  },
  {
   "cell_type": "markdown",
   "metadata": {
    "id": "3gB2sCXsqhUH"
   },
   "source": [
    "What is the first and last name of students from PA?"
   ]
  },
  {
   "cell_type": "code",
   "execution_count": 9,
   "metadata": {
    "colab": {
     "base_uri": "https://localhost:8080/",
     "height": 137
    },
    "id": "-Es5N7RM8QBH",
    "outputId": "ca24a040-3292-4e5e-f225-821d5887b45e"
   },
   "outputs": [
    {
     "name": "stdout",
     "output_type": "stream",
     "text": [
      " * sqlite:///studentDatabase.db\n",
      "Done.\n"
     ]
    },
    {
     "data": {
      "text/html": [
       "<table>\n",
       "    <tr>\n",
       "        <th>PSUID</th>\n",
       "        <th>firstName</th>\n",
       "        <th>lastName</th>\n",
       "        <th>streetAddress</th>\n",
       "        <th>city</th>\n",
       "        <th>state</th>\n",
       "        <th>gpa</th>\n",
       "    </tr>\n",
       "    <tr>\n",
       "        <td>9139128181</td>\n",
       "        <td>David</td>\n",
       "        <td>Practice</td>\n",
       "        <td>123 Apple Street</td>\n",
       "        <td>State College</td>\n",
       "        <td>PA</td>\n",
       "        <td>3.78</td>\n",
       "    </tr>\n",
       "    <tr>\n",
       "        <td>9771271281</td>\n",
       "        <td>Susan</td>\n",
       "        <td>Practice</td>\n",
       "        <td>452 Banana Avenue</td>\n",
       "        <td>State College</td>\n",
       "        <td>PA</td>\n",
       "        <td>3.12</td>\n",
       "    </tr>\n",
       "    <tr>\n",
       "        <td>9383818823</td>\n",
       "        <td>Lee</td>\n",
       "        <td>Example</td>\n",
       "        <td>836 Carrot Circle</td>\n",
       "        <td>Cleveland</td>\n",
       "        <td>OH</td>\n",
       "        <td>2.68</td>\n",
       "    </tr>\n",
       "</table>"
      ],
      "text/plain": [
       "[('9139128181', 'David', 'Practice', '123 Apple Street', 'State College', 'PA', 3.78),\n",
       " ('9771271281', 'Susan', 'Practice', '452 Banana Avenue', 'State College', 'PA', 3.12),\n",
       " ('9383818823', 'Lee', 'Example', '836 Carrot Circle', 'Cleveland', 'OH', 2.68)]"
      ]
     },
     "execution_count": 9,
     "metadata": {
      "tags": []
     },
     "output_type": "execute_result"
    }
   ],
   "source": [
    "%%sql\n",
    "SELECT * FROM student;"
   ]
  },
  {
   "cell_type": "markdown",
   "metadata": {
    "id": "8pnFTQSsq3vT"
   },
   "source": [
    "What is the street address of students from Cleveland?"
   ]
  },
  {
   "cell_type": "code",
   "execution_count": 11,
   "metadata": {
    "colab": {
     "base_uri": "https://localhost:8080/",
     "height": 137
    },
    "id": "zbjBhxUbqoQX",
    "outputId": "5e0c9bad-41ad-4c2b-9169-5a1c6f9a89bd"
   },
   "outputs": [
    {
     "name": "stdout",
     "output_type": "stream",
     "text": [
      " * sqlite:///studentDatabase.db\n",
      "Done.\n"
     ]
    },
    {
     "data": {
      "text/html": [
       "<table>\n",
       "    <tr>\n",
       "        <th>PSUID</th>\n",
       "        <th>firstName</th>\n",
       "        <th>lastName</th>\n",
       "        <th>streetAddress</th>\n",
       "        <th>city</th>\n",
       "        <th>state</th>\n",
       "        <th>gpa</th>\n",
       "    </tr>\n",
       "    <tr>\n",
       "        <td>9139128181</td>\n",
       "        <td>David</td>\n",
       "        <td>Practice</td>\n",
       "        <td>123 Apple Street</td>\n",
       "        <td>State College</td>\n",
       "        <td>PA</td>\n",
       "        <td>3.78</td>\n",
       "    </tr>\n",
       "    <tr>\n",
       "        <td>9771271281</td>\n",
       "        <td>Susan</td>\n",
       "        <td>Practice</td>\n",
       "        <td>452 Banana Avenue</td>\n",
       "        <td>State College</td>\n",
       "        <td>PA</td>\n",
       "        <td>3.12</td>\n",
       "    </tr>\n",
       "    <tr>\n",
       "        <td>9383818823</td>\n",
       "        <td>Lee</td>\n",
       "        <td>Example</td>\n",
       "        <td>836 Carrot Circle</td>\n",
       "        <td>Cleveland</td>\n",
       "        <td>OH</td>\n",
       "        <td>2.68</td>\n",
       "    </tr>\n",
       "</table>"
      ],
      "text/plain": [
       "[('9139128181', 'David', 'Practice', '123 Apple Street', 'State College', 'PA', 3.78),\n",
       " ('9771271281', 'Susan', 'Practice', '452 Banana Avenue', 'State College', 'PA', 3.12),\n",
       " ('9383818823', 'Lee', 'Example', '836 Carrot Circle', 'Cleveland', 'OH', 2.68)]"
      ]
     },
     "execution_count": 11,
     "metadata": {
      "tags": []
     },
     "output_type": "execute_result"
    }
   ],
   "source": [
    "%%sql\n",
    "SELECT * FROM student;"
   ]
  },
  {
   "cell_type": "markdown",
   "metadata": {
    "id": "W8fo8c0fq_oP"
   },
   "source": [
    "What are all the attributes of students from PA and with a GPA greater than 3.5?"
   ]
  },
  {
   "cell_type": "code",
   "execution_count": 10,
   "metadata": {
    "colab": {
     "base_uri": "https://localhost:8080/",
     "height": 137
    },
    "id": "s-iLIaAJrLco",
    "outputId": "1b363531-1017-42a3-e17b-3f66631f6fc6"
   },
   "outputs": [
    {
     "name": "stdout",
     "output_type": "stream",
     "text": [
      " * sqlite:///studentDatabase.db\n",
      "Done.\n"
     ]
    },
    {
     "data": {
      "text/html": [
       "<table>\n",
       "    <tr>\n",
       "        <th>PSUID</th>\n",
       "        <th>firstName</th>\n",
       "        <th>lastName</th>\n",
       "        <th>streetAddress</th>\n",
       "        <th>city</th>\n",
       "        <th>state</th>\n",
       "        <th>gpa</th>\n",
       "    </tr>\n",
       "    <tr>\n",
       "        <td>9139128181</td>\n",
       "        <td>David</td>\n",
       "        <td>Practice</td>\n",
       "        <td>123 Apple Street</td>\n",
       "        <td>State College</td>\n",
       "        <td>PA</td>\n",
       "        <td>3.78</td>\n",
       "    </tr>\n",
       "    <tr>\n",
       "        <td>9771271281</td>\n",
       "        <td>Susan</td>\n",
       "        <td>Practice</td>\n",
       "        <td>452 Banana Avenue</td>\n",
       "        <td>State College</td>\n",
       "        <td>PA</td>\n",
       "        <td>3.12</td>\n",
       "    </tr>\n",
       "    <tr>\n",
       "        <td>9383818823</td>\n",
       "        <td>Lee</td>\n",
       "        <td>Example</td>\n",
       "        <td>836 Carrot Circle</td>\n",
       "        <td>Cleveland</td>\n",
       "        <td>OH</td>\n",
       "        <td>2.68</td>\n",
       "    </tr>\n",
       "</table>"
      ],
      "text/plain": [
       "[('9139128181', 'David', 'Practice', '123 Apple Street', 'State College', 'PA', 3.78),\n",
       " ('9771271281', 'Susan', 'Practice', '452 Banana Avenue', 'State College', 'PA', 3.12),\n",
       " ('9383818823', 'Lee', 'Example', '836 Carrot Circle', 'Cleveland', 'OH', 2.68)]"
      ]
     },
     "execution_count": 10,
     "metadata": {
      "tags": []
     },
     "output_type": "execute_result"
    }
   ],
   "source": [
    "%%sql\n",
    "SELECT * FROM student;"
   ]
  },
  {
   "cell_type": "markdown",
   "metadata": {
    "id": "oGT1JFCZrTUu"
   },
   "source": [
    "Create the following table:\n",
    "\n",
    "![course table](https://raw.githubusercontent.com/dudaspm/Fall2020/master/Org%20Data/Images/course.png)"
   ]
  },
  {
   "cell_type": "code",
   "execution_count": 13,
   "metadata": {
    "colab": {
     "base_uri": "https://localhost:8080/",
     "height": 137
    },
    "id": "59ohNXikrRtN",
    "outputId": "09d8dca2-d45b-4444-8de6-8a0b074d5f85"
   },
   "outputs": [
    {
     "name": "stdout",
     "output_type": "stream",
     "text": [
      " * sqlite:///studentDatabase.db\n",
      "Done.\n"
     ]
    },
    {
     "data": {
      "text/html": [
       "<table>\n",
       "    <tr>\n",
       "        <th>PSUID</th>\n",
       "        <th>firstName</th>\n",
       "        <th>lastName</th>\n",
       "        <th>streetAddress</th>\n",
       "        <th>city</th>\n",
       "        <th>state</th>\n",
       "        <th>gpa</th>\n",
       "    </tr>\n",
       "    <tr>\n",
       "        <td>9139128181</td>\n",
       "        <td>David</td>\n",
       "        <td>Practice</td>\n",
       "        <td>123 Apple Street</td>\n",
       "        <td>State College</td>\n",
       "        <td>PA</td>\n",
       "        <td>3.78</td>\n",
       "    </tr>\n",
       "    <tr>\n",
       "        <td>9771271281</td>\n",
       "        <td>Susan</td>\n",
       "        <td>Practice</td>\n",
       "        <td>452 Banana Avenue</td>\n",
       "        <td>State College</td>\n",
       "        <td>PA</td>\n",
       "        <td>3.12</td>\n",
       "    </tr>\n",
       "    <tr>\n",
       "        <td>9383818823</td>\n",
       "        <td>Lee</td>\n",
       "        <td>Example</td>\n",
       "        <td>836 Carrot Circle</td>\n",
       "        <td>Cleveland</td>\n",
       "        <td>OH</td>\n",
       "        <td>2.68</td>\n",
       "    </tr>\n",
       "</table>"
      ],
      "text/plain": [
       "[('9139128181', 'David', 'Practice', '123 Apple Street', 'State College', 'PA', 3.78),\n",
       " ('9771271281', 'Susan', 'Practice', '452 Banana Avenue', 'State College', 'PA', 3.12),\n",
       " ('9383818823', 'Lee', 'Example', '836 Carrot Circle', 'Cleveland', 'OH', 2.68)]"
      ]
     },
     "execution_count": 13,
     "metadata": {
      "tags": []
     },
     "output_type": "execute_result"
    }
   ],
   "source": [
    "%%sql\n",
    "SELECT * FROM student;"
   ]
  },
  {
   "cell_type": "markdown",
   "metadata": {
    "id": "-vAnvI7ereIf"
   },
   "source": [
    "Create at least 3 tuples for this table."
   ]
  },
  {
   "cell_type": "code",
   "execution_count": 12,
   "metadata": {
    "colab": {
     "base_uri": "https://localhost:8080/",
     "height": 137
    },
    "id": "ayy7eJk0rhHh",
    "outputId": "6467031f-243a-4797-be95-34d48927158b"
   },
   "outputs": [
    {
     "name": "stdout",
     "output_type": "stream",
     "text": [
      " * sqlite:///studentDatabase.db\n",
      "Done.\n"
     ]
    },
    {
     "data": {
      "text/html": [
       "<table>\n",
       "    <tr>\n",
       "        <th>PSUID</th>\n",
       "        <th>firstName</th>\n",
       "        <th>lastName</th>\n",
       "        <th>streetAddress</th>\n",
       "        <th>city</th>\n",
       "        <th>state</th>\n",
       "        <th>gpa</th>\n",
       "    </tr>\n",
       "    <tr>\n",
       "        <td>9139128181</td>\n",
       "        <td>David</td>\n",
       "        <td>Practice</td>\n",
       "        <td>123 Apple Street</td>\n",
       "        <td>State College</td>\n",
       "        <td>PA</td>\n",
       "        <td>3.78</td>\n",
       "    </tr>\n",
       "    <tr>\n",
       "        <td>9771271281</td>\n",
       "        <td>Susan</td>\n",
       "        <td>Practice</td>\n",
       "        <td>452 Banana Avenue</td>\n",
       "        <td>State College</td>\n",
       "        <td>PA</td>\n",
       "        <td>3.12</td>\n",
       "    </tr>\n",
       "    <tr>\n",
       "        <td>9383818823</td>\n",
       "        <td>Lee</td>\n",
       "        <td>Example</td>\n",
       "        <td>836 Carrot Circle</td>\n",
       "        <td>Cleveland</td>\n",
       "        <td>OH</td>\n",
       "        <td>2.68</td>\n",
       "    </tr>\n",
       "</table>"
      ],
      "text/plain": [
       "[('9139128181', 'David', 'Practice', '123 Apple Street', 'State College', 'PA', 3.78),\n",
       " ('9771271281', 'Susan', 'Practice', '452 Banana Avenue', 'State College', 'PA', 3.12),\n",
       " ('9383818823', 'Lee', 'Example', '836 Carrot Circle', 'Cleveland', 'OH', 2.68)]"
      ]
     },
     "execution_count": 12,
     "metadata": {
      "tags": []
     },
     "output_type": "execute_result"
    }
   ],
   "source": [
    "%%sql\n",
    "SELECT * FROM student;"
   ]
  },
  {
   "cell_type": "markdown",
   "metadata": {
    "id": "n9pmhSqlXSXl"
   },
   "source": [
    "Now, delete the student table."
   ]
  },
  {
   "cell_type": "code",
   "execution_count": null,
   "metadata": {
    "id": "znB7DNi-rheB"
   },
   "outputs": [],
   "source": [
    "%%sql\n",
    "SELECT * FROM student;"
   ]
  }
 ],
 "metadata": {
  "colab": {
   "authorship_tag": "ABX9TyMJ6yWxd97SEDobOC2DWNc7",
   "collapsed_sections": [],
   "include_colab_link": true,
   "name": "StartingSQL.ipynb",
   "provenance": [],
   "toc_visible": true
  },
  "kernelspec": {
   "display_name": "Python 3",
   "language": "python",
   "name": "python3"
  },
  "language_info": {
   "codemirror_mode": {
    "name": "ipython",
    "version": 3
   },
   "file_extension": ".py",
   "mimetype": "text/x-python",
   "name": "python",
   "nbconvert_exporter": "python",
   "pygments_lexer": "ipython3",
   "version": "3.7.10"
  }
 },
 "nbformat": 4,
 "nbformat_minor": 4
}