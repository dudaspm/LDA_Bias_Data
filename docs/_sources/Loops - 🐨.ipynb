{
 "cells": [
  {
   "cell_type": "markdown",
   "metadata": {
    "slideshow": {
     "slide_type": "slide"
    }
   },
   "source": [
    "# Loops - 🐨"
   ]
  },
  {
   "cell_type": "markdown",
   "metadata": {},
   "source": [
    "One of the programming features is that we have many options to do the same tasking multiple times.  The three methods we will be looking at are:\n",
    "* Functions (later notebook)\n",
    "* For loops\n",
    "* While Loops\n"
   ]
  },
  {
   "cell_type": "markdown",
   "metadata": {
    "slideshow": {
     "slide_type": "slide"
    }
   },
   "source": [
    "## For Loops"
   ]
  },
  {
   "cell_type": "markdown",
   "metadata": {
    "slideshow": {
     "slide_type": "subslide"
    }
   },
   "source": [
    "Loops allow us to do the same thing to each item in a list or array. One of the most basic types of loops is a *for loop* - this allows us to iterate over any sequence.\n",
    "\n",
    "We set up a for loop using 2 things:\n",
    "* loop variable - the value of the sequence currently being used\n",
    "* sequence - the data we iterate over\n",
    "\n",
    "The sequence can be any list.  We set up *for loop* using the *for* and *in* keywords, a colon, and all of the code within the *for loop* indented."
   ]
  },
  {
   "cell_type": "code",
   "execution_count": 18,
   "metadata": {
    "slideshow": {
     "slide_type": "fragment"
    }
   },
   "outputs": [
    {
     "name": "stdout",
     "output_type": "stream",
     "text": [
      "['a', 'niner', 6, 6.1, 'V@@@', 500.5, 42]\n"
     ]
    }
   ],
   "source": [
    "exampleList = ['a', 'niner', 6, 6.1, 'V@@@', 1001/2, 42]\n",
    "\n",
    "print( exampleList )"
   ]
  },
  {
   "cell_type": "markdown",
   "metadata": {},
   "source": [
    "Now, before we talked about accessing elements in a list or array by their index. Meaning, if we wanted to print this out, we would need to..."
   ]
  },
  {
   "cell_type": "code",
   "execution_count": 19,
   "metadata": {},
   "outputs": [
    {
     "name": "stdout",
     "output_type": "stream",
     "text": [
      "a\n",
      "niner\n",
      "6\n",
      "6.1\n",
      "V@@@\n",
      "500.5\n",
      "42\n"
     ]
    }
   ],
   "source": [
    "print( exampleList[0] )\n",
    "print( exampleList[1] )\n",
    "print( exampleList[2] )\n",
    "print( exampleList[3] )\n",
    "print( exampleList[4] )\n",
    "print( exampleList[5] )\n",
    "print( exampleList[6] )"
   ]
  },
  {
   "cell_type": "code",
   "execution_count": 20,
   "metadata": {},
   "outputs": [],
   "source": [
    "### Looping Over Values"
   ]
  },
  {
   "cell_type": "markdown",
   "metadata": {},
   "source": [
    "Very time consuming and frustrating 😤. \n",
    "\n",
    "Loops make this sooooooo much easier. There are three parts to a *for loop*. \n",
    "\n",
    "```python\n",
    "\n",
    "for variable_name_we_make_up in our_list_name:\n",
    "    do_something_with_each_value( variable_name_we_make_up )\n",
    "    \n",
    "```\n",
    "\n",
    "As stated, variable_name_we_make_up is something we makeup and is used to represent the value as we loop through our, well,... loop. \n",
    "\n",
    "```python\n",
    "groceryList = [\"apple\", \"banana\", \"eggs\"]\n",
    "``` \n",
    "\n",
    "Remember me? "
   ]
  },
  {
   "cell_type": "code",
   "execution_count": 21,
   "metadata": {},
   "outputs": [
    {
     "name": "stdout",
     "output_type": "stream",
     "text": [
      "apple\n",
      "banana\n",
      "eggs\n"
     ]
    }
   ],
   "source": [
    "groceryList = [\"apple\", \"banana\", \"eggs\"]\n",
    "\n",
    "for itemInOurList in groceryList:\n",
    "    print (itemInOurList)"
   ]
  },
  {
   "cell_type": "markdown",
   "metadata": {},
   "source": [
    "Like mentioned, we name the variable. Here is the same idea again."
   ]
  },
  {
   "cell_type": "code",
   "execution_count": 22,
   "metadata": {},
   "outputs": [
    {
     "name": "stdout",
     "output_type": "stream",
     "text": [
      "apple\n",
      "banana\n",
      "eggs\n"
     ]
    }
   ],
   "source": [
    "groceryList = [\"apple\", \"banana\", \"eggs\"]\n",
    "\n",
    "for steve in groceryList:\n",
    "    print (steve)"
   ]
  },
  {
   "cell_type": "markdown",
   "metadata": {},
   "source": [
    "Going back to our original list. See how much easier it is to print these values? "
   ]
  },
  {
   "cell_type": "code",
   "execution_count": 23,
   "metadata": {},
   "outputs": [
    {
     "name": "stdout",
     "output_type": "stream",
     "text": [
      "a\n",
      "niner\n",
      "6\n",
      "6.1\n",
      "V@@@\n",
      "500.5\n",
      "42\n"
     ]
    }
   ],
   "source": [
    "for item in exampleList:\n",
    "    print (item)"
   ]
  },
  {
   "cell_type": "markdown",
   "metadata": {},
   "source": [
    "### Looping Over Indices"
   ]
  },
  {
   "cell_type": "markdown",
   "metadata": {
    "slideshow": {
     "slide_type": "fragment"
    }
   },
   "source": [
    "Sometimes, it's helpful to iterate using indices.  For example, linear algebra heavy calculations will almost always use indices to make working with vectors and matrices easier.\n",
    "\n",
    "We can use the \n",
    "```python \n",
    "len()\n",
    "```\n",
    "and\n",
    "```python \n",
    "range()\n",
    "```\n",
    "\n",
    "functions to show the length and create indices.  We can then iterate using the index rather than the values. Let's show off these functions. "
   ]
  },
  {
   "cell_type": "code",
   "execution_count": 24,
   "metadata": {},
   "outputs": [
    {
     "name": "stdout",
     "output_type": "stream",
     "text": [
      "3\n"
     ]
    }
   ],
   "source": [
    "groceryList = [\"apple\", \"banana\", \"eggs\"]\n",
    "print ( len(groceryList) )"
   ]
  },
  {
   "cell_type": "code",
   "execution_count": 25,
   "metadata": {},
   "outputs": [
    {
     "name": "stdout",
     "output_type": "stream",
     "text": [
      "range(0, 3)\n"
     ]
    }
   ],
   "source": [
    "print ( range(3) )"
   ]
  },
  {
   "cell_type": "markdown",
   "metadata": {},
   "source": [
    "```{note}\n",
    "*range()* can be a bit misleading. The range is always one less than what you might expect. Meaning, *range(0,3)* goes from 0 to 1 to 2 to... that's it. So when using *range()* think about it as *range(starting number, ending number - 1)*\n",
    "```"
   ]
  },
  {
   "cell_type": "code",
   "execution_count": 26,
   "metadata": {
    "slideshow": {
     "slide_type": "fragment"
    }
   },
   "outputs": [
    {
     "name": "stdout",
     "output_type": "stream",
     "text": [
      "index: 0 value: apple\n",
      "index: 1 value: banana\n",
      "index: 2 value: eggs\n"
     ]
    }
   ],
   "source": [
    "for index in range(len(groceryList)):\n",
    "    print(\"index:\",index,\"value:\",groceryList[index])"
   ]
  },
  {
   "cell_type": "markdown",
   "metadata": {
    "slideshow": {
     "slide_type": "subslide"
    }
   },
   "source": [
    "You may have noticed that the second line is indented.  Like we saw before with If/Else statements. This indent is how we indicate what is in the loop.  Our loop can have many lines (all indented).  The first line that isn't indented indicates we are out of the loop.  This indent is the python syntax for in and out of the loop; other coding languages use other things such as braces {}.  Note that blank lines don't matter, just indentation."
   ]
  },
  {
   "cell_type": "code",
   "execution_count": 27,
   "metadata": {
    "slideshow": {
     "slide_type": "fragment"
    }
   },
   "outputs": [
    {
     "name": "stdout",
     "output_type": "stream",
     "text": [
      "Starting the loop\n",
      "\t item: apple\n",
      "\t Inside the loop\n",
      "\t item: banana\n",
      "\t Inside the loop\n",
      "\t item: eggs\n",
      "\t Inside the loop\n",
      "Outside the loop\n"
     ]
    }
   ],
   "source": [
    "print( \"Starting the loop\" )\n",
    "for val in groceryList:\n",
    "    print( \"\\t\", \"item:\", val )\n",
    "    \n",
    "    print( \"\\t\", \"Inside the loop\" )\n",
    "print( \"Outside the loop\" )"
   ]
  },
  {
   "cell_type": "markdown",
   "metadata": {
    "slideshow": {
     "slide_type": "slide"
    }
   },
   "source": [
    "## While loops"
   ]
  },
  {
   "cell_type": "markdown",
   "metadata": {
    "slideshow": {
     "slide_type": "fragment"
    }
   },
   "source": [
    "For loops are used when you have something you are iterating over - you know the length.  You can use a while loop if you don't know the number of times something will run. The while loop code requires a conditional statement; the loop will continue to run as long as this is true and will not run again as soon as it is false."
   ]
  },
  {
   "cell_type": "markdown",
   "metadata": {
    "slideshow": {
     "slide_type": "fragment"
    }
   },
   "source": [
    "#### Conceptual Example\n",
    "You can think about taking a test in two different ways. \n",
    "\n",
    "> Scenario: You are looking through your junk drawer for your sunglasses  \n",
    "\n",
    "For loop:\n",
    "```python\n",
    "for item in junk_drawer:\n",
    "    if (item == \"sunglasses\"):\n",
    "        \"put them on\" 😎\n",
    "    else:\n",
    "        \"keep looking\"\n",
    "```\n",
    "\n",
    "While loop:\n",
    "```python \n",
    "while item != \"sunglasses\":\n",
    "    \"keep looking\"\n",
    "    item = \"some item in the junk drawer\"\n",
    "\"put them on\" 😎\n",
    "``` \n",
    "\n",
    "Can you see where each has their unique take on looping? Of course, you don't; you are wearing sunglasses indoors. Take them off first, then check out their uniqueness."
   ]
  },
  {
   "cell_type": "markdown",
   "metadata": {},
   "source": [
    "The condition being set by the while statement will cause this to run as long as the statement is true."
   ]
  },
  {
   "cell_type": "code",
   "execution_count": 35,
   "metadata": {},
   "outputs": [
    {
     "name": "stdout",
     "output_type": "stream",
     "text": [
      "before: 0\n",
      "\t after: 1\n",
      "before: 1\n",
      "\t after: 2\n",
      "before: 2\n",
      "\t after: 3\n",
      "before: 3\n",
      "\t after: 4\n",
      "before: 4\n",
      "\t after: 5\n",
      "before: 5\n",
      "\t after: 6\n",
      "before: 6\n",
      "\t after: 7\n",
      "before: 7\n",
      "\t after: 8\n",
      "before: 8\n",
      "\t after: 9\n",
      "before: 9\n",
      "\t after: 10\n"
     ]
    }
   ],
   "source": [
    "counting = 0\n",
    "\n",
    "while (counting < 10):\n",
    "    print ( \"before:\", counting )\n",
    "    counting = counting + 1\n",
    "    print (\"\\t\",\"after:\",counting)"
   ]
  },
  {
   "cell_type": "markdown",
   "metadata": {},
   "source": [
    "One thing to note is that the while loop won't ever be entered if the condition is false when the statement begins as false."
   ]
  },
  {
   "cell_type": "code",
   "execution_count": 36,
   "metadata": {},
   "outputs": [],
   "source": [
    "startAtTen = 10\n",
    "\n",
    "while (startAtTen < 10):\n",
    "    print ( \"before:\", startAtTen )\n",
    "    counting = counting + 1\n",
    "    print (\"\\t\",\"after:\",startAtTen )"
   ]
  },
  {
   "cell_type": "markdown",
   "metadata": {},
   "source": [
    "##### 😈 A VERY MEAN Example 😈"
   ]
  },
  {
   "cell_type": "markdown",
   "metadata": {},
   "source": [
    "Let's see where we can use this type of loop, in this 😈 VERY MEAN Example 😈. We are creating a set of 30 random numbers from 1 to 50. The *while* will run until it hits its first even number and print this out. Can you spot its MEAN intention?"
   ]
  },
  {
   "cell_type": "code",
   "execution_count": 49,
   "metadata": {
    "slideshow": {
     "slide_type": "fragment"
    }
   },
   "outputs": [
    {
     "name": "stdout",
     "output_type": "stream",
     "text": [
      "[47, 10, 4, 33, 38]\n",
      "start loop\n",
      "the first even number is: 10\n"
     ]
    }
   ],
   "source": [
    "import random\n",
    "randomList = [random.randrange(1, 50, 1) for i in range(30)]\n",
    "print ( randomList[0:5] )\n",
    "\n",
    "index = 0\n",
    "print (\"start loop\")\n",
    "while ( randomList[index] % 2 ):\n",
    "    index = index + 1\n",
    "print ( \"the first even number is:\", randomList[index])\n"
   ]
  },
  {
   "cell_type": "markdown",
   "metadata": {},
   "source": [
    "So why is this very mean?! Look at our warning."
   ]
  },
  {
   "cell_type": "markdown",
   "metadata": {
    "slideshow": {
     "slide_type": "subslide"
    }
   },
   "source": [
    "```{warning}\n",
    "While loops will keep iterating as long as the statement stays true.  Infinite loops are caused by a condition that always stays true.  Use the stop button ( 🔲 but filled in ) to stop this erroneous code. Here is an example of this type of code. \n",
    "```"
   ]
  },
  {
   "cell_type": "markdown",
   "metadata": {
    "slideshow": {
     "slide_type": "fragment"
    }
   },
   "source": [
    "```python\n",
    "counting = 0\n",
    "\n",
    "while (counting < 0):\n",
    "    print ( \"This the loop that never ends. Yes, it goes on and on, my friend!\" ) \n",
    "    print ( \"Some people started looping it not knowing what it was, \" )\n",
    "    print ( \"and they'll continue looping it forever just because...\" ) \n",
    "    counting = counting + 1\n",
    "```"
   ]
  },
  {
   "cell_type": "markdown",
   "metadata": {},
   "source": [
    "This is 😈 A VERY MEAN Example 😈 because it is possible to have a set without a single even number. The odds of picking an even or an odd is a coin flip (50%). Now do this 30 times. What are the odds of flipping a coin 30 times without a single \"Tails?\" \n",
    "\n",
    "$\\frac{1}{2}$ = 1 coin\n",
    "\n",
    "$\\frac{1}{2} * \\frac{1}{2}$ = 2 coins\n",
    "\n",
    "$\\frac{1}{2} * \\frac{1}{2} * \\frac{1}{2}$ = 3 coins\n",
    "\n",
    "$(\\frac{1}{2})^n$ = n coin\n",
    "\n",
    "$(\\frac{1}{2})^{30}$ = 30 coin = $(\\frac{1}{1073741824})$  OR one in 1 billion, 73 million, 741 thousand, 824. \n",
    "\n",
    "Meaning, a person out of 1073741824 will have an infinite loop! \n",
    "\n",
    "MUAHAHAHA!!!"
   ]
  },
  {
   "cell_type": "markdown",
   "metadata": {},
   "source": [
    "## Your Turn"
   ]
  },
  {
   "cell_type": "markdown",
   "metadata": {},
   "source": [
    "Try to fill in code to fulfill the request!  Here is a variable used in the excercises"
   ]
  },
  {
   "cell_type": "code",
   "execution_count": null,
   "metadata": {},
   "outputs": [],
   "source": [
    "aListOfNumbers = [6, 3, 4, 5, 7, 8, 9 ]"
   ]
  },
  {
   "cell_type": "markdown",
   "metadata": {},
   "source": [
    "Write a function that returns the length of aListOfNumbers as well as the maximum value. Hint: max() is a built-in function"
   ]
  },
  {
   "cell_type": "code",
   "execution_count": null,
   "metadata": {},
   "outputs": [],
   "source": [
    "# Try it here:\n"
   ]
  },
  {
   "cell_type": "markdown",
   "metadata": {},
   "source": [
    "Use a for loop to add up all of the numbers in aListOfNumbers."
   ]
  },
  {
   "cell_type": "code",
   "execution_count": null,
   "metadata": {},
   "outputs": [],
   "source": [
    "# Try it here:\n",
    "\n"
   ]
  },
  {
   "cell_type": "markdown",
   "metadata": {},
   "source": [
    "Use a while loop to find the first number in aListOfNumbers that is both greater than 5 and a multiple of 4."
   ]
  },
  {
   "cell_type": "code",
   "execution_count": null,
   "metadata": {},
   "outputs": [],
   "source": [
    "# Try it here:\n",
    "\n"
   ]
  },
  {
   "cell_type": "markdown",
   "metadata": {},
   "source": [
    "Count the number of values in aListOfNumbers that are:\n",
    "* even\n",
    "* odd and divisible by three\n",
    "* odd and not divisible by three\n",
    "\n",
    "using if, elif and else."
   ]
  },
  {
   "cell_type": "code",
   "execution_count": null,
   "metadata": {},
   "outputs": [],
   "source": [
    "# Try it here:\n",
    "\n"
   ]
  },
  {
   "cell_type": "markdown",
   "metadata": {},
   "source": [
    "Create a dictionary with keys 1-8 corresponding to the words one, two, three, etc. Loop through aListofNumbers to print out the word corresponding to the digit and provide a default value of 'Not Found' if the key is not contained within the dictionary.  You should get: six three four five seven eight Not Found"
   ]
  },
  {
   "cell_type": "code",
   "execution_count": null,
   "metadata": {},
   "outputs": [],
   "source": [
    "# Try it here:\n",
    "\n"
   ]
  },
  {
   "cell_type": "code",
   "execution_count": null,
   "metadata": {},
   "outputs": [],
   "source": []
  }
 ],
 "metadata": {
  "celltoolbar": "Slideshow",
  "kernelspec": {
   "display_name": "Python 3",
   "language": "python",
   "name": "python3"
  },
  "language_info": {
   "codemirror_mode": {
    "name": "ipython",
    "version": 3
   },
   "file_extension": ".py",
   "mimetype": "text/x-python",
   "name": "python",
   "nbconvert_exporter": "python",
   "pygments_lexer": "ipython3",
   "version": "3.8.5"
  }
 },
 "nbformat": 4,
 "nbformat_minor": 4
}
