{
 "cells": [
  {
   "cell_type": "markdown",
   "id": "389ce46e-4094-4497-8f7f-a39d6e884a89",
   "metadata": {},
   "source": [
    "# Creating a Function - 🐲"
   ]
  },
  {
   "cell_type": "markdown",
   "id": "48a88b92-1b11-4263-99fb-f8a2495e0a56",
   "metadata": {},
   "source": [
    "Functions allow us to do repeated tasks easily by writing the code only once.  Functions will have a name, inputs, and outputs and can be called anywhere the task is repeated.\n",
    "\n",
    "There are functions that are built into python; for example, we have already been using the type() function, which tells us the type of variable we are using.  Note that print is also a function!"
   ]
  },
  {
   "cell_type": "code",
   "execution_count": null,
   "id": "68493d18-36fd-4773-a7d6-244f1eba291f",
   "metadata": {},
   "outputs": [],
   "source": [
    "aVal = 10.0\n",
    "print( type( aVal ) )"
   ]
  },
  {
   "cell_type": "markdown",
   "id": "bfdcf5f6-d5ff-4fef-a86b-fda32e9f6c6a",
   "metadata": {},
   "source": [
    "Functions have four typical parts:\n",
    "* Name - what you call your function\n",
    "* Input arguments - what you provide\n",
    "* Outputs - what the function gives back\n",
    "* Math/Magic - what the function does"
   ]
  },
  {
   "cell_type": "markdown",
   "id": "cb428ca9-4104-46f7-84b2-7fc59b53a3f5",
   "metadata": {},
   "source": [
    "## Creating Our Own Function"
   ]
  },
  {
   "cell_type": "markdown",
   "id": "2a98e173-7f3e-4b5c-934e-6dbfa4835aed",
   "metadata": {},
   "source": [
    "In python, we use def to define a function with the function name and inputs followed by a colon.  The python function is then separated from the rest of the code by a tab. Some languages use braces rather than indentation.\n",
    "````python\n",
    "def functionName( inputs ):\n",
    "    # Operate on the inputs\n",
    "    ouputs = inputs + 5\n",
    "    # Return what we want to back\n",
    "    return outputs;\n",
    "   ````"
   ]
  },
  {
   "cell_type": "markdown",
   "id": "1dead74c-0141-4d75-bfdc-46b13d747cb6",
   "metadata": {},
   "source": [
    "Let's look at an example function, which changes degrees Fahrenheit to Celsius. "
   ]
  },
  {
   "cell_type": "code",
   "execution_count": 3,
   "id": "3eef8e21-8c33-462d-bd8e-0718b70622de",
   "metadata": {},
   "outputs": [],
   "source": [
    "def changeFromFToC( farVal ):\n",
    "    cVal = (farVal - 32.0) * 5.0 / 9.0\n",
    "    return cVal "
   ]
  },
  {
   "cell_type": "markdown",
   "id": "8c880dc6-704f-449b-8a8e-60be409c3375",
   "metadata": {},
   "source": [
    "Here, our function name is *changeFromFToC*, the input is *farVal*, the temperature in Fahrenheit, the output is *cVal*, and the temperature in Celsius. We can print or store the output from the function.  Note that the function has to be defined before we use it - the cell with the function definition has to have run before we can call the function."
   ]
  },
  {
   "cell_type": "code",
   "execution_count": 4,
   "id": "7a19c6b0-0918-4e7c-aa81-45420d580862",
   "metadata": {},
   "outputs": [
    {
     "name": "stdout",
     "output_type": "stream",
     "text": [
      "Change 14 deg F to Celsius\n",
      "-10.0\n",
      "Change from 68 deg F to Celsius\n",
      "20.0\n"
     ]
    }
   ],
   "source": [
    "print( \"Change 14 deg F to Celsius\" )\n",
    "print( changeFromFToC( 14 ) )\n",
    "\n",
    "print( \"Change from 68 deg F to Celsius\" )\n",
    "niceTempC = changeFromFToC( 68 )\n",
    "print( niceTempC )"
   ]
  },
  {
   "cell_type": "markdown",
   "id": "db603275-39e3-4504-b393-c43e5896e3ee",
   "metadata": {},
   "source": [
    "Your turn! What is the temperature today? Convert it to Celsius. \n",
    "\n",
    "For those who have the temperature in Celsius and want to convert it to Fahrenheit. Define a new function to do this."
   ]
  },
  {
   "cell_type": "markdown",
   "id": "4a4dac46-30ee-4102-97c9-630bef8bceef",
   "metadata": {},
   "source": [
    "### Multiple inputs and outputs"
   ]
  },
  {
   "cell_type": "markdown",
   "id": "949b0def-6688-4d75-af1d-d4ba3dc3ef74",
   "metadata": {},
   "source": [
    "Here is an example of multiple outputs. We can actually work the output in a couple of different ways."
   ]
  },
  {
   "cell_type": "markdown",
   "id": "12e0d254-697e-4561-a96c-8f03350ce780",
   "metadata": {},
   "source": [
    "#### Multiple Output Function"
   ]
  },
  {
   "cell_type": "code",
   "execution_count": 7,
   "id": "e10df620-ef7f-4a0a-abb3-7def11d3ead2",
   "metadata": {},
   "outputs": [],
   "source": [
    "def changeFromFToCAndK( farVal ):\n",
    "    # Change the temperature from Fahrenheit to Celsius and Kelvin\n",
    "    cVal = (farVal - 32.0) * 5.0 / 9.0\n",
    "    kVal= cVal + 273.15\n",
    "    return cVal, kVal  "
   ]
  },
  {
   "cell_type": "markdown",
   "id": "73b7f924-97e3-479c-9e0c-5d5b9357e9c5",
   "metadata": {},
   "source": [
    "#### Output: List"
   ]
  },
  {
   "cell_type": "code",
   "execution_count": 8,
   "id": "b2c98f60-0894-4033-9770-328e58dfdea6",
   "metadata": {},
   "outputs": [
    {
     "name": "stdout",
     "output_type": "stream",
     "text": [
      "Change 14 deg F to Celsius and Kelvin\n",
      "(-10.0, 263.15)\n",
      "Change 32 deg F to Celsius and Kelvin\n",
      "0.0\n",
      "273.15\n"
     ]
    }
   ],
   "source": [
    "def changeFromFToCAndK( farVal ):\n",
    "    # Change the temperature from Fahrenheit to Celsius and Kelvin\n",
    "    cVal = (farVal - 32.0) * 5.0 / 9.0\n",
    "    kVal= cVal + 273.15\n",
    "    return cVal, kVal    \n",
    "    \n",
    "print( \"Change 14 deg F to Celsius and Kelvin\" )\n",
    "print( changeFromFToCAndK( 14 ) )\n",
    "\n",
    "print( \"Change 32 deg F to Celsius and Kelvin\" )\n",
    "freezing = changeFromFToCAndK( 32 ) \n",
    "print( freezing[0] )\n",
    "print( freezing[1] )"
   ]
  },
  {
   "cell_type": "markdown",
   "id": "7a0e488f-ab1e-430d-a706-0695e3236fee",
   "metadata": {},
   "source": [
    "#### Output: Multiple Variables "
   ]
  },
  {
   "cell_type": "code",
   "execution_count": null,
   "id": "16f1b9c4-9482-401f-94f0-332e90db4579",
   "metadata": {},
   "outputs": [],
   "source": [
    "print( \"Change 212 deg F to Celsius and Kelvin\" )\n",
    "boilingC, boilingK = changeFromFToCAndK( 212 ) \n",
    "print( boilingC )\n",
    "print( boilingK )"
   ]
  },
  {
   "cell_type": "markdown",
   "id": "c03220c2-d1e7-4ca8-a6e4-aa47dde66855",
   "metadata": {},
   "source": [
    "#### Multiple Input Function"
   ]
  },
  {
   "cell_type": "code",
   "execution_count": 14,
   "id": "f670f9dd-7760-4306-9f55-86521f5203c1",
   "metadata": {},
   "outputs": [],
   "source": [
    "def changeFromFToCOrK( farVal, tempType ):\n",
    "    if (tempType == \"C\"):\n",
    "        return (farVal - 32.0) * 5.0 / 9.0\n",
    "    elif (tempType == \"K\"):\n",
    "        return ((farVal - 32.0) * 5.0 / 9.0) + 273.15\n",
    "    else:\n",
    "        return \"invalid temperature type\""
   ]
  },
  {
   "cell_type": "code",
   "execution_count": 12,
   "id": "dfc47bf8-3261-41cc-9dcf-c25453db05f2",
   "metadata": {},
   "outputs": [
    {
     "name": "stdout",
     "output_type": "stream",
     "text": [
      "21.11111111111111\n"
     ]
    }
   ],
   "source": [
    "print ( changeFromFToCOrK(70,\"C\") )"
   ]
  },
  {
   "cell_type": "code",
   "execution_count": 15,
   "id": "72e0d2b2-336e-4f49-a7e4-b89ddd34102b",
   "metadata": {},
   "outputs": [
    {
     "name": "stdout",
     "output_type": "stream",
     "text": [
      "294.26111111111106\n"
     ]
    }
   ],
   "source": [
    "print ( changeFromFToCOrK(70,\"K\") )"
   ]
  },
  {
   "cell_type": "code",
   "execution_count": 16,
   "id": "ec462eaf-e615-428d-9112-d6bc60b8c6b2",
   "metadata": {},
   "outputs": [
    {
     "name": "stdout",
     "output_type": "stream",
     "text": [
      "invalid temperature type\n"
     ]
    }
   ],
   "source": [
    "print ( changeFromFToCOrK(70,\"W\") )"
   ]
  },
  {
   "cell_type": "markdown",
   "id": "17ae1b50-1aca-42fe-8f99-fb8338f5aedd",
   "metadata": {},
   "source": [
    "### Functions calling other functions"
   ]
  },
  {
   "cell_type": "markdown",
   "id": "13020a8e-aef2-4c7b-8002-4efb12ff3bb7",
   "metadata": {},
   "source": [
    "Functions can call other functions.  Here we add three using a function to add two and then adding one."
   ]
  },
  {
   "cell_type": "code",
   "execution_count": 18,
   "id": "44db398c-b536-4aa2-bb0b-374e7e60c196",
   "metadata": {},
   "outputs": [
    {
     "name": "stdout",
     "output_type": "stream",
     "text": [
      "Add three to four using addThree (which adds 1) but calls addTwo (which adds 2)\n",
      "7\n"
     ]
    }
   ],
   "source": [
    "def addTwo( inValAddTwo ):\n",
    "    # Add two to the input\n",
    "    return inValAddTwo + 2\n",
    "\n",
    "def addThree( inValAddThree ):\n",
    "    # Add three two the input\n",
    "    return addTwo( inValAddThree ) + 1\n",
    "\n",
    "# Add three to four\n",
    "print( \"Add three to four using addThree (which adds 1) but calls addTwo (which adds 2)\" )\n",
    "print( addThree( 4 ) )"
   ]
  },
  {
   "cell_type": "markdown",
   "id": "30ef092b-3d0e-472a-9803-05621a204e77",
   "metadata": {},
   "source": [
    "### Recursive Functions"
   ]
  },
  {
   "cell_type": "markdown",
   "id": "b6a61d9c-92b4-4abb-a80c-a2bd2c479b3a",
   "metadata": {},
   "source": [
    "Functions can also call themselves - these are called recursive functions.  See how we calculate the factorial by subtracting one and calling the function again. "
   ]
  },
  {
   "cell_type": "code",
   "execution_count": 21,
   "id": "0e94a485-10a1-4156-aa4e-4e298d34294a",
   "metadata": {},
   "outputs": [
    {
     "name": "stdout",
     "output_type": "stream",
     "text": [
      "Use a recursive function to calculate the factorial of 5\n",
      "In factorialRecursive() and the current number is: 5\n",
      "In factorialRecursive() and the current number is: 4\n",
      "In factorialRecursive() and the current number is: 3\n",
      "In factorialRecursive() and the current number is: 2\n",
      "In factorialRecursive() and the current number is: 1\n",
      "120\n"
     ]
    }
   ],
   "source": [
    "def factorialRecursive( facIn ):\n",
    "    print (\"In factorialRecursive() and the current number is:\", facIn)\n",
    "    if facIn == 1:\n",
    "        return facIn\n",
    "    else:\n",
    "        return facIn * factorialRecursive( facIn - 1)\n",
    "\n",
    "print( \"Use a recursive function to calculate the factorial of 5\" )\n",
    "print( factorialRecursive( 5 ) )"
   ]
  },
  {
   "cell_type": "markdown",
   "id": "0385d73e-89fd-4aaa-b728-c380c1d63b18",
   "metadata": {},
   "source": [
    "### Function Gotcha! 😆 "
   ]
  },
  {
   "cell_type": "markdown",
   "id": "be63a292-fd3c-49da-ae8c-6bf099f3d552",
   "metadata": {},
   "source": [
    "```{note}\n",
    "The biggest gotcha on functions is with variable scope: \n",
    "* Variables defined in a function are not accessible from the outside\n",
    "* Functions have access to more than just the variables passed in\n",
    "```"
   ]
  },
  {
   "cell_type": "code",
   "execution_count": 36,
   "id": "7ed51f20-89b5-4be9-bc7b-4f303e59922a",
   "metadata": {},
   "outputs": [
    {
     "name": "stdout",
     "output_type": "stream",
     "text": [
      "outside the function\n",
      "dog: 10\n",
      "\t in the function\n",
      "\t I have access to dog: 10\n",
      "\t I have access to animal: 10\n",
      "\t I have access to newValue: 11\n",
      "function output: 11\n"
     ]
    }
   ],
   "source": [
    "def addAnAnimal( animal ):\n",
    "    print (\"\\t\",\"in the function\")\n",
    "    print (\"\\t\",\"I have access to dog:\",dog)\n",
    "    print (\"\\t\",\"I have access to animal:\",animal)\n",
    "    newValue = animal + 1\n",
    "    print (\"\\t\",\"I have access to newValue:\",newValue)\n",
    "    return newValue\n",
    "  \n",
    "print (\"outside the function\")\n",
    "dog = 10\n",
    "print(\"dog:\", dog)\n",
    "print (\"function output:\",addAnAnimal( dog ))"
   ]
  },
  {
   "cell_type": "markdown",
   "id": "6b9388b6-fd87-497f-99e0-ec597c21a9b7",
   "metadata": {},
   "source": [
    "If we would add:\n",
    "\n",
    "```python\n",
    "print (newValue)\n",
    "```\n",
    "\n",
    "to the bottom, we would end up with this:"
   ]
  },
  {
   "cell_type": "markdown",
   "id": "60042e22-082d-4803-b3ff-58b94a07fe8f",
   "metadata": {},
   "source": [
    "```python\n",
    "def addAnAnimal( animal ):\n",
    "    print (\"\\t\",\"in the function\")\n",
    "    print (\"\\t\",\"I have access to dog:\",dog)\n",
    "    print (\"\\t\",\"I have access to animal:\",animal)\n",
    "    newValue = animal + 1\n",
    "    print (\"\\t\",\"I have access to newValue:\",newValue)\n",
    "    return newValue\n",
    "  \n",
    "print (\"outside the function\")\n",
    "dog = 10\n",
    "print(\"dog:\", dog)\n",
    "print (\"function output:\",addAnAnimal( dog ))\n",
    "print (newValue)\n",
    "```\n",
    "\n",
    "outside the function\n",
    "\n",
    "dog: 10\n",
    "\n",
    "&nbsp;&nbsp;&nbsp;&nbsp;&nbsp;&nbsp;in the function\n",
    "     \n",
    "&nbsp;&nbsp;&nbsp;&nbsp;&nbsp;&nbsp;I have access to dog: 10\n",
    "     \n",
    "&nbsp;&nbsp;&nbsp;&nbsp;&nbsp;&nbsp;I have access to animal: 10\n",
    "     \n",
    "&nbsp;&nbsp;&nbsp;&nbsp;&nbsp;&nbsp;I have access to newValue: 11\n",
    "     \n",
    "function output: 11\n",
    "\n",
    "```python\n",
    "---------------------------------------------------------------------------\n",
    "NameError                                 Traceback (most recent call last)\n",
    "<ipython-input-32-07cce689eb00> in <module>\n",
    "     11 print(\"dog:\", dog)\n",
    "     12 print (\"function output:\",addAnAnimal( dog ))\n",
    "---> 13 print (newValue)\n",
    "\n",
    "NameError: name 'newValue' is not defined\n",
    "```\n",
    "    "
   ]
  },
  {
   "cell_type": "markdown",
   "id": "919fdc17-0283-453a-acd8-37d8098e1b13",
   "metadata": {},
   "source": [
    "## Your Turn"
   ]
  },
  {
   "cell_type": "markdown",
   "id": "7bb17a4e-2aad-424c-9a2d-1ef68d0a9dfc",
   "metadata": {},
   "source": [
    "Try to fill in code to fulfill the request!  Here is a variable used in the excercises."
   ]
  },
  {
   "cell_type": "code",
   "execution_count": null,
   "id": "026c51ff-6265-4094-b0ce-f66d0e5c3d0a",
   "metadata": {},
   "outputs": [],
   "source": [
    "aListOfNumbers = [6, 3, 4, 5, 7, 8, 9 ]"
   ]
  },
  {
   "cell_type": "markdown",
   "id": "e80888e7-6d8a-413c-923d-5b1d8e933bc5",
   "metadata": {},
   "source": [
    "Write a function that returns the length of aListOfNumbers as well as the maximum value. Hint: max() is a built-in function"
   ]
  },
  {
   "cell_type": "code",
   "execution_count": 37,
   "id": "ea3c2cd0-ac1e-4a65-a024-3576e0683b4a",
   "metadata": {},
   "outputs": [],
   "source": [
    "## try here!"
   ]
  }
 ],
 "metadata": {
  "kernelspec": {
   "display_name": "Python 3",
   "language": "python",
   "name": "python3"
  },
  "language_info": {
   "codemirror_mode": {
    "name": "ipython",
    "version": 3
   },
   "file_extension": ".py",
   "mimetype": "text/x-python",
   "name": "python",
   "nbconvert_exporter": "python",
   "pygments_lexer": "ipython3",
   "version": "3.8.5"
  }
 },
 "nbformat": 4,
 "nbformat_minor": 5
}
