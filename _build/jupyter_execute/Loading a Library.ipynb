{
 "cells": [
  {
   "cell_type": "markdown",
   "metadata": {},
   "source": [
    "# Loading a Library"
   ]
  },
  {
   "cell_type": "markdown",
   "metadata": {},
   "source": [
    "Module or Library?"
   ]
  },
  {
   "cell_type": "markdown",
   "metadata": {},
   "source": [
    "Modules are python's way of organizing functions, variables and constructors, similar to libraries in other languages.  In this section, we will look at:\n",
    "* Using existing python modules\n",
    "* Building our own modules\n",
    "* Finding the things that are within modules"
   ]
  },
  {
   "cell_type": "markdown",
   "metadata": {},
   "source": [
    "## Built in Modules"
   ]
  },
  {
   "cell_type": "markdown",
   "metadata": {},
   "source": [
    "Python uses modules to make additional functionality available.  Modules can be thought of as libraries with many functions, data types, and characteristics that can be used once loaded. "
   ]
  },
  {
   "cell_type": "markdown",
   "metadata": {},
   "source": [
    "We load modules using the import statement:\n",
    "* Highly recommend import using a name (import module as name)\n",
    "* Use the name to keep multiply defined functions separate\n",
    "* You can import only individual functions from a module\n",
    "* You can also rename functions."
   ]
  },
  {
   "cell_type": "code",
   "execution_count": 1,
   "metadata": {},
   "outputs": [
    {
     "name": "stdout",
     "output_type": "stream",
     "text": [
      "1.0\n",
      "-1.0\n"
     ]
    }
   ],
   "source": [
    "# Import all functions using a name\n",
    "import numpy as np\n",
    "# We then use the name to refer to functions from this module\n",
    "print( np.sin( 1./2. * np.pi ) )\n",
    "\n",
    "# We can also import just some of the functions, as well as change their names\n",
    "from math import cos as mathCos\n",
    "print( mathCos( np.pi ) )"
   ]
  },
  {
   "cell_type": "markdown",
   "metadata": {},
   "source": [
    "Some common python modules are:\n",
    "* numpy\n",
    "* matplotlib\n",
    "* math\n",
    "* scipy\n",
    "* pandas\n",
    "\n",
    "Modules based on their topic can be found: https://wiki.python.org/moin/UsefulModules"
   ]
  },
  {
   "cell_type": "markdown",
   "metadata": {},
   "source": [
    "Some modules are already included on the system.  You may have to add or update some yourself. Python uses pip for module addition, which includes dependencies. Typically users will put modules in their own space using --user, rather than install them globally. For example, to add cython and to update matplolib you would run in a cell:\n",
    "```javascript\n",
    "!pip install cython --user\n",
    "\n",
    "!pip install matplotlib --user --upgrade\n",
    "```"
   ]
  },
  {
   "cell_type": "markdown",
   "metadata": {},
   "source": [
    "## Homade Modules"
   ]
  },
  {
   "cell_type": "markdown",
   "metadata": {},
   "source": [
    "You can also build your own modules. To do this, place what you want in a python file (<fileName>.py) in your working directory.  Note that you need an empty file named __init__.py in this directory as well. You can then load your module just like the built-in modules.  For example, if a file called adamsTrigs.py contained:\n",
    "```python\n",
    "import math as mt\n",
    "def printTrigVals(angle):\n",
    "    print( angle,mt.sin(angle),mt.cos(angle),mt.tan(angle) )\n",
    "```\n",
    "then I can load the module and use this function locally by either importing everything in the file, or just the function we are interested in."
   ]
  },
  {
   "cell_type": "code",
   "execution_count": 2,
   "metadata": {},
   "outputs": [
    {
     "name": "stdout",
     "output_type": "stream",
     "text": [
      "1.0471975511965976 0.8660254037844386 0.5000000000000001 1.7320508075688767\n",
      "0.6283185307179586 0.5877852522924731 0.8090169943749475 0.7265425280053608\n"
     ]
    }
   ],
   "source": [
    "import adamsTrigs as aT\n",
    "aT.printTrigVals( np.pi / 3. )\n",
    "\n",
    "from adamsTrigs import printTrigVals as trigVals\n",
    "trigVals( np.pi / 5)"
   ]
  },
  {
   "cell_type": "markdown",
   "metadata": {},
   "source": [
    "## Helpful hints for modules"
   ]
  },
  {
   "cell_type": "markdown",
   "metadata": {},
   "source": [
    "### Dir"
   ]
  },
  {
   "cell_type": "markdown",
   "metadata": {},
   "source": [
    "Python has a built-in command called dir to show the directory (contents) of a module. This command provides lots of info, including the function names."
   ]
  },
  {
   "cell_type": "code",
   "execution_count": 3,
   "metadata": {},
   "outputs": [
    {
     "data": {
      "text/plain": [
       "['__builtins__',\n",
       " '__cached__',\n",
       " '__doc__',\n",
       " '__file__',\n",
       " '__loader__',\n",
       " '__name__',\n",
       " '__package__',\n",
       " '__spec__',\n",
       " 'mt',\n",
       " 'printTrigVals']"
      ]
     },
     "execution_count": 3,
     "metadata": {},
     "output_type": "execute_result"
    }
   ],
   "source": [
    "import adamsTrigs as aT\n",
    "dir( aT )"
   ]
  },
  {
   "cell_type": "markdown",
   "metadata": {},
   "source": [
    "We can also use dir to see what is currently available to use:"
   ]
  },
  {
   "cell_type": "code",
   "execution_count": 4,
   "metadata": {
    "scrolled": true
   },
   "outputs": [
    {
     "data": {
      "text/plain": [
       "['In',\n",
       " 'Out',\n",
       " '_',\n",
       " '_3',\n",
       " '__',\n",
       " '___',\n",
       " '__builtin__',\n",
       " '__builtins__',\n",
       " '__doc__',\n",
       " '__loader__',\n",
       " '__name__',\n",
       " '__package__',\n",
       " '__spec__',\n",
       " '_dh',\n",
       " '_i',\n",
       " '_i1',\n",
       " '_i2',\n",
       " '_i3',\n",
       " '_i4',\n",
       " '_ih',\n",
       " '_ii',\n",
       " '_iii',\n",
       " '_oh',\n",
       " 'aT',\n",
       " 'exit',\n",
       " 'get_ipython',\n",
       " 'mathCos',\n",
       " 'np',\n",
       " 'quit',\n",
       " 'trigVals']"
      ]
     },
     "execution_count": 4,
     "metadata": {},
     "output_type": "execute_result"
    }
   ],
   "source": [
    "dir()"
   ]
  },
  {
   "cell_type": "markdown",
   "metadata": {},
   "source": [
    "### Main"
   ]
  },
  {
   "cell_type": "markdown",
   "metadata": {},
   "source": [
    "We can also define code that will only run if the file is being run directly.  This will not run if the file is being loaded by another. "
   ]
  },
  {
   "cell_type": "code",
   "execution_count": 5,
   "metadata": {},
   "outputs": [
    {
     "name": "stdout",
     "output_type": "stream",
     "text": [
      "This is being run from here\n"
     ]
    }
   ],
   "source": [
    "if __name__ == \"__main__\":\n",
    "    # Make a figure of the local data\n",
    "    # Print out some local variables to provide examples for later use\n",
    "    print( \"This is being run from here\" )"
   ]
  },
  {
   "cell_type": "markdown",
   "metadata": {},
   "source": [
    "This is often used in files to read in data, where individual data sets are read into discrete files, which are then read into the main function as modules.  You can make figures showing individual data sets to test if you are reading correctly in the read file.  Rather than make these each time you include that data read file as a module, you can put the plotting in an if statement like this."
   ]
  },
  {
   "cell_type": "markdown",
   "metadata": {},
   "source": [
    "# Check yourself"
   ]
  },
  {
   "cell_type": "markdown",
   "metadata": {},
   "source": [
    "Call the math version of tan() mathTan and print out tangent of pi/2.  (Hint, pi can come from math or numpy)."
   ]
  },
  {
   "cell_type": "code",
   "execution_count": 6,
   "metadata": {},
   "outputs": [],
   "source": [
    "# Try it here\n"
   ]
  },
  {
   "cell_type": "markdown",
   "metadata": {},
   "source": [
    "Does numpy include functions called log10 and banana?"
   ]
  },
  {
   "cell_type": "code",
   "execution_count": 7,
   "metadata": {},
   "outputs": [],
   "source": [
    "# Try it here\n"
   ]
  },
  {
   "cell_type": "code",
   "execution_count": null,
   "metadata": {},
   "outputs": [],
   "source": []
  }
 ],
 "metadata": {
  "kernelspec": {
   "display_name": "Python 3",
   "language": "python",
   "name": "python3"
  },
  "language_info": {
   "codemirror_mode": {
    "name": "ipython",
    "version": 3
   },
   "file_extension": ".py",
   "mimetype": "text/x-python",
   "name": "python",
   "nbconvert_exporter": "python",
   "pygments_lexer": "ipython3",
   "version": "3.7.10"
  }
 },
 "nbformat": 4,
 "nbformat_minor": 4
}