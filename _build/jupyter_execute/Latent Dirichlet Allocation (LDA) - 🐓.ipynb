{
 "cells": [
  {
   "cell_type": "markdown",
   "id": "4e68dd8f-aab6-4969-be1c-85e3958eb5ca",
   "metadata": {},
   "source": [
    "# Latent Dirichlet Allocation (LDA) - 🐓"
   ]
  },
  {
   "cell_type": "markdown",
   "id": "02b7c30d-baa6-4186-a98a-f090f82e38a2",
   "metadata": {},
   "source": [
    "![The Little Red Hen Book](https://www.gutenberg.org/files/18735/18735-h/images/cover_054_1.jpg)"
   ]
  },
  {
   "cell_type": "code",
   "execution_count": null,
   "id": "095a926c-3c1e-467f-bc9f-f9e67cd643a8",
   "metadata": {},
   "outputs": [],
   "source": []
  }
 ],
 "metadata": {
  "kernelspec": {
   "display_name": "Python 3",
   "language": "python",
   "name": "python3"
  },
  "language_info": {
   "codemirror_mode": {
    "name": "ipython",
    "version": 3
   },
   "file_extension": ".py",
   "mimetype": "text/x-python",
   "name": "python",
   "nbconvert_exporter": "python",
   "pygments_lexer": "ipython3",
   "version": "3.7.10"
  }
 },
 "nbformat": 4,
 "nbformat_minor": 5
}