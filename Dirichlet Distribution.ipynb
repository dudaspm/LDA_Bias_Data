{
 "cells": [
  {
   "cell_type": "markdown",
   "id": "1e468c88-42c6-4ef9-9189-3d04cdef8495",
   "metadata": {},
   "source": [
    "# Dirichlet Distribution"
   ]
  },
  {
   "cell_type": "code",
   "execution_count": 1,
   "id": "93b8fc54-af16-4493-ae6c-c323f35e63e1",
   "metadata": {},
   "outputs": [],
   "source": [
    "from scipy.stats import dirichlet\n",
    "import numpy as np"
   ]
  },
  {
   "cell_type": "code",
   "execution_count": 2,
   "id": "944dbe68-11b3-4b26-9d7a-a714a3e0908e",
   "metadata": {},
   "outputs": [
    {
     "data": {
      "text/plain": [
       "array([[3.01308644e-021, 5.84934980e-106, 1.00000000e+000,\n",
       "        1.50669852e-054],\n",
       "       [4.80182957e-140, 4.90790365e-032, 9.99999444e-001,\n",
       "        5.55677723e-007],\n",
       "       [1.00000000e+000, 2.24052107e-052, 5.86156401e-088,\n",
       "        2.01957173e-037],\n",
       "       [6.25480667e-040, 9.99999827e-001, 1.73277035e-007,\n",
       "        6.48360085e-051]])"
      ]
     },
     "execution_count": 2,
     "metadata": {},
     "output_type": "execute_result"
    }
   ],
   "source": [
    "alpha = np.array([0.01, 0.01, 0.01, 0.01])\n",
    "dirichlet.rvs(alpha, size=4)"
   ]
  },
  {
   "cell_type": "code",
   "execution_count": 7,
   "id": "eb52f9a2-a15c-44c4-a3a0-6b52b95a3eff",
   "metadata": {},
   "outputs": [
    {
     "data": {
      "text/plain": [
       "array([[0. , 1. , 0. , 0. , 0. , 0. , 0. , 0. , 0. , 0. ],\n",
       "       [0. , 0. , 0. , 0. , 0. , 0. , 0. , 0. , 0. , 1. ],\n",
       "       [0.9, 0. , 0. , 0.1, 0. , 0. , 0. , 0. , 0. , 0. ],\n",
       "       [0. , 1. , 0. , 0. , 0. , 0. , 0. , 0. , 0. , 0. ],\n",
       "       [0. , 0. , 0. , 1. , 0. , 0. , 0. , 0. , 0. , 0. ],\n",
       "       [0. , 0. , 0. , 0. , 0. , 0. , 0. , 0. , 1. , 0. ],\n",
       "       [0. , 0. , 1. , 0. , 0. , 0. , 0. , 0. , 0. , 0. ],\n",
       "       [1. , 0. , 0. , 0. , 0. , 0. , 0. , 0. , 0. , 0. ],\n",
       "       [0. , 0. , 0. , 0. , 0. , 0. , 1. , 0. , 0. , 0. ],\n",
       "       [0. , 0. , 0. , 0. , 1. , 0. , 0. , 0. , 0. , 0. ]])"
      ]
     },
     "execution_count": 7,
     "metadata": {},
     "output_type": "execute_result"
    }
   ],
   "source": [
    "alpha = np.array([0.01, 0.01, 0.01, 0.01, 0.01, 0.01, 0.01, 0.01, 0.01, 0.01])\n",
    "np.around(dirichlet.rvs(alpha, size=10), decimals=1)"
   ]
  },
  {
   "cell_type": "code",
   "execution_count": 12,
   "id": "ad450696-5f96-4bd9-a1f7-c1a44b5bfe20",
   "metadata": {},
   "outputs": [
    {
     "data": {
      "text/html": [
       "<script src='https://d3js.org/d3.v6.min.js'></script>"
      ],
      "text/plain": [
       "<IPython.core.display.HTML object>"
      ]
     },
     "metadata": {},
     "output_type": "display_data"
    }
   ],
   "source": [
    "from IPython.display import  HTML\n",
    "\n",
    "def load_d3_in_cell_output():\n",
    "  display(HTML(\"<script src='https://d3js.org/d3.v6.min.js'></script>\"))\n",
    "get_ipython().events.register('pre_run_cell', load_d3_in_cell_output)"
   ]
  },
  {
   "cell_type": "code",
   "execution_count": 30,
   "id": "ac1b59d4-c268-464a-b087-8964b9c2547a",
   "metadata": {},
   "outputs": [
    {
     "data": {
      "text/html": [
       "<script src='https://d3js.org/d3.v6.min.js'></script>"
      ],
      "text/plain": [
       "<IPython.core.display.HTML object>"
      ]
     },
     "metadata": {},
     "output_type": "display_data"
    },
    {
     "data": {
      "text/html": [
       "<script src='https://d3js.org/d3.v6.min.js'></script>"
      ],
      "text/plain": [
       "<IPython.core.display.HTML object>"
      ]
     },
     "metadata": {},
     "output_type": "display_data"
    },
    {
     "data": {
      "text/html": [
       "<div id=\"extreme11\"></div>\n",
       "\n",
       "<script type=\"text/javascript\">   \n",
       "    var width = 500\n",
       "    var height = 300\n",
       "    var margin = 30\n",
       "    var radius = 200\n",
       "    \n",
       "    var svg1 = d3.select(\"div#extreme11\").append(\"svg\")\n",
       "        .attr(\"width\", width)\n",
       "        .attr(\"height\", height)\n",
       "        \n",
       "    var x = d3.scaleLinear().domain([0,d3.range(5).length-1]).range([Math.PI, 2*Math.PI])\n",
       "\n",
       "    svg1.selectAll(\"circle\")\n",
       "        // Collect\n",
       "        .data(d3.range(5))\n",
       "        // Update\n",
       "        .join(\"circle\")\n",
       "        .attr(\"cx\", (d,i)=> ((0) * Math.cos(x(i))) + (width/2))\n",
       "        .attr(\"cy\", (d,i)=> ((0) * Math.sin(x(i))) + (height-margin))  \n",
       "        .attr(\"r\", (d,i)=> 30)\n",
       "        .style(\"fill\", \"steelblue\")\n",
       "        .style(\"stroke\", \"black\")\n",
       "        .style(\"stroke-width\", \"1px\")\n",
       "        .transition(\"circle\")\n",
       "        .duration(1000)\n",
       "        .delay((d,i)=> i * 100)\n",
       "        .attr(\"cx\", (d,i)=> ((radius) * Math.cos(x(i))) + (width/2))\n",
       "        .attr(\"cy\", (d,i)=> ((radius) * Math.sin(x(i))) + (height-margin))\n",
       "\n",
       "        \n",
       "\n",
       "\n",
       "</script>\n"
      ],
      "text/plain": [
       "<IPython.core.display.HTML object>"
      ]
     },
     "metadata": {},
     "output_type": "display_data"
    }
   ],
   "source": [
    "%%html\n",
    "<div id=\"extreme11\"></div>\n",
    "\n",
    "<script type=\"text/javascript\">   \n",
    "    var width = 500\n",
    "    var height = 300\n",
    "    var margin = 30\n",
    "    var radius = 200\n",
    "    \n",
    "    var svg1 = d3.select(\"div#extreme11\").append(\"svg\")\n",
    "        .attr(\"width\", width)\n",
    "        .attr(\"height\", height)\n",
    "        \n",
    "    var x = d3.scaleLinear().domain([0,d3.range(5).length-1]).range([Math.PI, 2*Math.PI])\n",
    "\n",
    "    svg1.selectAll(\"circle\")\n",
    "        // Collect\n",
    "        .data(d3.range(5))\n",
    "        // Update\n",
    "        .join(\"circle\")\n",
    "        .attr(\"cx\", (d,i)=> ((0) * Math.cos(x(i))) + (width/2))\n",
    "        .attr(\"cy\", (d,i)=> ((0) * Math.sin(x(i))) + (height-margin))  \n",
    "        .attr(\"r\", (d,i)=> 30)\n",
    "        .style(\"fill\", \"steelblue\")\n",
    "        .style(\"stroke\", \"black\")\n",
    "        .style(\"stroke-width\", \"1px\")\n",
    "        .transition(\"circle\")\n",
    "        .duration(1000)\n",
    "        .delay((d,i)=> i * 100)\n",
    "        .attr(\"cx\", (d,i)=> ((radius) * Math.cos(x(i))) + (width/2))\n",
    "        .attr(\"cy\", (d,i)=> ((radius) * Math.sin(x(i))) + (height-margin))\n",
    "\n",
    "        \n",
    "    svg1.append(\"text\")\n",
    "        .attr(\"x\", width/2)\n",
    "        .attr(\"y\", (height-margin))\n",
    "        .style(\"text-anchor\", \"middle\")\n",
    "        .style(\"alignment-baseline\",\"middle\")\n",
    "        .text(d=>d)\n",
    "\n",
    "</script>"
   ]
  },
  {
   "cell_type": "code",
   "execution_count": null,
   "id": "25b82c51-5e47-455c-913d-34b2db06e9fa",
   "metadata": {},
   "outputs": [],
   "source": []
  }
 ],
 "metadata": {
  "kernelspec": {
   "display_name": "Python 3",
   "language": "python",
   "name": "python3"
  },
  "language_info": {
   "codemirror_mode": {
    "name": "ipython",
    "version": 3
   },
   "file_extension": ".py",
   "mimetype": "text/x-python",
   "name": "python",
   "nbconvert_exporter": "python",
   "pygments_lexer": "ipython3",
   "version": "3.8.5"
  }
 },
 "nbformat": 4,
 "nbformat_minor": 5
}
